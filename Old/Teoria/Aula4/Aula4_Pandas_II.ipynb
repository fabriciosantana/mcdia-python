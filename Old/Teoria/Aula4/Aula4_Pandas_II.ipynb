{
 "cells": [
  {
   "cell_type": "markdown",
   "metadata": {},
   "source": [
    "## Aula 4 - Pandas e Fontes de dados"
   ]
  },
  {
   "cell_type": "code",
   "execution_count": 3,
   "metadata": {},
   "outputs": [],
   "source": [
    "import pandas as pd\n",
    "import numpy as np"
   ]
  },
  {
   "cell_type": "markdown",
   "metadata": {},
   "source": [
    "### Função apply\n",
    "#### Aplica uma função às linhas ou às colunas de um DataFrame"
   ]
  },
  {
   "cell_type": "code",
   "execution_count": 4,
   "metadata": {},
   "outputs": [
    {
     "data": {
      "text/html": [
       "<div>\n",
       "<style scoped>\n",
       "    .dataframe tbody tr th:only-of-type {\n",
       "        vertical-align: middle;\n",
       "    }\n",
       "\n",
       "    .dataframe tbody tr th {\n",
       "        vertical-align: top;\n",
       "    }\n",
       "\n",
       "    .dataframe thead th {\n",
       "        text-align: right;\n",
       "    }\n",
       "</style>\n",
       "<table border=\"1\" class=\"dataframe\">\n",
       "  <thead>\n",
       "    <tr style=\"text-align: right;\">\n",
       "      <th></th>\n",
       "      <th>b</th>\n",
       "      <th>d</th>\n",
       "      <th>e</th>\n",
       "    </tr>\n",
       "  </thead>\n",
       "  <tbody>\n",
       "    <tr>\n",
       "      <th>Utah</th>\n",
       "      <td>0.807185</td>\n",
       "      <td>-1.135001</td>\n",
       "      <td>-1.071895</td>\n",
       "    </tr>\n",
       "    <tr>\n",
       "      <th>Ohio</th>\n",
       "      <td>1.943592</td>\n",
       "      <td>0.151843</td>\n",
       "      <td>1.507981</td>\n",
       "    </tr>\n",
       "    <tr>\n",
       "      <th>Texas</th>\n",
       "      <td>-0.374554</td>\n",
       "      <td>0.076108</td>\n",
       "      <td>1.625286</td>\n",
       "    </tr>\n",
       "    <tr>\n",
       "      <th>Oregon</th>\n",
       "      <td>0.252045</td>\n",
       "      <td>1.726434</td>\n",
       "      <td>-0.300007</td>\n",
       "    </tr>\n",
       "  </tbody>\n",
       "</table>\n",
       "</div>"
      ],
      "text/plain": [
       "               b         d         e\n",
       "Utah    0.807185 -1.135001 -1.071895\n",
       "Ohio    1.943592  0.151843  1.507981\n",
       "Texas  -0.374554  0.076108  1.625286\n",
       "Oregon  0.252045  1.726434 -0.300007"
      ]
     },
     "execution_count": 4,
     "metadata": {},
     "output_type": "execute_result"
    }
   ],
   "source": [
    "# Considere o dataframe abaixo\n",
    "frame = pd.DataFrame(np.random.randn(4, 3), columns=list('bde'),\n",
    "                        index=['Utah', 'Ohio', 'Texas', 'Oregon'])\n",
    "frame"
   ]
  },
  {
   "cell_type": "code",
   "execution_count": 7,
   "metadata": {},
   "outputs": [
    {
     "data": {
      "text/plain": [
       "b    3.887184\n",
       "d    3.452868\n",
       "e    3.250571\n",
       "dtype: float64"
      ]
     },
     "execution_count": 7,
     "metadata": {},
     "output_type": "execute_result"
    }
   ],
   "source": [
    "# Crie uma função lambda para calcular o valor máximo de uma Serie e multiplica-lo por 2, \n",
    "#   e aplique-a ao dataframe frame, fazendo o cálculo no eixo das linhas\n",
    "f = lambda x: x.max()*2\n",
    "frame.apply(f, axis='rows')"
   ]
  },
  {
   "cell_type": "code",
   "execution_count": 8,
   "metadata": {},
   "outputs": [
    {
     "data": {
      "text/plain": [
       "Utah      1.614371\n",
       "Ohio      3.887184\n",
       "Texas     3.250571\n",
       "Oregon    3.452868\n",
       "dtype: float64"
      ]
     },
     "execution_count": 8,
     "metadata": {},
     "output_type": "execute_result"
    }
   ],
   "source": [
    "# aplique afunção lambda ao dataframe frame, fazendo o cálculo no eixo das colunas\n",
    "frame.apply(f, axis='columns')"
   ]
  },
  {
   "cell_type": "markdown",
   "metadata": {},
   "source": [
    "### Função applymap\n",
    "#### Aplica uma função a cada element (element-wise)"
   ]
  },
  {
   "cell_type": "code",
   "execution_count": null,
   "metadata": {},
   "outputs": [],
   "source": [
    "# Crie uma função lambda para formatar um número float com duas casas decimais,\n",
    "#    e aplique-a ao dataframe frame\n",
    "format = lambda x: '%.2f' % x\n",
    "frame.applymap(format)"
   ]
  },
  {
   "cell_type": "markdown",
   "metadata": {},
   "source": [
    "### Sumarização e Estatística Descritiva"
   ]
  },
  {
   "cell_type": "code",
   "execution_count": null,
   "metadata": {},
   "outputs": [],
   "source": [
    "# Considere o dataframe abaixo\n",
    "df = pd.DataFrame([[1.4, np.nan], [7.1, -4.5],\n",
    "                    [np.nan, np.nan], [0.75, -1.3]],\n",
    "                    index=['a', 'b', 'c', 'd'],\n",
    "                    columns=['one', 'two'])\n",
    "df"
   ]
  },
  {
   "cell_type": "code",
   "execution_count": null,
   "metadata": {},
   "outputs": [],
   "source": [
    "# Calcule a soma ao longo do eixo das linhas\n",
    "df.sum()"
   ]
  },
  {
   "cell_type": "code",
   "execution_count": null,
   "metadata": {},
   "outputs": [],
   "source": [
    "# Calcule a soma ao longo do eixo das colunas\n",
    "df.sum(axis='columns')"
   ]
  },
  {
   "cell_type": "markdown",
   "metadata": {},
   "source": [
    "### mean (média)\n",
    "#### Os valores de NA são excluídos, a menos que a fatia inteira linha ou coluna seja NA.\n",
    "#### Isso pode ser desativado com a opção skipna"
   ]
  },
  {
   "cell_type": "code",
   "execution_count": null,
   "metadata": {},
   "outputs": [],
   "source": [
    "# Calcule a média ao longo do eixo das linhas desconsiderando valores NA\n",
    "df.mean(axis='columns')"
   ]
  },
  {
   "cell_type": "code",
   "execution_count": null,
   "metadata": {},
   "outputs": [],
   "source": [
    "# Calcule a média ao longo do eixo das linhas \n",
    "#    retornando NA para colunas que tenham algum NA\n",
    "df.mean(axis='columns', skipna=False)"
   ]
  },
  {
   "cell_type": "markdown",
   "metadata": {},
   "source": [
    "### describe (resumo de várias estatísticas)"
   ]
  },
  {
   "cell_type": "code",
   "execution_count": null,
   "metadata": {},
   "outputs": [],
   "source": [
    "# Aplique um método para calcular várias estatísticas do dataframe df\n",
    "df.describe()"
   ]
  },
  {
   "cell_type": "markdown",
   "metadata": {},
   "source": [
    "### Manipulação de Fontes de Dados"
   ]
  },
  {
   "cell_type": "code",
   "execution_count": 1,
   "metadata": {},
   "outputs": [],
   "source": [
    "import pandas as pd\n",
    "import numpy as np"
   ]
  },
  {
   "cell_type": "markdown",
   "metadata": {},
   "source": [
    "#### Carregar dados de um Arquivo XLS"
   ]
  },
  {
   "cell_type": "code",
   "execution_count": 2,
   "metadata": {
    "scrolled": false
   },
   "outputs": [],
   "source": [
    "### Ler o arquivo com o pib dos municípios brasileiros e guarde numa variável df_pib\n",
    "### Você pode ler de um arquivo local ou fazer o download de uma URL\n",
    "df_pib = pd.read_excel('https://github.com/alexlopespereira/curso_ciencia_dados2021/raw/master/data/originais/pib/pib_municipios.xlsx', sheet_name='Tabela', skiprows=3)\n",
    "# sheet_name é o argumento para o aba da planilha desejada. \n",
    "# Se você quiser a 1a aba, não precisa especificar.\n"
   ]
  },
  {
   "cell_type": "code",
   "execution_count": 3,
   "metadata": {
    "scrolled": true
   },
   "outputs": [
    {
     "data": {
      "text/html": [
       "<div>\n",
       "<style scoped>\n",
       "    .dataframe tbody tr th:only-of-type {\n",
       "        vertical-align: middle;\n",
       "    }\n",
       "\n",
       "    .dataframe tbody tr th {\n",
       "        vertical-align: top;\n",
       "    }\n",
       "\n",
       "    .dataframe thead th {\n",
       "        text-align: right;\n",
       "    }\n",
       "</style>\n",
       "<table border=\"1\" class=\"dataframe\">\n",
       "  <thead>\n",
       "    <tr style=\"text-align: right;\">\n",
       "      <th></th>\n",
       "      <th>Unnamed: 0</th>\n",
       "      <th>Unnamed: 1</th>\n",
       "      <th>Unnamed: 2</th>\n",
       "      <th>2007</th>\n",
       "      <th>2009</th>\n",
       "      <th>2011</th>\n",
       "      <th>2013</th>\n",
       "      <th>2015</th>\n",
       "      <th>2017</th>\n",
       "    </tr>\n",
       "  </thead>\n",
       "  <tbody>\n",
       "    <tr>\n",
       "      <th>0</th>\n",
       "      <td>MU</td>\n",
       "      <td>1100015.0</td>\n",
       "      <td>Alta Floresta D'Oeste (RO)</td>\n",
       "      <td>191364</td>\n",
       "      <td>256986</td>\n",
       "      <td>280510</td>\n",
       "      <td>341325.0</td>\n",
       "      <td>421300.0</td>\n",
       "      <td>498864.0</td>\n",
       "    </tr>\n",
       "    <tr>\n",
       "      <th>1</th>\n",
       "      <td>MU</td>\n",
       "      <td>1100023.0</td>\n",
       "      <td>Ariquemes (RO)</td>\n",
       "      <td>905203</td>\n",
       "      <td>1133095</td>\n",
       "      <td>1651885</td>\n",
       "      <td>1799853.0</td>\n",
       "      <td>2037799.0</td>\n",
       "      <td>2296074.0</td>\n",
       "    </tr>\n",
       "    <tr>\n",
       "      <th>2</th>\n",
       "      <td>MU</td>\n",
       "      <td>1100031.0</td>\n",
       "      <td>Cabixi (RO)</td>\n",
       "      <td>49166</td>\n",
       "      <td>69776</td>\n",
       "      <td>77217</td>\n",
       "      <td>96365.0</td>\n",
       "      <td>116565.0</td>\n",
       "      <td>138894.0</td>\n",
       "    </tr>\n",
       "    <tr>\n",
       "      <th>3</th>\n",
       "      <td>MU</td>\n",
       "      <td>1100049.0</td>\n",
       "      <td>Cacoal (RO)</td>\n",
       "      <td>814890</td>\n",
       "      <td>985479</td>\n",
       "      <td>1259024</td>\n",
       "      <td>1433254.0</td>\n",
       "      <td>1794478.0</td>\n",
       "      <td>2127523.0</td>\n",
       "    </tr>\n",
       "  </tbody>\n",
       "</table>\n",
       "</div>"
      ],
      "text/plain": [
       "  Unnamed: 0  Unnamed: 1                  Unnamed: 2    2007     2009  \\\n",
       "0         MU   1100015.0  Alta Floresta D'Oeste (RO)  191364   256986   \n",
       "1         MU   1100023.0              Ariquemes (RO)  905203  1133095   \n",
       "2         MU   1100031.0                 Cabixi (RO)   49166    69776   \n",
       "3         MU   1100049.0                 Cacoal (RO)  814890   985479   \n",
       "\n",
       "      2011       2013       2015       2017  \n",
       "0   280510   341325.0   421300.0   498864.0  \n",
       "1  1651885  1799853.0  2037799.0  2296074.0  \n",
       "2    77217    96365.0   116565.0   138894.0  \n",
       "3  1259024  1433254.0  1794478.0  2127523.0  "
      ]
     },
     "execution_count": 3,
     "metadata": {},
     "output_type": "execute_result"
    }
   ],
   "source": [
    "# Mostra os primeiros 4 registros da variavel df_pib\n",
    "df_pib.head(4)\n",
    "### As 3 primeiras e a ultima linha são inuteis"
   ]
  },
  {
   "cell_type": "code",
   "execution_count": 4,
   "metadata": {
    "scrolled": false
   },
   "outputs": [
    {
     "data": {
      "text/html": [
       "<div>\n",
       "<style scoped>\n",
       "    .dataframe tbody tr th:only-of-type {\n",
       "        vertical-align: middle;\n",
       "    }\n",
       "\n",
       "    .dataframe tbody tr th {\n",
       "        vertical-align: top;\n",
       "    }\n",
       "\n",
       "    .dataframe thead th {\n",
       "        text-align: right;\n",
       "    }\n",
       "</style>\n",
       "<table border=\"1\" class=\"dataframe\">\n",
       "  <thead>\n",
       "    <tr style=\"text-align: right;\">\n",
       "      <th></th>\n",
       "      <th>Unnamed: 0</th>\n",
       "      <th>Unnamed: 1</th>\n",
       "      <th>Unnamed: 2</th>\n",
       "      <th>2007</th>\n",
       "      <th>2009</th>\n",
       "      <th>2011</th>\n",
       "      <th>2013</th>\n",
       "      <th>2015</th>\n",
       "      <th>2017</th>\n",
       "    </tr>\n",
       "  </thead>\n",
       "  <tbody>\n",
       "    <tr>\n",
       "      <th>5567</th>\n",
       "      <td>MU</td>\n",
       "      <td>5222203.0</td>\n",
       "      <td>Vila Boa (GO)</td>\n",
       "      <td>31897</td>\n",
       "      <td>73367</td>\n",
       "      <td>84103</td>\n",
       "      <td>103233.0</td>\n",
       "      <td>111229.0</td>\n",
       "      <td>137500.0</td>\n",
       "    </tr>\n",
       "    <tr>\n",
       "      <th>5568</th>\n",
       "      <td>MU</td>\n",
       "      <td>5222302.0</td>\n",
       "      <td>Vila Propício (GO)</td>\n",
       "      <td>76868</td>\n",
       "      <td>107125</td>\n",
       "      <td>112821</td>\n",
       "      <td>142970.0</td>\n",
       "      <td>198935.0</td>\n",
       "      <td>182175.0</td>\n",
       "    </tr>\n",
       "    <tr>\n",
       "      <th>5569</th>\n",
       "      <td>MU</td>\n",
       "      <td>5300108.0</td>\n",
       "      <td>Brasília (DF)</td>\n",
       "      <td>93404001</td>\n",
       "      <td>124323753</td>\n",
       "      <td>154568954</td>\n",
       "      <td>175906726.0</td>\n",
       "      <td>215612863.0</td>\n",
       "      <td>244682756.0</td>\n",
       "    </tr>\n",
       "    <tr>\n",
       "      <th>5570</th>\n",
       "      <td>Fonte: IBGE, em parceria com os &amp;Oacute;rg&amp;ati...</td>\n",
       "      <td>NaN</td>\n",
       "      <td>NaN</td>\n",
       "      <td>NaN</td>\n",
       "      <td>NaN</td>\n",
       "      <td>NaN</td>\n",
       "      <td>NaN</td>\n",
       "      <td>NaN</td>\n",
       "      <td>NaN</td>\n",
       "    </tr>\n",
       "  </tbody>\n",
       "</table>\n",
       "</div>"
      ],
      "text/plain": [
       "                                             Unnamed: 0  Unnamed: 1  \\\n",
       "5567                                                 MU   5222203.0   \n",
       "5568                                                 MU   5222302.0   \n",
       "5569                                                 MU   5300108.0   \n",
       "5570  Fonte: IBGE, em parceria com os &Oacute;rg&ati...         NaN   \n",
       "\n",
       "              Unnamed: 2      2007       2009       2011         2013  \\\n",
       "5567       Vila Boa (GO)     31897      73367      84103     103233.0   \n",
       "5568  Vila Propício (GO)     76868     107125     112821     142970.0   \n",
       "5569       Brasília (DF)  93404001  124323753  154568954  175906726.0   \n",
       "5570                 NaN       NaN        NaN        NaN          NaN   \n",
       "\n",
       "             2015         2017  \n",
       "5567     111229.0     137500.0  \n",
       "5568     198935.0     182175.0  \n",
       "5569  215612863.0  244682756.0  \n",
       "5570          NaN          NaN  "
      ]
     },
     "execution_count": 4,
     "metadata": {},
     "output_type": "execute_result"
    }
   ],
   "source": [
    "# Mostra os ultimos 4 registros da variavel df_pib\n",
    "df_pib.tail(4)"
   ]
  },
  {
   "cell_type": "code",
   "execution_count": 5,
   "metadata": {},
   "outputs": [
    {
     "data": {
      "text/html": [
       "<div>\n",
       "<style scoped>\n",
       "    .dataframe tbody tr th:only-of-type {\n",
       "        vertical-align: middle;\n",
       "    }\n",
       "\n",
       "    .dataframe tbody tr th {\n",
       "        vertical-align: top;\n",
       "    }\n",
       "\n",
       "    .dataframe thead th {\n",
       "        text-align: right;\n",
       "    }\n",
       "</style>\n",
       "<table border=\"1\" class=\"dataframe\">\n",
       "  <thead>\n",
       "    <tr style=\"text-align: right;\">\n",
       "      <th></th>\n",
       "      <th>Unnamed: 0</th>\n",
       "      <th>Unnamed: 1</th>\n",
       "      <th>Unnamed: 2</th>\n",
       "      <th>2007</th>\n",
       "      <th>2009</th>\n",
       "      <th>2011</th>\n",
       "      <th>2013</th>\n",
       "      <th>2015</th>\n",
       "      <th>2017</th>\n",
       "    </tr>\n",
       "  </thead>\n",
       "  <tbody>\n",
       "    <tr>\n",
       "      <th>0</th>\n",
       "      <td>MU</td>\n",
       "      <td>1100015</td>\n",
       "      <td>Alta Floresta D'Oeste (RO)</td>\n",
       "      <td>191364</td>\n",
       "      <td>256986</td>\n",
       "      <td>280510</td>\n",
       "      <td>341325</td>\n",
       "      <td>421300</td>\n",
       "      <td>498864</td>\n",
       "    </tr>\n",
       "    <tr>\n",
       "      <th>1</th>\n",
       "      <td>MU</td>\n",
       "      <td>1100023</td>\n",
       "      <td>Ariquemes (RO)</td>\n",
       "      <td>905203</td>\n",
       "      <td>1133095</td>\n",
       "      <td>1651885</td>\n",
       "      <td>1799853</td>\n",
       "      <td>2037799</td>\n",
       "      <td>2296074</td>\n",
       "    </tr>\n",
       "    <tr>\n",
       "      <th>2</th>\n",
       "      <td>MU</td>\n",
       "      <td>1100031</td>\n",
       "      <td>Cabixi (RO)</td>\n",
       "      <td>49166</td>\n",
       "      <td>69776</td>\n",
       "      <td>77217</td>\n",
       "      <td>96365</td>\n",
       "      <td>116565</td>\n",
       "      <td>138894</td>\n",
       "    </tr>\n",
       "    <tr>\n",
       "      <th>3</th>\n",
       "      <td>MU</td>\n",
       "      <td>1100049</td>\n",
       "      <td>Cacoal (RO)</td>\n",
       "      <td>814890</td>\n",
       "      <td>985479</td>\n",
       "      <td>1259024</td>\n",
       "      <td>1433254</td>\n",
       "      <td>1794478</td>\n",
       "      <td>2127523</td>\n",
       "    </tr>\n",
       "    <tr>\n",
       "      <th>4</th>\n",
       "      <td>MU</td>\n",
       "      <td>1100056</td>\n",
       "      <td>Cerejeiras (RO)</td>\n",
       "      <td>143270</td>\n",
       "      <td>190902</td>\n",
       "      <td>260142</td>\n",
       "      <td>353270</td>\n",
       "      <td>397736</td>\n",
       "      <td>448524</td>\n",
       "    </tr>\n",
       "  </tbody>\n",
       "</table>\n",
       "</div>"
      ],
      "text/plain": [
       "  Unnamed: 0  Unnamed: 1                  Unnamed: 2    2007     2009  \\\n",
       "0         MU     1100015  Alta Floresta D'Oeste (RO)  191364   256986   \n",
       "1         MU     1100023              Ariquemes (RO)  905203  1133095   \n",
       "2         MU     1100031                 Cabixi (RO)   49166    69776   \n",
       "3         MU     1100049                 Cacoal (RO)  814890   985479   \n",
       "4         MU     1100056             Cerejeiras (RO)  143270   190902   \n",
       "\n",
       "      2011     2013     2015     2017  \n",
       "0   280510   341325   421300   498864  \n",
       "1  1651885  1799853  2037799  2296074  \n",
       "2    77217    96365   116565   138894  \n",
       "3  1259024  1433254  1794478  2127523  \n",
       "4   260142   353270   397736   448524  "
      ]
     },
     "execution_count": 5,
     "metadata": {},
     "output_type": "execute_result"
    }
   ],
   "source": [
    "# Ler o arquivo do pib removendo as 3 primeiras linhas e a última\n",
    "df_pib = pd.read_excel('https://github.com/alexlopespereira/curso_ciencia_dados2021/raw/master/data/originais/pib/pib_municipios.xlsx', skiprows=3, skipfooter=1)\n",
    "# Mostra os primeiros registros\n",
    "df_pib.head()\n",
    "# O nome das 3 primeiras colunas está incoerente"
   ]
  },
  {
   "cell_type": "code",
   "execution_count": 3,
   "metadata": {
    "scrolled": true
   },
   "outputs": [
    {
     "data": {
      "text/html": [
       "<div>\n",
       "<style scoped>\n",
       "    .dataframe tbody tr th:only-of-type {\n",
       "        vertical-align: middle;\n",
       "    }\n",
       "\n",
       "    .dataframe tbody tr th {\n",
       "        vertical-align: top;\n",
       "    }\n",
       "\n",
       "    .dataframe thead th {\n",
       "        text-align: right;\n",
       "    }\n",
       "</style>\n",
       "<table border=\"1\" class=\"dataframe\">\n",
       "  <thead>\n",
       "    <tr style=\"text-align: right;\">\n",
       "      <th></th>\n",
       "      <th>nivel</th>\n",
       "      <th>cod_ibge7</th>\n",
       "      <th>municipio</th>\n",
       "      <th>2007</th>\n",
       "      <th>2009</th>\n",
       "      <th>2011</th>\n",
       "      <th>2013</th>\n",
       "      <th>2015</th>\n",
       "      <th>2017</th>\n",
       "    </tr>\n",
       "  </thead>\n",
       "  <tbody>\n",
       "    <tr>\n",
       "      <th>0</th>\n",
       "      <td>MU</td>\n",
       "      <td>1100015</td>\n",
       "      <td>Alta Floresta D'Oeste (RO)</td>\n",
       "      <td>191364</td>\n",
       "      <td>256986</td>\n",
       "      <td>280510</td>\n",
       "      <td>341325</td>\n",
       "      <td>421300</td>\n",
       "      <td>498864</td>\n",
       "    </tr>\n",
       "    <tr>\n",
       "      <th>1</th>\n",
       "      <td>MU</td>\n",
       "      <td>1100023</td>\n",
       "      <td>Ariquemes (RO)</td>\n",
       "      <td>905203</td>\n",
       "      <td>1133095</td>\n",
       "      <td>1651885</td>\n",
       "      <td>1799853</td>\n",
       "      <td>2037799</td>\n",
       "      <td>2296074</td>\n",
       "    </tr>\n",
       "    <tr>\n",
       "      <th>2</th>\n",
       "      <td>MU</td>\n",
       "      <td>1100031</td>\n",
       "      <td>Cabixi (RO)</td>\n",
       "      <td>49166</td>\n",
       "      <td>69776</td>\n",
       "      <td>77217</td>\n",
       "      <td>96365</td>\n",
       "      <td>116565</td>\n",
       "      <td>138894</td>\n",
       "    </tr>\n",
       "    <tr>\n",
       "      <th>3</th>\n",
       "      <td>MU</td>\n",
       "      <td>1100049</td>\n",
       "      <td>Cacoal (RO)</td>\n",
       "      <td>814890</td>\n",
       "      <td>985479</td>\n",
       "      <td>1259024</td>\n",
       "      <td>1433254</td>\n",
       "      <td>1794478</td>\n",
       "      <td>2127523</td>\n",
       "    </tr>\n",
       "    <tr>\n",
       "      <th>4</th>\n",
       "      <td>MU</td>\n",
       "      <td>1100056</td>\n",
       "      <td>Cerejeiras (RO)</td>\n",
       "      <td>143270</td>\n",
       "      <td>190902</td>\n",
       "      <td>260142</td>\n",
       "      <td>353270</td>\n",
       "      <td>397736</td>\n",
       "      <td>448524</td>\n",
       "    </tr>\n",
       "  </tbody>\n",
       "</table>\n",
       "</div>"
      ],
      "text/plain": [
       "  nivel  cod_ibge7                   municipio    2007     2009     2011  \\\n",
       "0    MU    1100015  Alta Floresta D'Oeste (RO)  191364   256986   280510   \n",
       "1    MU    1100023              Ariquemes (RO)  905203  1133095  1651885   \n",
       "2    MU    1100031                 Cabixi (RO)   49166    69776    77217   \n",
       "3    MU    1100049                 Cacoal (RO)  814890   985479  1259024   \n",
       "4    MU    1100056             Cerejeiras (RO)  143270   190902   260142   \n",
       "\n",
       "      2013     2015     2017  \n",
       "0   341325   421300   498864  \n",
       "1  1799853  2037799  2296074  \n",
       "2    96365   116565   138894  \n",
       "3  1433254  1794478  2127523  \n",
       "4   353270   397736   448524  "
      ]
     },
     "execution_count": 3,
     "metadata": {},
     "output_type": "execute_result"
    }
   ],
   "source": [
    "# Renomear estas colunas\n",
    "df_pib.rename(columns={'Unnamed: 0': 'nivel', 'Unnamed: 1': 'cod_ibge7', \n",
    "                      'Unnamed: 2': 'municipio'}, inplace=True)\n",
    "# Mostra os primeiros registros\n",
    "df_pib.head()"
   ]
  },
  {
   "cell_type": "markdown",
   "metadata": {},
   "source": [
    "#### Carregar dados de um Arquivo CSV"
   ]
  },
  {
   "cell_type": "code",
   "execution_count": 7,
   "metadata": {},
   "outputs": [],
   "source": [
    "# Salvar este dataframe em formato CSV\n",
    "# O separador padrão é vírgula. Use o ; para testar a especificação de um separador\n",
    "# Recomendação para nomes de arquivos: use nomes simples, sem espaço e sem caracteres especiais.\n",
    "df_pib.to_csv('./pib_municipios.csv', sep=\";\", index=False)\n",
    "# Para mostrar as primeiras linhas do arquivo no Linux: !head ~/work/curso_ciencia_dados2020/data/pib_municipios.csv"
   ]
  },
  {
   "cell_type": "code",
   "execution_count": 8,
   "metadata": {},
   "outputs": [
    {
     "data": {
      "text/html": [
       "<div>\n",
       "<style scoped>\n",
       "    .dataframe tbody tr th:only-of-type {\n",
       "        vertical-align: middle;\n",
       "    }\n",
       "\n",
       "    .dataframe tbody tr th {\n",
       "        vertical-align: top;\n",
       "    }\n",
       "\n",
       "    .dataframe thead th {\n",
       "        text-align: right;\n",
       "    }\n",
       "</style>\n",
       "<table border=\"1\" class=\"dataframe\">\n",
       "  <thead>\n",
       "    <tr style=\"text-align: right;\">\n",
       "      <th></th>\n",
       "      <th>Unnamed: 0</th>\n",
       "      <th>Unnamed: 1</th>\n",
       "      <th>Unnamed: 2</th>\n",
       "      <th>2007</th>\n",
       "      <th>2009</th>\n",
       "      <th>2011</th>\n",
       "      <th>2013</th>\n",
       "      <th>2015</th>\n",
       "      <th>2017</th>\n",
       "    </tr>\n",
       "  </thead>\n",
       "  <tbody>\n",
       "    <tr>\n",
       "      <th>0</th>\n",
       "      <td>MU</td>\n",
       "      <td>1100015</td>\n",
       "      <td>Alta Floresta D'Oeste (RO)</td>\n",
       "      <td>191364</td>\n",
       "      <td>256986</td>\n",
       "      <td>280510</td>\n",
       "      <td>341325</td>\n",
       "      <td>421300</td>\n",
       "      <td>498864</td>\n",
       "    </tr>\n",
       "    <tr>\n",
       "      <th>1</th>\n",
       "      <td>MU</td>\n",
       "      <td>1100023</td>\n",
       "      <td>Ariquemes (RO)</td>\n",
       "      <td>905203</td>\n",
       "      <td>1133095</td>\n",
       "      <td>1651885</td>\n",
       "      <td>1799853</td>\n",
       "      <td>2037799</td>\n",
       "      <td>2296074</td>\n",
       "    </tr>\n",
       "    <tr>\n",
       "      <th>2</th>\n",
       "      <td>MU</td>\n",
       "      <td>1100031</td>\n",
       "      <td>Cabixi (RO)</td>\n",
       "      <td>49166</td>\n",
       "      <td>69776</td>\n",
       "      <td>77217</td>\n",
       "      <td>96365</td>\n",
       "      <td>116565</td>\n",
       "      <td>138894</td>\n",
       "    </tr>\n",
       "    <tr>\n",
       "      <th>3</th>\n",
       "      <td>MU</td>\n",
       "      <td>1100049</td>\n",
       "      <td>Cacoal (RO)</td>\n",
       "      <td>814890</td>\n",
       "      <td>985479</td>\n",
       "      <td>1259024</td>\n",
       "      <td>1433254</td>\n",
       "      <td>1794478</td>\n",
       "      <td>2127523</td>\n",
       "    </tr>\n",
       "    <tr>\n",
       "      <th>4</th>\n",
       "      <td>MU</td>\n",
       "      <td>1100056</td>\n",
       "      <td>Cerejeiras (RO)</td>\n",
       "      <td>143270</td>\n",
       "      <td>190902</td>\n",
       "      <td>260142</td>\n",
       "      <td>353270</td>\n",
       "      <td>397736</td>\n",
       "      <td>448524</td>\n",
       "    </tr>\n",
       "  </tbody>\n",
       "</table>\n",
       "</div>"
      ],
      "text/plain": [
       "  Unnamed: 0  Unnamed: 1                  Unnamed: 2    2007     2009  \\\n",
       "0         MU     1100015  Alta Floresta D'Oeste (RO)  191364   256986   \n",
       "1         MU     1100023              Ariquemes (RO)  905203  1133095   \n",
       "2         MU     1100031                 Cabixi (RO)   49166    69776   \n",
       "3         MU     1100049                 Cacoal (RO)  814890   985479   \n",
       "4         MU     1100056             Cerejeiras (RO)  143270   190902   \n",
       "\n",
       "      2011     2013     2015     2017  \n",
       "0   280510   341325   421300   498864  \n",
       "1  1651885  1799853  2037799  2296074  \n",
       "2    77217    96365   116565   138894  \n",
       "3  1259024  1433254  1794478  2127523  \n",
       "4   260142   353270   397736   448524  "
      ]
     },
     "execution_count": 8,
     "metadata": {},
     "output_type": "execute_result"
    }
   ],
   "source": [
    "# Carregue o arquivo pib_municipios.csv. Atente para o separador correto.\n",
    "df_pib_csv = pd.read_csv('./pib_municipios.csv', sep=\";\")\n",
    "# Mostra os primeiros registros\n",
    "df_pib_csv.head()"
   ]
  },
  {
   "cell_type": "markdown",
   "metadata": {},
   "source": [
    "#### Carregar dados de uma API REST e Arquivo JSON"
   ]
  },
  {
   "cell_type": "code",
   "execution_count": 10,
   "metadata": {},
   "outputs": [],
   "source": [
    "# Ler um arquivo JSON de uma URL para um dataframe df_dolar. \n",
    "# Pode-se carregar de uma pasta local também.\n",
    "url = \"https://api.exchangerate-api.com/v4/latest/USD\"\n",
    "df_dolar = pd.read_json(url)"
   ]
  },
  {
   "cell_type": "code",
   "execution_count": 11,
   "metadata": {},
   "outputs": [
    {
     "data": {
      "text/html": [
       "<div>\n",
       "<style scoped>\n",
       "    .dataframe tbody tr th:only-of-type {\n",
       "        vertical-align: middle;\n",
       "    }\n",
       "\n",
       "    .dataframe tbody tr th {\n",
       "        vertical-align: top;\n",
       "    }\n",
       "\n",
       "    .dataframe thead th {\n",
       "        text-align: right;\n",
       "    }\n",
       "</style>\n",
       "<table border=\"1\" class=\"dataframe\">\n",
       "  <thead>\n",
       "    <tr style=\"text-align: right;\">\n",
       "      <th></th>\n",
       "      <th>base</th>\n",
       "      <th>date</th>\n",
       "      <th>time_last_updated</th>\n",
       "      <th>rates</th>\n",
       "    </tr>\n",
       "  </thead>\n",
       "  <tbody>\n",
       "    <tr>\n",
       "      <th>AED</th>\n",
       "      <td>USD</td>\n",
       "      <td>2020-11-11</td>\n",
       "      <td>1605053042</td>\n",
       "      <td>3.671993</td>\n",
       "    </tr>\n",
       "    <tr>\n",
       "      <th>ARS</th>\n",
       "      <td>USD</td>\n",
       "      <td>2020-11-11</td>\n",
       "      <td>1605053042</td>\n",
       "      <td>79.342105</td>\n",
       "    </tr>\n",
       "    <tr>\n",
       "      <th>AUD</th>\n",
       "      <td>USD</td>\n",
       "      <td>2020-11-11</td>\n",
       "      <td>1605053042</td>\n",
       "      <td>1.373683</td>\n",
       "    </tr>\n",
       "    <tr>\n",
       "      <th>BGN</th>\n",
       "      <td>USD</td>\n",
       "      <td>2020-11-11</td>\n",
       "      <td>1605053042</td>\n",
       "      <td>1.656430</td>\n",
       "    </tr>\n",
       "    <tr>\n",
       "      <th>BRL</th>\n",
       "      <td>USD</td>\n",
       "      <td>2020-11-11</td>\n",
       "      <td>1605053042</td>\n",
       "      <td>5.378133</td>\n",
       "    </tr>\n",
       "  </tbody>\n",
       "</table>\n",
       "</div>"
      ],
      "text/plain": [
       "    base       date  time_last_updated      rates\n",
       "AED  USD 2020-11-11         1605053042   3.671993\n",
       "ARS  USD 2020-11-11         1605053042  79.342105\n",
       "AUD  USD 2020-11-11         1605053042   1.373683\n",
       "BGN  USD 2020-11-11         1605053042   1.656430\n",
       "BRL  USD 2020-11-11         1605053042   5.378133"
      ]
     },
     "execution_count": 11,
     "metadata": {},
     "output_type": "execute_result"
    }
   ],
   "source": [
    "# Mostra os primeiros registros deste dataframe df_dolar\n",
    "df_dolar.head()"
   ]
  },
  {
   "cell_type": "code",
   "execution_count": 12,
   "metadata": {
    "scrolled": false
   },
   "outputs": [
    {
     "data": {
      "text/html": [
       "<div>\n",
       "<style scoped>\n",
       "    .dataframe tbody tr th:only-of-type {\n",
       "        vertical-align: middle;\n",
       "    }\n",
       "\n",
       "    .dataframe tbody tr th {\n",
       "        vertical-align: top;\n",
       "    }\n",
       "\n",
       "    .dataframe thead th {\n",
       "        text-align: right;\n",
       "    }\n",
       "</style>\n",
       "<table border=\"1\" class=\"dataframe\">\n",
       "  <thead>\n",
       "    <tr style=\"text-align: right;\">\n",
       "      <th></th>\n",
       "      <th>resposta</th>\n",
       "      <th>mensagem</th>\n",
       "      <th>hasErro</th>\n",
       "    </tr>\n",
       "  </thead>\n",
       "  <tbody>\n",
       "    <tr>\n",
       "      <th>areasDeInteresse</th>\n",
       "      <td>{'item': ['Saúde e Vigilância Sanitária', 'Saú...</td>\n",
       "      <td>NaN</td>\n",
       "      <td>False</td>\n",
       "    </tr>\n",
       "    <tr>\n",
       "      <th>avaliacoes</th>\n",
       "      <td>{'positivas': 0, 'negativas': 0}</td>\n",
       "      <td>NaN</td>\n",
       "      <td>False</td>\n",
       "    </tr>\n",
       "    <tr>\n",
       "      <th>condicoesAcessibilidade</th>\n",
       "      <td>Rampa</td>\n",
       "      <td>NaN</td>\n",
       "      <td>False</td>\n",
       "    </tr>\n",
       "    <tr>\n",
       "      <th>contato</th>\n",
       "      <td>&lt;strong&gt;Telefone:&lt;/strong&gt; 21 2562-1637 , 21 2...</td>\n",
       "      <td>NaN</td>\n",
       "      <td>False</td>\n",
       "    </tr>\n",
       "    <tr>\n",
       "      <th>descricao</th>\n",
       "      <td>&lt;p&gt;O Laboratório de Referência Nacional para C...</td>\n",
       "      <td>NaN</td>\n",
       "      <td>False</td>\n",
       "    </tr>\n",
       "  </tbody>\n",
       "</table>\n",
       "</div>"
      ],
      "text/plain": [
       "                                                                  resposta  \\\n",
       "areasDeInteresse         {'item': ['Saúde e Vigilância Sanitária', 'Saú...   \n",
       "avaliacoes                                {'positivas': 0, 'negativas': 0}   \n",
       "condicoesAcessibilidade                                              Rampa   \n",
       "contato                  <strong>Telefone:</strong> 21 2562-1637 , 21 2...   \n",
       "descricao                <p>O Laboratório de Referência Nacional para C...   \n",
       "\n",
       "                         mensagem  hasErro  \n",
       "areasDeInteresse              NaN    False  \n",
       "avaliacoes                    NaN    False  \n",
       "condicoesAcessibilidade       NaN    False  \n",
       "contato                       NaN    False  \n",
       "descricao                     NaN    False  "
      ]
     },
     "execution_count": 12,
     "metadata": {},
     "output_type": "execute_result"
    }
   ],
   "source": [
    "# Teste a conversão para DataFrame a partir de um JSON mais complexo \n",
    "# Carregue o dataframe retornado pela chamada \n",
    "#   GET à URL \"https://www.servicos.gov.br/api/v1/servicos/9029\"\n",
    "url_servicos = \"https://www.servicos.gov.br/api/v1/servicos/9029\"\n",
    "df_servicos = pd.read_json(url_servicos)\n",
    "# Mostra os primeiros registros\n",
    "df_servicos.head()\n",
    "# O resultado não foi como esperado"
   ]
  },
  {
   "cell_type": "markdown",
   "metadata": {},
   "source": [
    "#### A função read_json não conseguiu processar e criar o DataFrame esperado a partir do JSON\n",
    "#### A solução alternativa é selecionar os atributos do JSON e colocar num dicionário para construir um DataFrame"
   ]
  },
  {
   "cell_type": "code",
   "execution_count": 13,
   "metadata": {},
   "outputs": [],
   "source": [
    "import requests # Biblioteca que realiza requisições HTTP em python\n",
    "\n",
    "def get_servicos(siorg):\n",
    "    '''Retorna os dados da API de serviços para o órgao especificado pelo argumento siorg\n",
    "    '''\n",
    "    url = f'https://servicos.gov.br/api/v1/servicos/orgao/{siorg}'\n",
    "    input_json = requests.get(url).json() # Realiza uma requisição http\n",
    "    result = []\n",
    "    for i in input_json['resposta']: # iteração para cada serviço do órgão\n",
    "        servico_id = i['id'].split('/')[-1]\n",
    "        servico_nome = i['nome']\n",
    "        servico_url = i['url'][36:]\n",
    "        orgao_id = i['orgao']['id'].split('/')[-1]\n",
    "        orgao_dbId = i['orgao']['dbId']\n",
    "        orgao_nome = i['orgao']['nomeOrgao']\n",
    "        result.append({'servico_id': servico_id, 'servico_nome': servico_nome, 'servico_url': servico_url, 'orgao_nome': orgao_nome,\n",
    "                              'orgao_id': orgao_id, 'orgao_dbId': orgao_dbId})\n",
    "    return result\n"
   ]
  },
  {
   "cell_type": "code",
   "execution_count": 14,
   "metadata": {
    "scrolled": false
   },
   "outputs": [
    {
     "data": {
      "text/html": [
       "<div>\n",
       "<style scoped>\n",
       "    .dataframe tbody tr th:only-of-type {\n",
       "        vertical-align: middle;\n",
       "    }\n",
       "\n",
       "    .dataframe tbody tr th {\n",
       "        vertical-align: top;\n",
       "    }\n",
       "\n",
       "    .dataframe thead th {\n",
       "        text-align: right;\n",
       "    }\n",
       "</style>\n",
       "<table border=\"1\" class=\"dataframe\">\n",
       "  <thead>\n",
       "    <tr style=\"text-align: right;\">\n",
       "      <th></th>\n",
       "      <th>servico_id</th>\n",
       "      <th>servico_nome</th>\n",
       "      <th>servico_url</th>\n",
       "      <th>orgao_nome</th>\n",
       "      <th>orgao_id</th>\n",
       "      <th>orgao_dbId</th>\n",
       "    </tr>\n",
       "  </thead>\n",
       "  <tbody>\n",
       "    <tr>\n",
       "      <th>0</th>\n",
       "      <td>9029</td>\n",
       "      <td>Solicitar diagnóstico de referência em 'Bacill...</td>\n",
       "      <td>solicitar-diagnostico-de-referencia-em-bacillu...</td>\n",
       "      <td>Fundação Oswaldo Cruz (FIOCRUZ)</td>\n",
       "      <td>315</td>\n",
       "      <td>34312</td>\n",
       "    </tr>\n",
       "    <tr>\n",
       "      <th>1</th>\n",
       "      <td>9031</td>\n",
       "      <td>Solicitar diagnóstico de referência em chikung...</td>\n",
       "      <td>solicitar-diagnostico-de-referencia-em-chikung...</td>\n",
       "      <td>Fundação Oswaldo Cruz (FIOCRUZ)</td>\n",
       "      <td>315</td>\n",
       "      <td>34312</td>\n",
       "    </tr>\n",
       "    <tr>\n",
       "      <th>2</th>\n",
       "      <td>9033</td>\n",
       "      <td>Solicitar diagnóstico de referência em dengue</td>\n",
       "      <td>solicitar-diagnostico-de-referencia-em-dengue</td>\n",
       "      <td>Fundação Oswaldo Cruz (FIOCRUZ)</td>\n",
       "      <td>315</td>\n",
       "      <td>34312</td>\n",
       "    </tr>\n",
       "    <tr>\n",
       "      <th>3</th>\n",
       "      <td>9065</td>\n",
       "      <td>Solicitar diagnóstico de referência para Esqui...</td>\n",
       "      <td>solicitar-diagnostico-de-referencia-para-esqui...</td>\n",
       "      <td>Fundação Oswaldo Cruz (FIOCRUZ)</td>\n",
       "      <td>315</td>\n",
       "      <td>34312</td>\n",
       "    </tr>\n",
       "    <tr>\n",
       "      <th>4</th>\n",
       "      <td>9060</td>\n",
       "      <td>Solicitar diagnóstico de referência em rotavírus</td>\n",
       "      <td>solicitar-diagnostico-de-referencia-em-rotavirus</td>\n",
       "      <td>Fundação Oswaldo Cruz (FIOCRUZ)</td>\n",
       "      <td>315</td>\n",
       "      <td>34312</td>\n",
       "    </tr>\n",
       "  </tbody>\n",
       "</table>\n",
       "</div>"
      ],
      "text/plain": [
       "  servico_id                                       servico_nome  \\\n",
       "0       9029  Solicitar diagnóstico de referência em 'Bacill...   \n",
       "1       9031  Solicitar diagnóstico de referência em chikung...   \n",
       "2       9033      Solicitar diagnóstico de referência em dengue   \n",
       "3       9065  Solicitar diagnóstico de referência para Esqui...   \n",
       "4       9060   Solicitar diagnóstico de referência em rotavírus   \n",
       "\n",
       "                                         servico_url  \\\n",
       "0  solicitar-diagnostico-de-referencia-em-bacillu...   \n",
       "1  solicitar-diagnostico-de-referencia-em-chikung...   \n",
       "2      solicitar-diagnostico-de-referencia-em-dengue   \n",
       "3  solicitar-diagnostico-de-referencia-para-esqui...   \n",
       "4   solicitar-diagnostico-de-referencia-em-rotavirus   \n",
       "\n",
       "                        orgao_nome orgao_id  orgao_dbId  \n",
       "0  Fundação Oswaldo Cruz (FIOCRUZ)      315       34312  \n",
       "1  Fundação Oswaldo Cruz (FIOCRUZ)      315       34312  \n",
       "2  Fundação Oswaldo Cruz (FIOCRUZ)      315       34312  \n",
       "3  Fundação Oswaldo Cruz (FIOCRUZ)      315       34312  \n",
       "4  Fundação Oswaldo Cruz (FIOCRUZ)      315       34312  "
      ]
     },
     "execution_count": 14,
     "metadata": {},
     "output_type": "execute_result"
    }
   ],
   "source": [
    "# Testa o método com o sirgo da Fio Cruz\n",
    "d = get_servicos(315) \n",
    "# Transforma a lista de dicionários num DataFrame\n",
    "df_servicos = pd.DataFrame(d) \n",
    "# # Mostra os primeiros registros\n",
    "df_servicos.head()"
   ]
  },
  {
   "cell_type": "markdown",
   "metadata": {},
   "source": [
    "### Outras Operacoes no Pandas"
   ]
  },
  {
   "cell_type": "markdown",
   "metadata": {},
   "source": [
    "#### Descartando valores faltantes (NA ou NaN)"
   ]
  },
  {
   "cell_type": "code",
   "execution_count": 23,
   "metadata": {},
   "outputs": [
    {
     "data": {
      "text/plain": [
       "0    1.0\n",
       "2    3.5\n",
       "4    7.0\n",
       "dtype: float64"
      ]
     },
     "execution_count": 23,
     "metadata": {},
     "output_type": "execute_result"
    }
   ],
   "source": [
    "from numpy import nan as NA\n",
    "# Considere a serie a seguir\n",
    "data = pd.Series([1, NA, 3.5, NA, 7])\n",
    "# Remova os valores NA\n",
    "data.dropna()"
   ]
  },
  {
   "cell_type": "code",
   "execution_count": null,
   "metadata": {},
   "outputs": [],
   "source": [
    "# Comando equivalente ao dropna, mas usando o método notnull()\n",
    "data[data.notnull()]"
   ]
  },
  {
   "cell_type": "markdown",
   "metadata": {},
   "source": [
    "#### Preenchendo valores faltantes"
   ]
  },
  {
   "cell_type": "code",
   "execution_count": 35,
   "metadata": {
    "scrolled": true
   },
   "outputs": [
    {
     "data": {
      "text/html": [
       "<div>\n",
       "<style scoped>\n",
       "    .dataframe tbody tr th:only-of-type {\n",
       "        vertical-align: middle;\n",
       "    }\n",
       "\n",
       "    .dataframe tbody tr th {\n",
       "        vertical-align: top;\n",
       "    }\n",
       "\n",
       "    .dataframe thead th {\n",
       "        text-align: right;\n",
       "    }\n",
       "</style>\n",
       "<table border=\"1\" class=\"dataframe\">\n",
       "  <thead>\n",
       "    <tr style=\"text-align: right;\">\n",
       "      <th></th>\n",
       "      <th>0</th>\n",
       "      <th>1</th>\n",
       "      <th>2</th>\n",
       "    </tr>\n",
       "  </thead>\n",
       "  <tbody>\n",
       "    <tr>\n",
       "      <th>0</th>\n",
       "      <td>-0.929843</td>\n",
       "      <td>NaN</td>\n",
       "      <td>NaN</td>\n",
       "    </tr>\n",
       "    <tr>\n",
       "      <th>1</th>\n",
       "      <td>0.105707</td>\n",
       "      <td>NaN</td>\n",
       "      <td>NaN</td>\n",
       "    </tr>\n",
       "    <tr>\n",
       "      <th>2</th>\n",
       "      <td>0.596772</td>\n",
       "      <td>NaN</td>\n",
       "      <td>0.292889</td>\n",
       "    </tr>\n",
       "    <tr>\n",
       "      <th>3</th>\n",
       "      <td>0.238995</td>\n",
       "      <td>NaN</td>\n",
       "      <td>1.472422</td>\n",
       "    </tr>\n",
       "    <tr>\n",
       "      <th>4</th>\n",
       "      <td>-0.373666</td>\n",
       "      <td>0.620640</td>\n",
       "      <td>-1.249549</td>\n",
       "    </tr>\n",
       "    <tr>\n",
       "      <th>5</th>\n",
       "      <td>-0.262874</td>\n",
       "      <td>2.111605</td>\n",
       "      <td>-1.310735</td>\n",
       "    </tr>\n",
       "    <tr>\n",
       "      <th>6</th>\n",
       "      <td>0.845053</td>\n",
       "      <td>0.552839</td>\n",
       "      <td>-0.562123</td>\n",
       "    </tr>\n",
       "  </tbody>\n",
       "</table>\n",
       "</div>"
      ],
      "text/plain": [
       "          0         1         2\n",
       "0 -0.929843       NaN       NaN\n",
       "1  0.105707       NaN       NaN\n",
       "2  0.596772       NaN  0.292889\n",
       "3  0.238995       NaN  1.472422\n",
       "4 -0.373666  0.620640 -1.249549\n",
       "5 -0.262874  2.111605 -1.310735\n",
       "6  0.845053  0.552839 -0.562123"
      ]
     },
     "execution_count": 35,
     "metadata": {},
     "output_type": "execute_result"
    }
   ],
   "source": [
    "# Considere o seguinte DataFrame\n",
    "# Construir um dataframe a partir de uma matriz de 7 x 3 de números aleatórios \n",
    "# de uma distribuição normal padrão\n",
    "df = pd.DataFrame(np.random.randn(7, 3)) \n",
    "# Preenchendo o DataFrame com alguns valores NA\n",
    "df.iloc[:4, 1] = NA\n",
    "df.iloc[:2, 2] = NA\n",
    "df"
   ]
  },
  {
   "cell_type": "code",
   "execution_count": 30,
   "metadata": {},
   "outputs": [
    {
     "data": {
      "text/html": [
       "<div>\n",
       "<style scoped>\n",
       "    .dataframe tbody tr th:only-of-type {\n",
       "        vertical-align: middle;\n",
       "    }\n",
       "\n",
       "    .dataframe tbody tr th {\n",
       "        vertical-align: top;\n",
       "    }\n",
       "\n",
       "    .dataframe thead th {\n",
       "        text-align: right;\n",
       "    }\n",
       "</style>\n",
       "<table border=\"1\" class=\"dataframe\">\n",
       "  <thead>\n",
       "    <tr style=\"text-align: right;\">\n",
       "      <th></th>\n",
       "      <th>0</th>\n",
       "      <th>1</th>\n",
       "      <th>2</th>\n",
       "    </tr>\n",
       "  </thead>\n",
       "  <tbody>\n",
       "    <tr>\n",
       "      <th>0</th>\n",
       "      <td>0.194585</td>\n",
       "      <td>0.000000</td>\n",
       "      <td>0.000000</td>\n",
       "    </tr>\n",
       "    <tr>\n",
       "      <th>1</th>\n",
       "      <td>-0.436352</td>\n",
       "      <td>0.000000</td>\n",
       "      <td>0.000000</td>\n",
       "    </tr>\n",
       "    <tr>\n",
       "      <th>2</th>\n",
       "      <td>1.190758</td>\n",
       "      <td>0.000000</td>\n",
       "      <td>-0.054377</td>\n",
       "    </tr>\n",
       "    <tr>\n",
       "      <th>3</th>\n",
       "      <td>-1.538019</td>\n",
       "      <td>0.000000</td>\n",
       "      <td>-1.108160</td>\n",
       "    </tr>\n",
       "    <tr>\n",
       "      <th>4</th>\n",
       "      <td>1.943635</td>\n",
       "      <td>-1.006458</td>\n",
       "      <td>0.987603</td>\n",
       "    </tr>\n",
       "    <tr>\n",
       "      <th>5</th>\n",
       "      <td>-0.592393</td>\n",
       "      <td>-0.044183</td>\n",
       "      <td>-0.853219</td>\n",
       "    </tr>\n",
       "    <tr>\n",
       "      <th>6</th>\n",
       "      <td>0.717662</td>\n",
       "      <td>0.164543</td>\n",
       "      <td>0.802988</td>\n",
       "    </tr>\n",
       "  </tbody>\n",
       "</table>\n",
       "</div>"
      ],
      "text/plain": [
       "          0         1         2\n",
       "0  0.194585  0.000000  0.000000\n",
       "1 -0.436352  0.000000  0.000000\n",
       "2  1.190758  0.000000 -0.054377\n",
       "3 -1.538019  0.000000 -1.108160\n",
       "4  1.943635 -1.006458  0.987603\n",
       "5 -0.592393 -0.044183 -0.853219\n",
       "6  0.717662  0.164543  0.802988"
      ]
     },
     "execution_count": 30,
     "metadata": {},
     "output_type": "execute_result"
    }
   ],
   "source": [
    "# Preencha os valores NA com zero\n",
    "df.fillna(0, inplace=True)\n",
    "df"
   ]
  },
  {
   "cell_type": "code",
   "execution_count": 36,
   "metadata": {},
   "outputs": [
    {
     "data": {
      "text/html": [
       "<div>\n",
       "<style scoped>\n",
       "    .dataframe tbody tr th:only-of-type {\n",
       "        vertical-align: middle;\n",
       "    }\n",
       "\n",
       "    .dataframe tbody tr th {\n",
       "        vertical-align: top;\n",
       "    }\n",
       "\n",
       "    .dataframe thead th {\n",
       "        text-align: right;\n",
       "    }\n",
       "</style>\n",
       "<table border=\"1\" class=\"dataframe\">\n",
       "  <thead>\n",
       "    <tr style=\"text-align: right;\">\n",
       "      <th></th>\n",
       "      <th>0</th>\n",
       "      <th>1</th>\n",
       "      <th>2</th>\n",
       "    </tr>\n",
       "  </thead>\n",
       "  <tbody>\n",
       "    <tr>\n",
       "      <th>0</th>\n",
       "      <td>-0.929843</td>\n",
       "      <td>0.500000</td>\n",
       "      <td>0.000000</td>\n",
       "    </tr>\n",
       "    <tr>\n",
       "      <th>1</th>\n",
       "      <td>0.105707</td>\n",
       "      <td>0.500000</td>\n",
       "      <td>0.000000</td>\n",
       "    </tr>\n",
       "    <tr>\n",
       "      <th>2</th>\n",
       "      <td>0.596772</td>\n",
       "      <td>0.500000</td>\n",
       "      <td>0.292889</td>\n",
       "    </tr>\n",
       "    <tr>\n",
       "      <th>3</th>\n",
       "      <td>0.238995</td>\n",
       "      <td>0.500000</td>\n",
       "      <td>1.472422</td>\n",
       "    </tr>\n",
       "    <tr>\n",
       "      <th>4</th>\n",
       "      <td>-0.373666</td>\n",
       "      <td>0.620640</td>\n",
       "      <td>-1.249549</td>\n",
       "    </tr>\n",
       "    <tr>\n",
       "      <th>5</th>\n",
       "      <td>-0.262874</td>\n",
       "      <td>2.111605</td>\n",
       "      <td>-1.310735</td>\n",
       "    </tr>\n",
       "    <tr>\n",
       "      <th>6</th>\n",
       "      <td>0.845053</td>\n",
       "      <td>0.552839</td>\n",
       "      <td>-0.562123</td>\n",
       "    </tr>\n",
       "  </tbody>\n",
       "</table>\n",
       "</div>"
      ],
      "text/plain": [
       "          0         1         2\n",
       "0 -0.929843  0.500000  0.000000\n",
       "1  0.105707  0.500000  0.000000\n",
       "2  0.596772  0.500000  0.292889\n",
       "3  0.238995  0.500000  1.472422\n",
       "4 -0.373666  0.620640 -1.249549\n",
       "5 -0.262874  2.111605 -1.310735\n",
       "6  0.845053  0.552839 -0.562123"
      ]
     },
     "execution_count": 36,
     "metadata": {},
     "output_type": "execute_result"
    }
   ],
   "source": [
    "# Use um mapeamento (com dicionário) para preencher os valores NA\n",
    "# Na coluna 1 substitua NA por 0.5 e na coluna 2 substitua NA por 0\n",
    "df.fillna({1: 0.5, 2: 0})"
   ]
  },
  {
   "cell_type": "code",
   "execution_count": 37,
   "metadata": {},
   "outputs": [
    {
     "data": {
      "text/html": [
       "<div>\n",
       "<style scoped>\n",
       "    .dataframe tbody tr th:only-of-type {\n",
       "        vertical-align: middle;\n",
       "    }\n",
       "\n",
       "    .dataframe tbody tr th {\n",
       "        vertical-align: top;\n",
       "    }\n",
       "\n",
       "    .dataframe thead th {\n",
       "        text-align: right;\n",
       "    }\n",
       "</style>\n",
       "<table border=\"1\" class=\"dataframe\">\n",
       "  <thead>\n",
       "    <tr style=\"text-align: right;\">\n",
       "      <th></th>\n",
       "      <th>0</th>\n",
       "      <th>1</th>\n",
       "      <th>2</th>\n",
       "    </tr>\n",
       "  </thead>\n",
       "  <tbody>\n",
       "    <tr>\n",
       "      <th>0</th>\n",
       "      <td>-0.929843</td>\n",
       "      <td>0.000000</td>\n",
       "      <td>0.000000</td>\n",
       "    </tr>\n",
       "    <tr>\n",
       "      <th>1</th>\n",
       "      <td>0.105707</td>\n",
       "      <td>0.000000</td>\n",
       "      <td>0.000000</td>\n",
       "    </tr>\n",
       "    <tr>\n",
       "      <th>2</th>\n",
       "      <td>0.596772</td>\n",
       "      <td>0.000000</td>\n",
       "      <td>0.292889</td>\n",
       "    </tr>\n",
       "    <tr>\n",
       "      <th>3</th>\n",
       "      <td>0.238995</td>\n",
       "      <td>0.000000</td>\n",
       "      <td>1.472422</td>\n",
       "    </tr>\n",
       "    <tr>\n",
       "      <th>4</th>\n",
       "      <td>-0.373666</td>\n",
       "      <td>0.620640</td>\n",
       "      <td>-1.249549</td>\n",
       "    </tr>\n",
       "    <tr>\n",
       "      <th>5</th>\n",
       "      <td>-0.262874</td>\n",
       "      <td>2.111605</td>\n",
       "      <td>-1.310735</td>\n",
       "    </tr>\n",
       "    <tr>\n",
       "      <th>6</th>\n",
       "      <td>0.845053</td>\n",
       "      <td>0.552839</td>\n",
       "      <td>-0.562123</td>\n",
       "    </tr>\n",
       "  </tbody>\n",
       "</table>\n",
       "</div>"
      ],
      "text/plain": [
       "          0         1         2\n",
       "0 -0.929843  0.000000  0.000000\n",
       "1  0.105707  0.000000  0.000000\n",
       "2  0.596772  0.000000  0.292889\n",
       "3  0.238995  0.000000  1.472422\n",
       "4 -0.373666  0.620640 -1.249549\n",
       "5 -0.262874  2.111605 -1.310735\n",
       "6  0.845053  0.552839 -0.562123"
      ]
     },
     "execution_count": 37,
     "metadata": {},
     "output_type": "execute_result"
    }
   ],
   "source": [
    "# Preencha com zero alterando o DataFrame df\n",
    "df.fillna(0, inplace=True)\n",
    "df"
   ]
  },
  {
   "cell_type": "code",
   "execution_count": 53,
   "metadata": {
    "scrolled": true
   },
   "outputs": [
    {
     "data": {
      "text/html": [
       "<div>\n",
       "<style scoped>\n",
       "    .dataframe tbody tr th:only-of-type {\n",
       "        vertical-align: middle;\n",
       "    }\n",
       "\n",
       "    .dataframe tbody tr th {\n",
       "        vertical-align: top;\n",
       "    }\n",
       "\n",
       "    .dataframe thead th {\n",
       "        text-align: right;\n",
       "    }\n",
       "</style>\n",
       "<table border=\"1\" class=\"dataframe\">\n",
       "  <thead>\n",
       "    <tr style=\"text-align: right;\">\n",
       "      <th></th>\n",
       "      <th>0</th>\n",
       "      <th>1</th>\n",
       "      <th>2</th>\n",
       "    </tr>\n",
       "  </thead>\n",
       "  <tbody>\n",
       "    <tr>\n",
       "      <th>0</th>\n",
       "      <td>1.005783</td>\n",
       "      <td>0.180319</td>\n",
       "      <td>-0.274747</td>\n",
       "    </tr>\n",
       "    <tr>\n",
       "      <th>1</th>\n",
       "      <td>-1.598380</td>\n",
       "      <td>NaN</td>\n",
       "      <td>NaN</td>\n",
       "    </tr>\n",
       "    <tr>\n",
       "      <th>2</th>\n",
       "      <td>0.166568</td>\n",
       "      <td>NaN</td>\n",
       "      <td>NaN</td>\n",
       "    </tr>\n",
       "    <tr>\n",
       "      <th>3</th>\n",
       "      <td>0.065950</td>\n",
       "      <td>NaN</td>\n",
       "      <td>-0.768924</td>\n",
       "    </tr>\n",
       "    <tr>\n",
       "      <th>4</th>\n",
       "      <td>-0.782748</td>\n",
       "      <td>0.154978</td>\n",
       "      <td>0.230577</td>\n",
       "    </tr>\n",
       "    <tr>\n",
       "      <th>5</th>\n",
       "      <td>-0.206056</td>\n",
       "      <td>NaN</td>\n",
       "      <td>0.310180</td>\n",
       "    </tr>\n",
       "    <tr>\n",
       "      <th>6</th>\n",
       "      <td>-0.859639</td>\n",
       "      <td>-1.519494</td>\n",
       "      <td>-3.091118</td>\n",
       "    </tr>\n",
       "  </tbody>\n",
       "</table>\n",
       "</div>"
      ],
      "text/plain": [
       "          0         1         2\n",
       "0  1.005783  0.180319 -0.274747\n",
       "1 -1.598380       NaN       NaN\n",
       "2  0.166568       NaN       NaN\n",
       "3  0.065950       NaN -0.768924\n",
       "4 -0.782748  0.154978  0.230577\n",
       "5 -0.206056       NaN  0.310180\n",
       "6 -0.859639 -1.519494 -3.091118"
      ]
     },
     "execution_count": 53,
     "metadata": {},
     "output_type": "execute_result"
    }
   ],
   "source": [
    "# Considere o seguinte dataframe\n",
    "df = pd.DataFrame(np.random.randn(7, 3)) \n",
    "# Preencha o DataFrame com alguns valores NA\n",
    "df.iloc[1:4, 1] = NA\n",
    "df.iloc[1:3, 2] = NA\n",
    "df.iloc[5, 1] = NA\n",
    "df"
   ]
  },
  {
   "cell_type": "code",
   "execution_count": 46,
   "metadata": {},
   "outputs": [
    {
     "data": {
      "text/html": [
       "<div>\n",
       "<style scoped>\n",
       "    .dataframe tbody tr th:only-of-type {\n",
       "        vertical-align: middle;\n",
       "    }\n",
       "\n",
       "    .dataframe tbody tr th {\n",
       "        vertical-align: top;\n",
       "    }\n",
       "\n",
       "    .dataframe thead th {\n",
       "        text-align: right;\n",
       "    }\n",
       "</style>\n",
       "<table border=\"1\" class=\"dataframe\">\n",
       "  <thead>\n",
       "    <tr style=\"text-align: right;\">\n",
       "      <th></th>\n",
       "      <th>0</th>\n",
       "      <th>1</th>\n",
       "      <th>2</th>\n",
       "    </tr>\n",
       "  </thead>\n",
       "  <tbody>\n",
       "    <tr>\n",
       "      <th>0</th>\n",
       "      <td>False</td>\n",
       "      <td>False</td>\n",
       "      <td>False</td>\n",
       "    </tr>\n",
       "    <tr>\n",
       "      <th>1</th>\n",
       "      <td>False</td>\n",
       "      <td>True</td>\n",
       "      <td>True</td>\n",
       "    </tr>\n",
       "    <tr>\n",
       "      <th>2</th>\n",
       "      <td>False</td>\n",
       "      <td>True</td>\n",
       "      <td>True</td>\n",
       "    </tr>\n",
       "    <tr>\n",
       "      <th>3</th>\n",
       "      <td>False</td>\n",
       "      <td>True</td>\n",
       "      <td>False</td>\n",
       "    </tr>\n",
       "    <tr>\n",
       "      <th>4</th>\n",
       "      <td>False</td>\n",
       "      <td>False</td>\n",
       "      <td>False</td>\n",
       "    </tr>\n",
       "    <tr>\n",
       "      <th>5</th>\n",
       "      <td>False</td>\n",
       "      <td>True</td>\n",
       "      <td>False</td>\n",
       "    </tr>\n",
       "    <tr>\n",
       "      <th>6</th>\n",
       "      <td>False</td>\n",
       "      <td>False</td>\n",
       "      <td>False</td>\n",
       "    </tr>\n",
       "  </tbody>\n",
       "</table>\n",
       "</div>"
      ],
      "text/plain": [
       "       0      1      2\n",
       "0  False  False  False\n",
       "1  False   True   True\n",
       "2  False   True   True\n",
       "3  False   True  False\n",
       "4  False  False  False\n",
       "5  False   True  False\n",
       "6  False  False  False"
      ]
     },
     "execution_count": 46,
     "metadata": {},
     "output_type": "execute_result"
    }
   ],
   "source": [
    "df.isnull()"
   ]
  },
  {
   "cell_type": "code",
   "execution_count": 47,
   "metadata": {},
   "outputs": [
    {
     "data": {
      "text/plain": [
       "4"
      ]
     },
     "execution_count": 47,
     "metadata": {},
     "output_type": "execute_result"
    }
   ],
   "source": [
    "df.isnull().iloc[:, 1].sum()"
   ]
  },
  {
   "cell_type": "code",
   "execution_count": 50,
   "metadata": {},
   "outputs": [],
   "source": [
    "# Preencha os valores NA com o método ffill \n",
    "df.fillna(method='ffill', inplace=True)"
   ]
  },
  {
   "cell_type": "code",
   "execution_count": 51,
   "metadata": {
    "scrolled": true
   },
   "outputs": [
    {
     "data": {
      "text/plain": [
       "0"
      ]
     },
     "execution_count": 51,
     "metadata": {},
     "output_type": "execute_result"
    }
   ],
   "source": [
    "df.isnull().iloc[:, 1].sum()"
   ]
  },
  {
   "cell_type": "code",
   "execution_count": 57,
   "metadata": {},
   "outputs": [
    {
     "data": {
      "text/plain": [
       "'|    |          0 |          1 |          2 |\\n|---:|-----------:|-----------:|-----------:|\\n|  0 |  1.00578   |   0.180319 |  -0.274747 |\\n|  1 | -1.59838   | nan        | nan        |\\n|  2 |  0.166568  | nan        | nan        |\\n|  3 |  0.0659505 | nan        |  -0.768924 |\\n|  4 | -0.782748  |   0.154978 |   0.230577 |\\n|  5 | -0.206056  | nan        |   0.31018  |\\n|  6 | -0.859639  |  -1.51949  |  -3.09112  |'"
      ]
     },
     "execution_count": 57,
     "metadata": {},
     "output_type": "execute_result"
    }
   ],
   "source": [
    "df.to_markdown()"
   ]
  },
  {
   "cell_type": "markdown",
   "metadata": {},
   "source": [
    "### Remover duplicatas"
   ]
  },
  {
   "cell_type": "code",
   "execution_count": null,
   "metadata": {},
   "outputs": [],
   "source": [
    "# Considere o seguinte dataframe\n",
    "data = pd.DataFrame({'k1': ['one', 'two'] * 3 + ['two'], 'k2': [1, 1, 2, 3, 3, 4, 4]})\n",
    "data"
   ]
  },
  {
   "cell_type": "code",
   "execution_count": null,
   "metadata": {},
   "outputs": [],
   "source": [
    "# Mostre quais desses itens são duplicados\n",
    "data.duplicated()"
   ]
  },
  {
   "cell_type": "code",
   "execution_count": null,
   "metadata": {},
   "outputs": [],
   "source": [
    "# Remova os itens duplicados\n",
    "data.drop_duplicates()"
   ]
  },
  {
   "cell_type": "markdown",
   "metadata": {},
   "source": [
    "### Indexação Hierárquica"
   ]
  },
  {
   "cell_type": "markdown",
   "metadata": {},
   "source": [
    "#### Possibilita mais de um nível de indexação num eixo"
   ]
  },
  {
   "cell_type": "code",
   "execution_count": null,
   "metadata": {},
   "outputs": [],
   "source": [
    "# Considere a seguinte Serie\n",
    "data = pd.Series(np.random.randn(9), index=[['a', 'a', 'a', 'b', 'b', 'c', 'c', 'd', 'd'],\n",
    "                                            [1, 2, 3, 1, 3, 1, 2, 2, 3]])\n",
    "# Mostre o indice hierárquico\n",
    "data.index"
   ]
  },
  {
   "cell_type": "code",
   "execution_count": null,
   "metadata": {},
   "outputs": [],
   "source": [
    "# Faça um filtro com uma lista\n",
    "data.loc[['b', 'd']]"
   ]
  },
  {
   "cell_type": "code",
   "execution_count": null,
   "metadata": {},
   "outputs": [],
   "source": [
    "# Faça um filtro no 2o Nível (mais interno)\n",
    "data.loc[:, 2]"
   ]
  },
  {
   "cell_type": "code",
   "execution_count": null,
   "metadata": {},
   "outputs": [],
   "source": [
    "# Considere o seguinte dataframe\n",
    "frame = pd.DataFrame(np.arange(12).reshape((4, 3)),\n",
    "                     index=[['a', 'a', 'b', 'b'], [1, 2, 1, 2]],\n",
    "                     columns=[['Ohio', 'Ohio', 'Colorado'],['Green', 'Red', 'Green']])\n",
    "frame.index.names = ['key1', 'key2']\n",
    "frame.columns.names = ['state', 'color']\n",
    "frame"
   ]
  },
  {
   "cell_type": "code",
   "execution_count": null,
   "metadata": {},
   "outputs": [],
   "source": [
    "# Resumo estatístico por nível\n",
    "# Extraia a soma da agregação do nível 2 (mais interno)\n",
    "frame.sum(level='key2')"
   ]
  }
 ],
 "metadata": {
  "kernelspec": {
   "display_name": "Python 3",
   "language": "python",
   "name": "python3"
  },
  "language_info": {
   "codemirror_mode": {
    "name": "ipython",
    "version": 3
   },
   "file_extension": ".py",
   "mimetype": "text/x-python",
   "name": "python",
   "nbconvert_exporter": "python",
   "pygments_lexer": "ipython3",
   "version": "3.8.3"
  }
 },
 "nbformat": 4,
 "nbformat_minor": 4
}
