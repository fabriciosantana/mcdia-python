{
 "cells": [
  {
   "cell_type": "markdown",
   "metadata": {},
   "source": [
    "## Aula 4 - Pandas e Fontes de dados"
   ]
  },
  {
   "cell_type": "markdown",
   "metadata": {},
   "source": [
    "### Treinando a função apply\n",
    "#### W4.0a Execute as instruções solicitadas a seguir."
   ]
  },
  {
   "cell_type": "code",
   "execution_count": null,
   "metadata": {},
   "outputs": [],
   "source": [
    "import pandas as pd\n",
    "import numpy as np"
   ]
  },
  {
   "cell_type": "code",
   "execution_count": null,
   "metadata": {},
   "outputs": [],
   "source": [
    "# Considere o dataframe abaixo\n",
    "frame = pd.DataFrame(np.random.randn(4, 3), columns=list('bde'),\n",
    "                        index=['DF', 'GO', 'SP', 'RJ'])\n",
    "frame"
   ]
  },
  {
   "cell_type": "code",
   "execution_count": null,
   "metadata": {},
   "outputs": [],
   "source": [
    "# Crie uma função lambda para calcular a diferença \n",
    "# entre a média e a mediana de uma Serie, e aplique-a ao dataframe frame, fazendo o cálculo ao longo do eixo das linhas\n",
    "\n"
   ]
  },
  {
   "cell_type": "code",
   "execution_count": null,
   "metadata": {},
   "outputs": [],
   "source": [
    "# aplique a mesma função lambda ao dataframe frame, fazendo o cálculo ao longo eixo das colunas\n",
    "\n"
   ]
  },
  {
   "cell_type": "markdown",
   "metadata": {},
   "source": [
    "### Treinando a função applymap\n",
    "#### W4.0b Execute as instruções solicitadas a seguir."
   ]
  },
  {
   "cell_type": "code",
   "execution_count": null,
   "metadata": {},
   "outputs": [],
   "source": [
    "# Crie uma função lambda para formatar um número float com tres casas decimais,\n",
    "# e aplique-a ao dataframe frame\n"
   ]
  },
  {
   "cell_type": "markdown",
   "metadata": {},
   "source": [
    "#### W4.0c Execute as instruções solicitadas a seguir."
   ]
  },
  {
   "cell_type": "code",
   "execution_count": null,
   "metadata": {},
   "outputs": [],
   "source": [
    "# Considere o dataframe abaixo\n",
    "df = pd.DataFrame([[1.4, np.nan], [7.1, -4.5],\n",
    "                    [np.nan, np.nan], [0.75, -1.3]],\n",
    "                    index=['a', 'b', 'c', 'd'],\n",
    "                    columns=['one', 'two'])\n",
    "df"
   ]
  },
  {
   "cell_type": "code",
   "execution_count": null,
   "metadata": {},
   "outputs": [],
   "source": [
    "# Calcule a soma ao longo do eixo das linhas, considerando que \n",
    "# a soma de um número com um NA retorna um NA.\n"
   ]
  },
  {
   "cell_type": "code",
   "execution_count": null,
   "metadata": {},
   "outputs": [],
   "source": [
    "# Calcule a soma ao longo do eixo das colunas, considerando que \n",
    "# a soma de um número com um NA retorna um NA.\n"
   ]
  },
  {
   "cell_type": "code",
   "execution_count": null,
   "metadata": {},
   "outputs": [],
   "source": [
    "# Calcule a média ao longo do eixo das linhas desconsiderando valores NA, ou seja, \n",
    "# calcule a média mesmo que haja um valor NA na respectiva linha.\n"
   ]
  },
  {
   "cell_type": "code",
   "execution_count": null,
   "metadata": {},
   "outputs": [],
   "source": [
    "# Calcule a média ao longo do eixo das linhas retornando NA para colunas que tenham algum NA\n"
   ]
  },
  {
   "cell_type": "code",
   "execution_count": null,
   "metadata": {},
   "outputs": [],
   "source": [
    "# Aplique um método para calcular várias estatísticas do dataframe df\n"
   ]
  },
  {
   "cell_type": "markdown",
   "metadata": {},
   "source": [
    "### Manipulação de Fontes de Dados"
   ]
  },
  {
   "cell_type": "markdown",
   "metadata": {},
   "source": [
    "#### W4.1 Carregue o arquivo do PIB disponibilizado nas bases de dados deste curso. Você pode escolher abrir do arquivo local ou diretamente da URL do github.\n",
    "#### Ajuste corretamente os argumentos skiprows e skipfooter para deixar na sua tabela somente os dados de interesse. As linhas de cabeçalho desnecessárias e o rodapé não devem fazer parte da sua tabela de dados."
   ]
  },
  {
   "cell_type": "code",
   "execution_count": null,
   "metadata": {},
   "outputs": [],
   "source": [
    "path_pib = 'https://github.com/alexlopespereira/curso_ciencia_dados2021/raw/master/data/originais/pib/pib_municipios.xlsx'\n"
   ]
  },
  {
   "cell_type": "code",
   "execution_count": null,
   "metadata": {},
   "outputs": [],
   "source": [
    "# Mostre os 10 primeiros registros da sua tabela com o método pd.DataFrame.head()\n"
   ]
  },
  {
   "cell_type": "code",
   "execution_count": null,
   "metadata": {
    "scrolled": false
   },
   "outputs": [],
   "source": [
    "# Mostre os 10 últimos registros da sua tabela com o método pd.DataFrame.tail()\n"
   ]
  },
  {
   "cell_type": "code",
   "execution_count": null,
   "metadata": {
    "scrolled": false
   },
   "outputs": [],
   "source": [
    "# Vizualize os tipos dos dados desse dataframe utilizando o método pd.DataFrame.info()\n",
    "# Use esse método SEMPRE que alguma coisa não funcionar quando estiver \n",
    "# fazendo operaçoes que esperam algum tipo de dado específico numa coluna.\n",
    "# Por exemplo, é comum você tentar concatenar o conteúdo de duas colunas na forma de string\n",
    "# imaginando que as duas colunas já são string, quando na verdade alguma delas não são.\n",
    "# Outro exemplo de erro bastante comum é você tentar somar o valor de duas colunas quando\n",
    "# uma delas ou as duas não são números, mas strings.\n",
    "\n",
    "\n"
   ]
  },
  {
   "cell_type": "markdown",
   "metadata": {},
   "source": [
    "#### W4.2 Carregue o arquivo do índice de gini. Você pode escolher abrir do arquivo local ou diretamente da URL do github.\n",
    "#### Assegure-se de carregar os cabeçalhos corretamente e os valores numericos como float. Para isso, use os argumentos sep, skiprows, skipfooter, na_values, decimal e encoding='utf8'."
   ]
  },
  {
   "cell_type": "code",
   "execution_count": null,
   "metadata": {},
   "outputs": [],
   "source": [
    "path_gini = 'https://github.com/alexlopespereira/curso_ciencia_dados2021/raw/master/data/originais/gini/ginibr.csv'\n"
   ]
  },
  {
   "cell_type": "markdown",
   "metadata": {},
   "source": [
    "#### W4.3 Carregue o arquivo do dataset de morbidade disponibilizado nas bases de dados deste curso. Você pode escolher abrir do arquivo local ou diretamente da URL do github.\n",
    "#### Ajuste corretamente os argumentos sep e decimal. Assegure-se de que os dados numéricos foram carregados em formato numérico (int ou float). Use o método pd.DataFrame.info() para fazer esta verificação."
   ]
  },
  {
   "cell_type": "code",
   "execution_count": null,
   "metadata": {},
   "outputs": [],
   "source": [
    "path_morbidade = 'https://github.com/alexlopespereira/curso_ciencia_dados2021/raw/master/data/originais/morbidade/consolidado/morbidade_simplificado.csv'\n"
   ]
  },
  {
   "cell_type": "markdown",
   "metadata": {},
   "source": [
    "### Descartando valores faltantes (NA ou NaN)"
   ]
  },
  {
   "cell_type": "markdown",
   "metadata": {},
   "source": [
    "#### W4.5 Remova os valores NA da series a seguir"
   ]
  },
  {
   "cell_type": "code",
   "execution_count": null,
   "metadata": {},
   "outputs": [],
   "source": [
    "from numpy import nan as NA\n",
    "# Considere a serie a seguir\n",
    "data = pd.Series([1, NA, 3.5, NA, 7])\n",
    "\n"
   ]
  },
  {
   "cell_type": "markdown",
   "metadata": {},
   "source": [
    "#### W4.6 Remova os itens duplicados do dataframe a seguir"
   ]
  },
  {
   "cell_type": "code",
   "execution_count": null,
   "metadata": {},
   "outputs": [],
   "source": [
    "# Considere o seguinte dataframe\n",
    "data = pd.DataFrame({'k1': ['one', 'two'] * 3 + ['two'], 'k2': [1, 1, 2, 3, 3, 4, 4]})\n"
   ]
  },
  {
   "cell_type": "markdown",
   "metadata": {},
   "source": [
    "### Treinando Indexação Hierárquica"
   ]
  },
  {
   "cell_type": "code",
   "execution_count": null,
   "metadata": {},
   "outputs": [],
   "source": [
    "# Considere a seguinte Serie\n",
    "data = pd.Series(np.random.randn(9), index=[['a', 'a', 'a', 'b', 'b', 'c', 'c', 'd', 'd'],\n",
    "                                            [1, 2, 3, 1, 3, 1, 2, 2, 3]])\n",
    "# Mostre o indice hierárquico\n",
    "data.index"
   ]
  },
  {
   "cell_type": "markdown",
   "metadata": {},
   "source": [
    "#### W4.7 Considerando a serie data, definida na célula anterior, faça um filtro com uma lista de elementos do 1o nível do índice"
   ]
  },
  {
   "cell_type": "code",
   "execution_count": null,
   "metadata": {},
   "outputs": [],
   "source": [
    "# Faça aqui\n"
   ]
  },
  {
   "cell_type": "markdown",
   "metadata": {},
   "source": [
    "#### W4.8 Considerando a serie data, faça um filtro no 2o Nível (mais interno)"
   ]
  },
  {
   "cell_type": "code",
   "execution_count": null,
   "metadata": {},
   "outputs": [],
   "source": [
    "# Considere o seguinte dataframe\n"
   ]
  }
 ],
 "metadata": {
  "kernelspec": {
   "display_name": "Python 3",
   "language": "python",
   "name": "python3"
  },
  "language_info": {
   "codemirror_mode": {
    "name": "ipython",
    "version": 3
   },
   "file_extension": ".py",
   "mimetype": "text/x-python",
   "name": "python",
   "nbconvert_exporter": "python",
   "pygments_lexer": "ipython3",
   "version": "3.8.3"
  }
 },
 "nbformat": 4,
 "nbformat_minor": 4
}
