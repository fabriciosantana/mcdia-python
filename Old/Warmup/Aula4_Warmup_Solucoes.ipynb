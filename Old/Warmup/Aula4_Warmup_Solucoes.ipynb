{
  "cells": [
    {
      "cell_type": "markdown",
      "metadata": {
        "colab_type": "text",
        "id": "view-in-github"
      },
      "source": [
        "<a href=\"https://colab.research.google.com/github/alexlopespereira/mba_enap/blob/main/Warmup/Aula7_Warmup_Solucoes.ipynb\" target=\"_parent\"><img src=\"https://colab.research.google.com/assets/colab-badge.svg\" alt=\"Open In Colab\"/></a>"
      ]
    },
    {
      "cell_type": "markdown",
      "metadata": {
        "id": "lgkwqhV1uPuT"
      },
      "source": [
        "## Aula 4 - Pandas Parte III (Merge e Join)"
      ]
    },
    {
      "cell_type": "markdown",
      "metadata": {},
      "source": [
        "### Treinando Regex\n"
      ]
    },
    {
      "cell_type": "code",
      "execution_count": null,
      "metadata": {},
      "outputs": [],
      "source": [
        "import re\n"
      ]
    },
    {
      "cell_type": "code",
      "execution_count": null,
      "metadata": {},
      "outputs": [],
      "source": [
        "texto = \"\"\"Love is a fire that burns without being seen;\n",
        "It is a wound that hurts and does not feel;\n",
        "It is discontented contentment;\n",
        "It is pain that unravels without hurting.\n",
        "It is not wanting more than wanting well;\n",
        "It is a lonely walk among people;\n",
        "It is never content to be content;\n",
        "It is a care that you gain in losing yourself.\n",
        "\n",
        "It is wanting to be bound by will;\n",
        "It is to serve who wins the winner;\n",
        "Have someone kill us, loyalty.\n",
        "\n",
        "But how can cause your favor\n",
        "In human hearts friendship,\n",
        "If so contrary to itself is the same love?\"\"\""
      ]
    },
    {
      "cell_type": "code",
      "execution_count": null,
      "metadata": {},
      "outputs": [],
      "source": [
        "# Faça aqui\n",
        "### BEGIN SOLUTION\n",
        "len(re.findall('[Ll]ove', texto))\n",
        "### END SOLUTION"
      ]
    },
    {
      "cell_type": "markdown",
      "metadata": {},
      "source": [
        "#### W4.5 Usando a função apply e a função lambda definida abaixo, encontre o caracter que representa os valores NA na coluna IDEB12_17 no dataset do IDEB disponibilizado neste curso."
      ]
    },
    {
      "cell_type": "code",
      "execution_count": null,
      "metadata": {},
      "outputs": [],
      "source": [
        "#Implemente a função lambda aqui\n",
        "# defina uma variavel find_na e guarde a função lambda nela\n",
        "### BEGIN SOLUTION\n",
        "find_na = lambda x: x if not re.search('-?[0-9]+(.|,)?[0-9]*', x) else np.nan\n",
        "### END SOLUTION"
      ]
    },
    {
      "cell_type": "code",
      "execution_count": null,
      "metadata": {},
      "outputs": [],
      "source": [
        "path_ideb = 'https://github.com/alexlopespereira/curso_ciencia_dados2020/raw/master/data/originais/ideb/ideb_municipios2017.xlsx'\n",
        "df_ideb = pd.read_excel(path_ideb, skiprows=9, skipfooter=3, dtype={\"IDEB12_17\": \"str\"})"
      ]
    },
    {
      "cell_type": "code",
      "execution_count": null,
      "metadata": {},
      "outputs": [],
      "source": [
        "# Faça aqui\n",
        "# Aplicação da função lambda para encontrar os valores \n",
        "# que representam valores faltantes no seu dataset \n",
        "### BEGIN SOLUTION\n",
        "na_values = df_ideb['IDEB12_17'].apply(find_na)\n",
        "na_values.unique()\n",
        "### END SOLUTION"
      ]
    },
    {
      "cell_type": "markdown",
      "metadata": {
        "id": "a3tNtWmeuPuX"
      },
      "source": [
        "### Treinando a função merge (fundir/juntar)"
      ]
    },
    {
      "cell_type": "code",
      "execution_count": null,
      "metadata": {
        "id": "dNV5qz5fuPuY"
      },
      "outputs": [],
      "source": [
        "import pandas as pd\n",
        "import numpy as np"
      ]
    },
    {
      "cell_type": "markdown",
      "metadata": {
        "id": "FYAcAsQwuPua"
      },
      "source": [
        "#### W4.1 Faça o merge dos dois dataframes a seguir usando como chave de junção a coluna 'key'. Use o argumento how='left'"
      ]
    },
    {
      "cell_type": "code",
      "execution_count": null,
      "metadata": {
        "id": "CjYPy9DNuPub"
      },
      "outputs": [],
      "source": [
        "# Considere os seguintes DataFrames\n",
        "df1 = pd.DataFrame({'key': ['b', 'b', 'a', 'c', 'a', 'a', 'b'], 'data1': range(7)})\n",
        "df2 = pd.DataFrame({'key': ['a', 'b', 'd'], 'data2': range(3)})"
      ]
    },
    {
      "cell_type": "code",
      "execution_count": null,
      "metadata": {
        "id": "N6GFYtb2uPuc",
        "nbgrader": {
          "grade": false,
          "grade_id": "cell-e8cf365ade0d2868",
          "locked": false,
          "schema_version": 3,
          "solution": true,
          "task": false
        }
      },
      "outputs": [],
      "source": [
        "# Faça aqui\n",
        "### BEGIN SOLUTION\n",
        "df1.merge(right=df2, how='left', on='key')\n",
        "### END SOLUTION\n"
      ]
    },
    {
      "cell_type": "markdown",
      "metadata": {
        "id": "ADyyZkQIuPud"
      },
      "source": [
        "#### W4.2 Repita o exercício 6.1, mas desta vez utilize o faça o merge de tal forma que apareça no resultado somente os registros cuja chave esteja presente nos dois dataframes."
      ]
    },
    {
      "cell_type": "code",
      "execution_count": null,
      "metadata": {
        "id": "3iNixIT3uPuf",
        "nbgrader": {
          "grade": false,
          "grade_id": "cell-2fcec2aca770dd3e",
          "locked": false,
          "schema_version": 3,
          "solution": true,
          "task": false
        }
      },
      "outputs": [],
      "source": [
        "# Faça aqui\n",
        "### BEGIN SOLUTION\n",
        "df1.merge(right=df2, how='inner', on='key')\n",
        "### END SOLUTION"
      ]
    },
    {
      "cell_type": "markdown",
      "metadata": {
        "id": "PhwuJkZjuPuf"
      },
      "source": [
        "### Treinando Reshaping / Pivoting (Pivotar)"
      ]
    },
    {
      "cell_type": "markdown",
      "metadata": {
        "id": "7osTFCi1uPuh"
      },
      "source": [
        "#### W4.3 Pivote o dataframe df_provas a seguir colocando a coluna Aluno como índice, os valores da coluna Disciplina como colunas, e os valores da coluna Objetiva como conteúdo do novo dataframe\n",
        "#### Sugestão: Faça sem consulta ao slide, no máximo consultando a documentação do Pandas."
      ]
    },
    {
      "cell_type": "code",
      "execution_count": null,
      "metadata": {
        "id": "qcdTm7xsuPuh"
      },
      "outputs": [],
      "source": [
        "# Considere o seguinte DataFrame\n",
        "table = {\n",
        "    'Aluno': ['AlunoA', 'AlunoA', 'AlunoA', 'AlunoA', 'AlunoB', 'AlunoB', 'AlunoB', 'AlunoB'],\n",
        "    'Disciplina': ['Portugues', 'Matematica', 'Geografia', 'História', 'Portugues', 'Matematica', 'Geografia', 'História'],\n",
        "    'Objetiva': [8.5, 7.5, 9, 10, 8.5, 7.5, 9, 10],\n",
        "    'Discursiva': [6, 6.5, 7.5, 7, 8.5, 7.5, 9, 10]}\n",
        "df_provas = pd.DataFrame(table)\n",
        "df_provas"
      ]
    },
    {
      "cell_type": "code",
      "execution_count": null,
      "metadata": {
        "id": "UBxoOoOXuPui",
        "nbgrader": {
          "grade": false,
          "grade_id": "cell-be24232fcf3ad4df",
          "locked": false,
          "schema_version": 3,
          "solution": true,
          "task": false
        }
      },
      "outputs": [],
      "source": [
        "# Faça aqui\n",
        "### BEGIN SOLUTION\n",
        "df_provas.pivot(index='Aluno', columns='Disciplina', values='Objetiva')\n",
        "### END SOLUTION"
      ]
    },
    {
      "cell_type": "markdown",
      "metadata": {
        "id": "5dZYdUbYuPui"
      },
      "source": [
        "#### W4.4 Usando o método stack, faça o despivoteamento do dataframe a seguir."
      ]
    },
    {
      "cell_type": "code",
      "execution_count": null,
      "metadata": {
        "id": "X-NQfLBcuPuj"
      },
      "outputs": [],
      "source": [
        "# Considere o seguinte DataFrame\n",
        "df_simples = pd.DataFrame([[40, 61], [21, 33]],\n",
        "                                    index=['carro', 'moto'],\n",
        "                                    columns=['consumo', 'potencia'])\n",
        "df_simples"
      ]
    },
    {
      "cell_type": "code",
      "execution_count": null,
      "metadata": {
        "id": "gArSpyvNuPuj",
        "nbgrader": {
          "grade": false,
          "grade_id": "cell-33951d28850d94a3",
          "locked": false,
          "schema_version": 3,
          "solution": true,
          "task": false
        }
      },
      "outputs": [],
      "source": [
        "# Faça aqui\n",
        "### BEGIN SOLUTION\n",
        "df_simples.stack()\n",
        "### END SOLUTION"
      ]
    },
    {
      "cell_type": "markdown",
      "metadata": {
        "id": "vxdE9pfMuPuj"
      },
      "source": [
        "#### W4.5 Usando o método stack, faça o despivoteamento do dataframe a seguir."
      ]
    },
    {
      "cell_type": "code",
      "execution_count": null,
      "metadata": {
        "id": "tgKONNMDuPuk"
      },
      "outputs": [],
      "source": [
        "multi = pd.MultiIndex.from_tuples([('peso', 'kg'),\n",
        "                                       ('peso', 'pounds')])\n",
        "df_multi = pd.DataFrame([[300, 661], [221, 487]],\n",
        "                                    index=['carro', 'moto'],\n",
        "                                    columns=multi)\n",
        "df_multi"
      ]
    },
    {
      "cell_type": "code",
      "execution_count": null,
      "metadata": {
        "id": "cN-a4uBQuPuk",
        "nbgrader": {
          "grade": false,
          "grade_id": "cell-1420e4e85747bbf8",
          "locked": false,
          "schema_version": 3,
          "solution": true,
          "task": false
        }
      },
      "outputs": [],
      "source": [
        "# Faça aqui\n",
        "### BEGIN SOLUTION\n",
        "df_multi.stack()\n",
        "### END SOLUTION"
      ]
    },
    {
      "cell_type": "markdown",
      "metadata": {
        "id": "aUJCY2L5uPuk"
      },
      "source": [
        "#### W4.6 Usando o método unstack, faça o pivoteamento do dataframe no nível 1 (neste dataframe o nível 1 armazena as cores dos veículos)."
      ]
    },
    {
      "cell_type": "code",
      "execution_count": null,
      "metadata": {
        "id": "nCOhQvDPuPuk"
      },
      "outputs": [],
      "source": [
        "index = pd.MultiIndex.from_tuples([('carro', 'Azul'), ('carro', 'Vermelho'),\n",
        "                                   ('moto', 'Azul'), ('moto', 'Vermelho')])\n",
        "s = pd.Series(np.arange(1.0, 5.0), index=index)\n",
        "s"
      ]
    },
    {
      "cell_type": "code",
      "execution_count": null,
      "metadata": {
        "id": "fVye0E0KuPul",
        "nbgrader": {
          "grade": false,
          "grade_id": "cell-848975a8e5d92c93",
          "locked": false,
          "schema_version": 3,
          "solution": true,
          "task": false
        }
      },
      "outputs": [],
      "source": [
        "# Faça aqui\n",
        "### BEGIN SOLUTION\n",
        "s.unstack(level=1)\n",
        "### END SOLUTION"
      ]
    },
    {
      "cell_type": "markdown",
      "metadata": {
        "id": "jcemYY9auPum"
      },
      "source": [
        "#### W4.7 Usando o método unstack, faça o pivoteamento do dataframe no nível 0 (neste dataframe o nível 0 armazena os tipos de veículos)."
      ]
    },
    {
      "cell_type": "code",
      "execution_count": null,
      "metadata": {
        "id": "jotr0NFKuPum"
      },
      "outputs": [],
      "source": [
        "index = pd.MultiIndex.from_tuples([('carro', 'Azul'), ('carro', 'Vermelho'),\n",
        "                                   ('moto', 'Azul'), ('moto', 'Vermelho')])\n",
        "s = pd.Series(np.arange(1.0, 5.0), index=index)\n",
        "s"
      ]
    },
    {
      "cell_type": "code",
      "execution_count": null,
      "metadata": {
        "id": "9wezz5OnuPum",
        "nbgrader": {
          "grade": false,
          "grade_id": "cell-a9a73bd28a920ce9",
          "locked": false,
          "schema_version": 3,
          "solution": true,
          "task": false
        }
      },
      "outputs": [],
      "source": [
        "# Faça aqui\n",
        "### BEGIN SOLUTION\n",
        "s.unstack(level=0)\n",
        "### END SOLUTION"
      ]
    }
  ],
  "metadata": {
    "celltoolbar": "Create Assignment",
    "colab": {
      "include_colab_link": true,
      "provenance": []
    },
    "kernelspec": {
      "display_name": "Python 3",
      "language": "python",
      "name": "python3"
    },
    "language_info": {
      "codemirror_mode": {
        "name": "ipython",
        "version": 3
      },
      "file_extension": ".py",
      "mimetype": "text/x-python",
      "name": "python",
      "nbconvert_exporter": "python",
      "pygments_lexer": "ipython3",
      "version": "3.11.9"
    },
    "varInspector": {
      "cols": {
        "lenName": 16,
        "lenType": 16,
        "lenVar": 40
      },
      "kernels_config": {
        "python": {
          "delete_cmd_postfix": "",
          "delete_cmd_prefix": "del ",
          "library": "var_list.py",
          "varRefreshCmd": "print(var_dic_list())"
        },
        "r": {
          "delete_cmd_postfix": ") ",
          "delete_cmd_prefix": "rm(",
          "library": "var_list.r",
          "varRefreshCmd": "cat(var_dic_list()) "
        }
      },
      "types_to_exclude": [
        "module",
        "function",
        "builtin_function_or_method",
        "instance",
        "_Feature"
      ],
      "window_display": false
    }
  },
  "nbformat": 4,
  "nbformat_minor": 0
}
