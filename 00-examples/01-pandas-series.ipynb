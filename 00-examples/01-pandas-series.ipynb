{
 "cells": [
  {
   "cell_type": "code",
   "execution_count": 2,
   "id": "649b29c8",
   "metadata": {},
   "outputs": [],
   "source": [
    "import pandas as pd\n",
    "import numpy as np"
   ]
  },
  {
   "cell_type": "code",
   "execution_count": 3,
   "id": "ee2b0e3d",
   "metadata": {},
   "outputs": [
    {
     "data": {
      "text/plain": [
       "0    4\n",
       "1    7\n",
       "2   -5\n",
       "3    3\n",
       "dtype: int64"
      ]
     },
     "execution_count": 3,
     "metadata": {},
     "output_type": "execute_result"
    }
   ],
   "source": [
    "obj = pd.Series([4, 7, -5, 3])\n",
    "obj"
   ]
  },
  {
   "cell_type": "code",
   "execution_count": 4,
   "id": "468ae688",
   "metadata": {},
   "outputs": [
    {
     "data": {
      "text/plain": [
       "d     4\n",
       "b     7\n",
       "a    -5\n",
       "c     3\n",
       "f     a\n",
       "dtype: object"
      ]
     },
     "execution_count": 4,
     "metadata": {},
     "output_type": "execute_result"
    }
   ],
   "source": [
    "obj2 = pd.Series([4, 7, -5, 3, 'a'], index=['d', 'b', 'a', 'c', 'f'])\n",
    "obj2"
   ]
  },
  {
   "cell_type": "code",
   "execution_count": 7,
   "id": "68f3b0d8",
   "metadata": {},
   "outputs": [
    {
     "data": {
      "text/plain": [
       "-5"
      ]
     },
     "execution_count": 7,
     "metadata": {},
     "output_type": "execute_result"
    }
   ],
   "source": [
    "obj2['a']"
   ]
  },
  {
   "cell_type": "code",
   "execution_count": 8,
   "id": "b7111beb",
   "metadata": {},
   "outputs": [
    {
     "data": {
      "text/plain": [
       "d     6\n",
       "b     7\n",
       "a    -5\n",
       "c     3\n",
       "f     a\n",
       "dtype: object"
      ]
     },
     "execution_count": 8,
     "metadata": {},
     "output_type": "execute_result"
    }
   ],
   "source": [
    "obj2['d'] = 6\n",
    "obj2"
   ]
  },
  {
   "cell_type": "code",
   "execution_count": 9,
   "id": "d281e4f8",
   "metadata": {},
   "outputs": [
    {
     "data": {
      "text/plain": [
       "c     3\n",
       "a    -5\n",
       "d     6\n",
       "dtype: object"
      ]
     },
     "execution_count": 9,
     "metadata": {},
     "output_type": "execute_result"
    }
   ],
   "source": [
    "obj2[['c', 'a', 'd']]"
   ]
  },
  {
   "cell_type": "code",
   "execution_count": 13,
   "id": "b6880732",
   "metadata": {},
   "outputs": [
    {
     "data": {
      "text/plain": [
       "True"
      ]
     },
     "execution_count": 13,
     "metadata": {},
     "output_type": "execute_result"
    }
   ],
   "source": [
    "'c' in obj2"
   ]
  },
  {
   "cell_type": "code",
   "execution_count": 15,
   "id": "ae33d740",
   "metadata": {},
   "outputs": [
    {
     "data": {
      "text/plain": [
       "False"
      ]
     },
     "execution_count": 15,
     "metadata": {},
     "output_type": "execute_result"
    }
   ],
   "source": [
    "'e' in obj2"
   ]
  },
  {
   "cell_type": "code",
   "execution_count": 16,
   "id": "1a93627e",
   "metadata": {},
   "outputs": [
    {
     "data": {
      "text/plain": [
       "d    6\n",
       "b    7\n",
       "c    3\n",
       "dtype: int64"
      ]
     },
     "execution_count": 16,
     "metadata": {},
     "output_type": "execute_result"
    }
   ],
   "source": [
    "obj3 = pd.Series([6, 7, -5, 3], index=['d', 'b', 'a', 'c'])\n",
    "\n",
    "obj3[obj3 > 0]"
   ]
  },
  {
   "cell_type": "code",
   "execution_count": 17,
   "id": "d9b8001f",
   "metadata": {},
   "outputs": [
    {
     "data": {
      "text/plain": [
       "d    12\n",
       "b    14\n",
       "a   -10\n",
       "c     6\n",
       "dtype: int64"
      ]
     },
     "execution_count": 17,
     "metadata": {},
     "output_type": "execute_result"
    }
   ],
   "source": [
    "obj3 * 2"
   ]
  },
  {
   "cell_type": "code",
   "execution_count": 24,
   "id": "778529ff",
   "metadata": {},
   "outputs": [
    {
     "data": {
      "text/plain": [
       "d     403.428793\n",
       "b    1096.633158\n",
       "a       0.006738\n",
       "c      20.085537\n",
       "dtype: float64"
      ]
     },
     "execution_count": 24,
     "metadata": {},
     "output_type": "execute_result"
    }
   ],
   "source": [
    "import numpy as np\n",
    "np.exp(obj3)"
   ]
  },
  {
   "cell_type": "code",
   "execution_count": 25,
   "id": "b76dd74c",
   "metadata": {},
   "outputs": [
    {
     "name": "stdout",
     "output_type": "stream",
     "text": [
      "\u001b[31mCall signature:\u001b[39m  np.exp(*args, **kwargs)\n",
      "\u001b[31mType:\u001b[39m            ufunc\n",
      "\u001b[31mString form:\u001b[39m     <ufunc 'exp'>\n",
      "\u001b[31mFile:\u001b[39m            ~/.local/lib/python3.12/site-packages/numpy/__init__.py\n",
      "\u001b[31mDocstring:\u001b[39m      \n",
      "exp(x, /, out=None, *, where=True, casting='same_kind', order='K', dtype=None, subok=True[, signature])\n",
      "\n",
      "Calculate the exponential of all elements in the input array.\n",
      "\n",
      "Parameters\n",
      "----------\n",
      "x : array_like\n",
      "    Input values.\n",
      "out : ndarray, None, or tuple of ndarray and None, optional\n",
      "    A location into which the result is stored. If provided, it must have\n",
      "    a shape that the inputs broadcast to. If not provided or None,\n",
      "    a freshly-allocated array is returned. A tuple (possible only as a\n",
      "    keyword argument) must have length equal to the number of outputs.\n",
      "where : array_like, optional\n",
      "    This condition is broadcast over the input. At locations where the\n",
      "    condition is True, the `out` array will be set to the ufunc result.\n",
      "    Elsewhere, the `out` array will retain its original value.\n",
      "    Note that if an uninitialized `out` array is created via the default\n",
      "    ``out=None``, locations within it where the condition is False will\n",
      "    remain uninitialized.\n",
      "**kwargs\n",
      "    For other keyword-only arguments, see the\n",
      "    :ref:`ufunc docs <ufuncs.kwargs>`.\n",
      "\n",
      "Returns\n",
      "-------\n",
      "out : ndarray or scalar\n",
      "    Output array, element-wise exponential of `x`.\n",
      "    This is a scalar if `x` is a scalar.\n",
      "\n",
      "See Also\n",
      "--------\n",
      "expm1 : Calculate ``exp(x) - 1`` for all elements in the array.\n",
      "exp2  : Calculate ``2**x`` for all elements in the array.\n",
      "\n",
      "Notes\n",
      "-----\n",
      "The irrational number ``e`` is also known as Euler's number.  It is\n",
      "approximately 2.718281, and is the base of the natural logarithm,\n",
      "``ln`` (this means that, if :math:`x = \\ln y = \\log_e y`,\n",
      "then :math:`e^x = y`. For real input, ``exp(x)`` is always positive.\n",
      "\n",
      "For complex arguments, ``x = a + ib``, we can write\n",
      ":math:`e^x = e^a e^{ib}`.  The first term, :math:`e^a`, is already\n",
      "known (it is the real argument, described above).  The second term,\n",
      ":math:`e^{ib}`, is :math:`\\cos b + i \\sin b`, a function with\n",
      "magnitude 1 and a periodic phase.\n",
      "\n",
      "References\n",
      "----------\n",
      ".. [1] Wikipedia, \"Exponential function\",\n",
      "       https://en.wikipedia.org/wiki/Exponential_function\n",
      ".. [2] M. Abramovitz and I. A. Stegun, \"Handbook of Mathematical Functions\n",
      "       with Formulas, Graphs, and Mathematical Tables,\" Dover, 1964, p. 69,\n",
      "       https://personal.math.ubc.ca/~cbm/aands/page_69.htm\n",
      "\n",
      "Examples\n",
      "--------\n",
      "Plot the magnitude and phase of ``exp(x)`` in the complex plane:\n",
      "\n",
      ">>> import numpy as np\n",
      "\n",
      ">>> import matplotlib.pyplot as plt\n",
      ">>> import numpy as np\n",
      "\n",
      ">>> x = np.linspace(-2*np.pi, 2*np.pi, 100)\n",
      ">>> xx = x + 1j * x[:, np.newaxis] # a + ib over complex plane\n",
      ">>> out = np.exp(xx)\n",
      "\n",
      ">>> plt.subplot(121)\n",
      ">>> plt.imshow(np.abs(out),\n",
      "...            extent=[-2*np.pi, 2*np.pi, -2*np.pi, 2*np.pi], cmap='gray')\n",
      ">>> plt.title('Magnitude of exp(x)')\n",
      "\n",
      ">>> plt.subplot(122)\n",
      ">>> plt.imshow(np.angle(out),\n",
      "...            extent=[-2*np.pi, 2*np.pi, -2*np.pi, 2*np.pi], cmap='hsv')\n",
      ">>> plt.title('Phase (angle) of exp(x)')\n",
      ">>> plt.show()\n",
      "\u001b[31mClass docstring:\u001b[39m\n",
      "Functions that operate element by element on whole arrays.\n",
      "\n",
      "To see the documentation for a specific ufunc, use `info`.  For\n",
      "example, ``np.info(np.sin)``.  Because ufuncs are written in C\n",
      "(for speed) and linked into Python with NumPy's ufunc facility,\n",
      "Python's help() function finds this page whenever help() is called\n",
      "on a ufunc.\n",
      "\n",
      "A detailed explanation of ufuncs can be found in the docs for :ref:`ufuncs`.\n",
      "\n",
      "**Calling ufuncs:** ``op(*x[, out], where=True, **kwargs)``\n",
      "\n",
      "Apply `op` to the arguments `*x` elementwise, broadcasting the arguments.\n",
      "\n",
      "The broadcasting rules are:\n",
      "\n",
      "* Dimensions of length 1 may be prepended to either array.\n",
      "* Arrays may be repeated along dimensions of length 1.\n",
      "\n",
      "Parameters\n",
      "----------\n",
      "*x : array_like\n",
      "    Input arrays.\n",
      "out : ndarray, None, ..., or tuple of ndarray and None, optional\n",
      "    Location(s) into which the result(s) are stored.\n",
      "    If not provided or None, new array(s) are created by the ufunc.\n",
      "    If passed as a keyword argument, can be Ellipses (``out=...``) to\n",
      "    ensure an array is returned even if the result is 0-dimensional,\n",
      "    or a tuple with length equal to the number of outputs (where None\n",
      "    can be used for allocation by the ufunc).\n",
      "\n",
      "    .. versionadded:: 2.3\n",
      "        Support for ``out=...`` was added.\n",
      "\n",
      "where : array_like, optional\n",
      "    This condition is broadcast over the input. At locations where the\n",
      "    condition is True, the `out` array will be set to the ufunc result.\n",
      "    Elsewhere, the `out` array will retain its original value.\n",
      "    Note that if an uninitialized `out` array is created via the default\n",
      "    ``out=None``, locations within it where the condition is False will\n",
      "    remain uninitialized.\n",
      "**kwargs\n",
      "    For other keyword-only arguments, see the :ref:`ufunc docs <ufuncs.kwargs>`.\n",
      "\n",
      "Returns\n",
      "-------\n",
      "r : ndarray or tuple of ndarray\n",
      "    `r` will have the shape that the arrays in `x` broadcast to; if `out` is\n",
      "    provided, it will be returned. If not, `r` will be allocated and\n",
      "    may contain uninitialized values. If the function has more than one\n",
      "    output, then the result will be a tuple of arrays."
     ]
    }
   ],
   "source": [
    "np.exp?"
   ]
  },
  {
   "cell_type": "code",
   "execution_count": 7,
   "id": "39cd9224",
   "metadata": {},
   "outputs": [
    {
     "data": {
      "text/plain": [
       "a    0.0\n",
       "b    1.0\n",
       "c    2.0\n",
       "d    3.0\n",
       "e    4.0\n",
       "dtype: float64"
      ]
     },
     "execution_count": 7,
     "metadata": {},
     "output_type": "execute_result"
    }
   ],
   "source": [
    "obj = pd.Series(np.arange(5.), index=['a', 'b', 'c', 'd', 'e'])\n",
    "obj"
   ]
  },
  {
   "cell_type": "code",
   "execution_count": 8,
   "id": "4352ab77",
   "metadata": {},
   "outputs": [
    {
     "data": {
      "text/plain": [
       "a    0.0\n",
       "b    1.0\n",
       "d    3.0\n",
       "e    4.0\n",
       "dtype: float64"
      ]
     },
     "execution_count": 8,
     "metadata": {},
     "output_type": "execute_result"
    }
   ],
   "source": [
    "new_obj = obj.drop('c')\n",
    "new_obj"
   ]
  },
  {
   "cell_type": "code",
   "execution_count": 9,
   "id": "d64ac0f2",
   "metadata": {},
   "outputs": [
    {
     "data": {
      "text/plain": [
       "a    0.0\n",
       "b    1.0\n",
       "e    4.0\n",
       "dtype: float64"
      ]
     },
     "execution_count": 9,
     "metadata": {},
     "output_type": "execute_result"
    }
   ],
   "source": [
    "obj.drop(['d', 'c'])"
   ]
  },
  {
   "cell_type": "code",
   "execution_count": 10,
   "id": "dec87b06",
   "metadata": {},
   "outputs": [
    {
     "data": {
      "text/plain": [
       "a    0.0\n",
       "b    1.0\n",
       "c    2.0\n",
       "d    3.0\n",
       "e    4.0\n",
       "dtype: float64"
      ]
     },
     "execution_count": 10,
     "metadata": {},
     "output_type": "execute_result"
    }
   ],
   "source": [
    "obj"
   ]
  }
 ],
 "metadata": {
  "kernelspec": {
   "display_name": "Python 3",
   "language": "python",
   "name": "python3"
  },
  "language_info": {
   "codemirror_mode": {
    "name": "ipython",
    "version": 3
   },
   "file_extension": ".py",
   "mimetype": "text/x-python",
   "name": "python",
   "nbconvert_exporter": "python",
   "pygments_lexer": "ipython3",
   "version": "3.12.1"
  }
 },
 "nbformat": 4,
 "nbformat_minor": 5
}
