{
 "cells": [
  {
   "cell_type": "markdown",
   "id": "9166b6c4",
   "metadata": {},
   "source": [
    "# Joins"
   ]
  },
  {
   "cell_type": "code",
   "execution_count": 18,
   "id": "649b29c8",
   "metadata": {},
   "outputs": [],
   "source": [
    "import pandas as pd\n",
    "import numpy as np\n",
    "\n",
    "A = pd.Series([1, 2, 3, 4, 5, 6, 7, 8]) \n",
    "B = pd.Series([2, 4, 6, 8, 10, 12])"
   ]
  },
  {
   "cell_type": "markdown",
   "id": "a5f96196",
   "metadata": {},
   "source": [
    "## Inner join\n",
    "\n",
    "![Inner join](./_images/innerjoin.png)\n"
   ]
  },
  {
   "cell_type": "code",
   "execution_count": 54,
   "id": "1faf81f6",
   "metadata": {},
   "outputs": [
    {
     "data": {
      "text/plain": [
       "1    2\n",
       "3    4\n",
       "5    6\n",
       "7    8\n",
       "dtype: int64"
      ]
     },
     "execution_count": 54,
     "metadata": {},
     "output_type": "execute_result"
    }
   ],
   "source": [
    "def innerjoin(A, B):\n",
    "    return A[A.isin(B)] \n",
    "    #return B[B.isin(A)]\n",
    "\n",
    "innerjoin(A, B)"
   ]
  },
  {
   "cell_type": "markdown",
   "id": "177f7beb",
   "metadata": {},
   "source": [
    "## Left joint exclusive\n",
    "\n",
    "![Left joint exclusive](./_images/leftjoin_exclusive.png)"
   ]
  },
  {
   "cell_type": "code",
   "execution_count": 73,
   "id": "3ec984ab",
   "metadata": {},
   "outputs": [
    {
     "data": {
      "text/plain": [
       "0    1\n",
       "2    3\n",
       "4    5\n",
       "6    7\n",
       "dtype: int64"
      ]
     },
     "execution_count": 73,
     "metadata": {},
     "output_type": "execute_result"
    }
   ],
   "source": [
    "def lefjoin_exclusive(A, B):\n",
    "    return A[~A.isin(B)]\n",
    "    #return A[~A.isin(innerjoin(A, B))]\n",
    "\n",
    "lefjoin_exclusive(A, B)"
   ]
  },
  {
   "cell_type": "markdown",
   "id": "4b416083",
   "metadata": {},
   "source": [
    "## Left join inclusive\n",
    "\n",
    "![Left joint inclusive](./_images/leftjoin_inclusive.png)\n"
   ]
  },
  {
   "cell_type": "code",
   "execution_count": 77,
   "id": "84e4267c",
   "metadata": {},
   "outputs": [
    {
     "data": {
      "text/plain": [
       "0    1\n",
       "1    2\n",
       "2    3\n",
       "3    4\n",
       "4    5\n",
       "5    6\n",
       "6    7\n",
       "7    8\n",
       "dtype: int64"
      ]
     },
     "execution_count": 77,
     "metadata": {},
     "output_type": "execute_result"
    }
   ],
   "source": [
    "def lefjoin_inclusive(A, B):\n",
    "    return pd.Series(A[A.isin(B) | ~A.isin(B)])\n",
    "    #return pd.Series(np.union1d(lefjoin_exclusive(A, B), innerjoin(A, B)))\n",
    "    #return A\n",
    "\n",
    "lefjoin_inclusive(A, B)"
   ]
  },
  {
   "cell_type": "markdown",
   "id": "cf7885f6",
   "metadata": {},
   "source": [
    "## Right join exclusive\n",
    "\n",
    "![Right joint exclusive](./_images/rightjoin_exclusive.png)"
   ]
  },
  {
   "cell_type": "code",
   "execution_count": 78,
   "id": "ec038786",
   "metadata": {},
   "outputs": [
    {
     "data": {
      "text/plain": [
       "4    10\n",
       "5    12\n",
       "dtype: int64"
      ]
     },
     "execution_count": 78,
     "metadata": {},
     "output_type": "execute_result"
    }
   ],
   "source": [
    "def rightjoin_exclusive(A, B):\n",
    "    return pd.Series(B[~B.isin(A)])\n",
    "    #return B[~B.isin(innerjoin(A, B))]\n",
    "\n",
    "rightjoin_exclusive(A, B)"
   ]
  },
  {
   "cell_type": "markdown",
   "id": "e576f8fa",
   "metadata": {},
   "source": [
    "## Right join inclusive\n",
    "\n",
    "![Right joint inclusive](./_images/rightjoin_inclusive.png)"
   ]
  },
  {
   "cell_type": "code",
   "execution_count": null,
   "id": "9749ba9d",
   "metadata": {},
   "outputs": [
    {
     "data": {
      "text/plain": [
       "0     2\n",
       "1     4\n",
       "2     6\n",
       "3     8\n",
       "4    10\n",
       "5    12\n",
       "dtype: int64"
      ]
     },
     "execution_count": 67,
     "metadata": {},
     "output_type": "execute_result"
    }
   ],
   "source": [
    "def rightjoin_inclusive(A, B):\n",
    "    return B[B.isin(A) | ~B.isin(A)]\n",
    "    #return np.union1d(rightjoin_exclusive(A, B), innerjoin(A, B))\n",
    "    #return B\n",
    "\n",
    "rightjoin_inclusive(A, B)"
   ]
  },
  {
   "cell_type": "markdown",
   "id": "8852f1ba",
   "metadata": {},
   "source": [
    "## Full join exclusive\n",
    "\n",
    "![Full joint exclusive](./_images/fulljoin_exclusive.png)"
   ]
  },
  {
   "cell_type": "code",
   "execution_count": 79,
   "id": "e0e0d70f",
   "metadata": {},
   "outputs": [
    {
     "data": {
      "text/plain": [
       "0     1\n",
       "1     3\n",
       "2     5\n",
       "3     7\n",
       "4    10\n",
       "5    12\n",
       "dtype: int64"
      ]
     },
     "execution_count": 79,
     "metadata": {},
     "output_type": "execute_result"
    }
   ],
   "source": [
    "def fulljoin_exclusive(A, B):\n",
    "    return pd.Series(np.union1d(A[~A.isin(B)], B[~B.isin(A)]))\n",
    "    #return np.union1d(lefjoin_exclusive(A, B), rightjoin_exclusive(A, B))\n",
    "\n",
    "fulljoin_exclusive(A, B)"
   ]
  },
  {
   "cell_type": "markdown",
   "id": "3e35e6c6",
   "metadata": {},
   "source": [
    "## Full join inclusive\n",
    "\n",
    "![Full joint inclusive](./_images/fulljoin_inclusive.png)"
   ]
  },
  {
   "cell_type": "code",
   "execution_count": 81,
   "id": "bf3d5ee1",
   "metadata": {},
   "outputs": [
    {
     "data": {
      "text/plain": [
       "0     1\n",
       "1     2\n",
       "2     3\n",
       "3     4\n",
       "4     5\n",
       "5     6\n",
       "6     7\n",
       "7     8\n",
       "8    10\n",
       "9    12\n",
       "dtype: int64"
      ]
     },
     "execution_count": 81,
     "metadata": {},
     "output_type": "execute_result"
    }
   ],
   "source": [
    "def fulljoin_inclusive(A, B):\n",
    "    return pd.Series(np.union1d(np.union1d(A[~A.isin(B)], B[~B.isin(A)]), B[B.isin(A)]))\n",
    "    #return np.union1d(fulljoin_exclusive(A, B), innerjoin(A, B))\n",
    "    #return np.union1d(np.union1d(lefjoin_exclusive(A, B), innerjoin(A, B)), rightjoin_exclusive(A, B))\n",
    "    #return np.union1d(A, B)\n",
    "\n",
    "fulljoin_inclusive(A, B)"
   ]
  }
 ],
 "metadata": {
  "kernelspec": {
   "display_name": "Python 3",
   "language": "python",
   "name": "python3"
  },
  "language_info": {
   "codemirror_mode": {
    "name": "ipython",
    "version": 3
   },
   "file_extension": ".py",
   "mimetype": "text/x-python",
   "name": "python",
   "nbconvert_exporter": "python",
   "pygments_lexer": "ipython3",
   "version": "3.12.1"
  }
 },
 "nbformat": 4,
 "nbformat_minor": 5
}
