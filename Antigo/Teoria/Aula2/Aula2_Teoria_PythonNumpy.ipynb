{
 "cells": [
  {
   "cell_type": "markdown",
   "metadata": {},
   "source": [
    "# Aula 2 - Python e Numpy"
   ]
  },
  {
   "cell_type": "markdown",
   "metadata": {},
   "source": [
    "### Dicionário (dict)\n",
    "### É uma coleção pares de key-value (chave-valor) de tamanho flexível\n",
    "#### O key e o value podem ser qualquer objeto python"
   ]
  },
  {
   "cell_type": "code",
   "execution_count": null,
   "metadata": {
    "scrolled": true
   },
   "outputs": [],
   "source": [
    "# 1) Criar um dicionário com as seguintes informações de um veículo: \n",
    "#      tipo=carro, ano=2020, ocupacao= 1 e 2\n",
    "# 2) Adicionar um atributo cor=1\n",
    "# 3) Adicionar um atributo fabricante=3\n",
    "# 4) Criar um índice vazio\n",
    "# 5) Imprimir o valor da chave ocupacao\n",
    "\n",
    "empty_dict = {} # Cria um dicionário vazio\n",
    "d1 = {'tipo' : 'carro', 'ano':2020, 'ocup' : [1, 2]} # Cria um dicionário\n",
    "d1['cor'] = 1 # Cria um novo par chave-valor\n",
    "d1['fabric'] = 3 # Cria um novo par chave-valor\n",
    "print(d1)\n",
    "print(d1['ocup'])"
   ]
  },
  {
   "cell_type": "markdown",
   "metadata": {},
   "source": [
    "### Outros métodos relacionados a dicionários"
   ]
  },
  {
   "cell_type": "code",
   "execution_count": null,
   "metadata": {
    "scrolled": true
   },
   "outputs": [],
   "source": [
    "# 1) Crie o seguinte dicionário: d1 = {'tipo' : 'carro', 'ano':2020, 'ocup' : [1, 2]} \n",
    "# 2) Teste se 'tipo' está dentre as chaves de d1 \n",
    "# 3) Remova o par identificado por 'ano'\n",
    "# 4) Remova o par identificado por 'ocup' e retorne o seu valor\n",
    "# 5) Imprima a lista de keys\n",
    "# 6) Adicione esses pares {'motor' : '18c', 'dono' : 12} ao dicionário\n",
    "\n",
    "d1 = {'tipo' : 'carro', 'ano':2020, 'ocup' : [1, 2]} \n",
    "print('tipo' in d1) # Testa: 'tipo' está em d1.keys()?\n",
    "del d1['ano'] # Remove o par identificado por 'ano'\n",
    "ret = d1.pop('ocup') # Remove do dict e retorna o valor\n",
    "print(list(d1.keys()))\n",
    "d1.update({'motor' : '18c', 'dono' : 12}) #atualiza\n",
    "print(d1)"
   ]
  },
  {
   "cell_type": "markdown",
   "metadata": {},
   "source": [
    "### Criando uma lista de dicionários"
   ]
  },
  {
   "cell_type": "code",
   "execution_count": null,
   "metadata": {},
   "outputs": [],
   "source": [
    "s = [['yellow',1],['blue', 2],['yellow', 3],['blue', 4],['red', 1]]\n",
    "d = dict()\n",
    "for k, v in s:\n",
    "    if k in d.keys(): # Testar se já existe esta chave no dicionário\n",
    "        d[k].append(v) # Se existir, adiciona um elemento\n",
    "    else:\n",
    "        d[k] = [v] # Se não existir, cria uma lista e o adiciona\n",
    "    print(d, k, v)\n",
    "print(d)"
   ]
  },
  {
   "cell_type": "markdown",
   "metadata": {},
   "source": [
    "### Criando uma lista de dicionários com o defaultdict"
   ]
  },
  {
   "cell_type": "markdown",
   "metadata": {},
   "source": [
    "#### No defaultdict, cada elemento do dicionário é inicializado com um valor padrão."
   ]
  },
  {
   "cell_type": "code",
   "execution_count": null,
   "metadata": {},
   "outputs": [],
   "source": [
    "# Importar a classe defaultdict do modulo collections\n",
    "from collections import defaultdict\n",
    "s = [['yellow',1],['blue', 2],['yellow', 3],['blue', 4],['red', 1]]\n",
    "d = defaultdict(list)\n",
    "for k, v in s:\n",
    "    d[k].append(v)\n",
    "    print(d, k, v)\n",
    "print(d)"
   ]
  },
  {
   "cell_type": "markdown",
   "metadata": {},
   "source": [
    "### Tupla\n",
    "#### Uma sequência de elementos ordenada e imutável"
   ]
  },
  {
   "cell_type": "code",
   "execution_count": null,
   "metadata": {
    "scrolled": true
   },
   "outputs": [],
   "source": [
    "# Uma tupla é iterável\n",
    "tup = (True, \"banana\", 2, None)\n",
    "for x in tup:\n",
    "    print(x)"
   ]
  },
  {
   "cell_type": "code",
   "execution_count": null,
   "metadata": {},
   "outputs": [],
   "source": [
    "# Uma tupla é imutável\n",
    "tup[0] = \"a\""
   ]
  },
  {
   "cell_type": "markdown",
   "metadata": {},
   "source": [
    "### Set\n",
    "#### É uma coleção não ordenada de objetos distintos útil para testar pertinência a grupos, e fazer operações como intersecção e união"
   ]
  },
  {
   "cell_type": "code",
   "execution_count": null,
   "metadata": {
    "scrolled": true
   },
   "outputs": [],
   "source": [
    "c1 = {1, 2, 3, 4}\n",
    "c2 = {3, 4, 5, 6}"
   ]
  },
  {
   "cell_type": "markdown",
   "metadata": {},
   "source": [
    "#### Verificação de pertinência de elemento a grupo"
   ]
  },
  {
   "cell_type": "code",
   "execution_count": null,
   "metadata": {
    "scrolled": true
   },
   "outputs": [],
   "source": [
    "print(1 in c1)\n",
    "print(9 in c2)"
   ]
  },
  {
   "cell_type": "markdown",
   "metadata": {},
   "source": [
    "#### União de conjuntos"
   ]
  },
  {
   "cell_type": "code",
   "execution_count": null,
   "metadata": {},
   "outputs": [],
   "source": [
    "print(c1 | c2)"
   ]
  },
  {
   "cell_type": "markdown",
   "metadata": {},
   "source": [
    "#### Intersecção entre conjuntos"
   ]
  },
  {
   "cell_type": "code",
   "execution_count": null,
   "metadata": {},
   "outputs": [],
   "source": [
    "print(c1 & c2)"
   ]
  },
  {
   "cell_type": "markdown",
   "metadata": {},
   "source": [
    "### Função zip"
   ]
  },
  {
   "cell_type": "code",
   "execution_count": null,
   "metadata": {},
   "outputs": [],
   "source": [
    "letras = [\"a\", \"b\", \"c\"]\n",
    "numeros = [1, 2, 3]\n",
    "\n",
    "for l, n in zip(letras, numeros):\n",
    "    print(f'{l}, {n}')"
   ]
  },
  {
   "cell_type": "markdown",
   "metadata": {},
   "source": [
    "### Instruções inline e List Comprehension"
   ]
  },
  {
   "cell_type": "code",
   "execution_count": null,
   "metadata": {},
   "outputs": [],
   "source": [
    "# 1) Escreva uma instrução if else na forma inline\n",
    "# Dica - Sintaxe: valor_se_verdadeiro if condicao else valor_se_falso\n",
    "# 2) Escreva uma instrução de loop (for) na forma inline calculando [1, 4, 9 ... 100]\n",
    "# Dica - Sintaxe: [ OPERACAO_VAL for VAL in SEQUENCIA ]\n",
    "\n",
    "a = 2\n",
    "# Sintaxe: valor_se_verdadeiro if condicao else valor_se_falso\n",
    "b = 0 if a > 10 else 1  #Sintaxe: vv if cond else vf\n",
    "print(b)\n",
    "# [ OPERACAO_VAL for VAL in SEQUENCIA ]\n",
    "resultado1 = [x for x in range(10)] # list comprehension\n",
    "resultado2 = [x * x for x in range(10)]\n",
    "print(resultado1)\n",
    "print(resultado2)"
   ]
  },
  {
   "cell_type": "markdown",
   "metadata": {},
   "source": [
    "## NumPy Arrays\n"
   ]
  },
  {
   "cell_type": "code",
   "execution_count": null,
   "metadata": {},
   "outputs": [],
   "source": [
    "import numpy as np"
   ]
  },
  {
   "cell_type": "markdown",
   "metadata": {},
   "source": [
    "### Criando ndarrays"
   ]
  },
  {
   "cell_type": "code",
   "execution_count": null,
   "metadata": {},
   "outputs": [],
   "source": [
    "# 1) Crie um array unidimensional a partir da lista [6, 7.5, 8, 0, 1]\n",
    "# 2) Crie um array bidimensional a partir da lista [[1, 2, 3, 4], [5, 6, 7, 8]]\n",
    "# 3) Crie um array unidimensional de zeros\n",
    "\n",
    "data1 = [6, 7.5, 8, 0, 1]\n",
    "arr1 = np.array(data1)\n",
    "print(arr1)\n",
    "data2 = [[1, 2, 3, 4], [5, 6, 7, 8]]\n",
    "arr2 = np.array(data2)\n",
    "print(arr2)\n",
    "print(np.zeros(5)) # Função que cria um array de zeros"
   ]
  },
  {
   "cell_type": "code",
   "execution_count": null,
   "metadata": {},
   "outputs": [],
   "source": [
    "# 1) Crie o seguinte array arr1 = np.array([6, 7.5, 8, 0, 1])\n",
    "# 2) Imprima o tipo do dado do array arr1\n",
    "# 3) Crie o seguinte array arr2 = np.array([[1, 2, 3, 4], [5, 6, 7, 8]], dtype=np.int32)\n",
    "# 4) Imprima o shape e o número de dimensões do array arr2\n",
    "\n",
    "# O tipo do dado é inferido. Mas também pode ser especificado\n",
    "arr1 = np.array([6, 7.5, 8, 0, 1])\n",
    "print(arr1.dtype) # tipo do dado\n",
    "arr2 = np.array([[1, 2, 3, 4], [5, 6, 7, 8]], dtype=np.int32)\n",
    "print(arr2.shape) # Forma/dimensões do array\n",
    "print(arr2.ndim) # Quantidade de dimensões"
   ]
  },
  {
   "cell_type": "markdown",
   "metadata": {},
   "source": [
    "### Conversão de tipos (cast)"
   ]
  },
  {
   "cell_type": "code",
   "execution_count": null,
   "metadata": {},
   "outputs": [],
   "source": [
    "# 1) Crie o seguinte array num_str = np.array(['1.25', '-9.6', '42'], dtype=np.string_)\n",
    "# 2) Converta-o para o tipo float\n",
    "# 3) Crie o seguinte array arr1 = np.array([3.7, -1.2, -2.6, 0.5, 12.9, 10.1])\n",
    "# 4) Converta-o para o tipo int32\n",
    "\n",
    "num_str = np.array(['1.25', '-9.6', '42'], dtype=np.string_)\n",
    "arr_float = num_str.astype(float) # Converte para float\n",
    "print(arr_float)\n",
    "arr1 = np.array([3.7, -1.2, -2.6, 0.5, 12.9, 10.1])\n",
    "arr1_int = arr1.astype(np.int32) # Converte para int32\n",
    "print(arr1_int)"
   ]
  },
  {
   "cell_type": "markdown",
   "metadata": {},
   "source": [
    "### Operações vetorizadas em ndarrays\n",
    "#### Mais eficientes (preferíveis)"
   ]
  },
  {
   "cell_type": "code",
   "execution_count": null,
   "metadata": {},
   "outputs": [],
   "source": [
    "# 1) Importe a biblioteca numpy e lhe dê o apelido np \n",
    "# 2) Crie um array (data) bidimensional de 2 linhas e 3 colunas de números aleatórios\n",
    "# 3) Multiplique todos os elementos do vetor por 10\n",
    "# 4) Some os elementos do array data a ele mesmo\n",
    "\n",
    "import numpy as np # Importa a biblioteca numpy e lhe dá o apelido de np \n",
    "data = np.random.randn(2, 3) # Gerar dados aleatórios. 2L x 3C\n",
    "print(data)\n",
    "print(data * 10)\n",
    "print(data + data)"
   ]
  },
  {
   "cell_type": "markdown",
   "metadata": {},
   "source": [
    "### Aritmética com NumPy Arrays"
   ]
  },
  {
   "cell_type": "code",
   "execution_count": null,
   "metadata": {},
   "outputs": [],
   "source": [
    "# 1) Crie os seguintes arrays arr = np.array([1., 2., 3.]) e arr2 = np.array([4., 5., 6.])\n",
    "# 2) Calcule arr * arr\n",
    "# 3) Calcule arr - arr\n",
    "# 4) Calcule 1 / arr\n",
    "# 5) Calcule a raiz quadrada dos elementos de arr\n",
    "# 6) Calcule arr - arr\n",
    "# 7) Compare os elementos do array arr com os elementos do arr2\n",
    "\n",
    "arr = np.array([1., 2., 3.])\n",
    "arr2 = np.array([4., 5., 6.])\n",
    "print(arr * arr)\n",
    "print(arr - arr)\n",
    "print(1 / arr)\n",
    "print(arr ** 0.5)\n",
    "print(arr2 > arr)"
   ]
  },
  {
   "cell_type": "markdown",
   "metadata": {},
   "source": [
    "### Comparação de Desempenho: Numpy array vs list"
   ]
  },
  {
   "cell_type": "code",
   "execution_count": null,
   "metadata": {},
   "outputs": [],
   "source": [
    "# 1) Crie um numpy array com 10 milhoes de numeros sequenciais\n",
    "# 2) Crie uma lista 10 milhoes de numeros sequenciais\n",
    "# 3) Meça o tempo de multiplicar todos os elementos do array por 2\n",
    "# 4) Meça o tempo de multiplicar todos os elementos da lista por 2\n",
    "# Dica: %time mede o tempo tomado pela execução da linha\n",
    "# Dica: Não precisa importar a biblioteca numpy novamente. \n",
    "#       Ela foi importada na célula 19, acima.\n",
    "\n",
    "my_arr = np.arange(10000000) # Função que cria um array de números sequenciais\n",
    "my_list = list(range(10000000))\n",
    "# %time mede o tempo tomado pela execução da linha\n",
    "%time my_arr2 = my_arr * 2\n",
    "%time my_list2 = [x * 2 for x in my_list]\n",
    "print(my_arr2[1:5])\n",
    "print(my_list2[1:5])"
   ]
  },
  {
   "cell_type": "markdown",
   "metadata": {},
   "source": [
    "### Slicing (fatiar) NumPy Arrays\n",
    "#### Nas listas os slices são cópias\n",
    "#### Nos arrays numpy os slices são views (visualizações)"
   ]
  },
  {
   "cell_type": "code",
   "execution_count": null,
   "metadata": {},
   "outputs": [],
   "source": [
    "# 1) Crie o seguinte array: arr = np.arange(10)\n",
    "# 2) Guarde na variavel arr_slice os elementos de índice 5 até 8 deste array\n",
    "# 3) Atribua o valor 12345 ao elemento de índice 1 do array arr_slice\n",
    "# 4) Visualize o arr e perceba que o elemento de índice 6 alterou de valor\n",
    "# 5) Crie a seguinte lista: li2 = list(range(10))\n",
    "# 6) Guarde na variavel list_slice os elementos de índice 5 até 8 da lista li2\n",
    "# 7) Atribua o valor 12345 ao elemento de índice 1 da lista list_slice\n",
    "# 8) Visualize a lista li2 e perceba que o elemento de índice 6 alterou de valor\n",
    "\n",
    "arr = np.arange(10)\n",
    "print(arr)\n",
    "arr_slice = arr[5:8]\n",
    "arr_slice[1] = 12345\n",
    "print(arr)\n",
    "li2 = list(range(10)) # Repetindo a operação equivalente com uma lista\n",
    "list_slice = li2[5:8]\n",
    "list_slice[1] = 12345\n",
    "print(li2)"
   ]
  },
  {
   "cell_type": "markdown",
   "metadata": {},
   "source": [
    "### Slicing (fatiar) de arrays bidimensionais"
   ]
  },
  {
   "cell_type": "code",
   "execution_count": null,
   "metadata": {},
   "outputs": [],
   "source": [
    "# 1) Crie o seguinte array bidimensional: arr2d = np.array([[1, 2, 3], [4, 5, 6], [7, 8, 9]])\n",
    "# 2) Imprima o array\n",
    "# 3) Imprima a linha de índice 2 desse array\n",
    "# 4) Imprima o elemento de posição 0,2 desse array, usando as sintaxes com e sem vírgula\n",
    "# 5) Imprima os elementos de todas as linhas da coluna 1\n",
    "\n",
    "arr2d = np.array([[1, 2, 3], [4, 5, 6], [7, 8, 9]])\n",
    "print(arr2d)\n",
    "print(arr2d[2])\n",
    "print(arr2d[0][2]) # Tanto faz\n",
    "print(arr2d[0, 2]) # Tanto faz\n",
    "print(arr2d[:, 1])"
   ]
  },
  {
   "cell_type": "markdown",
   "metadata": {},
   "source": [
    "### Outras funções numpy"
   ]
  },
  {
   "cell_type": "markdown",
   "metadata": {},
   "source": [
    "### Função Soma (np.sum)"
   ]
  },
  {
   "cell_type": "code",
   "execution_count": null,
   "metadata": {},
   "outputs": [],
   "source": [
    "ar = np.array([[0, 1], [0, 5]])\n",
    "print(ar)\n",
    "print(np.sum(ar))\n",
    "print(np.sum(ar, axis=0))\n",
    "print(np.sum(ar, axis=1))"
   ]
  },
  {
   "cell_type": "markdown",
   "metadata": {},
   "source": [
    "### Função média (np.mean)"
   ]
  },
  {
   "cell_type": "code",
   "execution_count": null,
   "metadata": {},
   "outputs": [],
   "source": [
    "ar = np.array([[2, 1], [0, 5]])\n",
    "print(ar)\n",
    "print(np.mean(ar))\n",
    "print(np.mean(ar, axis=0))\n",
    "print(np.mean(ar, axis=1))"
   ]
  },
  {
   "cell_type": "markdown",
   "metadata": {},
   "source": [
    "### Função desvio padrão (np.std)"
   ]
  },
  {
   "cell_type": "code",
   "execution_count": null,
   "metadata": {},
   "outputs": [],
   "source": [
    "ar = np.array([[2, 1], [0, 5]])\n",
    "print(ar)\n",
    "print(np.std(ar))\n",
    "print(np.std(ar, axis=0))\n",
    "print(np.std(ar, axis=1))"
   ]
  },
  {
   "cell_type": "markdown",
   "metadata": {},
   "source": [
    "### Função algum (np.any)"
   ]
  },
  {
   "cell_type": "code",
   "execution_count": null,
   "metadata": {},
   "outputs": [],
   "source": [
    "arr2 = np.array([[True, False], [True, True]])\n",
    "print(arr2)\n",
    "print(np.any(arr2))\n",
    "print(np.any(arr2, axis=0))"
   ]
  },
  {
   "cell_type": "markdown",
   "metadata": {},
   "source": [
    "### Função np.argmax"
   ]
  },
  {
   "cell_type": "code",
   "execution_count": null,
   "metadata": {},
   "outputs": [],
   "source": [
    "a = np.array([[10, 11, 12],\n",
    "          [13, 14, 15]])\n",
    "print(a)\n",
    "print(np.argmax(a))\n",
    "print(np.argmax(a, axis=0))\n",
    "print(np.argmax(a, axis=1))"
   ]
  },
  {
   "cell_type": "markdown",
   "metadata": {},
   "source": [
    "### Filtrar um Array baseado numa condição"
   ]
  },
  {
   "cell_type": "code",
   "execution_count": null,
   "metadata": {},
   "outputs": [],
   "source": [
    "arr = np.array([0, 1, 2, 3, 4, 5, 6, 7, 8])\n",
    "print(arr)\n",
    "print(arr < 4)\n",
    "print(arr[arr < 4])"
   ]
  },
  {
   "cell_type": "markdown",
   "metadata": {},
   "source": [
    "### Operações lógicas com Array Numpy"
   ]
  },
  {
   "cell_type": "code",
   "execution_count": null,
   "metadata": {},
   "outputs": [],
   "source": [
    "arr1 = np.array([0, 1, 2, 3, 4, 5, 6, 7, 8])\n",
    "selecao = (arr1 > 2) & (arr1 <5)\n",
    "print(selecao)\n",
    "print(arr1[selecao])"
   ]
  },
  {
   "cell_type": "code",
   "execution_count": null,
   "metadata": {},
   "outputs": [],
   "source": [
    "selecao2 = (arr1 < 2) | (arr1 > 5)\n",
    "print(selecao2)\n",
    "print(arr1[selecao2])"
   ]
  },
  {
   "cell_type": "code",
   "execution_count": null,
   "metadata": {},
   "outputs": [],
   "source": []
  }
 ],
 "metadata": {
  "kernelspec": {
   "display_name": "Python 3",
   "language": "python",
   "name": "python3"
  },
  "language_info": {
   "codemirror_mode": {
    "name": "ipython",
    "version": 3
   },
   "file_extension": ".py",
   "mimetype": "text/x-python",
   "name": "python",
   "nbconvert_exporter": "python",
   "pygments_lexer": "ipython3",
   "version": "3.8.3"
  }
 },
 "nbformat": 4,
 "nbformat_minor": 4
}
