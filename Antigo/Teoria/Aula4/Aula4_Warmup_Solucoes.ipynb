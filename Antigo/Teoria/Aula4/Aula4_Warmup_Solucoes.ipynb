{
 "cells": [
  {
   "cell_type": "markdown",
   "metadata": {},
   "source": [
    "## Aula 4 - Pandas e Fontes de dados"
   ]
  },
  {
   "cell_type": "markdown",
   "metadata": {},
   "source": [
    "### Treinando a função apply\n",
    "#### W4.0a Execute as instruções solicitadas a seguir."
   ]
  },
  {
   "cell_type": "code",
   "execution_count": 1,
   "metadata": {},
   "outputs": [],
   "source": [
    "import pandas as pd\n",
    "import numpy as np"
   ]
  },
  {
   "cell_type": "code",
   "execution_count": 2,
   "metadata": {},
   "outputs": [
    {
     "data": {
      "text/html": [
       "<div>\n",
       "<style scoped>\n",
       "    .dataframe tbody tr th:only-of-type {\n",
       "        vertical-align: middle;\n",
       "    }\n",
       "\n",
       "    .dataframe tbody tr th {\n",
       "        vertical-align: top;\n",
       "    }\n",
       "\n",
       "    .dataframe thead th {\n",
       "        text-align: right;\n",
       "    }\n",
       "</style>\n",
       "<table border=\"1\" class=\"dataframe\">\n",
       "  <thead>\n",
       "    <tr style=\"text-align: right;\">\n",
       "      <th></th>\n",
       "      <th>b</th>\n",
       "      <th>d</th>\n",
       "      <th>e</th>\n",
       "    </tr>\n",
       "  </thead>\n",
       "  <tbody>\n",
       "    <tr>\n",
       "      <th>DF</th>\n",
       "      <td>0.842023</td>\n",
       "      <td>0.918714</td>\n",
       "      <td>-1.377684</td>\n",
       "    </tr>\n",
       "    <tr>\n",
       "      <th>GO</th>\n",
       "      <td>-1.813201</td>\n",
       "      <td>-0.035857</td>\n",
       "      <td>-1.374505</td>\n",
       "    </tr>\n",
       "    <tr>\n",
       "      <th>SP</th>\n",
       "      <td>1.115301</td>\n",
       "      <td>-1.417111</td>\n",
       "      <td>0.458633</td>\n",
       "    </tr>\n",
       "    <tr>\n",
       "      <th>RJ</th>\n",
       "      <td>-1.559608</td>\n",
       "      <td>1.035000</td>\n",
       "      <td>-0.843160</td>\n",
       "    </tr>\n",
       "  </tbody>\n",
       "</table>\n",
       "</div>"
      ],
      "text/plain": [
       "           b         d         e\n",
       "DF  0.842023  0.918714 -1.377684\n",
       "GO -1.813201 -0.035857 -1.374505\n",
       "SP  1.115301 -1.417111  0.458633\n",
       "RJ -1.559608  1.035000 -0.843160"
      ]
     },
     "execution_count": 2,
     "metadata": {},
     "output_type": "execute_result"
    }
   ],
   "source": [
    "# Considere o dataframe abaixo\n",
    "frame = pd.DataFrame(np.random.randn(4, 3), columns=list('bde'),\n",
    "                        index=['DF', 'GO', 'SP', 'RJ'])\n",
    "frame"
   ]
  },
  {
   "cell_type": "code",
   "execution_count": 4,
   "metadata": {},
   "outputs": [
    {
     "data": {
      "text/plain": [
       "b    0.004921\n",
       "d   -0.316242\n",
       "e    0.324653\n",
       "dtype: float64"
      ]
     },
     "execution_count": 4,
     "metadata": {},
     "output_type": "execute_result"
    }
   ],
   "source": [
    "# Crie uma função lambda para calcular a diferença \n",
    "# entre a média e a mediana de uma Serie, e aplique-a ao dataframe frame, fazendo o cálculo ao longo do eixo das linhas\n",
    "frame.apply(lambda x: x.mean() - x.median(), axis=0)\n"
   ]
  },
  {
   "cell_type": "code",
   "execution_count": 6,
   "metadata": {},
   "outputs": [
    {
     "data": {
      "text/plain": [
       "DF   -0.714339\n",
       "GO    0.299984\n",
       "SP   -0.406359\n",
       "RJ    0.387237\n",
       "dtype: float64"
      ]
     },
     "execution_count": 6,
     "metadata": {},
     "output_type": "execute_result"
    }
   ],
   "source": [
    "# aplique a mesma função lambda ao dataframe frame, fazendo o cálculo ao longo do eixo das colunas\n",
    "frame.apply(lambda x: x.mean() - x.median(), axis=1)\n"
   ]
  },
  {
   "cell_type": "markdown",
   "metadata": {},
   "source": [
    "### Treinando a função applymap\n",
    "#### W4.0b Execute as instruções solicitadas a seguir."
   ]
  },
  {
   "cell_type": "code",
   "execution_count": 7,
   "metadata": {},
   "outputs": [
    {
     "data": {
      "text/html": [
       "<div>\n",
       "<style scoped>\n",
       "    .dataframe tbody tr th:only-of-type {\n",
       "        vertical-align: middle;\n",
       "    }\n",
       "\n",
       "    .dataframe tbody tr th {\n",
       "        vertical-align: top;\n",
       "    }\n",
       "\n",
       "    .dataframe thead th {\n",
       "        text-align: right;\n",
       "    }\n",
       "</style>\n",
       "<table border=\"1\" class=\"dataframe\">\n",
       "  <thead>\n",
       "    <tr style=\"text-align: right;\">\n",
       "      <th></th>\n",
       "      <th>b</th>\n",
       "      <th>d</th>\n",
       "      <th>e</th>\n",
       "    </tr>\n",
       "  </thead>\n",
       "  <tbody>\n",
       "    <tr>\n",
       "      <th>DF</th>\n",
       "      <td>0.84</td>\n",
       "      <td>0.92</td>\n",
       "      <td>-1.38</td>\n",
       "    </tr>\n",
       "    <tr>\n",
       "      <th>GO</th>\n",
       "      <td>-1.81</td>\n",
       "      <td>-0.04</td>\n",
       "      <td>-1.37</td>\n",
       "    </tr>\n",
       "    <tr>\n",
       "      <th>SP</th>\n",
       "      <td>1.12</td>\n",
       "      <td>-1.42</td>\n",
       "      <td>0.46</td>\n",
       "    </tr>\n",
       "    <tr>\n",
       "      <th>RJ</th>\n",
       "      <td>-1.56</td>\n",
       "      <td>1.04</td>\n",
       "      <td>-0.84</td>\n",
       "    </tr>\n",
       "  </tbody>\n",
       "</table>\n",
       "</div>"
      ],
      "text/plain": [
       "        b      d      e\n",
       "DF   0.84   0.92  -1.38\n",
       "GO  -1.81  -0.04  -1.37\n",
       "SP   1.12  -1.42   0.46\n",
       "RJ  -1.56   1.04  -0.84"
      ]
     },
     "execution_count": 7,
     "metadata": {},
     "output_type": "execute_result"
    }
   ],
   "source": [
    "# Crie uma função lambda para formatar um número float com tres casas decimais,\n",
    "# e aplique-a ao dataframe frame\n",
    "frame.applymap(lambda x: \"%.2f\" % x)"
   ]
  },
  {
   "cell_type": "markdown",
   "metadata": {},
   "source": [
    "#### W4.0c Execute as instruções solicitadas a seguir."
   ]
  },
  {
   "cell_type": "code",
   "execution_count": 8,
   "metadata": {},
   "outputs": [
    {
     "data": {
      "text/html": [
       "<div>\n",
       "<style scoped>\n",
       "    .dataframe tbody tr th:only-of-type {\n",
       "        vertical-align: middle;\n",
       "    }\n",
       "\n",
       "    .dataframe tbody tr th {\n",
       "        vertical-align: top;\n",
       "    }\n",
       "\n",
       "    .dataframe thead th {\n",
       "        text-align: right;\n",
       "    }\n",
       "</style>\n",
       "<table border=\"1\" class=\"dataframe\">\n",
       "  <thead>\n",
       "    <tr style=\"text-align: right;\">\n",
       "      <th></th>\n",
       "      <th>one</th>\n",
       "      <th>two</th>\n",
       "    </tr>\n",
       "  </thead>\n",
       "  <tbody>\n",
       "    <tr>\n",
       "      <th>a</th>\n",
       "      <td>1.40</td>\n",
       "      <td>NaN</td>\n",
       "    </tr>\n",
       "    <tr>\n",
       "      <th>b</th>\n",
       "      <td>7.10</td>\n",
       "      <td>-4.5</td>\n",
       "    </tr>\n",
       "    <tr>\n",
       "      <th>c</th>\n",
       "      <td>NaN</td>\n",
       "      <td>NaN</td>\n",
       "    </tr>\n",
       "    <tr>\n",
       "      <th>d</th>\n",
       "      <td>0.75</td>\n",
       "      <td>-1.3</td>\n",
       "    </tr>\n",
       "  </tbody>\n",
       "</table>\n",
       "</div>"
      ],
      "text/plain": [
       "    one  two\n",
       "a  1.40  NaN\n",
       "b  7.10 -4.5\n",
       "c   NaN  NaN\n",
       "d  0.75 -1.3"
      ]
     },
     "execution_count": 8,
     "metadata": {},
     "output_type": "execute_result"
    }
   ],
   "source": [
    "# Considere o dataframe abaixo\n",
    "df = pd.DataFrame([[1.4, np.nan], [7.1, -4.5],\n",
    "                    [np.nan, np.nan], [0.75, -1.3]],\n",
    "                    index=['a', 'b', 'c', 'd'],\n",
    "                    columns=['one', 'two'])\n",
    "df"
   ]
  },
  {
   "cell_type": "code",
   "execution_count": 15,
   "metadata": {},
   "outputs": [
    {
     "data": {
      "text/plain": [
       "one   NaN\n",
       "two   NaN\n",
       "dtype: float64"
      ]
     },
     "execution_count": 15,
     "metadata": {},
     "output_type": "execute_result"
    }
   ],
   "source": [
    "# Calcule a soma ao longo do eixo das linhas, considerando que \n",
    "# a soma de um número com um NA retorna um NA.\n",
    "df.sum(axis=0, skipna=False)"
   ]
  },
  {
   "cell_type": "code",
   "execution_count": 16,
   "metadata": {},
   "outputs": [
    {
     "data": {
      "text/plain": [
       "a     NaN\n",
       "b    2.60\n",
       "c     NaN\n",
       "d   -0.55\n",
       "dtype: float64"
      ]
     },
     "execution_count": 16,
     "metadata": {},
     "output_type": "execute_result"
    }
   ],
   "source": [
    "# Calcule a soma ao longo do eixo das colunas, considerando que \n",
    "# a soma de um número com um NA retorna um NA.\n",
    "df.sum(axis=1, skipna=False)"
   ]
  },
  {
   "cell_type": "code",
   "execution_count": 17,
   "metadata": {},
   "outputs": [
    {
     "data": {
      "text/plain": [
       "one    9.25\n",
       "two   -5.80\n",
       "dtype: float64"
      ]
     },
     "execution_count": 17,
     "metadata": {},
     "output_type": "execute_result"
    }
   ],
   "source": [
    "# Calcule a média ao longo do eixo das linhas desconsiderando valores NA, ou seja, \n",
    "# calcule a média mesmo que haja um valor NA na respectiva linha.\n",
    "df.sum(axis=0, skipna=True)"
   ]
  },
  {
   "cell_type": "code",
   "execution_count": 18,
   "metadata": {},
   "outputs": [
    {
     "data": {
      "text/plain": [
       "a    1.40\n",
       "b    2.60\n",
       "c    0.00\n",
       "d   -0.55\n",
       "dtype: float64"
      ]
     },
     "execution_count": 18,
     "metadata": {},
     "output_type": "execute_result"
    }
   ],
   "source": [
    "# Calcule a média ao longo do eixo das linhas retornando NA para colunas que tenham algum NA\n",
    "df.sum(axis=1, skipna=True)"
   ]
  },
  {
   "cell_type": "code",
   "execution_count": 19,
   "metadata": {},
   "outputs": [
    {
     "data": {
      "text/html": [
       "<div>\n",
       "<style scoped>\n",
       "    .dataframe tbody tr th:only-of-type {\n",
       "        vertical-align: middle;\n",
       "    }\n",
       "\n",
       "    .dataframe tbody tr th {\n",
       "        vertical-align: top;\n",
       "    }\n",
       "\n",
       "    .dataframe thead th {\n",
       "        text-align: right;\n",
       "    }\n",
       "</style>\n",
       "<table border=\"1\" class=\"dataframe\">\n",
       "  <thead>\n",
       "    <tr style=\"text-align: right;\">\n",
       "      <th></th>\n",
       "      <th>one</th>\n",
       "      <th>two</th>\n",
       "    </tr>\n",
       "  </thead>\n",
       "  <tbody>\n",
       "    <tr>\n",
       "      <th>count</th>\n",
       "      <td>3.000000</td>\n",
       "      <td>2.000000</td>\n",
       "    </tr>\n",
       "    <tr>\n",
       "      <th>mean</th>\n",
       "      <td>3.083333</td>\n",
       "      <td>-2.900000</td>\n",
       "    </tr>\n",
       "    <tr>\n",
       "      <th>std</th>\n",
       "      <td>3.493685</td>\n",
       "      <td>2.262742</td>\n",
       "    </tr>\n",
       "    <tr>\n",
       "      <th>min</th>\n",
       "      <td>0.750000</td>\n",
       "      <td>-4.500000</td>\n",
       "    </tr>\n",
       "    <tr>\n",
       "      <th>25%</th>\n",
       "      <td>1.075000</td>\n",
       "      <td>-3.700000</td>\n",
       "    </tr>\n",
       "    <tr>\n",
       "      <th>50%</th>\n",
       "      <td>1.400000</td>\n",
       "      <td>-2.900000</td>\n",
       "    </tr>\n",
       "    <tr>\n",
       "      <th>75%</th>\n",
       "      <td>4.250000</td>\n",
       "      <td>-2.100000</td>\n",
       "    </tr>\n",
       "    <tr>\n",
       "      <th>max</th>\n",
       "      <td>7.100000</td>\n",
       "      <td>-1.300000</td>\n",
       "    </tr>\n",
       "  </tbody>\n",
       "</table>\n",
       "</div>"
      ],
      "text/plain": [
       "            one       two\n",
       "count  3.000000  2.000000\n",
       "mean   3.083333 -2.900000\n",
       "std    3.493685  2.262742\n",
       "min    0.750000 -4.500000\n",
       "25%    1.075000 -3.700000\n",
       "50%    1.400000 -2.900000\n",
       "75%    4.250000 -2.100000\n",
       "max    7.100000 -1.300000"
      ]
     },
     "execution_count": 19,
     "metadata": {},
     "output_type": "execute_result"
    }
   ],
   "source": [
    "# Aplique um método para calcular várias estatísticas do dataframe df\n",
    "df.describe()"
   ]
  },
  {
   "cell_type": "markdown",
   "metadata": {},
   "source": [
    "### Manipulação de Fontes de Dados"
   ]
  },
  {
   "cell_type": "markdown",
   "metadata": {},
   "source": [
    "#### W4.1 Carregue o arquivo do PIB disponibilizado nas bases de dados deste curso. Você pode escolher abrir do arquivo local ou diretamente da URL do github.\n",
    "#### Ajuste corretamente os argumentos skiprows e skipfooter para deixar na sua tabela somente os dados de interesse. As linhas de cabeçalho desnecessárias e o rodapé não devem fazer parte da sua tabela de dados."
   ]
  },
  {
   "cell_type": "code",
   "execution_count": 28,
   "metadata": {},
   "outputs": [
    {
     "data": {
      "text/html": [
       "<div>\n",
       "<style scoped>\n",
       "    .dataframe tbody tr th:only-of-type {\n",
       "        vertical-align: middle;\n",
       "    }\n",
       "\n",
       "    .dataframe tbody tr th {\n",
       "        vertical-align: top;\n",
       "    }\n",
       "\n",
       "    .dataframe thead th {\n",
       "        text-align: right;\n",
       "    }\n",
       "</style>\n",
       "<table border=\"1\" class=\"dataframe\">\n",
       "  <thead>\n",
       "    <tr style=\"text-align: right;\">\n",
       "      <th></th>\n",
       "      <th>Unnamed: 0</th>\n",
       "      <th>Unnamed: 1</th>\n",
       "      <th>Unnamed: 2</th>\n",
       "      <th>2007</th>\n",
       "      <th>2009</th>\n",
       "      <th>2011</th>\n",
       "      <th>2013</th>\n",
       "      <th>2015</th>\n",
       "      <th>2017</th>\n",
       "    </tr>\n",
       "  </thead>\n",
       "  <tbody>\n",
       "    <tr>\n",
       "      <th>5565</th>\n",
       "      <td>MU</td>\n",
       "      <td>5222005</td>\n",
       "      <td>Vianópolis (GO)</td>\n",
       "      <td>122694</td>\n",
       "      <td>164336</td>\n",
       "      <td>223144</td>\n",
       "      <td>291919</td>\n",
       "      <td>312348</td>\n",
       "      <td>395787</td>\n",
       "    </tr>\n",
       "    <tr>\n",
       "      <th>5566</th>\n",
       "      <td>MU</td>\n",
       "      <td>5222054</td>\n",
       "      <td>Vicentinópolis (GO)</td>\n",
       "      <td>87881</td>\n",
       "      <td>133430</td>\n",
       "      <td>149230</td>\n",
       "      <td>259422</td>\n",
       "      <td>322298</td>\n",
       "      <td>350765</td>\n",
       "    </tr>\n",
       "    <tr>\n",
       "      <th>5567</th>\n",
       "      <td>MU</td>\n",
       "      <td>5222203</td>\n",
       "      <td>Vila Boa (GO)</td>\n",
       "      <td>31897</td>\n",
       "      <td>73367</td>\n",
       "      <td>84103</td>\n",
       "      <td>103233</td>\n",
       "      <td>111229</td>\n",
       "      <td>137500</td>\n",
       "    </tr>\n",
       "    <tr>\n",
       "      <th>5568</th>\n",
       "      <td>MU</td>\n",
       "      <td>5222302</td>\n",
       "      <td>Vila Propício (GO)</td>\n",
       "      <td>76868</td>\n",
       "      <td>107125</td>\n",
       "      <td>112821</td>\n",
       "      <td>142970</td>\n",
       "      <td>198935</td>\n",
       "      <td>182175</td>\n",
       "    </tr>\n",
       "    <tr>\n",
       "      <th>5569</th>\n",
       "      <td>MU</td>\n",
       "      <td>5300108</td>\n",
       "      <td>Brasília (DF)</td>\n",
       "      <td>93404001</td>\n",
       "      <td>124323753</td>\n",
       "      <td>154568954</td>\n",
       "      <td>175906726</td>\n",
       "      <td>215612863</td>\n",
       "      <td>244682756</td>\n",
       "    </tr>\n",
       "  </tbody>\n",
       "</table>\n",
       "</div>"
      ],
      "text/plain": [
       "     Unnamed: 0  Unnamed: 1           Unnamed: 2      2007       2009  \\\n",
       "5565         MU     5222005      Vianópolis (GO)    122694     164336   \n",
       "5566         MU     5222054  Vicentinópolis (GO)     87881     133430   \n",
       "5567         MU     5222203        Vila Boa (GO)     31897      73367   \n",
       "5568         MU     5222302   Vila Propício (GO)     76868     107125   \n",
       "5569         MU     5300108        Brasília (DF)  93404001  124323753   \n",
       "\n",
       "           2011       2013       2015       2017  \n",
       "5565     223144     291919     312348     395787  \n",
       "5566     149230     259422     322298     350765  \n",
       "5567      84103     103233     111229     137500  \n",
       "5568     112821     142970     198935     182175  \n",
       "5569  154568954  175906726  215612863  244682756  "
      ]
     },
     "execution_count": 28,
     "metadata": {},
     "output_type": "execute_result"
    }
   ],
   "source": [
    "path_pib = 'https://github.com/alexlopespereira/curso_ciencia_dados2021/raw/master/data/originais/pib/pib_municipios.xlsx'\n",
    "df = pd.read_excel(path_pib, skiprows=3, skipfooter=1)"
   ]
  },
  {
   "cell_type": "code",
   "execution_count": 26,
   "metadata": {},
   "outputs": [
    {
     "data": {
      "text/html": [
       "<div>\n",
       "<style scoped>\n",
       "    .dataframe tbody tr th:only-of-type {\n",
       "        vertical-align: middle;\n",
       "    }\n",
       "\n",
       "    .dataframe tbody tr th {\n",
       "        vertical-align: top;\n",
       "    }\n",
       "\n",
       "    .dataframe thead th {\n",
       "        text-align: right;\n",
       "    }\n",
       "</style>\n",
       "<table border=\"1\" class=\"dataframe\">\n",
       "  <thead>\n",
       "    <tr style=\"text-align: right;\">\n",
       "      <th></th>\n",
       "      <th>Unnamed: 0</th>\n",
       "      <th>Unnamed: 1</th>\n",
       "      <th>Unnamed: 2</th>\n",
       "      <th>2007</th>\n",
       "      <th>2009</th>\n",
       "      <th>2011</th>\n",
       "      <th>2013</th>\n",
       "      <th>2015</th>\n",
       "      <th>2017</th>\n",
       "    </tr>\n",
       "  </thead>\n",
       "  <tbody>\n",
       "    <tr>\n",
       "      <th>0</th>\n",
       "      <td>MU</td>\n",
       "      <td>1100015.0</td>\n",
       "      <td>Alta Floresta D'Oeste (RO)</td>\n",
       "      <td>191364</td>\n",
       "      <td>256986</td>\n",
       "      <td>280510</td>\n",
       "      <td>341325.0</td>\n",
       "      <td>421300.0</td>\n",
       "      <td>498864.0</td>\n",
       "    </tr>\n",
       "    <tr>\n",
       "      <th>1</th>\n",
       "      <td>MU</td>\n",
       "      <td>1100023.0</td>\n",
       "      <td>Ariquemes (RO)</td>\n",
       "      <td>905203</td>\n",
       "      <td>1133095</td>\n",
       "      <td>1651885</td>\n",
       "      <td>1799853.0</td>\n",
       "      <td>2037799.0</td>\n",
       "      <td>2296074.0</td>\n",
       "    </tr>\n",
       "    <tr>\n",
       "      <th>2</th>\n",
       "      <td>MU</td>\n",
       "      <td>1100031.0</td>\n",
       "      <td>Cabixi (RO)</td>\n",
       "      <td>49166</td>\n",
       "      <td>69776</td>\n",
       "      <td>77217</td>\n",
       "      <td>96365.0</td>\n",
       "      <td>116565.0</td>\n",
       "      <td>138894.0</td>\n",
       "    </tr>\n",
       "    <tr>\n",
       "      <th>3</th>\n",
       "      <td>MU</td>\n",
       "      <td>1100049.0</td>\n",
       "      <td>Cacoal (RO)</td>\n",
       "      <td>814890</td>\n",
       "      <td>985479</td>\n",
       "      <td>1259024</td>\n",
       "      <td>1433254.0</td>\n",
       "      <td>1794478.0</td>\n",
       "      <td>2127523.0</td>\n",
       "    </tr>\n",
       "    <tr>\n",
       "      <th>4</th>\n",
       "      <td>MU</td>\n",
       "      <td>1100056.0</td>\n",
       "      <td>Cerejeiras (RO)</td>\n",
       "      <td>143270</td>\n",
       "      <td>190902</td>\n",
       "      <td>260142</td>\n",
       "      <td>353270.0</td>\n",
       "      <td>397736.0</td>\n",
       "      <td>448524.0</td>\n",
       "    </tr>\n",
       "    <tr>\n",
       "      <th>5</th>\n",
       "      <td>MU</td>\n",
       "      <td>1100064.0</td>\n",
       "      <td>Colorado do Oeste (RO)</td>\n",
       "      <td>137899</td>\n",
       "      <td>174168</td>\n",
       "      <td>206425</td>\n",
       "      <td>242767.0</td>\n",
       "      <td>285372.0</td>\n",
       "      <td>340047.0</td>\n",
       "    </tr>\n",
       "    <tr>\n",
       "      <th>6</th>\n",
       "      <td>MU</td>\n",
       "      <td>1100072.0</td>\n",
       "      <td>Corumbiara (RO)</td>\n",
       "      <td>72291</td>\n",
       "      <td>119226</td>\n",
       "      <td>145412</td>\n",
       "      <td>168681.0</td>\n",
       "      <td>190906.0</td>\n",
       "      <td>330393.0</td>\n",
       "    </tr>\n",
       "    <tr>\n",
       "      <th>7</th>\n",
       "      <td>MU</td>\n",
       "      <td>1100080.0</td>\n",
       "      <td>Costa Marques (RO)</td>\n",
       "      <td>74215</td>\n",
       "      <td>99854</td>\n",
       "      <td>120018</td>\n",
       "      <td>149739.0</td>\n",
       "      <td>187170.0</td>\n",
       "      <td>215992.0</td>\n",
       "    </tr>\n",
       "    <tr>\n",
       "      <th>8</th>\n",
       "      <td>MU</td>\n",
       "      <td>1100098.0</td>\n",
       "      <td>Espigão D'Oeste (RO)</td>\n",
       "      <td>220452</td>\n",
       "      <td>291491</td>\n",
       "      <td>347581</td>\n",
       "      <td>426546.0</td>\n",
       "      <td>483962.0</td>\n",
       "      <td>577982.0</td>\n",
       "    </tr>\n",
       "    <tr>\n",
       "      <th>9</th>\n",
       "      <td>MU</td>\n",
       "      <td>1100106.0</td>\n",
       "      <td>Guajará-Mirim (RO)</td>\n",
       "      <td>374116</td>\n",
       "      <td>521104</td>\n",
       "      <td>715386</td>\n",
       "      <td>605131.0</td>\n",
       "      <td>682458.0</td>\n",
       "      <td>804570.0</td>\n",
       "    </tr>\n",
       "  </tbody>\n",
       "</table>\n",
       "</div>"
      ],
      "text/plain": [
       "  Unnamed: 0  Unnamed: 1                  Unnamed: 2    2007     2009  \\\n",
       "0         MU   1100015.0  Alta Floresta D'Oeste (RO)  191364   256986   \n",
       "1         MU   1100023.0              Ariquemes (RO)  905203  1133095   \n",
       "2         MU   1100031.0                 Cabixi (RO)   49166    69776   \n",
       "3         MU   1100049.0                 Cacoal (RO)  814890   985479   \n",
       "4         MU   1100056.0             Cerejeiras (RO)  143270   190902   \n",
       "5         MU   1100064.0      Colorado do Oeste (RO)  137899   174168   \n",
       "6         MU   1100072.0             Corumbiara (RO)   72291   119226   \n",
       "7         MU   1100080.0          Costa Marques (RO)   74215    99854   \n",
       "8         MU   1100098.0        Espigão D'Oeste (RO)  220452   291491   \n",
       "9         MU   1100106.0          Guajará-Mirim (RO)  374116   521104   \n",
       "\n",
       "      2011       2013       2015       2017  \n",
       "0   280510   341325.0   421300.0   498864.0  \n",
       "1  1651885  1799853.0  2037799.0  2296074.0  \n",
       "2    77217    96365.0   116565.0   138894.0  \n",
       "3  1259024  1433254.0  1794478.0  2127523.0  \n",
       "4   260142   353270.0   397736.0   448524.0  \n",
       "5   206425   242767.0   285372.0   340047.0  \n",
       "6   145412   168681.0   190906.0   330393.0  \n",
       "7   120018   149739.0   187170.0   215992.0  \n",
       "8   347581   426546.0   483962.0   577982.0  \n",
       "9   715386   605131.0   682458.0   804570.0  "
      ]
     },
     "execution_count": 26,
     "metadata": {},
     "output_type": "execute_result"
    }
   ],
   "source": [
    "# Mostre os 10 primeiros registros da sua tabela com o método pd.DataFrame.head()\n",
    "df.head(10)"
   ]
  },
  {
   "cell_type": "code",
   "execution_count": null,
   "metadata": {
    "scrolled": false
   },
   "outputs": [],
   "source": [
    "# Mostre os 10 últimos registros da sua tabela com o método pd.DataFrame.tail()\n",
    "df.tail()"
   ]
  },
  {
   "cell_type": "code",
   "execution_count": 30,
   "metadata": {
    "scrolled": false
   },
   "outputs": [
    {
     "name": "stdout",
     "output_type": "stream",
     "text": [
      "<class 'pandas.core.frame.DataFrame'>\n",
      "RangeIndex: 5570 entries, 0 to 5569\n",
      "Data columns (total 9 columns):\n",
      " #   Column      Non-Null Count  Dtype \n",
      "---  ------      --------------  ----- \n",
      " 0   Unnamed: 0  5570 non-null   object\n",
      " 1   Unnamed: 1  5570 non-null   int64 \n",
      " 2   Unnamed: 2  5570 non-null   object\n",
      " 3   2007        5570 non-null   object\n",
      " 4   2009        5570 non-null   object\n",
      " 5   2011        5570 non-null   object\n",
      " 6   2013        5570 non-null   int64 \n",
      " 7   2015        5570 non-null   int64 \n",
      " 8   2017        5570 non-null   int64 \n",
      "dtypes: int64(4), object(5)\n",
      "memory usage: 391.8+ KB\n"
     ]
    }
   ],
   "source": [
    "# Vizualize os tipos dos dados desse dataframe utilizando o método pd.DataFrame.info()\n",
    "# Use esse método SEMPRE que alguma coisa não funcionar quando estiver \n",
    "# fazendo operaçoes que esperam algum tipo de dado específico numa coluna.\n",
    "# Por exemplo, é comum você tentar concatenar o conteúdo de duas colunas na forma de string\n",
    "# imaginando que as duas colunas já são string, quando na verdade alguma delas não são.\n",
    "# Outro exemplo de erro bastante comum é você tentar somar o valor de duas colunas quando\n",
    "# uma delas ou as duas não são números, mas strings.\n",
    "\n",
    "df.info()\n"
   ]
  },
  {
   "cell_type": "markdown",
   "metadata": {},
   "source": [
    "#### W4.2 Carregue o arquivo do índice de gini. Você pode escolher abrir do arquivo local ou diretamente da URL do github.\n",
    "#### Assegure-se de carregar os cabeçalhos corretamente e os valores numericos como float. Para isso, use os argumentos sep, skiprows, skipfooter, na_values, decimal e encoding='utf8'."
   ]
  },
  {
   "cell_type": "code",
   "execution_count": 43,
   "metadata": {},
   "outputs": [
    {
     "name": "stderr",
     "output_type": "stream",
     "text": [
      "<ipython-input-43-964c80c64420>:2: ParserWarning: Falling back to the 'python' engine because the 'c' engine does not support skipfooter; you can avoid this warning by specifying engine='python'.\n",
      "  pd.read_csv(path_gini, sep=\";\", skiprows=2, skipfooter=2, encoding='utf8', decimal=\",\")\n"
     ]
    },
    {
     "data": {
      "text/html": [
       "<div>\n",
       "<style scoped>\n",
       "    .dataframe tbody tr th:only-of-type {\n",
       "        vertical-align: middle;\n",
       "    }\n",
       "\n",
       "    .dataframe tbody tr th {\n",
       "        vertical-align: top;\n",
       "    }\n",
       "\n",
       "    .dataframe thead th {\n",
       "        text-align: right;\n",
       "    }\n",
       "</style>\n",
       "<table border=\"1\" class=\"dataframe\">\n",
       "  <thead>\n",
       "    <tr style=\"text-align: right;\">\n",
       "      <th></th>\n",
       "      <th>Município</th>\n",
       "      <th>1991</th>\n",
       "      <th>2000</th>\n",
       "      <th>2010</th>\n",
       "    </tr>\n",
       "  </thead>\n",
       "  <tbody>\n",
       "    <tr>\n",
       "      <th>0</th>\n",
       "      <td>110001 Alta Floresta D'Oeste</td>\n",
       "      <td>0.5983</td>\n",
       "      <td>0.5868</td>\n",
       "      <td>0.5893</td>\n",
       "    </tr>\n",
       "    <tr>\n",
       "      <th>1</th>\n",
       "      <td>110037 Alto Alegre dos Parecis</td>\n",
       "      <td>...</td>\n",
       "      <td>0.508</td>\n",
       "      <td>0.5491</td>\n",
       "    </tr>\n",
       "    <tr>\n",
       "      <th>2</th>\n",
       "      <td>110040 Alto Paraíso</td>\n",
       "      <td>...</td>\n",
       "      <td>0.6256</td>\n",
       "      <td>0.5417</td>\n",
       "    </tr>\n",
       "    <tr>\n",
       "      <th>3</th>\n",
       "      <td>110034 Alvorada D'Oeste</td>\n",
       "      <td>0.569</td>\n",
       "      <td>0.6534</td>\n",
       "      <td>0.5355</td>\n",
       "    </tr>\n",
       "    <tr>\n",
       "      <th>4</th>\n",
       "      <td>110002 Ariquemes</td>\n",
       "      <td>0.5827</td>\n",
       "      <td>0.5927</td>\n",
       "      <td>0.5496</td>\n",
       "    </tr>\n",
       "    <tr>\n",
       "      <th>...</th>\n",
       "      <td>...</td>\n",
       "      <td>...</td>\n",
       "      <td>...</td>\n",
       "      <td>...</td>\n",
       "    </tr>\n",
       "    <tr>\n",
       "      <th>5560</th>\n",
       "      <td>522200 Vianópolis</td>\n",
       "      <td>0.5622</td>\n",
       "      <td>0.6746</td>\n",
       "      <td>0.4672</td>\n",
       "    </tr>\n",
       "    <tr>\n",
       "      <th>5561</th>\n",
       "      <td>522205 Vicentinópolis</td>\n",
       "      <td>0.6308</td>\n",
       "      <td>0.5934</td>\n",
       "      <td>0.4824</td>\n",
       "    </tr>\n",
       "    <tr>\n",
       "      <th>5562</th>\n",
       "      <td>522220 Vila Boa</td>\n",
       "      <td>...</td>\n",
       "      <td>0.5308</td>\n",
       "      <td>0.4935</td>\n",
       "    </tr>\n",
       "    <tr>\n",
       "      <th>5563</th>\n",
       "      <td>522230 Vila Propício</td>\n",
       "      <td>...</td>\n",
       "      <td>0.5299</td>\n",
       "      <td>0.5240</td>\n",
       "    </tr>\n",
       "    <tr>\n",
       "      <th>5564</th>\n",
       "      <td>530010 Brasília</td>\n",
       "      <td>0.6203</td>\n",
       "      <td>0.6406</td>\n",
       "      <td>0.6370</td>\n",
       "    </tr>\n",
       "  </tbody>\n",
       "</table>\n",
       "<p>5565 rows × 4 columns</p>\n",
       "</div>"
      ],
      "text/plain": [
       "                           Município    1991    2000    2010\n",
       "0       110001 Alta Floresta D'Oeste  0.5983  0.5868  0.5893\n",
       "1     110037 Alto Alegre dos Parecis     ...   0.508  0.5491\n",
       "2                110040 Alto Paraíso     ...  0.6256  0.5417\n",
       "3            110034 Alvorada D'Oeste   0.569  0.6534  0.5355\n",
       "4                   110002 Ariquemes  0.5827  0.5927  0.5496\n",
       "...                              ...     ...     ...     ...\n",
       "5560               522200 Vianópolis  0.5622  0.6746  0.4672\n",
       "5561           522205 Vicentinópolis  0.6308  0.5934  0.4824\n",
       "5562                 522220 Vila Boa     ...  0.5308  0.4935\n",
       "5563            522230 Vila Propício     ...  0.5299  0.5240\n",
       "5564                 530010 Brasília  0.6203  0.6406  0.6370\n",
       "\n",
       "[5565 rows x 4 columns]"
      ]
     },
     "execution_count": 43,
     "metadata": {},
     "output_type": "execute_result"
    }
   ],
   "source": [
    "path_gini = 'https://github.com/alexlopespereira/curso_ciencia_dados2021/raw/master/data/originais/gini/ginibr.csv'\n",
    "pd.read_csv(path_gini, sep=\";\", skiprows=2, skipfooter=2, encoding='utf8', decimal=\",\")"
   ]
  },
  {
   "cell_type": "markdown",
   "metadata": {},
   "source": [
    "#### W4.3 Carregue o arquivo do dataset de morbidade disponibilizado nas bases de dados deste curso. Você pode escolher abrir do arquivo local ou diretamente da URL do github.\n",
    "#### Ajuste corretamente os argumentos sep e decimal. Assegure-se de que os dados numéricos foram carregados em formato numérico (int ou float). Use o método pd.DataFrame.info() para fazer esta verificação."
   ]
  },
  {
   "cell_type": "code",
   "execution_count": 53,
   "metadata": {},
   "outputs": [
    {
     "data": {
      "text/html": [
       "<div>\n",
       "<style scoped>\n",
       "    .dataframe tbody tr th:only-of-type {\n",
       "        vertical-align: middle;\n",
       "    }\n",
       "\n",
       "    .dataframe tbody tr th {\n",
       "        vertical-align: top;\n",
       "    }\n",
       "\n",
       "    .dataframe thead th {\n",
       "        text-align: right;\n",
       "    }\n",
       "</style>\n",
       "<table border=\"1\" class=\"dataframe\">\n",
       "  <thead>\n",
       "    <tr style=\"text-align: right;\">\n",
       "      <th></th>\n",
       "      <th>Município</th>\n",
       "      <th>cod_ibge6</th>\n",
       "      <th>mes</th>\n",
       "      <th>ano</th>\n",
       "      <th>mes_ano</th>\n",
       "      <th>Óbitos</th>\n",
       "    </tr>\n",
       "  </thead>\n",
       "  <tbody>\n",
       "    <tr>\n",
       "      <th>0</th>\n",
       "      <td>Alta Floresta D'Oeste</td>\n",
       "      <td>110001</td>\n",
       "      <td>Abr</td>\n",
       "      <td>2020</td>\n",
       "      <td>2020-04-01</td>\n",
       "      <td>8.0</td>\n",
       "    </tr>\n",
       "    <tr>\n",
       "      <th>1</th>\n",
       "      <td>Alto Alegre dos Parecis</td>\n",
       "      <td>110037</td>\n",
       "      <td>Abr</td>\n",
       "      <td>2020</td>\n",
       "      <td>2020-04-01</td>\n",
       "      <td>1.0</td>\n",
       "    </tr>\n",
       "    <tr>\n",
       "      <th>2</th>\n",
       "      <td>Alto Paraíso</td>\n",
       "      <td>110040</td>\n",
       "      <td>Abr</td>\n",
       "      <td>2020</td>\n",
       "      <td>2020-04-01</td>\n",
       "      <td>2.0</td>\n",
       "    </tr>\n",
       "    <tr>\n",
       "      <th>3</th>\n",
       "      <td>Alvorada D'Oeste</td>\n",
       "      <td>110034</td>\n",
       "      <td>Abr</td>\n",
       "      <td>2020</td>\n",
       "      <td>2020-04-01</td>\n",
       "      <td>1.0</td>\n",
       "    </tr>\n",
       "    <tr>\n",
       "      <th>4</th>\n",
       "      <td>Ariquemes</td>\n",
       "      <td>110002</td>\n",
       "      <td>Abr</td>\n",
       "      <td>2020</td>\n",
       "      <td>2020-04-01</td>\n",
       "      <td>10.0</td>\n",
       "    </tr>\n",
       "    <tr>\n",
       "      <th>...</th>\n",
       "      <td>...</td>\n",
       "      <td>...</td>\n",
       "      <td>...</td>\n",
       "      <td>...</td>\n",
       "      <td>...</td>\n",
       "      <td>...</td>\n",
       "    </tr>\n",
       "    <tr>\n",
       "      <th>33345</th>\n",
       "      <td>Vianópolis</td>\n",
       "      <td>522200</td>\n",
       "      <td>Jan</td>\n",
       "      <td>2020</td>\n",
       "      <td>2020-01-01</td>\n",
       "      <td>4.0</td>\n",
       "    </tr>\n",
       "    <tr>\n",
       "      <th>33346</th>\n",
       "      <td>Vicentinópolis</td>\n",
       "      <td>522205</td>\n",
       "      <td>Jan</td>\n",
       "      <td>2020</td>\n",
       "      <td>2020-01-01</td>\n",
       "      <td>1.0</td>\n",
       "    </tr>\n",
       "    <tr>\n",
       "      <th>33347</th>\n",
       "      <td>Vila Boa</td>\n",
       "      <td>522220</td>\n",
       "      <td>Jan</td>\n",
       "      <td>2020</td>\n",
       "      <td>2020-01-01</td>\n",
       "      <td>NaN</td>\n",
       "    </tr>\n",
       "    <tr>\n",
       "      <th>33348</th>\n",
       "      <td>Vila Propício</td>\n",
       "      <td>522230</td>\n",
       "      <td>Jan</td>\n",
       "      <td>2020</td>\n",
       "      <td>2020-01-01</td>\n",
       "      <td>NaN</td>\n",
       "    </tr>\n",
       "    <tr>\n",
       "      <th>33349</th>\n",
       "      <td>Brasília</td>\n",
       "      <td>530010</td>\n",
       "      <td>Jan</td>\n",
       "      <td>2020</td>\n",
       "      <td>2020-01-01</td>\n",
       "      <td>578.0</td>\n",
       "    </tr>\n",
       "  </tbody>\n",
       "</table>\n",
       "<p>33350 rows × 6 columns</p>\n",
       "</div>"
      ],
      "text/plain": [
       "                     Município  cod_ibge6  mes   ano     mes_ano  Óbitos\n",
       "0        Alta Floresta D'Oeste     110001  Abr  2020  2020-04-01     8.0\n",
       "1      Alto Alegre dos Parecis     110037  Abr  2020  2020-04-01     1.0\n",
       "2                 Alto Paraíso     110040  Abr  2020  2020-04-01     2.0\n",
       "3             Alvorada D'Oeste     110034  Abr  2020  2020-04-01     1.0\n",
       "4                    Ariquemes     110002  Abr  2020  2020-04-01    10.0\n",
       "...                        ...        ...  ...   ...         ...     ...\n",
       "33345               Vianópolis     522200  Jan  2020  2020-01-01     4.0\n",
       "33346           Vicentinópolis     522205  Jan  2020  2020-01-01     1.0\n",
       "33347                 Vila Boa     522220  Jan  2020  2020-01-01     NaN\n",
       "33348            Vila Propício     522230  Jan  2020  2020-01-01     NaN\n",
       "33349                 Brasília     530010  Jan  2020  2020-01-01   578.0\n",
       "\n",
       "[33350 rows x 6 columns]"
      ]
     },
     "execution_count": 53,
     "metadata": {},
     "output_type": "execute_result"
    }
   ],
   "source": [
    "path_morbidade = 'https://github.com/alexlopespereira/curso_ciencia_dados2021/raw/master/data/originais/morbidade/consolidado/morbidade_simplificado.csv'\n",
    "df = pd.read_csv(path_morbidade, sep=\";\", decimal=\",\", na_values='-')\n",
    "df"
   ]
  },
  {
   "cell_type": "markdown",
   "metadata": {},
   "source": [
    "### Descartando valores faltantes (NA ou NaN)"
   ]
  },
  {
   "cell_type": "markdown",
   "metadata": {},
   "source": [
    "#### W4.5 Remova os valores NA da series a seguir"
   ]
  },
  {
   "cell_type": "code",
   "execution_count": 54,
   "metadata": {},
   "outputs": [
    {
     "data": {
      "text/plain": [
       "0    1.0\n",
       "2    3.5\n",
       "4    7.0\n",
       "dtype: float64"
      ]
     },
     "execution_count": 54,
     "metadata": {},
     "output_type": "execute_result"
    }
   ],
   "source": [
    "from numpy import nan as NA\n",
    "# Considere a serie a seguir\n",
    "data = pd.Series([1, NA, 3.5, NA, 7])\n",
    "data.dropna()\n"
   ]
  },
  {
   "cell_type": "markdown",
   "metadata": {},
   "source": [
    "#### W4.6 Remova os itens duplicados do dataframe a seguir"
   ]
  },
  {
   "cell_type": "code",
   "execution_count": 56,
   "metadata": {},
   "outputs": [
    {
     "data": {
      "text/html": [
       "<div>\n",
       "<style scoped>\n",
       "    .dataframe tbody tr th:only-of-type {\n",
       "        vertical-align: middle;\n",
       "    }\n",
       "\n",
       "    .dataframe tbody tr th {\n",
       "        vertical-align: top;\n",
       "    }\n",
       "\n",
       "    .dataframe thead th {\n",
       "        text-align: right;\n",
       "    }\n",
       "</style>\n",
       "<table border=\"1\" class=\"dataframe\">\n",
       "  <thead>\n",
       "    <tr style=\"text-align: right;\">\n",
       "      <th></th>\n",
       "      <th>k1</th>\n",
       "      <th>k2</th>\n",
       "    </tr>\n",
       "  </thead>\n",
       "  <tbody>\n",
       "    <tr>\n",
       "      <th>0</th>\n",
       "      <td>one</td>\n",
       "      <td>1</td>\n",
       "    </tr>\n",
       "    <tr>\n",
       "      <th>1</th>\n",
       "      <td>two</td>\n",
       "      <td>1</td>\n",
       "    </tr>\n",
       "    <tr>\n",
       "      <th>2</th>\n",
       "      <td>one</td>\n",
       "      <td>2</td>\n",
       "    </tr>\n",
       "    <tr>\n",
       "      <th>3</th>\n",
       "      <td>two</td>\n",
       "      <td>3</td>\n",
       "    </tr>\n",
       "    <tr>\n",
       "      <th>4</th>\n",
       "      <td>one</td>\n",
       "      <td>3</td>\n",
       "    </tr>\n",
       "    <tr>\n",
       "      <th>5</th>\n",
       "      <td>two</td>\n",
       "      <td>4</td>\n",
       "    </tr>\n",
       "  </tbody>\n",
       "</table>\n",
       "</div>"
      ],
      "text/plain": [
       "    k1  k2\n",
       "0  one   1\n",
       "1  two   1\n",
       "2  one   2\n",
       "3  two   3\n",
       "4  one   3\n",
       "5  two   4"
      ]
     },
     "execution_count": 56,
     "metadata": {},
     "output_type": "execute_result"
    }
   ],
   "source": [
    "# Considere o seguinte dataframe\n",
    "data = pd.DataFrame({'k1': ['one', 'two'] * 3 + ['two'], 'k2': [1, 1, 2, 3, 3, 4, 4]})\n",
    "data.drop_duplicates()"
   ]
  },
  {
   "cell_type": "markdown",
   "metadata": {},
   "source": [
    "### Treinando Indexação Hierárquica"
   ]
  },
  {
   "cell_type": "code",
   "execution_count": 57,
   "metadata": {},
   "outputs": [
    {
     "data": {
      "text/plain": [
       "MultiIndex([('a', 1),\n",
       "            ('a', 2),\n",
       "            ('a', 3),\n",
       "            ('b', 1),\n",
       "            ('b', 3),\n",
       "            ('c', 1),\n",
       "            ('c', 2),\n",
       "            ('d', 2),\n",
       "            ('d', 3)],\n",
       "           )"
      ]
     },
     "execution_count": 57,
     "metadata": {},
     "output_type": "execute_result"
    }
   ],
   "source": [
    "# Considere a seguinte Serie\n",
    "data = pd.Series(np.random.randn(9), index=[['a', 'a', 'a', 'b', 'b', 'c', 'c', 'd', 'd'],\n",
    "                                            [1, 2, 3, 1, 3, 1, 2, 2, 3]])\n",
    "# Mostre o indice hierárquico\n",
    "data.index"
   ]
  },
  {
   "cell_type": "markdown",
   "metadata": {},
   "source": [
    "#### W4.7 Considerando a serie data, definida na célula anterior, faça um filtro com uma lista de elementos do 1o nível do índice"
   ]
  },
  {
   "cell_type": "code",
   "execution_count": 58,
   "metadata": {},
   "outputs": [
    {
     "data": {
      "text/plain": [
       "a  1    0.704635\n",
       "   2   -0.814005\n",
       "   3   -2.029690\n",
       "b  1   -0.340242\n",
       "   3    0.125054\n",
       "dtype: float64"
      ]
     },
     "execution_count": 58,
     "metadata": {},
     "output_type": "execute_result"
    }
   ],
   "source": [
    "# Faça aqui\n",
    "data[['a', 'b']]"
   ]
  },
  {
   "cell_type": "markdown",
   "metadata": {},
   "source": [
    "#### W4.8 Considerando a serie data, faça um filtro no 2o Nível (mais interno)"
   ]
  },
  {
   "cell_type": "code",
   "execution_count": 59,
   "metadata": {},
   "outputs": [
    {
     "data": {
      "text/plain": [
       "a   -0.814005\n",
       "c    1.320533\n",
       "d    0.168697\n",
       "dtype: float64"
      ]
     },
     "execution_count": 59,
     "metadata": {},
     "output_type": "execute_result"
    }
   ],
   "source": [
    "# Considere o seguinte dataframe\n",
    "data[:, 2]"
   ]
  },
  {
   "cell_type": "code",
   "execution_count": null,
   "metadata": {},
   "outputs": [],
   "source": []
  }
 ],
 "metadata": {
  "kernelspec": {
   "display_name": "Python 3",
   "language": "python",
   "name": "python3"
  },
  "language_info": {
   "codemirror_mode": {
    "name": "ipython",
    "version": 3
   },
   "file_extension": ".py",
   "mimetype": "text/x-python",
   "name": "python",
   "nbconvert_exporter": "python",
   "pygments_lexer": "ipython3",
   "version": "3.8.3"
  }
 },
 "nbformat": 4,
 "nbformat_minor": 4
}
