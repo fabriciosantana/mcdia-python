{
 "cells": [
  {
   "cell_type": "markdown",
   "metadata": {},
   "source": [
    "# Aula 1 - Warm-up de sintaxe da linguagem Python"
   ]
  },
  {
   "cell_type": "markdown",
   "metadata": {},
   "source": [
    "### Treinando sentenças com if e else"
   ]
  },
  {
   "cell_type": "markdown",
   "metadata": {},
   "source": [
    "#### W1.0 Traduza o seguinte pseudo-código para a linguagem python"
   ]
  },
  {
   "cell_type": "code",
   "execution_count": null,
   "metadata": {},
   "outputs": [],
   "source": [
    "# se 17*17 > 400 entao\n",
    "#    imprima o texto \"Condição verdadeira\"\n",
    "# se não\n",
    "#    imprima o texto \"Condição falsa\""
   ]
  },
  {
   "cell_type": "code",
   "execution_count": null,
   "metadata": {},
   "outputs": [],
   "source": [
    "# Faça aqui\n"
   ]
  },
  {
   "cell_type": "markdown",
   "metadata": {},
   "source": [
    "### Treinando conversão de Tipos\n",
    "#### W1.2 Converta as seguintes variáveis para inteiro e realize as operações solicitadas a seguir."
   ]
  },
  {
   "cell_type": "code",
   "execution_count": null,
   "metadata": {},
   "outputs": [],
   "source": [
    "a = \"5\"\n",
    "b = \"6\"\n"
   ]
  },
  {
   "cell_type": "code",
   "execution_count": null,
   "metadata": {},
   "outputs": [],
   "source": [
    "# Multiplique os dois numeros que você converteu para inteiros na célula acima\n"
   ]
  },
  {
   "cell_type": "code",
   "execution_count": null,
   "metadata": {},
   "outputs": [],
   "source": [
    "# Converta a soma da célula acima para float\n"
   ]
  },
  {
   "cell_type": "markdown",
   "metadata": {},
   "source": [
    "### Treinando Laços (loops) do tipo while"
   ]
  },
  {
   "cell_type": "code",
   "execution_count": null,
   "metadata": {},
   "outputs": [],
   "source": [
    "# Considere a lista a a seguir:\n",
    "lista_str = [\"234sewerawe\", \"abasdreera\", \"rtydeaera\", \"agwdeaer\", \"nsedert\", \n",
    "         \"ab23ea\", \"qycde\", \"ajyd\", \"akm\", \"wb\", \"r\"]"
   ]
  },
  {
   "cell_type": "markdown",
   "metadata": {},
   "source": [
    "#### W1.3 Usando um laço do tipo while, percorra a lista_str acima deixando as strings em maiúsculo desde o primeiro até o 4o elemento desta lista (ou seja, elemento de índice 3).\n"
   ]
  },
  {
   "cell_type": "code",
   "execution_count": null,
   "metadata": {},
   "outputs": [],
   "source": [
    "# Faça aqui\n"
   ]
  },
  {
   "cell_type": "markdown",
   "metadata": {},
   "source": [
    "#### W1.4 Usando um laço do tipo while, percorra a lista_str acima excluindo os elementos da lista que terminam com vogal\n",
    "#### Dica: teste se um caracter é uma vogal assim: charac in [\"a\", \"b\", \"c\", \"d\", \"e\"]\n",
    "\n"
   ]
  },
  {
   "cell_type": "code",
   "execution_count": null,
   "metadata": {},
   "outputs": [],
   "source": [
    "# Faça aqui\n"
   ]
  },
  {
   "cell_type": "markdown",
   "metadata": {},
   "source": [
    "#### W1.5 Usando um laço do tipo while, percorra a lista_str acima excluindo os elementos da lista que não terminam com vogal\n",
    "#### Dica: teste se um caracter é uma vogal assim: charac in [\"a\", \"b\", \"c\", \"d\", \"e\"]\n",
    "\n"
   ]
  },
  {
   "cell_type": "code",
   "execution_count": null,
   "metadata": {},
   "outputs": [],
   "source": [
    "# Faça aqui\n"
   ]
  },
  {
   "cell_type": "markdown",
   "metadata": {},
   "source": [
    "### Treinando Laços (loops) do tipo for"
   ]
  },
  {
   "cell_type": "code",
   "execution_count": null,
   "metadata": {},
   "outputs": [],
   "source": [
    "# Considere a lista a a seguir:\n",
    "lista_str = [\"234sewerawe\", \"abasdreera\", \"rtydeaera\", \"agwdeaer\", \"nsedert\", \n",
    "         \"ab23ea\", \"qycde\", \"ajyd\", \"akm\", \"wb\", \"r\"]"
   ]
  },
  {
   "cell_type": "markdown",
   "metadata": {},
   "source": [
    "#### W1.6 Repita o exercício W1.3 mas dessa vez usando um laço do tipo for\n",
    "\n"
   ]
  },
  {
   "cell_type": "code",
   "execution_count": null,
   "metadata": {},
   "outputs": [],
   "source": [
    "# Faça aqui\n"
   ]
  },
  {
   "cell_type": "markdown",
   "metadata": {},
   "source": [
    "#### W1.7 Repita o exercício W1.4 mas dessa vez usando um laço do tipo for\n",
    "\n"
   ]
  },
  {
   "cell_type": "code",
   "execution_count": null,
   "metadata": {},
   "outputs": [],
   "source": [
    "# Faça aqui\n"
   ]
  },
  {
   "cell_type": "markdown",
   "metadata": {},
   "source": [
    "#### W1.8 Repita o exercício W1.5 mas dessa vez usando um laço do tipo for\n",
    "\n"
   ]
  },
  {
   "cell_type": "code",
   "execution_count": null,
   "metadata": {},
   "outputs": [],
   "source": [
    "# Faça aqui\n"
   ]
  },
  {
   "cell_type": "markdown",
   "metadata": {},
   "source": [
    "### Formando uma string"
   ]
  },
  {
   "cell_type": "markdown",
   "metadata": {},
   "source": [
    "#### W1.9 Crie uma string genérica (parametrizável) que seja capaz de gerar a string apresentada abaixo"
   ]
  },
  {
   "cell_type": "code",
   "execution_count": null,
   "metadata": {},
   "outputs": [],
   "source": [
    "# Crie uma string parametrizável que atenda este exemplo: # \"a=6, b=9, a+b=15, a*b=54\"\n",
    "\n",
    "# Aplique a parametrização para os valores:\n",
    "# a=100 e b=80\n",
    "\n",
    "\n",
    "# a=700 e b=860\n"
   ]
  },
  {
   "cell_type": "markdown",
   "metadata": {},
   "source": [
    "# Estrutura de Dados em Python"
   ]
  },
  {
   "cell_type": "markdown",
   "metadata": {},
   "source": [
    "### Treinando conceitos sobre listas em python"
   ]
  },
  {
   "cell_type": "markdown",
   "metadata": {},
   "source": [
    "#### W1.10 Crie as listas solicitadas a seguir"
   ]
  },
  {
   "cell_type": "code",
   "execution_count": null,
   "metadata": {},
   "outputs": [],
   "source": [
    "# 1) Crie uma lista de números inteiros\n",
    "\n",
    "# 2) Crie uma lista de booleanos\n",
    "\n",
    "# 3) Crie uma lista de strings\n",
    "\n",
    "\n",
    "\n"
   ]
  },
  {
   "cell_type": "markdown",
   "metadata": {},
   "source": [
    "### Slicing (fatiar)\n",
    "#### W1.11 Selecione os elementos da lista5 especificados a seguir"
   ]
  },
  {
   "cell_type": "code",
   "execution_count": null,
   "metadata": {},
   "outputs": [],
   "source": [
    "# Considere a seguinte lista\n",
    "lista5 = [\"awerr\", \"aa\", \"sssaere\", False, True, None, 9., 0., 9., 104, 20, 1]\n",
    "# 1) Retorne o primeiro elemento da lista\n",
    "\n",
    "# 2) Retorne o último elemento da lista\n",
    "\n",
    "# 3) Retorne os 3 ultimos elementos da lista\n",
    "\n",
    "# 4) Retorne elementos espaçados a cada 3 elementos, a partir do índice 0\n",
    "\n",
    "# 5) Retorne a lista na ordem inversa\n",
    "\n"
   ]
  },
  {
   "cell_type": "markdown",
   "metadata": {},
   "source": [
    "#### W1.12 Faça um código python para encontrar os elementos de uma lista de strings cujo tamanho seja maior que 3 caracteres e os dois últimos sejam iguais."
   ]
  },
  {
   "cell_type": "code",
   "execution_count": null,
   "metadata": {},
   "outputs": [],
   "source": [
    "lista = [\"awerr\", \"aa\", \"awyt\", \"g\", \"sssaeee\"]\n",
    "# Faça aqui\n",
    "\n"
   ]
  },
  {
   "cell_type": "markdown",
   "metadata": {},
   "source": [
    "#### W1.13 Usando um loop do tipo for encontre a interseção entre duas listas"
   ]
  },
  {
   "cell_type": "code",
   "execution_count": null,
   "metadata": {},
   "outputs": [],
   "source": [
    "lista1 = [\"awerr\", \"aa\", \"awyt\", \"g\", \"sssaere\"]\n",
    "lista2 = [\"awerr\", \"aa\", \"sssaere\", \"aabb\", \"qwerttt\", \"12345\"]\n",
    "\n",
    "# Faça aqui\n",
    "\n"
   ]
  },
  {
   "cell_type": "markdown",
   "metadata": {},
   "source": [
    "#### W1.14 Usando um loop do tipo for encontre os elementos que estão na lista1 mas não estão na lista 2."
   ]
  },
  {
   "cell_type": "code",
   "execution_count": null,
   "metadata": {},
   "outputs": [],
   "source": [
    "lista1 = [\"awerr\", \"aa\", \"awyt\", \"g\", \"sssaere\"]\n",
    "lista2 = [\"awerr\", \"aa\", \"sssaere\", \"aabb\", \"qwerttt\", \"12345\"]\n",
    "# Faça aqui\n",
    "\n"
   ]
  },
  {
   "cell_type": "markdown",
   "metadata": {},
   "source": [
    "#### W1.15 Usando um loop do tipo for encontre os elementos que não estão na intersecção das duas listas."
   ]
  },
  {
   "cell_type": "code",
   "execution_count": null,
   "metadata": {},
   "outputs": [],
   "source": [
    "lista1 = [\"awerr\", \"aa\", \"awyt\", \"g\", \"sssaere\"]\n",
    "lista2 = [\"awerr\", \"aa\", \"sssaere\", \"aabb\", \"qwerttt\", \"12345\"]\n",
    "# Faça aqui\n",
    "\n"
   ]
  },
  {
   "cell_type": "markdown",
   "metadata": {},
   "source": [
    "#### W1.16 Crie código python para inverter a ordem de duas palavras que aparecem em frases do tipo: \"pera e banana\""
   ]
  },
  {
   "cell_type": "code",
   "execution_count": null,
   "metadata": {},
   "outputs": [],
   "source": [
    "# Exemplo: para a entrada \"pera e banana\", o resultado esperado é \"banana e pera\"\n",
    "frase = \"pera e banana\"\n",
    "\n",
    "\n"
   ]
  },
  {
   "cell_type": "markdown",
   "metadata": {},
   "source": [
    "#### W1.17 Encontre a mediana de uma lista de numeros inteiros.\n",
    "#### Para calcular a mediana, ordene a lista e retorne o elemento do centro. Se a quantidade de elementos for par, retorne a média dos dois elementos do centro."
   ]
  },
  {
   "cell_type": "code",
   "execution_count": null,
   "metadata": {},
   "outputs": [],
   "source": [
    "lista3 = [9, 0, 9, 8, 20, 4, 7, 6, 8, 22, 0, 50, 104, 20, 1]\n",
    "lista4 = [9, 0, 9, 8, 20, 4, 7, 6, 8, 22, 0, 50, 104, 20]\n",
    "# Calcule a mediana das listas lista3 e lista4\n"
   ]
  },
  {
   "cell_type": "markdown",
   "metadata": {},
   "source": [
    "### Treinando conceitos de dicionário (dict) em python"
   ]
  },
  {
   "cell_type": "markdown",
   "metadata": {},
   "source": [
    "#### W1.18 Criar um dicionário que represente o conteúdo da tabela abaixo"
   ]
  },
  {
   "cell_type": "markdown",
   "metadata": {},
   "source": [
    "| Nome       | Endereço     | Telefone     |\n",
    "| :------------- | :----------: | -----------: |\n",
    "|  Jose da Silva | Rua 2, n. 39   | 119865563    |"
   ]
  },
  {
   "cell_type": "code",
   "execution_count": 1,
   "metadata": {},
   "outputs": [],
   "source": [
    "# Faça aqui\n"
   ]
  },
  {
   "cell_type": "markdown",
   "metadata": {},
   "source": [
    "#### W1.19 Jose da Silva mudou seu número de telefone para 1187662330. Altere este valor no dicionário que você acabou de criar"
   ]
  },
  {
   "cell_type": "code",
   "execution_count": 2,
   "metadata": {},
   "outputs": [],
   "source": [
    "# Faça aqui\n"
   ]
  },
  {
   "cell_type": "markdown",
   "metadata": {},
   "source": [
    "#### W1.20 Crie um atributo CPF no dicionário da célula acima e adicione o CPF do Jose da Silva: 495.152.344-90"
   ]
  },
  {
   "cell_type": "code",
   "execution_count": 3,
   "metadata": {},
   "outputs": [],
   "source": [
    "# Faça aqui\n"
   ]
  },
  {
   "cell_type": "markdown",
   "metadata": {},
   "source": [
    "#### W1.21 Remova o atributo Endereço desse dicionário"
   ]
  },
  {
   "cell_type": "code",
   "execution_count": 4,
   "metadata": {},
   "outputs": [],
   "source": [
    "# Faça aqui\n"
   ]
  },
  {
   "cell_type": "markdown",
   "metadata": {},
   "source": [
    "#### W1.22 Criar uma lista de dicionários que represente o conteúdo da tabela abaixo"
   ]
  },
  {
   "cell_type": "markdown",
   "metadata": {},
   "source": [
    "| Nome       | Endereço     | Telefone     | CPF |\n",
    "| :------------- | :----------: | -----------: | -----------: |\n",
    "|  Jose da Silva | Rua 2, n. 39   | 119865563    | 495.152.344-90\n",
    "|  Roberto da Araujo | Av 2, n. 2010   | 389912353    | 755.223.432-10\n",
    "|  Maria Almeida | Rua Jau, n. 309   | 139845162    | 131.223.415-12\n",
    "|  Joaquim Pereira | Av Sete de Setembro, n. 5240   | 329912633    | 456.214.616-67"
   ]
  },
  {
   "cell_type": "code",
   "execution_count": 5,
   "metadata": {},
   "outputs": [],
   "source": [
    "# Faça aqui\n"
   ]
  },
  {
   "cell_type": "markdown",
   "metadata": {},
   "source": [
    "#### W1.23 Considerando a lista de dicionarios do exercicio anterior, remova o dicionário do Jose da Silva desta lista."
   ]
  },
  {
   "cell_type": "code",
   "execution_count": 6,
   "metadata": {},
   "outputs": [],
   "source": [
    "# Faça aqui\n"
   ]
  },
  {
   "cell_type": "markdown",
   "metadata": {},
   "source": [
    "#### W1.24 Considerando a lista de dicionarios do exercicio anterior, usando um loop, remova todos os telefones desta lista de dicionários\n"
   ]
  },
  {
   "cell_type": "code",
   "execution_count": 7,
   "metadata": {},
   "outputs": [],
   "source": [
    "# Faça aqui\n"
   ]
  },
  {
   "cell_type": "markdown",
   "metadata": {},
   "source": [
    "## Treinando funções"
   ]
  },
  {
   "cell_type": "markdown",
   "metadata": {},
   "source": [
    "#### W1.25 Escreva uma função para calcular o máximo de dois numeros"
   ]
  },
  {
   "cell_type": "code",
   "execution_count": null,
   "metadata": {},
   "outputs": [],
   "source": [
    "def maximo(a, b):\n",
    "    #faca aqui\n",
    "    #retorne o valor maximo entre a e b\n",
    "\n",
    "\n",
    "print(maximo(5, -3))\n",
    "print(maximo(-5, -3))\n"
   ]
  },
  {
   "cell_type": "markdown",
   "metadata": {},
   "source": [
    "#### W1.26 Escreva uma função para calcular a velocidade de um objeto dado a distancia percorrida e o tempo. Considere as unidades de distância e tempo sendo respectivamente Km e hora."
   ]
  },
  {
   "cell_type": "code",
   "execution_count": null,
   "metadata": {},
   "outputs": [],
   "source": [
    "def velocidade(distancia, tempo):\n",
    "    #faca aqui\n",
    "    #retorne a velocidade do objeto\n",
    "\n",
    "\n",
    "print(velocidade(55, 0.5))\n"
   ]
  },
  {
   "cell_type": "markdown",
   "metadata": {},
   "source": [
    "#### W1.27 Escreva uma função para determinar se um objeto extrapolou um determinado limite de velocidade. O limite de velocidade deve ser parametrizável (um argumento da função). A função deve retornar True se o limite for excedido, e retornar False caso contrário."
   ]
  },
  {
   "cell_type": "code",
   "execution_count": null,
   "metadata": {},
   "outputs": [],
   "source": [
    "#faca aqui\n",
    "\n",
    "\n"
   ]
  },
  {
   "cell_type": "markdown",
   "metadata": {},
   "source": [
    "### Erros de Sintaxe"
   ]
  },
  {
   "cell_type": "markdown",
   "metadata": {},
   "source": [
    "#### W1.28 Corrija os erros de sintaxe das células abaixo"
   ]
  },
  {
   "cell_type": "code",
   "execution_count": null,
   "metadata": {},
   "outputs": [],
   "source": [
    "if 3 > 1\n",
    "    print(\"True\")\n",
    "else\n",
    "    print(\"False\")"
   ]
  },
  {
   "cell_type": "code",
   "execution_count": null,
   "metadata": {},
   "outputs": [],
   "source": [
    "a = (3+b)*2)\n",
    "b = 4"
   ]
  },
  {
   "cell_type": "code",
   "execution_count": null,
   "metadata": {},
   "outputs": [],
   "source": [
    "print('where is jonh's car')"
   ]
  },
  {
   "cell_type": "code",
   "execution_count": null,
   "metadata": {},
   "outputs": [],
   "source": [
    "if True:\n",
    "print(\"Isso sempre é impresso.\")"
   ]
  },
  {
   "cell_type": "markdown",
   "metadata": {},
   "source": [
    "### Erros Runtime"
   ]
  },
  {
   "cell_type": "markdown",
   "metadata": {},
   "source": [
    "#### W1.29 Corrija os erros do tipo Runtime abaixo"
   ]
  },
  {
   "cell_type": "code",
   "execution_count": null,
   "metadata": {},
   "outputs": [],
   "source": [
    "# Efetuar a divisão a seguir\n",
    "10/\"5\" "
   ]
  },
  {
   "cell_type": "code",
   "execution_count": null,
   "metadata": {},
   "outputs": [],
   "source": [
    "c = [1, 2, 3]\n",
    "# Imprimir o ultimo elemento da lista c\n",
    "print(c[3]) "
   ]
  },
  {
   "cell_type": "code",
   "execution_count": null,
   "metadata": {},
   "outputs": [],
   "source": [
    "l = [{\"nome\": \"Joao\", \"telefone\": 9917363}, {\"nome\": \"Ana\", \"telefone\": 9023633},\n",
    "    {\"nome\": \"Roberto\", \"telefone\": 9937321}, {\"none\": \"Maria\", \"telefome\": 92736213}]\n",
    "# imprimir o valor do telefone e do nome do ultimo elmento da lista de dicionários\n",
    "print(l[-1]['telefone'], l[-1]['nome'])"
   ]
  },
  {
   "cell_type": "markdown",
   "metadata": {},
   "source": [
    "### Erros de Lógica"
   ]
  },
  {
   "cell_type": "markdown",
   "metadata": {},
   "source": [
    "#### W1.30 Corrija os erros de lógica das células abaixo"
   ]
  },
  {
   "cell_type": "code",
   "execution_count": null,
   "metadata": {},
   "outputs": [],
   "source": [
    "a = \"10\"\n",
    "if a == 10:\n",
    "    print(f\"{a} é igual a 10\")\n",
    "else:\n",
    "    print(f\"{a} é diferente de 10\")\n",
    "        "
   ]
  },
  {
   "cell_type": "code",
   "execution_count": null,
   "metadata": {},
   "outputs": [],
   "source": [
    "l = [\"awerr\", \"aab\", \"sssaere\", \"aabb\", \"qwerttt\", \"12345\"]\n",
    "# Código para imprimir os elementos da lista l cujo tamanho seja maior que 3\n",
    "for x in l[1:]:\n",
    "    if len(x) > 3:\n",
    "        print(x)"
   ]
  }
 ],
 "metadata": {
  "kernelspec": {
   "display_name": "Python 3",
   "language": "python",
   "name": "python3"
  },
  "language_info": {
   "codemirror_mode": {
    "name": "ipython",
    "version": 3
   },
   "file_extension": ".py",
   "mimetype": "text/x-python",
   "name": "python",
   "nbconvert_exporter": "python",
   "pygments_lexer": "ipython3",
   "version": "3.8.3"
  }
 },
 "nbformat": 4,
 "nbformat_minor": 4
}
