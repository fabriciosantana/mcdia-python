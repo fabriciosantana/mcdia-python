{
 "cells": [
  {
   "cell_type": "markdown",
   "metadata": {},
   "source": [
    "# Aula 1 - Warm-up de sintaxe da linguagem Python"
   ]
  },
  {
   "cell_type": "markdown",
   "metadata": {},
   "source": [
    "### Treinando sentenças com if e else"
   ]
  },
  {
   "cell_type": "markdown",
   "metadata": {},
   "source": [
    "#### W1.0 Traduza o seguinte pseudo-código para a linguagem python"
   ]
  },
  {
   "cell_type": "code",
   "execution_count": null,
   "metadata": {},
   "outputs": [],
   "source": [
    "# se 17*17 > 400 entao\n",
    "#    imprima o texto \"Condição verdadeira\"\n",
    "# se não\n",
    "#    imprima o texto \"Condição falsa\""
   ]
  },
  {
   "cell_type": "code",
   "execution_count": null,
   "metadata": {},
   "outputs": [],
   "source": [
    "# Faça aqui\n",
    "if 17*17 > 400:\n",
    "    print(\"Condição verdadeira\")\n",
    "else:\n",
    "    print(\"Condição falsa\")"
   ]
  },
  {
   "cell_type": "markdown",
   "metadata": {},
   "source": [
    "### Treinando conversão de Tipos\n",
    "#### W1.2 Converta as seguintes variáveis para inteiro e realize as operações solicitadas a seguir."
   ]
  },
  {
   "cell_type": "code",
   "execution_count": null,
   "metadata": {},
   "outputs": [],
   "source": [
    "a = \"5\"\n",
    "b = \"6\"\n",
    "a_int = int(a)\n",
    "b_int = int(b)"
   ]
  },
  {
   "cell_type": "code",
   "execution_count": null,
   "metadata": {},
   "outputs": [],
   "source": [
    "# Multiplique os dois numeros que você converteu para inteiros na célula acima\n",
    "a_int * b_int"
   ]
  },
  {
   "cell_type": "code",
   "execution_count": null,
   "metadata": {},
   "outputs": [],
   "source": [
    "# Converta a soma da célula acima para float\n",
    "float(a_int + b_int)"
   ]
  },
  {
   "cell_type": "markdown",
   "metadata": {},
   "source": [
    "### Treinando Laços (loops) do tipo while"
   ]
  },
  {
   "cell_type": "code",
   "execution_count": 2,
   "metadata": {},
   "outputs": [],
   "source": [
    "# Considere a lista a a seguir:\n",
    "lista_str = [\"234sewerawe\", \"abasdreera\", \"rtydeaera\", \"agwdeaer\", \"nsedert\", \n",
    "         \"ab23ea\", \"qycde\", \"ajyd\", \"akm\", \"wb\", \"r\"]"
   ]
  },
  {
   "cell_type": "markdown",
   "metadata": {},
   "source": [
    "#### W1.3 Usando um laço do tipo while, percorra a lista_str acima deixando as strings em maiúsculo desde o primeiro até o 4o elemento desta lista (ou seja, elemento de índice 3).\n"
   ]
  },
  {
   "cell_type": "code",
   "execution_count": 3,
   "metadata": {},
   "outputs": [
    {
     "name": "stdout",
     "output_type": "stream",
     "text": [
      "['234SEWERAWE', 'ABASDREERA', 'RTYDEAERA', 'AGWDEAER', 'nsedert', 'ab23ea', 'qycde', 'ajyd', 'akm', 'wb', 'r']\n"
     ]
    }
   ],
   "source": [
    "# Faça aqui\n",
    "n = 0\n",
    "while n < len(lista_str):\n",
    "    if n == 4:\n",
    "        break\n",
    "    lista_str[n] = lista_str[n].upper()\n",
    "    n = n + 1\n",
    "\n",
    "print(lista_str)"
   ]
  },
  {
   "cell_type": "markdown",
   "metadata": {},
   "source": [
    "#### W1.4 Usando um laço do tipo while, percorra a lista_str acima excluindo os elementos da lista que terminam com vogal\n",
    "#### Dica: teste se um caracter é uma vogal assim: charac in [\"a\", \"b\", \"c\", \"d\", \"e\"]\n",
    "\n"
   ]
  },
  {
   "cell_type": "code",
   "execution_count": 5,
   "metadata": {},
   "outputs": [
    {
     "name": "stdout",
     "output_type": "stream",
     "text": [
      "['AGWDEAER', 'nsedert', 'ajyd', 'akm', 'wb', 'r']\n"
     ]
    }
   ],
   "source": [
    "# Faça aqui\n",
    "result = []\n",
    "n = 0\n",
    "while n < len(lista_str):\n",
    "    if lista_str[n][-1].lower() not in [\"a\", \"e\", \"i\", \"o\", \"u\"]:\n",
    "        result.append(lista_str[n])\n",
    "    n = n + 1\n",
    "print(result)"
   ]
  },
  {
   "cell_type": "markdown",
   "metadata": {},
   "source": [
    "#### W1.5 Usando um laço do tipo while, percorra a lista_str acima excluindo os elementos da lista que não terminam com vogal\n",
    "#### Dica: teste se um caracter é uma vogal assim: charac in [\"a\", \"b\", \"c\", \"d\", \"e\"]\n",
    "\n"
   ]
  },
  {
   "cell_type": "code",
   "execution_count": 6,
   "metadata": {},
   "outputs": [
    {
     "name": "stdout",
     "output_type": "stream",
     "text": [
      "['234SEWERAWE', 'ABASDREERA', 'RTYDEAERA', 'ab23ea', 'qycde']\n"
     ]
    }
   ],
   "source": [
    "# Faça aqui\n",
    "result = []\n",
    "n = 0\n",
    "while n < len(lista_str):\n",
    "    if lista_str[n][-1].lower() in [\"a\", \"e\", \"i\", \"o\", \"u\"]:\n",
    "        result.append(lista_str[n])\n",
    "    n = n + 1\n",
    "print(result)"
   ]
  },
  {
   "cell_type": "markdown",
   "metadata": {},
   "source": [
    "### Treinando Laços (loops) do tipo for"
   ]
  },
  {
   "cell_type": "code",
   "execution_count": null,
   "metadata": {},
   "outputs": [],
   "source": [
    "# Considere a lista a a seguir:\n",
    "lista_str = [\"234sewerawe\", \"abasdreera\", \"rtydeaera\", \"agwdeaer\", \"nsedert\", \n",
    "         \"ab23ea\", \"qycde\", \"ajyd\", \"akm\", \"wb\", \"r\"]"
   ]
  },
  {
   "cell_type": "markdown",
   "metadata": {},
   "source": [
    "#### W1.6 Repita o exercício W1.3 mas dessa vez usando um laço do tipo for\n",
    "\n"
   ]
  },
  {
   "cell_type": "code",
   "execution_count": 15,
   "metadata": {},
   "outputs": [
    {
     "name": "stdout",
     "output_type": "stream",
     "text": [
      "['234SEWERAWE', 'ABASDREERA', 'RTYDEAERA', 'AGWDEAER', 'nsedert', 'ab23ea', 'qycde', 'ajyd', 'akm', 'wb', 'r']\n"
     ]
    }
   ],
   "source": [
    "n = 0\n",
    "for n in range(0,len(lista_str)):\n",
    "    if n == 4:\n",
    "        break\n",
    "    lista_str[n] = lista_str[n].upper()\n",
    "\n",
    "print(lista_str)"
   ]
  },
  {
   "cell_type": "markdown",
   "metadata": {},
   "source": [
    "#### W1.7 Repita o exercício W1.4 mas dessa vez usando um laço do tipo for\n",
    "\n"
   ]
  },
  {
   "cell_type": "code",
   "execution_count": 13,
   "metadata": {},
   "outputs": [
    {
     "name": "stdout",
     "output_type": "stream",
     "text": [
      "['AGWDEAER', 'nsedert', 'ajyd', 'akm', 'wb', 'r']\n"
     ]
    }
   ],
   "source": [
    "# Faça aqui\n",
    "result = []\n",
    "for s in lista_str:\n",
    "    if s[-1].lower() not in [\"a\", \"e\", \"i\", \"o\", \"u\"]:\n",
    "        result.append(s)\n",
    "print(result)"
   ]
  },
  {
   "cell_type": "markdown",
   "metadata": {},
   "source": [
    "#### W1.8 Repita o exercício W1.5 mas dessa vez usando um laço do tipo for\n",
    "\n"
   ]
  },
  {
   "cell_type": "code",
   "execution_count": 16,
   "metadata": {},
   "outputs": [
    {
     "name": "stdout",
     "output_type": "stream",
     "text": [
      "['234SEWERAWE', 'ABASDREERA', 'RTYDEAERA', 'ab23ea', 'qycde']\n"
     ]
    }
   ],
   "source": [
    "# Faça aqui\n",
    "result = []\n",
    "for s in lista_str:\n",
    "    if s[-1].lower() in [\"a\", \"e\", \"i\", \"o\", \"u\"]:\n",
    "        result.append(s)\n",
    "print(result)"
   ]
  },
  {
   "cell_type": "markdown",
   "metadata": {},
   "source": [
    "### Formando uma string"
   ]
  },
  {
   "cell_type": "markdown",
   "metadata": {},
   "source": [
    "#### W1.9 Crie uma string genérica (parametrizável) que seja capaz de gerar a string apresentada abaixo"
   ]
  },
  {
   "cell_type": "code",
   "execution_count": 17,
   "metadata": {},
   "outputs": [
    {
     "name": "stdout",
     "output_type": "stream",
     "text": [
      "a=100 e b=80\n",
      "a=700 e b=680\n"
     ]
    }
   ],
   "source": [
    "# Crie uma string parametrizável que atenda este exemplo: \n",
    "# \"a=6, b=9, a+b=15, a*b=54\"\n",
    "\n",
    "# Aplique a parametrização para os valores:\n",
    "# a=100 e b=80\n",
    "print(f\"a={100} e b={80}\")\n",
    "\n",
    "# a=700 e b=860\n",
    "print(f\"a={700} e b={680}\")"
   ]
  },
  {
   "cell_type": "markdown",
   "metadata": {},
   "source": [
    "# Estrutura de Dados em Python"
   ]
  },
  {
   "cell_type": "markdown",
   "metadata": {},
   "source": [
    "### Treinando conceitos sobre listas em python"
   ]
  },
  {
   "cell_type": "markdown",
   "metadata": {},
   "source": [
    "#### W1.10 Crie as listas solicitadas a seguir"
   ]
  },
  {
   "cell_type": "code",
   "execution_count": 18,
   "metadata": {},
   "outputs": [
    {
     "name": "stdout",
     "output_type": "stream",
     "text": [
      "[1, 2, 3]\n",
      "[True, True, False]\n",
      "['a', 'b', 'c']\n"
     ]
    }
   ],
   "source": [
    "# 1) Crie uma lista de números inteiros\n",
    "print([1,2,3])\n",
    "# 2) Crie uma lista de booleanos\n",
    "print([True, True, False])\n",
    "# 3) Crie uma lista de strings\n",
    "print([\"a\", \"b\", \"c\"])"
   ]
  },
  {
   "cell_type": "markdown",
   "metadata": {},
   "source": [
    "### Slicing (fatiar)\n",
    "#### W1.11 Selecione os elementos da lista5 especificados a seguir"
   ]
  },
  {
   "cell_type": "code",
   "execution_count": 20,
   "metadata": {},
   "outputs": [
    {
     "name": "stdout",
     "output_type": "stream",
     "text": [
      "awerr\n",
      "1\n",
      "[104, 20, 1]\n",
      "['awerr', False, 9.0, 104]\n",
      "[1, 20, 104, 9.0, 0.0, 9.0, None, True, False, 'sssaere', 'aa', 'awerr']\n"
     ]
    }
   ],
   "source": [
    "# Considere a seguinte lista\n",
    "lista5 = [\"awerr\", \"aa\", \"sssaere\", False, True, None, 9., 0., 9., 104, 20, 1]\n",
    "# 1) Retorne o primeiro elemento da lista\n",
    "print(lista5[0])\n",
    "# 2) Retorne o último elemento da lista\n",
    "print(lista5[-1])\n",
    "# 3) Retorne os 3 ultimos elementos da lista\n",
    "print(lista5[-3:])\n",
    "# 4) Retorne elementos espaçados a cada 3 elementos, a partir do índice 0\n",
    "print(lista5[::3])\n",
    "# 5) Retorne a lista na ordem inversa\n",
    "print(lista5[::-1])"
   ]
  },
  {
   "cell_type": "markdown",
   "metadata": {},
   "source": [
    "#### W1.12 Faça um código python para encontrar os elementos de uma lista de strings cujo tamanho seja maior que 3 caracteres e os dois últimos sejam iguais."
   ]
  },
  {
   "cell_type": "code",
   "execution_count": 22,
   "metadata": {},
   "outputs": [
    {
     "name": "stdout",
     "output_type": "stream",
     "text": [
      "['awerr', 'aa', 'sssaeee']\n"
     ]
    }
   ],
   "source": [
    "lista = [\"awerr\", \"aa\", \"awyt\", \"g\", \"sssaeee\"]\n",
    "# Faça aqui\n",
    "result = []\n",
    "for s in lista:\n",
    "    if len(s) > 1:\n",
    "        if s[-1] == s[-2]:\n",
    "            result.append(s)\n",
    "print(result)"
   ]
  },
  {
   "cell_type": "markdown",
   "metadata": {},
   "source": [
    "#### W1.13 Usando um loop do tipo for encontre a interseção entre duas listas"
   ]
  },
  {
   "cell_type": "code",
   "execution_count": 23,
   "metadata": {},
   "outputs": [
    {
     "name": "stdout",
     "output_type": "stream",
     "text": [
      "['awerr', 'aa', 'sssaere']\n"
     ]
    }
   ],
   "source": [
    "lista1 = [\"awerr\", \"aa\", \"awyt\", \"g\", \"sssaere\"]\n",
    "lista2 = [\"awerr\", \"aa\", \"sssaere\", \"aabb\", \"qwerttt\", \"12345\"]\n",
    "\n",
    "# Faça aqui\n",
    "result = []\n",
    "for l1 in lista1:\n",
    "    if l1 in lista2:\n",
    "        result.append(l1)\n",
    "print(result)\n"
   ]
  },
  {
   "cell_type": "markdown",
   "metadata": {},
   "source": [
    "#### W1.14 Usando um loop do tipo for encontre os elementos que estão na lista1 mas não estão na lista 2."
   ]
  },
  {
   "cell_type": "code",
   "execution_count": 24,
   "metadata": {},
   "outputs": [
    {
     "name": "stdout",
     "output_type": "stream",
     "text": [
      "['awyt', 'g']\n"
     ]
    }
   ],
   "source": [
    "lista1 = [\"awerr\", \"aa\", \"awyt\", \"g\", \"sssaere\"]\n",
    "lista2 = [\"awerr\", \"aa\", \"sssaere\", \"aabb\", \"qwerttt\", \"12345\"]\n",
    "# Faça aqui\n",
    "\n",
    "# Faça aqui\n",
    "result = []\n",
    "for l1 in lista1:\n",
    "    if l1 not in lista2:\n",
    "        result.append(l1)\n",
    "print(result)\n"
   ]
  },
  {
   "cell_type": "markdown",
   "metadata": {},
   "source": [
    "#### W1.15 Usando um loop do tipo for encontre os elementos que não estão na intersecção das duas listas."
   ]
  },
  {
   "cell_type": "code",
   "execution_count": 25,
   "metadata": {},
   "outputs": [
    {
     "name": "stdout",
     "output_type": "stream",
     "text": [
      "['awyt', 'g', 'aabb', 'qwerttt', '12345']\n"
     ]
    }
   ],
   "source": [
    "lista1 = [\"awerr\", \"aa\", \"awyt\", \"g\", \"sssaere\"]\n",
    "lista2 = [\"awerr\", \"aa\", \"sssaere\", \"aabb\", \"qwerttt\", \"12345\"]\n",
    "# Faça aqui\n",
    "result = []\n",
    "for l1 in lista1:\n",
    "    if l1 not in lista2:\n",
    "        result.append(l1)\n",
    "        \n",
    "for l2 in lista2:\n",
    "    if l2 not in lista1:\n",
    "        result.append(l2)\n",
    "        \n",
    "print(result)\n"
   ]
  },
  {
   "cell_type": "markdown",
   "metadata": {},
   "source": [
    "#### W1.16 Crie código python para inverter a ordem de duas palavras que aparecem em frases do tipo: \"pera e banana\""
   ]
  },
  {
   "cell_type": "code",
   "execution_count": 27,
   "metadata": {},
   "outputs": [
    {
     "name": "stdout",
     "output_type": "stream",
     "text": [
      "banana e pera\n",
      "banana e pera\n"
     ]
    }
   ],
   "source": [
    "# Exemplo: para a entrada \"pera e banana\", o resultado esperado é \"banana e pera\"\n",
    "frase = \"pera e banana\"\n",
    "frutas = frase.split(\" e \")\n",
    "print(f\"{frutas[1]} e {frutas[0]}\")\n",
    "\n",
    "# Solucao alternativa\n",
    "print(\" e \".join(reversed(frase.split(\" e \"))))"
   ]
  },
  {
   "cell_type": "markdown",
   "metadata": {},
   "source": [
    "#### W1.17 Encontre a mediana de uma lista de numeros inteiros.\n",
    "#### Para calcular a mediana, ordene a lista e retorne o elemento do centro. Se a quantidade de elementos for par, retorne a média dos dois elementos do centro."
   ]
  },
  {
   "cell_type": "code",
   "execution_count": 36,
   "metadata": {},
   "outputs": [
    {
     "name": "stdout",
     "output_type": "stream",
     "text": [
      "[0, 0, 1, 4, 6, 7, 8, 8, 9, 9, 20, 20, 22, 50, 104]\n",
      "8\n",
      "[0, 0, 4, 6, 7, 8, 8, 9, 9, 20, 20, 22, 50, 104]\n",
      "8.5\n"
     ]
    }
   ],
   "source": [
    "lista3 = [9, 0, 9, 8, 20, 4, 7, 6, 8, 22, 0, 50, 104, 20, 1]\n",
    "lista4 = [9, 0, 9, 8, 20, 4, 7, 6, 8, 22, 0, 50, 104, 20]\n",
    "# Calcule a mediana das listas lista3 e lista4\n",
    "def mediana(lista):\n",
    "    tmp_lista = sorted(lista)\n",
    "    if len(lista) % 2 != 0:\n",
    "        return tmp_lista[int((len(lista)+1)/2) - 1]\n",
    "    else:\n",
    "        return (tmp_lista[int(len(lista)/2) - 1] + tmp_lista[int(len(lista)/2)])/2\n",
    "\n",
    "print(sorted(lista3))\n",
    "print(mediana(lista3))\n",
    "print(sorted(lista4))\n",
    "print(mediana(lista4))"
   ]
  },
  {
   "cell_type": "markdown",
   "metadata": {},
   "source": [
    "## Treinando funções"
   ]
  },
  {
   "cell_type": "markdown",
   "metadata": {},
   "source": [
    "#### W1.25 Escreva uma função para calcular o máximo de dois numeros"
   ]
  },
  {
   "cell_type": "code",
   "execution_count": 37,
   "metadata": {},
   "outputs": [
    {
     "name": "stdout",
     "output_type": "stream",
     "text": [
      "5\n",
      "-3\n"
     ]
    }
   ],
   "source": [
    "def maximo(a, b):\n",
    "    #faca aqui\n",
    "    #retorne o valor maximo entre a e b\n",
    "    return max(a,b)\n",
    "\n",
    "\n",
    "print(maximo(5, -3))\n",
    "print(maximo(-5, -3))\n"
   ]
  },
  {
   "cell_type": "markdown",
   "metadata": {},
   "source": [
    "#### W1.26 Escreva uma função para calcular a velocidade de um objeto dado a distancia percorrida e o tempo. Considere as unidades de distância e tempo sendo respectivamente Km e hora."
   ]
  },
  {
   "cell_type": "code",
   "execution_count": 38,
   "metadata": {},
   "outputs": [
    {
     "name": "stdout",
     "output_type": "stream",
     "text": [
      "110.0\n"
     ]
    }
   ],
   "source": [
    "def velocidade(distancia, tempo):\n",
    "    #faca aqui\n",
    "    #retorne a velocidade do objeto\n",
    "    return distancia/tempo\n",
    "\n",
    "\n",
    "print(velocidade(55, 0.5))\n"
   ]
  },
  {
   "cell_type": "markdown",
   "metadata": {},
   "source": [
    "#### W1.27 Escreva uma função para determinar se um objeto extrapolou um determinado limite de velocidade. O limite de velocidade deve ser parametrizável (um argumento da função). A função deve retornar True se o limite for excedido, e retornar False caso contrário."
   ]
  },
  {
   "cell_type": "code",
   "execution_count": 40,
   "metadata": {},
   "outputs": [
    {
     "name": "stdout",
     "output_type": "stream",
     "text": [
      "True\n"
     ]
    }
   ],
   "source": [
    "#faca aqui\n",
    "def excedeu_limite(velocidade, limite):\n",
    "    return velocidade > limite\n",
    "\n",
    "print(excedeu_limite(100, 80))\n"
   ]
  },
  {
   "cell_type": "markdown",
   "metadata": {},
   "source": [
    "### Erros de Sintaxe"
   ]
  },
  {
   "cell_type": "markdown",
   "metadata": {},
   "source": [
    "#### W1.28 Corrija os erros de sintaxe das células abaixo"
   ]
  },
  {
   "cell_type": "code",
   "execution_count": 44,
   "metadata": {},
   "outputs": [
    {
     "name": "stdout",
     "output_type": "stream",
     "text": [
      "True\n"
     ]
    }
   ],
   "source": [
    "if 3 > 1: # Estava faltando o : (dois pontos)\n",
    "    print(\"True\")\n",
    "else:\n",
    "    print(\"False\")"
   ]
  },
  {
   "cell_type": "code",
   "execution_count": 46,
   "metadata": {},
   "outputs": [],
   "source": [
    "b = 4 # b estava definido depois do seu primeiro uso\n",
    "a = (3+b)*2 # estava sobrando um )\n"
   ]
  },
  {
   "cell_type": "code",
   "execution_count": 47,
   "metadata": {},
   "outputs": [
    {
     "name": "stdout",
     "output_type": "stream",
     "text": [
      "where is jonh's car\n"
     ]
    }
   ],
   "source": [
    "print('where is jonh\\'s car') # Basta colocar o \\ antes da aspas simples do nome jonh's"
   ]
  },
  {
   "cell_type": "code",
   "execution_count": 48,
   "metadata": {},
   "outputs": [
    {
     "name": "stdout",
     "output_type": "stream",
     "text": [
      "Isso sempre é impresso.\n"
     ]
    }
   ],
   "source": [
    "if True:\n",
    "    print(\"Isso sempre é impresso.\") # Não estava indentado corretamente"
   ]
  },
  {
   "cell_type": "markdown",
   "metadata": {},
   "source": [
    "### Erros Runtime"
   ]
  },
  {
   "cell_type": "markdown",
   "metadata": {},
   "source": [
    "#### W1.29 Corrija os erros do tipo Runtime abaixo"
   ]
  },
  {
   "cell_type": "code",
   "execution_count": 49,
   "metadata": {},
   "outputs": [
    {
     "data": {
      "text/plain": [
       "2.0"
      ]
     },
     "execution_count": 49,
     "metadata": {},
     "output_type": "execute_result"
    }
   ],
   "source": [
    "# Efetuar a divisão a seguir\n",
    "10/int(\"5\")"
   ]
  },
  {
   "cell_type": "code",
   "execution_count": 50,
   "metadata": {},
   "outputs": [
    {
     "name": "stdout",
     "output_type": "stream",
     "text": [
      "3\n"
     ]
    }
   ],
   "source": [
    "c = [1, 2, 3]\n",
    "# Imprimir o ultimo elemento da lista c\n",
    "print(c[-1]) # ou print(c[2])"
   ]
  },
  {
   "cell_type": "code",
   "execution_count": 54,
   "metadata": {},
   "outputs": [
    {
     "name": "stdout",
     "output_type": "stream",
     "text": [
      "92736213 Maria\n"
     ]
    }
   ],
   "source": [
    "l = [{\"nome\": \"Joao\", \"telefone\": 9917363}, {\"nome\": \"Ana\", \"telefone\": 9023633},\n",
    "    {\"nome\": \"Roberto\", \"telefone\": 9937321}, {\"nome\": \"Maria\", \"telefone\": 92736213}] \n",
    "# O erro é a grafia incorreta de Telefome e none. Basta corrigir para telefone e nome.\n",
    "# imprimir o valor do telefone e do nome do ultimo elmento da lista de dicionários\n",
    "print(l[-1]['telefone'], l[-1]['nome'])"
   ]
  },
  {
   "cell_type": "markdown",
   "metadata": {},
   "source": [
    "### Erros de Lógica"
   ]
  },
  {
   "cell_type": "markdown",
   "metadata": {},
   "source": [
    "#### W1.30 Corrija os erros de lógica das células abaixo"
   ]
  },
  {
   "cell_type": "code",
   "execution_count": 55,
   "metadata": {},
   "outputs": [
    {
     "name": "stdout",
     "output_type": "stream",
     "text": [
      "10 é igual a 10\n"
     ]
    }
   ],
   "source": [
    "a = int(\"10\") # basta converter para inteiro, ou comparar com string no if abaix\n",
    "if a == 10:\n",
    "    print(f\"{a} é igual a 10\")\n",
    "else:\n",
    "    print(f\"{a} é diferente de 10\")\n",
    "        "
   ]
  },
  {
   "cell_type": "code",
   "execution_count": 58,
   "metadata": {},
   "outputs": [
    {
     "name": "stdout",
     "output_type": "stream",
     "text": [
      "awerr\n",
      "sssaere\n",
      "aabb\n",
      "qwerttt\n",
      "12345\n"
     ]
    }
   ],
   "source": [
    "l = [\"awerr\", \"aab\", \"sssaere\", \"aabb\", \"qwerttt\", \"12345\"]\n",
    "# Código para imprimir os elementos da lista l cujo tamanho seja maior que 3\n",
    "for x in l[0:]: # a sequencia não estava sendo indexada do primeiro elemento, mas do 2o.\n",
    "    if len(x) > 3:\n",
    "        print(x)"
   ]
  },
  {
   "cell_type": "code",
   "execution_count": null,
   "metadata": {},
   "outputs": [],
   "source": []
  }
 ],
 "metadata": {
  "kernelspec": {
   "display_name": "Python 3",
   "language": "python",
   "name": "python3"
  },
  "language_info": {
   "codemirror_mode": {
    "name": "ipython",
    "version": 3
   },
   "file_extension": ".py",
   "mimetype": "text/x-python",
   "name": "python",
   "nbconvert_exporter": "python",
   "pygments_lexer": "ipython3",
   "version": "3.8.3"
  }
 },
 "nbformat": 4,
 "nbformat_minor": 4
}
