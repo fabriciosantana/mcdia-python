{
 "cells": [
  {
   "cell_type": "markdown",
   "metadata": {},
   "source": [
    "# Aula 2 - Warm-up de Python e Numpy"
   ]
  },
  {
   "cell_type": "markdown",
   "metadata": {},
   "source": [
    "### Treinando conceitos de Tupla"
   ]
  },
  {
   "cell_type": "markdown",
   "metadata": {},
   "source": [
    "#### W2.4 Crie uma tupla com os números inteiros entre 0 e 10. Crie a tupla manualmente, sem nenhum laço(loop)."
   ]
  },
  {
   "cell_type": "code",
   "execution_count": 2,
   "metadata": {
    "scrolled": true
   },
   "outputs": [
    {
     "name": "stdout",
     "output_type": "stream",
     "text": [
      "(0, 1, 2, 3, 4, 5, 6, 7, 8, 9, 10)\n"
     ]
    }
   ],
   "source": [
    "# Faça aqui\n",
    "t1 = (0,1,2,3,4,5,6,7,8,9,10)\n",
    "# solucao alternativa\n",
    "t2 = tuple(range(0,11))"
   ]
  },
  {
   "cell_type": "code",
   "execution_count": 3,
   "metadata": {},
   "outputs": [
    {
     "name": "stdout",
     "output_type": "stream",
     "text": [
      "0\n",
      "1\n",
      "4\n",
      "9\n",
      "16\n",
      "25\n",
      "36\n",
      "49\n",
      "64\n",
      "81\n",
      "100\n"
     ]
    }
   ],
   "source": [
    "# Faça uma iteração sobre a tupla da célula anterior e \n",
    "# imprima o valor de cada elemento elevado ao quadrado.\n",
    "for i in t1:\n",
    "    print(i**2)"
   ]
  },
  {
   "cell_type": "markdown",
   "metadata": {},
   "source": [
    "### Treinando conceitos de Set"
   ]
  },
  {
   "cell_type": "code",
   "execution_count": 5,
   "metadata": {
    "scrolled": true
   },
   "outputs": [],
   "source": [
    "# Considere os seguintes conjuntos\n",
    "c1 = {1, 2, 3, 4, \"a\", \"b\", \"c\"}\n",
    "c2 = {3, 4, 5, 6, \"a\", \"e\"}"
   ]
  },
  {
   "cell_type": "markdown",
   "metadata": {},
   "source": [
    "#### W2.5 Escreva um código que cria a união dos conjuntos c1 e c2"
   ]
  },
  {
   "cell_type": "code",
   "execution_count": 9,
   "metadata": {},
   "outputs": [
    {
     "data": {
      "text/plain": [
       "{1, 2, 3, 4, 5, 6, 'a', 'b', 'c', 'e'}"
      ]
     },
     "execution_count": 9,
     "metadata": {},
     "output_type": "execute_result"
    }
   ],
   "source": [
    "# Faça aqui\n",
    "c1.union(c2)"
   ]
  },
  {
   "cell_type": "markdown",
   "metadata": {},
   "source": [
    "#### W2.6 Escreva um código que cria a intersecção dos conjuntos c1 e c2"
   ]
  },
  {
   "cell_type": "code",
   "execution_count": 10,
   "metadata": {},
   "outputs": [
    {
     "data": {
      "text/plain": [
       "{3, 4, 'a'}"
      ]
     },
     "execution_count": 10,
     "metadata": {},
     "output_type": "execute_result"
    }
   ],
   "source": [
    "# Faça aqui\n",
    "c1.intersection(c2)"
   ]
  },
  {
   "cell_type": "markdown",
   "metadata": {},
   "source": [
    "### Treinando conceitos de dicionário (dict) em python"
   ]
  },
  {
   "cell_type": "markdown",
   "metadata": {},
   "source": [
    "#### W2.7 Criar um dicionário que represente o conteúdo da tabela abaixo"
   ]
  },
  {
   "cell_type": "markdown",
   "metadata": {},
   "source": [
    "| Nome       | Endereço     | Telefone     |\n",
    "| :------------- | :----------: | -----------: |\n",
    "|  Jose da Silva | Rua 2, n. 39   | 119865563    |"
   ]
  },
  {
   "cell_type": "code",
   "execution_count": 12,
   "metadata": {},
   "outputs": [],
   "source": [
    "# Faça aqui\n",
    "d = {'nome': 'Jose da Silva', 'Endereço': \"Rua 2, n. 39\", \"Telefone\": \"119865563\"}\n",
    "# Ou\n",
    "d = {'nome': 'Jose da Silva', 'Endereço': \"Rua 2, n. 39\", \"Telefone\": 119865563}"
   ]
  },
  {
   "cell_type": "markdown",
   "metadata": {},
   "source": [
    "#### W2.8 Jose da Silva mudou seu número de telefone para 1187662330. Altere este valor no dicionário que você acabou de criar"
   ]
  },
  {
   "cell_type": "code",
   "execution_count": 13,
   "metadata": {},
   "outputs": [],
   "source": [
    "# Faça aqui\n",
    "d[\"Telefone\"] = 119865563"
   ]
  },
  {
   "cell_type": "markdown",
   "metadata": {},
   "source": [
    "#### W2.9 Crie um atributo CPF no dicionário da célula acima e adicione o CPF do Jose da Silva: 495.152.344-90"
   ]
  },
  {
   "cell_type": "code",
   "execution_count": 14,
   "metadata": {},
   "outputs": [],
   "source": [
    "# Faça aqui\n",
    "d[\"CPF\"] = \"495.152.344-90\""
   ]
  },
  {
   "cell_type": "markdown",
   "metadata": {},
   "source": [
    "#### W2.10 Remova o atributo Endereço desse dicionário"
   ]
  },
  {
   "cell_type": "code",
   "execution_count": 15,
   "metadata": {},
   "outputs": [],
   "source": [
    "# Faça aqui\n",
    "del d[\"Endereço\"]"
   ]
  },
  {
   "cell_type": "markdown",
   "metadata": {},
   "source": [
    "#### W2.11 Criar uma lista de dicionários que represente o conteúdo da tabela abaixo"
   ]
  },
  {
   "cell_type": "markdown",
   "metadata": {},
   "source": [
    "| Nome       | Endereço     | Telefone     | CPF |\n",
    "| :------------- | :----------: | -----------: | -----------: |\n",
    "|  Jose da Silva | Rua 2, n. 39   | 119865563    | 495.152.344-90\n",
    "|  Roberto da Araujo | Av 2, n. 2010   | 389912353    | 755.223.432-10\n",
    "|  Maria Almeida | Rua Jau, n. 309   | 139845162    | 131.223.415-12\n",
    "|  Joaquim Pereira | Av Sete de Setembro, n. 5240   | 329912633    | 456.214.616-67"
   ]
  },
  {
   "cell_type": "code",
   "execution_count": 19,
   "metadata": {},
   "outputs": [],
   "source": [
    "# Faça aqui\n",
    "l = [\n",
    "    {\"nome\": \"Jose da Silva\", \"Endereço\": \"Rua 2, n. 39\", \"Telefone\": \"119865563\", \"CPF\": \"495.152.344-90\"},\n",
    "    {\"nome\": \"Roberto da Araujo\", \"Endereço\": \"Av 2, n. 2010\", \"Telefone\": \"389912353\", \"CPF\": \"755.223.432-10\"},\n",
    "    {\"nome\": \"Maria Almeida\", \"Endereço\": \"Rua Jau, n. 309\", \"Telefone\": \"139845162\", \"CPF\": \"131.223.415-12\"},\n",
    "    {\"nome\": \"Joaquim Pereira\", \"Endereço\": \"Av Sete de Setembro, n. 5240\" , \"Telefone\": \"329912633\", \"CPF\": \"456.214.616-67\"}\n",
    "  ]"
   ]
  },
  {
   "cell_type": "markdown",
   "metadata": {},
   "source": [
    "#### W2.12 Considerando a lista de dicionarios do exercicio anterior, remova o dicionário do Jose da Silva desta lista."
   ]
  },
  {
   "cell_type": "code",
   "execution_count": 21,
   "metadata": {},
   "outputs": [
    {
     "name": "stdout",
     "output_type": "stream",
     "text": [
      "[{'nome': 'Roberto da Araujo', 'Endereço': 'Av 2, n. 2010', 'Telefone': '389912353', 'CPF': '755.223.432-10'}, {'nome': 'Maria Almeida', 'Endereço': 'Rua Jau, n. 309', 'Telefone': '139845162', 'CPF': '131.223.415-12'}, {'nome': 'Joaquim Pereira', 'Endereço': 'Av Sete de Setembro, n. 5240', 'Telefone': '329912633', 'CPF': '456.214.616-67'}]\n"
     ]
    }
   ],
   "source": [
    "# Faça aqui\n",
    "l.pop(0)\n",
    "print(l)"
   ]
  },
  {
   "cell_type": "markdown",
   "metadata": {},
   "source": [
    "#### W2.13 Considerando a lista de dicionarios do exercicio anterior, usando um loop, remova todos os telefones desta lista de dicionários\n"
   ]
  },
  {
   "cell_type": "code",
   "execution_count": 22,
   "metadata": {},
   "outputs": [
    {
     "name": "stdout",
     "output_type": "stream",
     "text": [
      "[{'nome': 'Roberto da Araujo', 'Endereço': 'Av 2, n. 2010', 'CPF': '755.223.432-10'}, {'nome': 'Maria Almeida', 'Endereço': 'Rua Jau, n. 309', 'CPF': '131.223.415-12'}, {'nome': 'Joaquim Pereira', 'Endereço': 'Av Sete de Setembro, n. 5240', 'CPF': '456.214.616-67'}]\n"
     ]
    }
   ],
   "source": [
    "# Faça aqui\n",
    "for e in l:\n",
    "    del e['Telefone']\n",
    "\n",
    "print(l)"
   ]
  },
  {
   "cell_type": "markdown",
   "metadata": {},
   "source": [
    "### Treinando a função zip"
   ]
  },
  {
   "cell_type": "markdown",
   "metadata": {},
   "source": [
    "#### W2.14 Crie um código que execute as instruções solicitadas abaixo"
   ]
  },
  {
   "cell_type": "code",
   "execution_count": 23,
   "metadata": {},
   "outputs": [
    {
     "name": "stdout",
     "output_type": "stream",
     "text": [
      "{'Jan': 1000, 'Fev': 2000, 'Mar': 3000}\n"
     ]
    }
   ],
   "source": [
    "# Considere as seguintes listas\n",
    "letras = [\"Jan\", \"Fev\", \"Mar\"]\n",
    "numeros = [1000, 2000, 3000]\n",
    "\n",
    "# Usando a função zip e um loop do tipo for, crie um dicionário cuja chave sejam \n",
    "# os elementos da lista letras e o valor os elementos da lista numeros\n",
    "# Resultado esperado: {\"Jan\": 1000, \"Fev\": 2000, \"Mar\": 3000}\n",
    "result = {}\n",
    "for l, n in zip(letras, numeros):\n",
    "    result[l] = n\n",
    "print(result)"
   ]
  },
  {
   "cell_type": "markdown",
   "metadata": {},
   "source": [
    "### Treinando instruções inline e list comprehension"
   ]
  },
  {
   "cell_type": "markdown",
   "metadata": {},
   "source": [
    "#### W2.15 Escreva uma instrução if else na forma inline que teste o tamanho de uma string e retorne True caso o seu tamanho seja maior que 5, e Falso caso contrário.\n",
    "#### Dica - Sintaxe: valor_se_verdadeiro if condicao else valor_se_falso"
   ]
  },
  {
   "cell_type": "code",
   "execution_count": 24,
   "metadata": {},
   "outputs": [
    {
     "name": "stdout",
     "output_type": "stream",
     "text": [
      "True\n"
     ]
    }
   ],
   "source": [
    "# Faça aqui\n",
    "s = \"asdfasd\"\n",
    "r = True if len(s) > 5 else False\n",
    "print(r)\n"
   ]
  },
  {
   "cell_type": "markdown",
   "metadata": {},
   "source": [
    "#### W2.16 Escreva um list comprehension, ou seja, uma instrução de loop (for) na forma inline que gere a lista [1, 4, 9, 16, 25, 36, 49, 64,  81, 100]\n",
    "#### Dica - Sintaxe: [ OPERACAO_COM_X for X in SEQUENCIA ]"
   ]
  },
  {
   "cell_type": "code",
   "execution_count": 25,
   "metadata": {},
   "outputs": [
    {
     "data": {
      "text/plain": [
       "[1, 4, 9, 16, 25, 36, 49, 64, 81, 100]"
      ]
     },
     "execution_count": 25,
     "metadata": {},
     "output_type": "execute_result"
    }
   ],
   "source": [
    "# Faça aqui\n",
    "[x**2 for x in range(1, 11)]"
   ]
  },
  {
   "cell_type": "markdown",
   "metadata": {},
   "source": [
    "#### W2.17 Escreva um list comprehension, ou seja, uma instrução de loop (for) na forma inline que gere a lista [1, 3, 5, 7, 9, 11, 13, 15, 17, 19]\n",
    "#### Dica - Sintaxe: [ OPERACAO_COM_X for X in SEQUENCIA ]"
   ]
  },
  {
   "cell_type": "code",
   "execution_count": 26,
   "metadata": {},
   "outputs": [
    {
     "data": {
      "text/plain": [
       "[1, 3, 5, 7, 9, 11, 13, 15, 17, 19]"
      ]
     },
     "execution_count": 26,
     "metadata": {},
     "output_type": "execute_result"
    }
   ],
   "source": [
    "# Faça aqui\n",
    "[x for x in range(1, 20, 2)]"
   ]
  },
  {
   "cell_type": "markdown",
   "metadata": {},
   "source": [
    "#### W2.18 Escreva um dict comprehension, ou seja, uma instrução de loop (for) na forma inline que gere um dicionário. O dicionário deve conter palavras nas suas chaves e nos valores, os respectivos tamanhos (quantidade de letras) das suas chaves.\n",
    "#### Exemplo: {\"carro\": 5, \"moto\": 4, \"trem\": 4, \"aviao\": 5, \"bicicleta\": 9} "
   ]
  },
  {
   "cell_type": "code",
   "execution_count": 27,
   "metadata": {},
   "outputs": [
    {
     "data": {
      "text/plain": [
       "{'carro': 5, 'moto': 4, 'trem': 4, 'aviao': 5, 'bicicleta': 9}"
      ]
     },
     "execution_count": 27,
     "metadata": {},
     "output_type": "execute_result"
    }
   ],
   "source": [
    "palavras = [\"carro\", \"moto\", \"trem\", \"aviao\", \"bicicleta\"]\n",
    "# Faça aqui\n",
    "{k:len(k) for k in palavras}"
   ]
  },
  {
   "cell_type": "markdown",
   "metadata": {},
   "source": [
    "## NumPy Arrays\n"
   ]
  },
  {
   "cell_type": "code",
   "execution_count": 29,
   "metadata": {},
   "outputs": [],
   "source": [
    "# Importe a biblioteca numpy\n",
    "import numpy as np"
   ]
  },
  {
   "cell_type": "markdown",
   "metadata": {},
   "source": [
    "### Treinando a criação de arrays numpy"
   ]
  },
  {
   "cell_type": "markdown",
   "metadata": {},
   "source": [
    "#### W2.19 Execute as instruções da célula abaixo"
   ]
  },
  {
   "cell_type": "code",
   "execution_count": 38,
   "metadata": {},
   "outputs": [
    {
     "name": "stdout",
     "output_type": "stream",
     "text": [
      "float64\n",
      "(2, 4)\n",
      "[0. 0. 0. 0. 0. 0. 0. 0. 0. 0.]\n"
     ]
    }
   ],
   "source": [
    "# 1) Crie um array unidimensional a partir da lista [6, 7.5, 8, 0, 1] e imprima o tipo do dado armazenado nele.\n",
    "ar = np.array([6, 7.5, 8, 0, 1])\n",
    "print(ar.dtype)\n",
    "# 2) Crie um array bidimensional a partir da lista [[1, 2, 3, 4], [5, 6, 7, 8]] e imprima o shape (forma) dele.\n",
    "ar2 = np.array([[1, 2, 3, 4], [5, 6, 7, 8]])\n",
    "print(ar2.shape)\n",
    "# 3) Crie um array unidimensional de zeros com 10 elementos.\n",
    "z = np.zeros(10)\n",
    "print(z)"
   ]
  },
  {
   "cell_type": "markdown",
   "metadata": {},
   "source": [
    "### Treinando conversão de tipos (cast)"
   ]
  },
  {
   "cell_type": "markdown",
   "metadata": {},
   "source": [
    "#### W2.20 Realize a conversão de tipos especificada na célula abaixo"
   ]
  },
  {
   "cell_type": "code",
   "execution_count": 45,
   "metadata": {},
   "outputs": [
    {
     "name": "stdout",
     "output_type": "stream",
     "text": [
      "[ 1.25 -9.6  42.  ]\n",
      "[ 1 -9 42]\n"
     ]
    }
   ],
   "source": [
    "# Considere o seguinte array\n",
    "num_str = np.array(['1.25', '-9.6', '42'], dtype=np.string_)\n",
    "# 1) Converta os dados do array num_str para float\n",
    "arr_float = num_str.astype(float) \n",
    "print(arr_float)\n",
    "# 2) Converta os dados do array do item 1 para int\n",
    "arr_int = arr_float.astype(int) \n",
    "\n",
    "# 3) Imprima o tipo do dado do array que foi convertido para inteiro \n",
    "print(arr_int)"
   ]
  },
  {
   "cell_type": "markdown",
   "metadata": {},
   "source": [
    "### Treinando operações vetorizadas em ndarrays\n",
    "#### W2.21 Sem utilizar laços (loops), execute as instruções da célula abaixo"
   ]
  },
  {
   "cell_type": "code",
   "execution_count": 48,
   "metadata": {},
   "outputs": [
    {
     "name": "stdout",
     "output_type": "stream",
     "text": [
      "[[10 20 30 40]\n",
      " [50 60 70 80]]\n",
      "[[ 1  4  9 16]\n",
      " [25 36 49 64]]\n",
      "[[ 9.05538514 12.16552506 13.34166406 14.56021978]\n",
      " [15.8113883  17.08800749 18.38477631 19.6977156 ]]\n"
     ]
    }
   ],
   "source": [
    "# Considere o seguinte array\n",
    "arr1 = np.array([[1, 2, 3, 4], [5, 6, 7, 8]])\n",
    "arr2 = np.array([[9, 12, 13, 14], [15, 16, 17, 18]])\n",
    "\n",
    "# 1) Multiplique todos os elementos do array arr1 por 10\n",
    "print(arr1 * 10)\n",
    "# 2) Eleve ao quadrado todos os elementos do arr1\n",
    "print(arr1 ** 2)\n",
    "# 3) Calcule a hipotenusa de triangulos cujos catetos estão definidos nos arrays arr1 e arr2.\n",
    "#    Ou seja, calcule a raiz quadrada da soma dos quadrados dos elementos de arr1 e arr2.\n",
    "print((arr1**2 + arr2**2)**0.5)\n"
   ]
  },
  {
   "cell_type": "markdown",
   "metadata": {},
   "source": [
    "### Treinando a seleção de elementos (slicing) em arrays numpy"
   ]
  },
  {
   "cell_type": "markdown",
   "metadata": {},
   "source": [
    "#### W2.22 Sem utilizar laços (loops), execute as instruções da célula abaixo"
   ]
  },
  {
   "cell_type": "code",
   "execution_count": 54,
   "metadata": {},
   "outputs": [
    {
     "name": "stdout",
     "output_type": "stream",
     "text": [
      "[[1 2]\n",
      " [5 6]\n",
      " [1 2]\n",
      " [5 6]]\n",
      "[[1000 1000    3    4   10   11   12   13]\n",
      " [1000 1000    7    8   10   11   12   13]\n",
      " [1000 1000    3    4   10   11   12   13]\n",
      " [1000 1000    7    8   10   11   12   13]]\n",
      "[[1000    3    4   10   11   12]\n",
      " [1000    7    8   10   11   12]\n",
      " [1000    3    4   10   11   12]\n",
      " [1000    7    8   10   11   12]]\n",
      "[[1000 1000    3    4   10   11   12   13]\n",
      " [   0    0    0    0    0    0    0    0]\n",
      " [1000 1000    3    4   10   11   12   13]\n",
      " [   0    0    0    0    0    0    0    0]]\n"
     ]
    }
   ],
   "source": [
    "# Considere o seguinte array\n",
    "arr3 = np.array([[1, 2, 3, 4, 10, 11, 12, 13], [5, 6, 7, 8, 10, 11, 12, 13],\n",
    "                [1, 2, 3, 4, 10, 11, 12, 13], [5, 6, 7, 8, 10, 11, 12, 13]])\n",
    "\n",
    "# 1) Selecione e imprima os elementos que estão nas colunas de índice 0 e 1 \n",
    "#    de todas as linhas desse array bidimensional\n",
    "print(arr3[:, [0,1]])\n",
    "\n",
    "# 2) Atribua o valor 1000 a todos os elementos que estão nas colunas de índice 0 e 1 \n",
    "#    de todas as linhas desse array bidimensional\n",
    "arr3[:, [0,1]] = 1000\n",
    "print(arr3)\n",
    "# 3) Selecione e imprima os elementos que estão nas colunas de índice 1 até a penúltima coluna\n",
    "# de todos os elementos desse array bidimensional\n",
    "print(arr3[:, 1:-1])\n",
    "\n",
    "# 4) Atribua zero para todos os elementos que estão nas linhas ímpares do array arr3\n",
    "\n",
    "arr3[1::2, :] = 0\n",
    "print(arr3)"
   ]
  },
  {
   "cell_type": "markdown",
   "metadata": {},
   "source": [
    "### Treinando outras funções numpy"
   ]
  },
  {
   "cell_type": "markdown",
   "metadata": {},
   "source": [
    "#### W2.23 Usando a função np.sum, calcule a soma dos elementos de cada linha do array criado abaixo. "
   ]
  },
  {
   "cell_type": "code",
   "execution_count": 55,
   "metadata": {},
   "outputs": [
    {
     "data": {
      "text/plain": [
       "array([ 6, 15, 24])"
      ]
     },
     "execution_count": 55,
     "metadata": {},
     "output_type": "execute_result"
    }
   ],
   "source": [
    "arr2d = np.array([[1, 2, 3], [4, 5, 6], [7, 8, 9]])\n",
    "# Faça aqui\n",
    "np.sum(arr2d, axis=1)"
   ]
  },
  {
   "cell_type": "markdown",
   "metadata": {},
   "source": [
    "#### W2.24 Usando a função np.mean, calcule a média dos elementos de cada coluna do array criado abaixo. "
   ]
  },
  {
   "cell_type": "code",
   "execution_count": 56,
   "metadata": {},
   "outputs": [
    {
     "data": {
      "text/plain": [
       "array([4., 5., 6.])"
      ]
     },
     "execution_count": 56,
     "metadata": {},
     "output_type": "execute_result"
    }
   ],
   "source": [
    "arr2d = np.array([[1, 2, 3], [4, 5, 6], [7, 8, 9]])\n",
    "# Faça aqui\n",
    "np.mean(arr2d, axis=0)"
   ]
  },
  {
   "cell_type": "markdown",
   "metadata": {},
   "source": [
    "#### W2.25 Usando a função np.any, mostre quais colunas do array criado abaixo possuem pelo menos um valor diferente de zero. "
   ]
  },
  {
   "cell_type": "code",
   "execution_count": 57,
   "metadata": {},
   "outputs": [
    {
     "data": {
      "text/plain": [
       "array([False,  True,  True])"
      ]
     },
     "execution_count": 57,
     "metadata": {},
     "output_type": "execute_result"
    }
   ],
   "source": [
    "arr4 = np.array([[0, 0, 0], [0, -5, -6], [0, -8, -9]])\n",
    "# Faça aqui\n",
    "arr4.any(axis=0)"
   ]
  },
  {
   "cell_type": "markdown",
   "metadata": {},
   "source": [
    "#### W2.26 Usando a função np.argmax, retorne o índice das colunas que contém o valor máximo de cada linha do array criado abaixo. "
   ]
  },
  {
   "cell_type": "code",
   "execution_count": 58,
   "metadata": {},
   "outputs": [
    {
     "data": {
      "text/plain": [
       "array([0, 2, 2], dtype=int64)"
      ]
     },
     "execution_count": 58,
     "metadata": {},
     "output_type": "execute_result"
    }
   ],
   "source": [
    "arr2d = np.array([[10, 2, 3], [4, 5, 6], [7, 8, 9]])\n",
    "# Faça aqui\n",
    "arr2d.argmax(axis=1)"
   ]
  },
  {
   "cell_type": "markdown",
   "metadata": {},
   "source": [
    "#### W2.27 Crie um array unidimensional de 120 elementos, cujos valores sejam sequenciais iniciando em 20 e terminando em 139.\n",
    "#### Dica: use a função np.arange(). Ela tem a mesma sintaxe (argumentos) da função range do python estudada em aula."
   ]
  },
  {
   "cell_type": "code",
   "execution_count": 60,
   "metadata": {},
   "outputs": [
    {
     "name": "stdout",
     "output_type": "stream",
     "text": [
      "[ 20  21  22  23  24  25  26  27  28  29  30  31  32  33  34  35  36  37\n",
      "  38  39  40  41  42  43  44  45  46  47  48  49  50  51  52  53  54  55\n",
      "  56  57  58  59  60  61  62  63  64  65  66  67  68  69  70  71  72  73\n",
      "  74  75  76  77  78  79  80  81  82  83  84  85  86  87  88  89  90  91\n",
      "  92  93  94  95  96  97  98  99 100 101 102 103 104 105 106 107 108 109\n",
      " 110 111 112 113 114 115 116 117 118 119 120 121 122 123 124 125 126 127\n",
      " 128 129 130 131 132 133 134 135 136 137 138 139]\n"
     ]
    }
   ],
   "source": [
    "# Faça aqui\n",
    "arr5 = np.arange(20, 140)\n",
    "print(arr5)"
   ]
  },
  {
   "cell_type": "markdown",
   "metadata": {},
   "source": [
    "#### W2.28 Altere a estrutura do array do exercício anterior. Transformando-o num array bidimensional de 12 linhas e 10 colunas.\n",
    "#### Dica: Use o método (função) ndarray.reshape(), passando as dimensões (linhas e colunas) como argumento."
   ]
  },
  {
   "cell_type": "code",
   "execution_count": 61,
   "metadata": {},
   "outputs": [
    {
     "data": {
      "text/plain": [
       "array([[ 20,  21,  22,  23,  24,  25,  26,  27,  28,  29],\n",
       "       [ 30,  31,  32,  33,  34,  35,  36,  37,  38,  39],\n",
       "       [ 40,  41,  42,  43,  44,  45,  46,  47,  48,  49],\n",
       "       [ 50,  51,  52,  53,  54,  55,  56,  57,  58,  59],\n",
       "       [ 60,  61,  62,  63,  64,  65,  66,  67,  68,  69],\n",
       "       [ 70,  71,  72,  73,  74,  75,  76,  77,  78,  79],\n",
       "       [ 80,  81,  82,  83,  84,  85,  86,  87,  88,  89],\n",
       "       [ 90,  91,  92,  93,  94,  95,  96,  97,  98,  99],\n",
       "       [100, 101, 102, 103, 104, 105, 106, 107, 108, 109],\n",
       "       [110, 111, 112, 113, 114, 115, 116, 117, 118, 119],\n",
       "       [120, 121, 122, 123, 124, 125, 126, 127, 128, 129],\n",
       "       [130, 131, 132, 133, 134, 135, 136, 137, 138, 139]])"
      ]
     },
     "execution_count": 61,
     "metadata": {},
     "output_type": "execute_result"
    }
   ],
   "source": [
    "# Faça aqui\n",
    "arr5.reshape([12,10])"
   ]
  },
  {
   "cell_type": "markdown",
   "metadata": {},
   "source": [
    "#### W2.29 Selecione os numeros pares do array definido abaixo\n",
    "#### Dica: pra testar se um número é par, use a seguinte expressão: n % 2 == 0. Neste caso, se n for par o resultado a expressão é True, pois o operador porcentagem (%) retorna o resto da divisão."
   ]
  },
  {
   "cell_type": "code",
   "execution_count": 62,
   "metadata": {},
   "outputs": [
    {
     "data": {
      "text/plain": [
       "array([ 0,  2,  4,  6,  8, 10, 12, 14, 16, 18, 20, 22, 24, 26, 28, 30, 32,\n",
       "       34, 36, 38, 40, 42, 44, 46, 48, 50, 52, 54, 56, 58, 60, 62, 64, 66,\n",
       "       68, 70, 72, 74, 76, 78, 80, 82, 84, 86, 88, 90, 92, 94, 96, 98])"
      ]
     },
     "execution_count": 62,
     "metadata": {},
     "output_type": "execute_result"
    }
   ],
   "source": [
    "arr = np.arange(100)\n",
    "# Faça aqui\n",
    "arr[arr %2 == 0]"
   ]
  },
  {
   "cell_type": "code",
   "execution_count": null,
   "metadata": {},
   "outputs": [],
   "source": []
  }
 ],
 "metadata": {
  "kernelspec": {
   "display_name": "Python 3",
   "language": "python",
   "name": "python3"
  },
  "language_info": {
   "codemirror_mode": {
    "name": "ipython",
    "version": 3
   },
   "file_extension": ".py",
   "mimetype": "text/x-python",
   "name": "python",
   "nbconvert_exporter": "python",
   "pygments_lexer": "ipython3",
   "version": "3.8.3"
  }
 },
 "nbformat": 4,
 "nbformat_minor": 4
}
