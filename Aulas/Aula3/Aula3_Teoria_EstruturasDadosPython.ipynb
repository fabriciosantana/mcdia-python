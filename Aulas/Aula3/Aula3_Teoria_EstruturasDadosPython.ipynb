{
 "cells": [
  {
   "cell_type": "markdown",
   "metadata": {},
   "source": [
    "# Aula 3 - Estruturas de Dados Nativas do Python"
   ]
  },
  {
   "cell_type": "markdown",
   "metadata": {},
   "source": [
    "### Ordenando uma lista"
   ]
  },
  {
   "cell_type": "code",
   "execution_count": null,
   "metadata": {},
   "outputs": [],
   "source": [
    "sorted([4,1,5,6,9])"
   ]
  },
  {
   "cell_type": "code",
   "execution_count": null,
   "metadata": {},
   "outputs": [],
   "source": [
    "al = [2, 4, 0, 3, 7, 10, 4, 5]\n",
    "al.sort()\n",
    "print(al)"
   ]
  },
  {
   "cell_type": "markdown",
   "metadata": {},
   "source": [
    "### Erro comum!!!"
   ]
  },
  {
   "cell_type": "code",
   "execution_count": null,
   "metadata": {},
   "outputs": [],
   "source": [
    "al = [2, 4, 0, 3, 7, 10, 4, 5]\n",
    "outra_lista = al.sort()\n",
    "print(outra_lista[0])"
   ]
  },
  {
   "cell_type": "markdown",
   "metadata": {},
   "source": [
    "### Erros de Sintaxe"
   ]
  },
  {
   "cell_type": "markdown",
   "metadata": {},
   "source": [
    "#### Sintaxe é um conjunto de regras que definem o que são ou não sentenças válidas.\n",
    "#### Erro de sintaxe ocorre quando executamos uma sentença inválida. Veja o exemplo abaixo."
   ]
  },
  {
   "cell_type": "code",
   "execution_count": null,
   "metadata": {
    "scrolled": true
   },
   "outputs": [],
   "source": [
    "if 3 > 1\n",
    "    print(\"True\")\n",
    "else\n",
    "    print(\"False\")"
   ]
  },
  {
   "cell_type": "markdown",
   "metadata": {},
   "source": [
    "### Erros de Lógica (Logical Errors)"
   ]
  },
  {
   "cell_type": "code",
   "execution_count": null,
   "metadata": {},
   "outputs": [],
   "source": [
    "a = \"10\"\n",
    "if a == 10:\n",
    "    print(\"True\")\n",
    "else:\n",
    "    print(\"False\")\n"
   ]
  },
  {
   "cell_type": "markdown",
   "metadata": {},
   "source": [
    "### Dicionário (dict)\n",
    "### É uma coleção pares de key-value (chave-valor) de tamanho flexível\n",
    "#### O key e o value podem ser qualquer objeto python"
   ]
  },
  {
   "cell_type": "code",
   "execution_count": null,
   "metadata": {
    "scrolled": true
   },
   "outputs": [],
   "source": [
    "# 1) Criar um dicionário com as seguintes informações de um veículo: \n",
    "#      tipo=carro, ano=2020, ocupacao= 1 e 2\n",
    "# 2) Adicionar um atributo cor=1\n",
    "# 3) Adicionar um atributo fabricante=3\n",
    "# 4) Criar um índice vazio\n",
    "# 5) Imprimir o valor da chave ocupacao\n",
    "\n",
    "empty_dict = {} # Cria um dicionário vazio\n",
    "d1 = {'tipo' : 'carro', 'ano':2020, 'ocup' : [1, 2]} # Cria um dicionário\n",
    "d1['cor'] = 1 # Cria um novo par chave-valor\n",
    "d1['fabric'] = 3 # Cria um novo par chave-valor\n",
    "print(d1)\n",
    "print(d1['ocup'])"
   ]
  },
  {
   "cell_type": "markdown",
   "metadata": {},
   "source": [
    "### Outros métodos relacionados a dicionários"
   ]
  },
  {
   "cell_type": "code",
   "execution_count": null,
   "metadata": {
    "scrolled": true
   },
   "outputs": [],
   "source": [
    "# 1) Crie o seguinte dicionário: d1 = {'tipo' : 'carro', 'ano':2020, 'ocup' : [1, 2]} \n",
    "# 2) Teste se 'tipo' está dentre as chaves de d1 \n",
    "# 3) Remova o par identificado por 'ano'\n",
    "# 4) Remova o par identificado por 'ocup' e retorne o seu valor\n",
    "# 5) Imprima a lista de keys\n",
    "# 6) Adicione esses pares {'motor' : '18c', 'dono' : 12} ao dicionário\n",
    "\n",
    "d1 = {'tipo' : 'carro', 'ano':2020, 'ocup' : [1, 2]} \n",
    "print('tipo' in d1) # Testa: 'tipo' está em d1.keys()?\n",
    "del d1['ano'] # Remove o par identificado por 'ano'\n",
    "ret = d1.pop('ocup') # Remove do dict e retorna o valor\n",
    "print(list(d1.keys()))\n",
    "d1.update({'motor' : '18c', 'dono' : 12}) #atualiza\n",
    "print(d1)"
   ]
  },
  {
   "cell_type": "code",
   "execution_count": null,
   "metadata": {},
   "outputs": [],
   "source": [
    "#O método items retorna um iterator para uma sequência de tuplas (chave, valor)\n",
    "d1 = {'tipo' : 'carro', 'ano':2020, 'ocup' : [1, 2]} \n",
    "for k, v in d1.items():\n",
    "    print(k, v)"
   ]
  },
  {
   "cell_type": "markdown",
   "metadata": {},
   "source": [
    "### Criando uma lista de dicionários"
   ]
  },
  {
   "cell_type": "code",
   "execution_count": null,
   "metadata": {},
   "outputs": [],
   "source": [
    "s = [['yellow',1],['blue', 2],['yellow', 3],['blue', 4],['red', 1]]\n",
    "d = dict()\n",
    "for k, v in s:\n",
    "    if k in d.keys(): # Testar se já existe esta chave no dicionário\n",
    "        d[k].append(v) # Se existir, adiciona um elemento\n",
    "    else:\n",
    "        d[k] = [v] # Se não existir, cria uma lista e o adiciona\n",
    "    print(d, k, v)\n",
    "print(d)"
   ]
  },
  {
   "cell_type": "markdown",
   "metadata": {},
   "source": [
    "### Criando uma lista de dicionários com o defaultdict"
   ]
  },
  {
   "cell_type": "markdown",
   "metadata": {},
   "source": [
    "#### No defaultdict, cada elemento do dicionário é inicializado com um valor padrão."
   ]
  },
  {
   "cell_type": "code",
   "execution_count": null,
   "metadata": {},
   "outputs": [],
   "source": [
    "# Importar a classe defaultdict do modulo collections\n",
    "from collections import defaultdict\n",
    "s = [['yellow',1],['blue', 2],['yellow', 3],['blue', 4],['red', 1]]\n",
    "d = defaultdict(list)\n",
    "for k, v in s:\n",
    "    d[k].append(v)\n",
    "    print(d, k, v)\n",
    "print(d)"
   ]
  },
  {
   "cell_type": "markdown",
   "metadata": {},
   "source": [
    "### Tupla\n",
    "#### Uma sequência de elementos ordenada e imutável"
   ]
  },
  {
   "cell_type": "code",
   "execution_count": null,
   "metadata": {
    "scrolled": true
   },
   "outputs": [],
   "source": [
    "# Uma tupla é iterável\n",
    "tup = (True, \"banana\", 2, None)\n",
    "for x in tup:\n",
    "    print(x)"
   ]
  },
  {
   "cell_type": "code",
   "execution_count": null,
   "metadata": {},
   "outputs": [],
   "source": [
    "# Uma tupla é imutável\n",
    "tup[0] = \"a\""
   ]
  },
  {
   "cell_type": "markdown",
   "metadata": {},
   "source": [
    "### Set\n",
    "#### É uma coleção não ordenada de objetos distintos útil para testar pertinência a grupos, e fazer operações como intersecção e união"
   ]
  },
  {
   "cell_type": "code",
   "execution_count": null,
   "metadata": {
    "scrolled": true
   },
   "outputs": [],
   "source": [
    "c1 = {1, 2, 3, 4}\n",
    "c2 = {3, 4, 5, 6}"
   ]
  },
  {
   "cell_type": "markdown",
   "metadata": {},
   "source": [
    "#### Verificação de pertinência de elemento a grupo"
   ]
  },
  {
   "cell_type": "code",
   "execution_count": null,
   "metadata": {
    "scrolled": true
   },
   "outputs": [],
   "source": [
    "print(1 in c1)\n",
    "print(9 in c2)"
   ]
  },
  {
   "cell_type": "markdown",
   "metadata": {},
   "source": [
    "#### União de conjuntos"
   ]
  },
  {
   "cell_type": "code",
   "execution_count": null,
   "metadata": {},
   "outputs": [],
   "source": [
    "print(c1 | c2)"
   ]
  },
  {
   "cell_type": "markdown",
   "metadata": {},
   "source": [
    "#### Intersecção entre conjuntos"
   ]
  },
  {
   "cell_type": "code",
   "execution_count": null,
   "metadata": {},
   "outputs": [],
   "source": [
    "print(c1 & c2)"
   ]
  },
  {
   "cell_type": "markdown",
   "metadata": {},
   "source": [
    "### Função zip"
   ]
  },
  {
   "cell_type": "code",
   "execution_count": null,
   "metadata": {},
   "outputs": [],
   "source": [
    "# Junta os elementos de duas sequências, na forma de pares (tuplas)\n",
    "\n",
    "letras = [\"a\", \"b\", \"c\"]\n",
    "numeros = [1, 2, 3]\n",
    "\n",
    "for l, n in zip(letras, numeros):\n",
    "    print(f'{l}, {n}')"
   ]
  },
  {
   "cell_type": "markdown",
   "metadata": {},
   "source": [
    "### Instruções inline e List Comprehension"
   ]
  },
  {
   "cell_type": "code",
   "execution_count": null,
   "metadata": {},
   "outputs": [],
   "source": [
    "# 1) Escreva uma instrução if else na forma inline\n",
    "# Dica - Sintaxe: valor_se_verdadeiro if condicao else valor_se_falso\n",
    "# 2) Escreva uma instrução de loop (for) na forma inline calculando [1, 4, 9 ... 100]\n",
    "# Dica - Sintaxe: [ OPERACAO_VAL for VAL in SEQUENCIA ]\n",
    "\n",
    "a = 2\n",
    "# Sintaxe: valor_se_verdadeiro if condicao else valor_se_falso\n",
    "b = 0 if a > 10 else 1  #Sintaxe: vv if cond else vf\n",
    "print(b)\n",
    "# [ OPERACAO_VAL for VAL in SEQUENCIA ]\n",
    "resultado1 = [x for x in range(10)] # list comprehension\n",
    "resultado2 = [x * x for x in range(10)]\n",
    "print(resultado1)\n",
    "print(resultado2)"
   ]
  },
  {
   "cell_type": "markdown",
   "metadata": {},
   "source": [
    "### Requisições HTTP"
   ]
  },
  {
   "cell_type": "code",
   "execution_count": null,
   "metadata": {},
   "outputs": [],
   "source": [
    "# Requisição HTTP para a página Home do Google\n",
    "!curl http://www.google.com"
   ]
  },
  {
   "cell_type": "code",
   "execution_count": null,
   "metadata": {},
   "outputs": [],
   "source": [
    "# Requisição HTTP para retornar um JSON com cotações do Dolar\n",
    "!curl https://api.exchangerate-api.com/v4/latest/USD"
   ]
  },
  {
   "cell_type": "markdown",
   "metadata": {},
   "source": [
    "### Requisições HTTP em Python"
   ]
  },
  {
   "cell_type": "code",
   "execution_count": 3,
   "metadata": {},
   "outputs": [
    {
     "name": "stdout",
     "output_type": "stream",
     "text": [
      "{'provider': 'https://www.exchangerate-api.com', 'WARNING_UPGRADE_TO_V6': 'https://www.exchangerate-api.com/docs/free', 'terms': 'https://www.exchangerate-api.com/terms', 'base': 'USD', 'date': '2021-05-02', 'time_last_updated': 1619956801, 'rates': {'USD': 1, 'AED': 3.67, 'AFN': 77.76, 'ALL': 101.34, 'AMD': 520.69, 'ANG': 1.79, 'AOA': 650.62, 'ARS': 93.44, 'AUD': 1.29, 'AWG': 1.79, 'AZN': 1.7, 'BAM': 1.62, 'BBD': 2, 'BDT': 84.74, 'BGN': 1.62, 'BHD': 0.376, 'BIF': 1949.91, 'BMD': 1, 'BND': 1.33, 'BOB': 6.87, 'BRL': 5.36, 'BSD': 1, 'BTN': 74.11, 'BWP': 10.89, 'BYN': 2.56, 'BZD': 2, 'CAD': 1.23, 'CDF': 1982.38, 'CHF': 0.912, 'CLP': 704.36, 'CNY': 6.47, 'COP': 3723.95, 'CRC': 613.46, 'CUC': 1, 'CUP': 25.75, 'CVE': 91.28, 'CZK': 21.42, 'DJF': 177.72, 'DKK': 6.18, 'DOP': 57.1, 'DZD': 133.35, 'EGP': 15.65, 'ERN': 15, 'ETB': 42.02, 'EUR': 0.828, 'FJD': 2.02, 'FKP': 0.72, 'FOK': 6.18, 'GBP': 0.72, 'GEL': 3.45, 'GGP': 0.72, 'GHS': 5.76, 'GIP': 0.72, 'GMD': 51.87, 'GNF': 9886.02, 'GTQ': 7.69, 'GYD': 213.34, 'HKD': 7.77, 'HNL': 23.98, 'HRK': 6.24, 'HTG': 85.34, 'HUF': 298.39, 'IDR': 14429.74, 'ILS': 3.25, 'IMP': 0.72, 'INR': 74.11, 'IQD': 1455.73, 'IRR': 41911, 'ISK': 123.43, 'JMD': 152.84, 'JOD': 0.709, 'JPY': 109.18, 'KES': 107.7, 'KGS': 84.8, 'KHR': 4071.34, 'KID': 1.29, 'KMF': 407.25, 'KRW': 1113.01, 'KWD': 0.3, 'KYD': 0.833, 'KZT': 428.69, 'LAK': 9407.34, 'LBP': 1507.5, 'LKR': 197, 'LRD': 171.85, 'LSL': 14.43, 'LYD': 4.47, 'MAD': 8.89, 'MDL': 17.79, 'MGA': 3791, 'MKD': 50.8, 'MMK': 1470.27, 'MNT': 2844.74, 'MOP': 8, 'MRU': 35.96, 'MUR': 40.17, 'MVR': 15.39, 'MWK': 792.67, 'MXN': 20.17, 'MYR': 4.1, 'MZN': 57.45, 'NAD': 14.43, 'NGN': 402.27, 'NIO': 35.15, 'NOK': 8.27, 'NPR': 118.58, 'NZD': 1.39, 'OMR': 0.384, 'PAB': 1, 'PEN': 3.78, 'PGK': 3.51, 'PHP': 48.31, 'PKR': 153.43, 'PLN': 3.78, 'PYG': 6438.13, 'QAR': 3.64, 'RON': 4.07, 'RSD': 96.9, 'RUB': 74.94, 'RWF': 999.18, 'SAR': 3.75, 'SBD': 7.92, 'SCR': 14.41, 'SDG': 378.63, 'SEK': 8.43, 'SGD': 1.33, 'SHP': 0.72, 'SLL': 10205.78, 'SOS': 577.27, 'SRD': 14.12, 'SSP': 177.61, 'STN': 20.28, 'SYP': 1265.53, 'SZL': 14.43, 'THB': 31.2, 'TJS': 11.31, 'TMT': 3.5, 'TND': 2.73, 'TOP': 2.26, 'TRY': 8.27, 'TTD': 6.78, 'TVD': 1.29, 'TWD': 27.88, 'TZS': 2314.64, 'UAH': 27.54, 'UGX': 3569.1, 'UYU': 43.78, 'UZS': 10413.8, 'VES': 2822874.48, 'VND': 23048.48, 'VUV': 107.68, 'WST': 2.5, 'XAF': 543, 'XCD': 2.7, 'XDR': 0.696, 'XOF': 543, 'XPF': 98.78, 'YER': 249.81, 'ZAR': 14.43, 'ZMW': 22.31}}\n"
     ]
    }
   ],
   "source": [
    "# Importar a biblioteca que faz requisições HTTP\n",
    "import requests\n",
    "# Fazer uma requisição HTTP\n",
    "r = requests.get(\"https://api.exchangerate-api.com/v4/latest/USD\")\n",
    "# Transformar a resposta em JSON\n",
    "resp_json = r.json()\n",
    "print(resp_json)"
   ]
  },
  {
   "cell_type": "code",
   "execution_count": 4,
   "metadata": {},
   "outputs": [
    {
     "name": "stdout",
     "output_type": "stream",
     "text": [
      "https://www.exchangerate-api.com\n"
     ]
    }
   ],
   "source": [
    "# Imprimir o valor do dicionário correspondente a chave 'provider'\n",
    "print(resp_json['provider'])"
   ]
  },
  {
   "cell_type": "code",
   "execution_count": 5,
   "metadata": {},
   "outputs": [
    {
     "name": "stdout",
     "output_type": "stream",
     "text": [
      "2021-05-02\n"
     ]
    }
   ],
   "source": [
    "# Imprimir o valor do dicionário correspondente a chave 'date'\n",
    "print(resp_json['date'])"
   ]
  },
  {
   "cell_type": "code",
   "execution_count": 6,
   "metadata": {},
   "outputs": [
    {
     "name": "stdout",
     "output_type": "stream",
     "text": [
      "{'USD': 1, 'AED': 3.67, 'AFN': 77.76, 'ALL': 101.34, 'AMD': 520.69, 'ANG': 1.79, 'AOA': 650.62, 'ARS': 93.44, 'AUD': 1.29, 'AWG': 1.79, 'AZN': 1.7, 'BAM': 1.62, 'BBD': 2, 'BDT': 84.74, 'BGN': 1.62, 'BHD': 0.376, 'BIF': 1949.91, 'BMD': 1, 'BND': 1.33, 'BOB': 6.87, 'BRL': 5.36, 'BSD': 1, 'BTN': 74.11, 'BWP': 10.89, 'BYN': 2.56, 'BZD': 2, 'CAD': 1.23, 'CDF': 1982.38, 'CHF': 0.912, 'CLP': 704.36, 'CNY': 6.47, 'COP': 3723.95, 'CRC': 613.46, 'CUC': 1, 'CUP': 25.75, 'CVE': 91.28, 'CZK': 21.42, 'DJF': 177.72, 'DKK': 6.18, 'DOP': 57.1, 'DZD': 133.35, 'EGP': 15.65, 'ERN': 15, 'ETB': 42.02, 'EUR': 0.828, 'FJD': 2.02, 'FKP': 0.72, 'FOK': 6.18, 'GBP': 0.72, 'GEL': 3.45, 'GGP': 0.72, 'GHS': 5.76, 'GIP': 0.72, 'GMD': 51.87, 'GNF': 9886.02, 'GTQ': 7.69, 'GYD': 213.34, 'HKD': 7.77, 'HNL': 23.98, 'HRK': 6.24, 'HTG': 85.34, 'HUF': 298.39, 'IDR': 14429.74, 'ILS': 3.25, 'IMP': 0.72, 'INR': 74.11, 'IQD': 1455.73, 'IRR': 41911, 'ISK': 123.43, 'JMD': 152.84, 'JOD': 0.709, 'JPY': 109.18, 'KES': 107.7, 'KGS': 84.8, 'KHR': 4071.34, 'KID': 1.29, 'KMF': 407.25, 'KRW': 1113.01, 'KWD': 0.3, 'KYD': 0.833, 'KZT': 428.69, 'LAK': 9407.34, 'LBP': 1507.5, 'LKR': 197, 'LRD': 171.85, 'LSL': 14.43, 'LYD': 4.47, 'MAD': 8.89, 'MDL': 17.79, 'MGA': 3791, 'MKD': 50.8, 'MMK': 1470.27, 'MNT': 2844.74, 'MOP': 8, 'MRU': 35.96, 'MUR': 40.17, 'MVR': 15.39, 'MWK': 792.67, 'MXN': 20.17, 'MYR': 4.1, 'MZN': 57.45, 'NAD': 14.43, 'NGN': 402.27, 'NIO': 35.15, 'NOK': 8.27, 'NPR': 118.58, 'NZD': 1.39, 'OMR': 0.384, 'PAB': 1, 'PEN': 3.78, 'PGK': 3.51, 'PHP': 48.31, 'PKR': 153.43, 'PLN': 3.78, 'PYG': 6438.13, 'QAR': 3.64, 'RON': 4.07, 'RSD': 96.9, 'RUB': 74.94, 'RWF': 999.18, 'SAR': 3.75, 'SBD': 7.92, 'SCR': 14.41, 'SDG': 378.63, 'SEK': 8.43, 'SGD': 1.33, 'SHP': 0.72, 'SLL': 10205.78, 'SOS': 577.27, 'SRD': 14.12, 'SSP': 177.61, 'STN': 20.28, 'SYP': 1265.53, 'SZL': 14.43, 'THB': 31.2, 'TJS': 11.31, 'TMT': 3.5, 'TND': 2.73, 'TOP': 2.26, 'TRY': 8.27, 'TTD': 6.78, 'TVD': 1.29, 'TWD': 27.88, 'TZS': 2314.64, 'UAH': 27.54, 'UGX': 3569.1, 'UYU': 43.78, 'UZS': 10413.8, 'VES': 2822874.48, 'VND': 23048.48, 'VUV': 107.68, 'WST': 2.5, 'XAF': 543, 'XCD': 2.7, 'XDR': 0.696, 'XOF': 543, 'XPF': 98.78, 'YER': 249.81, 'ZAR': 14.43, 'ZMW': 22.31}\n"
     ]
    }
   ],
   "source": [
    "# Imprimir o valor do dicionário correspondente a chave 'rates'\n",
    "print(resp_json['rates'])"
   ]
  },
  {
   "cell_type": "code",
   "execution_count": 7,
   "metadata": {},
   "outputs": [
    {
     "name": "stdout",
     "output_type": "stream",
     "text": [
      "5.36\n"
     ]
    }
   ],
   "source": [
    "# Imprimir o valor da cotação do dolar em reais\n",
    "print(resp_json['rates']['BRL'])"
   ]
  },
  {
   "cell_type": "code",
   "execution_count": null,
   "metadata": {},
   "outputs": [],
   "source": [
    "print(resp_json['provider'])\n",
    "print(resp_json['date'])\n",
    "print(resp_json['rates'])\n",
    "print(resp_json['rates']['BRL'])"
   ]
  }
 ],
 "metadata": {
  "kernelspec": {
   "display_name": "Python 3",
   "language": "python",
   "name": "python3"
  },
  "language_info": {
   "codemirror_mode": {
    "name": "ipython",
    "version": 3
   },
   "file_extension": ".py",
   "mimetype": "text/x-python",
   "name": "python",
   "nbconvert_exporter": "python",
   "pygments_lexer": "ipython3",
   "version": "3.8.3"
  },
  "varInspector": {
   "cols": {
    "lenName": 16,
    "lenType": 16,
    "lenVar": 40
   },
   "kernels_config": {
    "python": {
     "delete_cmd_postfix": "",
     "delete_cmd_prefix": "del ",
     "library": "var_list.py",
     "varRefreshCmd": "print(var_dic_list())"
    },
    "r": {
     "delete_cmd_postfix": ") ",
     "delete_cmd_prefix": "rm(",
     "library": "var_list.r",
     "varRefreshCmd": "cat(var_dic_list()) "
    }
   },
   "types_to_exclude": [
    "module",
    "function",
    "builtin_function_or_method",
    "instance",
    "_Feature"
   ],
   "window_display": false
  }
 },
 "nbformat": 4,
 "nbformat_minor": 4
}
