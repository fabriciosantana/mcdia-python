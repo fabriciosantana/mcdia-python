{
 "cells": [
  {
   "cell_type": "markdown",
   "metadata": {},
   "source": [
    "# Aula 3 - Exercícios Extra - Estruturas de Dados Nativas do Python\n"
   ]
  },
  {
   "cell_type": "code",
   "execution_count": 2,
   "metadata": {},
   "outputs": [],
   "source": [
    "#@title Init Cell - Execute-me!!!\n",
    "import sys\n",
    "from datetime import datetime\n",
    "import requests\n",
    "import time\n",
    "from requests.utils import quote\n",
    "url = 'https://docs.google.com/forms/d/e/1FAIpQLSeASSC8-w8FmfodZ4lBnuSEAvYuE4vatIBowLIREG1f-2pIpA/formResponse?usp=pp_url&entry.1986154915=mbacd&entry.513694412=2021&entry.1914621244=CienciaDeDados'\n",
    "\n",
    "def format_values(values):\n",
    "    return [{\n",
    "        \"entry.1269959472\": values['student_id'],\n",
    "        \"entry.1799867692\": values['exercise_number'],\n",
    "        \"entry.886231469\": values['exercise_score'],\n",
    "        \"entry.1491599254\": values['exercise_extra']\n",
    "    }]\n",
    "\n",
    "def send_attendance(url, data):\n",
    "    count = 0\n",
    "    for d in data:\n",
    "        try:\n",
    "          if count > 0:\n",
    "            time.sleep(1)\n",
    "          requests.post(url, data=d)\n",
    "          count += 1\n",
    "        except:\n",
    "          print(\"Error Occured!\")\n",
    "          time.sleep(2)\n",
    "\n",
    "def validate(current_question_output, exercise_number, exercise_extra):\n",
    "  student_email=!gcloud config get-value account\n",
    "  if not student_email or 'unset' in student_email[0]:\n",
    "    !gcloud auth login\n",
    "    student_email=!gcloud config get-value account\n",
    "  \n",
    "  if current_question_output:\n",
    "      exercise_score = True\n",
    "      print(\"Parabéns\")\n",
    "  else:\n",
    "      exercise_score = False\n",
    "      print(\"Resposta incorreta.\")\n",
    "\n",
    "  values = {\"exercise_number\": exercise_number, \"student_id\": student_email[0],\n",
    "            \"exercise_points\": 1, \"exercise_score\": exercise_score, \n",
    "            \"exercise_extra\": exercise_extra}\n",
    "  final_data = format_values(values)\n",
    "  send_attendance(f\"{url}&emailAddress={quote(str(student_email[0]))}\", final_data)\n"
   ]
  },
  {
   "cell_type": "markdown",
   "metadata": {},
   "source": [
    "### 3.3 Escreva uma função Python para combinar os itens de mesma chave de uma lista de  dicionários, somando os valores correspondentes.\n",
    "#### Exemplo:  para ```[{'item': 'carro', 'quantidade': 400}, {'item': 'moto', 'quantidade': 300}, {'item': 'carro', 'quantidade': 750}]```\n",
    "#### Resultado esperado: ```{'carro': 1150, 'moto': 300}```"
   ]
  },
  {
   "cell_type": "code",
   "execution_count": 1,
   "metadata": {
    "nbgrader": {
     "grade": false,
     "grade_id": "cell-e0a4e5deea9187c4",
     "locked": false,
     "schema_version": 3,
     "solution": true,
     "task": false
    }
   },
   "outputs": [],
   "source": [
    "def combine_items(item_list):\n",
    "    \"\"\"retorne um dicionário combinando (somando) as quantidades do mesmo item\n",
    "    \"\"\"\n",
    "    ### BEGIN SOLUTION\n",
    "    result = {}\n",
    "    for i in item_list:\n",
    "        if i['item'] in result:\n",
    "            result[i['item']] += i['quantidade']\n",
    "        else:\n",
    "            result[i['item']] = i['quantidade']\n",
    "    return result\n",
    "    ### END SOLUTION"
   ]
  },
  {
   "cell_type": "code",
   "execution_count": 16,
   "metadata": {},
   "outputs": [],
   "source": [
    "## Faça seus testes aqui\n"
   ]
  },
  {
   "cell_type": "code",
   "execution_count": 17,
   "metadata": {
    "nbgrader": {
     "grade": true,
     "grade_id": "cell-30d325468b6f6a67",
     "locked": true,
     "points": 1,
     "schema_version": 3,
     "solution": false,
     "task": false
    }
   },
   "outputs": [],
   "source": [
    "# Validação\n",
    "input_data = [{'item': 'carro', 'quantidade': 400}, \n",
    "              {'item': 'moto', 'quantidade': 300}, \n",
    "              {'item': 'carro', 'quantidade': 750}]\n",
    "output_result = {'carro': 1150, 'moto': 300}\n",
    "v1 = combine_items(input_data) == output_result\n",
    "current_question_output = v1\n",
    "assert current_question_output\n",
    "validate(current_question_output, \"3.3\", True)"
   ]
  },
  {
   "cell_type": "markdown",
   "metadata": {},
   "source": [
    "### 3.4 Usando um defaultdict, escreva uma função Python para transformar uma lista de listas num dicionário. Os valores repetidos de uma lista devem ser associados a mesma chave do dicionário, como no exemplo abaixo.\n",
    "#### Exemplo:  ```[ [\"carro\", 10], [\"moto\", 20], [\"trem\", 5], [\"carro\", 30], [\"caminhao\", 20] ]```\n",
    "#### Resultado esperado: ```{\"carro\": [10, 30], \"moto\": [20], \"trem\": [5], \"caminhao\": [20] }```"
   ]
  },
  {
   "cell_type": "code",
   "execution_count": null,
   "metadata": {},
   "outputs": [],
   "source": [
    "def dict_from_list(lista):\n",
    "    ### BEGIN SOLUTION\n",
    "    from collections import defaultdict\n",
    "    d = defaultdict(list)\n",
    "    for k, v in lista:\n",
    "        d[k].append(v)\n",
    "\n",
    "    return d\n",
    "    ### END SOLUTION"
   ]
  },
  {
   "cell_type": "code",
   "execution_count": null,
   "metadata": {},
   "outputs": [],
   "source": [
    "## Faça seus testes aqui\n"
   ]
  },
  {
   "cell_type": "code",
   "execution_count": null,
   "metadata": {},
   "outputs": [],
   "source": [
    "# Validação\n",
    "lista2 = [ [\"carro\", 10], [\"moto\", 20], [\"trem\", 5], [\"carro\", 30], [\"caminhao\", 20] ]\n",
    "v1 = dict_from_list(lista2) == {'carro': [10, 30], 'moto': [20], 'trem': [5], 'caminhao': [20]}\n",
    "current_question_output = v1\n",
    "assert current_question_output\n",
    "validate(current_question_output, \"3.4\", True)"
   ]
  },
  {
   "cell_type": "markdown",
   "metadata": {},
   "source": [
    "### 3.5 Escreva uma função Python para computar o valor total de uma compra de supermercado e dar baixa no estoque (deduzir a quantidade comprada da quantidade em estoque). Retorne o valor total da compra e altere o dicionário de estoque sem retorná-lo.\n",
    "#### Se a quantidade do item em estoque for menor do que a quantidade da lista de compra, o estoque restante deve ser vendido.\n",
    "\n",
    "#### Exemplo:  \n",
    "####                   ```lista_compras = {\"arroz\":1, \"feijao\":2, \"macarrao\":3}```\n",
    "####                   ```estoque = {\"arroz\": 60, \"feijao\": 30, \"macarrao\": 1, \"farinha\": 15}```\n",
    "####                   ```precos = {\"arroz\": 4, \"feijao\": 2, \"macarrao\": 1.5, \"farinha\": 3}```\n",
    "#### Resultado esperado: ```total = 9.5```"
   ]
  },
  {
   "cell_type": "code",
   "execution_count": 4,
   "metadata": {},
   "outputs": [],
   "source": [
    "def compra(estoque, precos, lista):\n",
    "    ### BEGIN SOLUTION\n",
    "    total = 0\n",
    "    for x in lista:\n",
    "        if estoque[x] > lista[x]:\n",
    "           total = total + precos[x]*lista[x]\n",
    "           estoque[x] = estoque[x] - lista[x]\n",
    "        else:\n",
    "           total = total + precos[x]*estoque[x]\n",
    "           estoque[x] = 0\n",
    "    return total\n",
    "    ### END SOLUTION"
   ]
  },
  {
   "cell_type": "code",
   "execution_count": 5,
   "metadata": {},
   "outputs": [],
   "source": [
    "## Faça seus testes aqui\n"
   ]
  },
  {
   "cell_type": "code",
   "execution_count": 6,
   "metadata": {},
   "outputs": [
    {
     "name": "stdout",
     "output_type": "stream",
     "text": [
      "Parabéns\n"
     ]
    }
   ],
   "source": [
    "# Validação\n",
    "lista_compras = {\"arroz\":1, \"feijao\":2, \"macarrao\":3}\n",
    "estoque = {\"arroz\": 60, \"feijao\": 30, \"macarrao\": 1, \"farinha\": 15}\n",
    "precos = {\"arroz\": 4, \"feijao\": 2, \"macarrao\": 1.5, \"farinha\": 3}\n",
    "v1 = compra(estoque, precos, lista_compras) == 9.5\n",
    "current_question_output = v1\n",
    "assert current_question_output\n",
    "validate(current_question_output, \"3.5\", True)"
   ]
  },
  {
   "cell_type": "markdown",
   "metadata": {},
   "source": [
    "### 3.6 Usando o tipo de dados set (conjuntos) do python, crie uma função python que  retorne os elementos que não estão na intersecção das duas listas passadas como argumento. O retorno deve ser uma lista.\n",
    "#### Exemplo:\n",
    "```\n",
    "lista1 = [\"awerr\", \"aa\", \"awyt\", \"g\", \"sssaere\"]\n",
    "lista2 = [\"awerr\", \"aa\", \"sssaere\", \"aabb\", \"qwerttt\", \"12345\"]```\n",
    "#### Retorno esperado:\n",
    "```\n",
    "['awyt', 'g', 'aabb', 'qwerttt', '12345']```\n",
    "#### dica 1: Converta as listas para set. Exemplo: ```c1=set(lista1)```\n",
    "#### dica 2: crie o conjunto interseção e o conjunto uniao dos dois conjuntos correspondentes às duas listas.\n",
    "#### dica 3: faça a diferença entre a união e a interseção.\n",
    "#### dica 4: faça a conversão do conjunto resultado para lista: ```resultado = list(c)```\n",
    "\n"
   ]
  },
  {
   "cell_type": "code",
   "execution_count": 19,
   "metadata": {},
   "outputs": [],
   "source": [
    "def not_union_inters(l1, l2):\n",
    "    ### BEGIN SOLUTION\n",
    "    c1 = set(l1)\n",
    "    c2 = set(l2)\n",
    "    uniao = c1.union(c2)\n",
    "    intersecao = c1.intersection(c2)\n",
    "    return list(uniao - intersecao)\n",
    "    ### END SOLUTION"
   ]
  },
  {
   "cell_type": "code",
   "execution_count": 20,
   "metadata": {},
   "outputs": [],
   "source": [
    "## Faça seus testes aqui\n"
   ]
  },
  {
   "cell_type": "code",
   "execution_count": 15,
   "metadata": {},
   "outputs": [
    {
     "name": "stdout",
     "output_type": "stream",
     "text": [
      "Parabéns\n"
     ]
    }
   ],
   "source": [
    "lista1 = [\"awerr\", \"aa\", \"awyt\", \"g\", \"sssaere\"]\n",
    "lista2 = [\"awerr\", \"aa\", \"sssaere\", \"aabb\", \"qwerttt\", \"12345\"]\n",
    "v1 = set(not_union_inters(lista1, lista2)) == {'12345', 'qwerttt', 'awyt', 'aabb', 'g'}\n",
    "current_question_output = v1\n",
    "assert current_question_output\n",
    "validate(current_question_output, \"3.6\", True)"
   ]
  },
  {
   "cell_type": "markdown",
   "metadata": {},
   "source": [
    "### 3.7 Crie uma função para gerar tuplas compostas pelos elementos em posições de mesmo ínidce numa lista e na sua lista reversa. A lista deve ser passada como argumento da função.\n",
    "#### Exemplo: \n",
    "```lista = [1, 4, 6, 10, 5]\n",
    "lista_reversa = [5, 10, 6, 4, 1]```\n",
    "#### Resultado esperado: \n",
    "```[(1,5) , (4,10) , (6,6) , (10,4) , (5,1)]\n",
    "```\n",
    "#### Dica: use a função zip"
   ]
  },
  {
   "cell_type": "code",
   "execution_count": 16,
   "metadata": {},
   "outputs": [],
   "source": [
    "def lista_tuplas(l):\n",
    "    ### BEGIN SOLUTION\n",
    "    resultado = []\n",
    "    for e1, e2 in zip(l, l[::-1]):\n",
    "        resultado.append((e1,e2))\n",
    "    return resultado\n",
    "    ### END SOLUTION"
   ]
  },
  {
   "cell_type": "code",
   "execution_count": null,
   "metadata": {},
   "outputs": [],
   "source": [
    "## Faça seus testes aqui\n"
   ]
  },
  {
   "cell_type": "code",
   "execution_count": 18,
   "metadata": {},
   "outputs": [
    {
     "name": "stdout",
     "output_type": "stream",
     "text": [
      "Parabéns\n"
     ]
    }
   ],
   "source": [
    "lista = [1, 4, 6, 10, 5]\n",
    "v1 = lista_tuplas(lista) == [(1, 5), (4, 10), (6, 6), (10, 4), (5, 1)]\n",
    "current_question_output = v1\n",
    "assert current_question_output\n",
    "validate(current_question_output, \"3.7\", True)"
   ]
  },
  {
   "cell_type": "markdown",
   "metadata": {},
   "source": [
    "### 3.8 Crie uma função python que receba uma lista como argumento, e usando um list comprehenion, crie uma lista de dicionários. A chave de cada dicionário, na lista resultante, deve ser o elemento da lista (passada como argumento) e o valor a sua posição (índice) dentro desta lista.\n",
    "#### Exemplo: \n",
    "```lista = [\"azul\", \"amarelo\", \"vermelho\"]```\n",
    "#### Resultado esperado: \n",
    "```[{\"azul\": 0}, {\"amarelo\": 1}, {\"vermelho\": 2}]```\n",
    "\n",
    "#### Dica: use a função index para extrair o índice de um elemento numa lista. Exemplo: ``` lista.index(\"azul\") ```\n"
   ]
  },
  {
   "cell_type": "code",
   "execution_count": 26,
   "metadata": {},
   "outputs": [],
   "source": [
    "def lista_dicionarios(l):\n",
    "    ### BEGIN SOLUTION\n",
    "    return [{i: l.index(i)} for i in l]\n",
    "    ### END SOLUTION"
   ]
  },
  {
   "cell_type": "code",
   "execution_count": 27,
   "metadata": {},
   "outputs": [
    {
     "name": "stdout",
     "output_type": "stream",
     "text": [
      "Parabéns\n"
     ]
    }
   ],
   "source": [
    "lista = [\"azul\", \"amarelo\", \"vermelho\"]\n",
    "v1 = lista_dicionarios(lista) == [{'azul': 0}, {'amarelo': 1}, {'vermelho': 2}]\n",
    "current_question_output = v1\n",
    "assert current_question_output\n",
    "validate(current_question_output, \"3.8\", True)"
   ]
  },
  {
   "cell_type": "markdown",
   "metadata": {},
   "source": [
    "### 3.9 Crie uma função python que receba um dicionário (de alunos e notas) como argumento, e usando um list comprehenion, crie uma lista com as respectivas notas abaixo de um certo valor passado como argumento da função.\n",
    "#### Exemplo: \n",
    "```lista = {\"Joao\": 10, \"Jose\": 5, \"Roberta\": 9, \"Maria\": 6}\n",
    "minimo = 7```\n",
    "#### Resultado esperado: \n",
    "```[5, 6]```\n",
    "\n",
    "#### Dica: use a seguinte sintaxe de list comprehension ```[i for i in lista if condicao] ``` onde ```condição``` é uma expressão que retorna um valor ```True``` ou ```False```. Neste caso, estarão na lista resultante somente os elementos cuja ```condição``` retornou ```True```.\n"
   ]
  },
  {
   "cell_type": "code",
   "execution_count": 37,
   "metadata": {},
   "outputs": [],
   "source": [
    "def nota_baixa(n, minimo):\n",
    "    ### BEGIN SOLUTION\n",
    "    return [i for i in n.values() if i < minimo]\n",
    "    ### END SOLUTION"
   ]
  },
  {
   "cell_type": "code",
   "execution_count": 39,
   "metadata": {},
   "outputs": [
    {
     "name": "stdout",
     "output_type": "stream",
     "text": [
      "Parabéns\n"
     ]
    }
   ],
   "source": [
    "notas = {\"Joao\": 10, \"Jose\": 5, \"Roberta\": 9, \"Maria\": 6}\n",
    "minimo = 7\n",
    "v1 = nota_baixa(notas, minimo) == [5, 6]\n",
    "current_question_output = v1\n",
    "assert current_question_output\n",
    "validate(current_question_output, \"3.9\", True)"
   ]
  },
  {
   "cell_type": "markdown",
   "metadata": {},
   "source": [
    "### Os exercícios a seguir se baseiam num pequeno extrato de um dataset real dos serviços públicos brasileiros. Os serviços a seguir são da Fio Cruz. \n",
    "\n",
    "#### Curiosidade 1: Se tiver curiosidade consultar a fonte diretamente, execute o seguinte comando num console: ```curl https://www.servicos.gov.br/api/v1/servicos/9029```\n",
    "#### Curiosidade 2: Se quiser visualizar esses resultados no navegador no formato XML, acesse esta URL no navegador https://www.servicos.gov.br/api/v1/servicos/9029\n",
    "#### Curiosidade 3: Se quiser visualizar esses resultados no navegador no formato JSON, acesse a URL https://jsonformatter.org/json-viewer, e use a função Load Data para carregar os dados da URL https://www.servicos.gov.br/api/v1/servicos/9029.\n",
    "#### Curiosidade 4: 9029 é o código Siorg da Fiocruz\n",
    "#### Curiosidade 5: A documentação desta API encontra-se publicada em https://www.servicos.gov.br/api/v1/docs"
   ]
  },
  {
   "cell_type": "code",
   "execution_count": 44,
   "metadata": {},
   "outputs": [
    {
     "name": "stdout",
     "output_type": "stream",
     "text": [
      "{'resposta': {'id': 'https://www.servicos.gov.br/api/v1/servicos/9029', 'nome': \"Solicitar diagnóstico de referência em 'Bacillus Anthracis' em material de preparações suspeitas de ação proposital ou intencional - Fiocruz/RJ\", 'sigla': '', 'descricao': 'O Laboratório de Referência Nacional para Carbúnculo (LARENAC) do Instituto Oswaldo Cruz (IOC/Fiocruz) dedica-se ao diagnóstico de *Bacillus anthraci*s em material clínico de origem tanto veterinária como humana e também realiza ensaios de detecção em prepações intencionais suspeitas (bioterroriosmo), assim como pesquisa de *B.antrhacis* em solos. O LARENAC é capacitado para a análise de produtos de origem animal que necessitem de laudo comprobatório de ausência de *B.anthracis*.\\n\\n', 'contato': '**Telefone:** 21 2562-1637 , 21 2562-1615\\n\\n \\xa0\\n\\n **E-mail:** [avivoni@ioc.fiocruz.br](mailto:avivoni@ioc.fiocruz.br)\\n\\n \\xa0\\n\\n **Site:**<http://www.fiocruz.br/ioclabs/cgi/cgilua.exe/sys/start.htm?sid=701>\\n\\n', 'gratuito': 'True', 'porcentagemDigital': 66, 'servicoDigital': False, 'linkServicoDigital': '', 'nomesPopulares': {'item': [{'item': '', 'id': 20078}]}, 'solicitantes': {'solicitante': [{'id': 21990, 'tipo': ' * Órgãos e entidades públicas\\n ', 'requisitos': 'É necessário ser instituição pública e antes do envio contactar o laboratório por e-mail ou telefone.\\n\\n'}]}, 'tempoTotalEstimado': {'ate': {'max': '10', 'unidade': 'dias-uteis'}, 'entre': None, 'emMedia': None, 'atendimentoImediato': None, 'naoEstimadoAinda': None, 'descricao': None, 'min': None, 'max': 10}, 'validadeDocumento': {'tipo': 'Sem validade', 'quantidade': '0', 'unidade': '', 'descricao': ''}, 'orgao': {'id': 'http://estruturaorganizacional.dados.gov.br/id/unidade-organizacional/315', 'dbId': 34312, 'nomeOrgao': 'Fundação Oswaldo Cruz (FIOCRUZ)', 'porcentagemDigital': None, 'tempoMedioEspera': None, 'porcentagemAvaliacoesPositivas': None, 'qtdTotal': None, 'qtdTotalSolicitacoes': None, 'qtdDenuncias': None, 'qtdReclamacao': None}, 'segmentosDaSociedade': {'item': [{'item': 'Órgãos e entidades públicas', 'idSegmento': 2, 'idServicoSegmento': 34434}]}, 'areasDeInteresse': {'item': ['Atendimento Especializado']}, 'palavrasChave': {'item': [{'item': 'Carbúnculo Hemático', 'id': 73745}, {'item': 'Antraz', 'id': 73746}, {'item': 'Bioterrorismo', 'id': 73747}]}, 'legislacoes': {'item': [{'item': '', 'id': 18695}]}, 'avaliacoes': {'positivas': 0, 'negativas': 0}, 'condicoesAcessibilidade': 'Rampa\\n\\n', 'tratamentoPrioritario': 'Terão prioridade os casos graves e o esclarecimento diagnóstico de surtos.(Em casos de surto entrar em contato por e-mail ou telefone para verificar como enviar amostras.)\\n\\n', 'tratamentoDispensadoAtendimento': 'O usuário deverá receber, conforme os princípios expressos na lei nº 13.460/17, um atendimento pautado por diretrizes de urbanidade, respeito, acessibilidade, cortesia, presunção da boa-fé, igualdade, eficiência, segurança e ética.\\n\\n', 'etapas': [{'id': 44484, 'titulo': 'Solicitar ensaio', 'descricao': 'Para que a amostra seja recebida e analisada, é necessário informar a instituição, a procedência da amostra e o serviço solicitado por e-mail. Esses dados devem constar em ofício.\\n\\n', 'documentos': {'documentos': [{'id': 69372, 'nome': 'Ofício de encaminhamento\\n\\n'}], 'casos': []}, 'custos': {'custos': None, 'casos': []}, 'canaisDePrestacao': {'canaisDePrestacao': [{'id': 56097, 'tipo': 'e-mail', 'descricao': 'avivoni@ioc.fiocruz.br\\n\\n', 'procedimentoSistemaIndisponivel': None, 'tempoEstimadoPeriodo': None, 'tempoEstimadoEspera': None, 'tempoEstimadoPeriodoService': None}], 'casos': []}, 'tempoTotalEstimado': {'ate': None, 'entre': None, 'emMedia': None, 'atendimentoImediato': None, 'naoEstimadoAinda': {}, 'descricao': None, 'min': None, 'max': None}}, {'id': 44485, 'titulo': 'Coletar, embalar e enviar', 'descricao': 'As amostras devem ser coletadas por profissionais capacitados, devidamente paramentados com a indumentária adequada e devem ser embaladas segundo a norma UN2814.\\n\\n As amostras encaminhadas para analise pelos laboratórios de Referência da Fiocruz serão recebidas pela CRA quando estiverem em condições próprias de acondicionamento e transporte e acompanhadas de documentação pertinente.\\n\\n Observação: se possível, encaminhar junto fotos do local contaminado, antes da coleta.\\n\\n', 'documentos': {'documentos': [{'id': 69373, 'nome': 'Ofício de encaminhamento\\n\\n'}], 'casos': []}, 'custos': {'custos': None, 'casos': []}, 'canaisDePrestacao': {'canaisDePrestacao': [{'id': 56098, 'tipo': 'presencial', 'descricao': 'Fiocruz\\xa0- Pavilhão do INCQS\\xa0(Instituto Nacional de Controle de Qualidade em Saúde)\\n\\n Avenida Brasil, 4365 -\\xa0Manguinhos - Rio de Janeiro- RJ - CEP: 21040-360\\n\\n A/C: Central de Recebimento de Amostra (CRA)\\xa0\\n\\n Para informações sobre a entrega do material, entrar em contato com o CRA pelo telefone (21) 3865-5138 ou pelo e-mail:\\xa0[central.amostras@incqs.fiocruz.br](mailto:central.amostras@incqs.fiocruz.br)\\n\\n', 'procedimentoSistemaIndisponivel': None, 'tempoEstimadoPeriodo': 'horas', 'tempoEstimadoEspera': 1, 'tempoEstimadoPeriodoService': None}], 'casos': []}, 'tempoTotalEstimado': {'ate': None, 'entre': None, 'emMedia': None, 'atendimentoImediato': None, 'naoEstimadoAinda': {}, 'descricao': None, 'min': None, 'max': None}}, {'id': 44486, 'titulo': 'Receber laudo de análise', 'descricao': 'Os resultados das análises são emitidos em documento denominado Relatório de Ensaio e a entrega sera acordada por e-mail (avivoni@ioc.fiocruz.br)\\n\\n', 'documentos': {'documentos': None, 'casos': []}, 'custos': {'custos': None, 'casos': []}, 'canaisDePrestacao': {'canaisDePrestacao': [{'id': 56099, 'tipo': 'e-mail', 'descricao': 'Envio do laudo por e-mail no prazo estabelecido.\\n\\n', 'procedimentoSistemaIndisponivel': None, 'tempoEstimadoPeriodo': None, 'tempoEstimadoEspera': None, 'tempoEstimadoPeriodoService': None}], 'casos': []}, 'tempoTotalEstimado': {'ate': None, 'entre': None, 'emMedia': None, 'atendimentoImediato': None, 'naoEstimadoAinda': {}, 'descricao': None, 'min': None, 'max': None}}], 'tempoMediaEspera': '10', 'percentualAvaliacoesPositivas': '-1', 'url': 'https://www.servicos.gov.br/servico/solicitar-diagnostico-de-referencia-em-bacillus-anthracis-em-material-de-preparacoes-suspeitas-de-acao-proposital-ou-intencional-fiocruz-rj'}, 'mensagem': None, 'hasErro': False}\n"
     ]
    }
   ],
   "source": [
    "servicos = {\"resposta\":{\"id\":\"https://www.servicos.gov.br/api/v1/servicos/9029\",\"nome\":\"Solicitar diagnóstico de referência em 'Bacillus Anthracis' em material de preparações suspeitas de ação proposital ou intencional - Fiocruz/RJ\",\"sigla\":\"\",\"descricao\":\"O Laboratório de Referência Nacional para Carbúnculo (LARENAC) do Instituto Oswaldo Cruz (IOC/Fiocruz) dedica-se ao diagnóstico de *Bacillus anthraci*s em material clínico de origem tanto veterinária como humana e também realiza ensaios de detecção em prepações intencionais suspeitas (bioterroriosmo), assim como pesquisa de *B.antrhacis* em solos. O LARENAC é capacitado para a análise de produtos de origem animal que necessitem de laudo comprobatório de ausência de *B.anthracis*.\\n\\n\",\"contato\":\"**Telefone:** 21 2562-1637 , 21 2562-1615\\n\\n  \\n\\n **E-mail:** [avivoni@ioc.fiocruz.br](mailto:avivoni@ioc.fiocruz.br)\\n\\n  \\n\\n **Site:**<http://www.fiocruz.br/ioclabs/cgi/cgilua.exe/sys/start.htm?sid=701>\\n\\n\",\"gratuito\":\"True\",\"porcentagemDigital\":66,\"servicoDigital\":False,\"linkServicoDigital\":\"\",\"nomesPopulares\":{\"item\":[{\"item\":\"\",\"id\":20078}]},\"solicitantes\":{\"solicitante\":[{\"id\":21990,\"tipo\":\" * Órgãos e entidades públicas\\n \",\"requisitos\":\"É necessário ser instituição pública e antes do envio contactar o laboratório por e-mail ou telefone.\\n\\n\"}]},\"tempoTotalEstimado\":{\"ate\":{\"max\":\"10\",\"unidade\":\"dias-uteis\"},\"entre\":None,\"emMedia\":None,\"atendimentoImediato\":None,\"naoEstimadoAinda\":None,\"descricao\":None,\"min\":None,\"max\":10},\"validadeDocumento\":{\"tipo\":\"Sem validade\",\"quantidade\":\"0\",\"unidade\":\"\",\"descricao\":\"\"},\"orgao\":{\"id\":\"http://estruturaorganizacional.dados.gov.br/id/unidade-organizacional/315\",\"dbId\":34312,\"nomeOrgao\":\"Fundação Oswaldo Cruz (FIOCRUZ)\",\"porcentagemDigital\":None,\"tempoMedioEspera\":None,\"porcentagemAvaliacoesPositivas\":None,\"qtdTotal\":None,\"qtdTotalSolicitacoes\":None,\"qtdDenuncias\":None,\"qtdReclamacao\":None},\"segmentosDaSociedade\":{\"item\":[{\"item\":\"Órgãos e entidades públicas\",\"idSegmento\":2,\"idServicoSegmento\":34434}]},\"areasDeInteresse\":{\"item\":[\"Atendimento Especializado\"]},\"palavrasChave\":{\"item\":[{\"item\":\"Carbúnculo Hemático\",\"id\":73745},{\"item\":\"Antraz\",\"id\":73746},{\"item\":\"Bioterrorismo\",\"id\":73747}]},\"legislacoes\":{\"item\":[{\"item\":\"\",\"id\":18695}]},\"avaliacoes\":{\"positivas\":0,\"negativas\":0},\"condicoesAcessibilidade\":\"Rampa\\n\\n\",\"tratamentoPrioritario\":\"Terão prioridade os casos graves e o esclarecimento diagnóstico de surtos.(Em casos de surto entrar em contato por e-mail ou telefone para verificar como enviar amostras.)\\n\\n\",\"tratamentoDispensadoAtendimento\":\"O usuário deverá receber, conforme os princípios expressos na lei nº 13.460/17, um atendimento pautado por diretrizes de urbanidade, respeito, acessibilidade, cortesia, presunção da boa-fé, igualdade, eficiência, segurança e ética.\\n\\n\",\"etapas\":[{\"id\":44484,\"titulo\":\"Solicitar ensaio\",\"descricao\":\"Para que a amostra seja recebida e analisada, é necessário informar a instituição, a procedência da amostra e o serviço solicitado por e-mail. Esses dados devem constar em ofício.\\n\\n\",\"documentos\":{\"documentos\":[{\"id\":69372,\"nome\":\"Ofício de encaminhamento\\n\\n\"}],\"casos\":[]},\"custos\":{\"custos\":None,\"casos\":[]},\"canaisDePrestacao\":{\"canaisDePrestacao\":[{\"id\":56097,\"tipo\":\"e-mail\",\"descricao\":\"avivoni@ioc.fiocruz.br\\n\\n\",\"procedimentoSistemaIndisponivel\":None,\"tempoEstimadoPeriodo\":None,\"tempoEstimadoEspera\":None,\"tempoEstimadoPeriodoService\":None}],\"casos\":[]},\"tempoTotalEstimado\":{\"ate\":None,\"entre\":None,\"emMedia\":None,\"atendimentoImediato\":None,\"naoEstimadoAinda\":{},\"descricao\":None,\"min\":None,\"max\":None}},{\"id\":44485,\"titulo\":\"Coletar, embalar e enviar\",\"descricao\":\"As amostras devem ser coletadas por profissionais capacitados, devidamente paramentados com a indumentária adequada e devem ser embaladas segundo a norma UN2814.\\n\\n As amostras encaminhadas para analise pelos laboratórios de Referência da Fiocruz serão recebidas pela CRA quando estiverem em condições próprias de acondicionamento e transporte e acompanhadas de documentação pertinente.\\n\\n Observação: se possível, encaminhar junto fotos do local contaminado, antes da coleta.\\n\\n\",\"documentos\":{\"documentos\":[{\"id\":69373,\"nome\":\"Ofício de encaminhamento\\n\\n\"}],\"casos\":[]},\"custos\":{\"custos\":None,\"casos\":[]},\"canaisDePrestacao\":{\"canaisDePrestacao\":[{\"id\":56098,\"tipo\":\"presencial\",\"descricao\":\"Fiocruz - Pavilhão do INCQS (Instituto Nacional de Controle de Qualidade em Saúde)\\n\\n Avenida Brasil, 4365 - Manguinhos - Rio de Janeiro- RJ - CEP: 21040-360\\n\\n A/C: Central de Recebimento de Amostra (CRA) \\n\\n Para informações sobre a entrega do material, entrar em contato com o CRA pelo telefone (21) 3865-5138 ou pelo e-mail: [central.amostras@incqs.fiocruz.br](mailto:central.amostras@incqs.fiocruz.br)\\n\\n\",\"procedimentoSistemaIndisponivel\":None,\"tempoEstimadoPeriodo\":\"horas\",\"tempoEstimadoEspera\":1,\"tempoEstimadoPeriodoService\":None}],\"casos\":[]},\"tempoTotalEstimado\":{\"ate\":None,\"entre\":None,\"emMedia\":None,\"atendimentoImediato\":None,\"naoEstimadoAinda\":{},\"descricao\":None,\"min\":None,\"max\":None}},{\"id\":44486,\"titulo\":\"Receber laudo de análise\",\"descricao\":\"Os resultados das análises são emitidos em documento denominado Relatório de Ensaio e a entrega sera acordada por e-mail (avivoni@ioc.fiocruz.br)\\n\\n\",\"documentos\":{\"documentos\":None,\"casos\":[]},\"custos\":{\"custos\":None,\"casos\":[]},\"canaisDePrestacao\":{\"canaisDePrestacao\":[{\"id\":56099,\"tipo\":\"e-mail\",\"descricao\":\"Envio do laudo por e-mail no prazo estabelecido.\\n\\n\",\"procedimentoSistemaIndisponivel\":None,\"tempoEstimadoPeriodo\":None,\"tempoEstimadoEspera\":None,\"tempoEstimadoPeriodoService\":None}],\"casos\":[]},\"tempoTotalEstimado\":{\"ate\":None,\"entre\":None,\"emMedia\":None,\"atendimentoImediato\":None,\"naoEstimadoAinda\":{},\"descricao\":None,\"min\":None,\"max\":None}}],\"tempoMediaEspera\":\"10\",\"percentualAvaliacoesPositivas\":\"-1\",\"url\":\"https://www.servicos.gov.br/servico/solicitar-diagnostico-de-referencia-em-bacillus-anthracis-em-material-de-preparacoes-suspeitas-de-acao-proposital-ou-intencional-fiocruz-rj\"},\"mensagem\":None,\"hasErro\":False}\n",
    "print(servicos)"
   ]
  },
  {
   "cell_type": "markdown",
   "metadata": {},
   "source": [
    "### 3.10 "
   ]
  },
  {
   "cell_type": "code",
   "execution_count": null,
   "metadata": {},
   "outputs": [],
   "source": []
  },
  {
   "cell_type": "code",
   "execution_count": null,
   "metadata": {},
   "outputs": [],
   "source": []
  },
  {
   "cell_type": "code",
   "execution_count": null,
   "metadata": {},
   "outputs": [],
   "source": []
  },
  {
   "cell_type": "code",
   "execution_count": null,
   "metadata": {},
   "outputs": [],
   "source": []
  }
 ],
 "metadata": {
  "celltoolbar": "Create Assignment",
  "kernelspec": {
   "display_name": "Python 3",
   "language": "python",
   "name": "python3"
  },
  "language_info": {
   "codemirror_mode": {
    "name": "ipython",
    "version": 3
   },
   "file_extension": ".py",
   "mimetype": "text/x-python",
   "name": "python",
   "nbconvert_exporter": "python",
   "pygments_lexer": "ipython3",
   "version": "3.8.3"
  },
  "name": "_merged",
  "varInspector": {
   "cols": {
    "lenName": 16,
    "lenType": 16,
    "lenVar": 40
   },
   "kernels_config": {
    "python": {
     "delete_cmd_postfix": "",
     "delete_cmd_prefix": "del ",
     "library": "var_list.py",
     "varRefreshCmd": "print(var_dic_list())"
    },
    "r": {
     "delete_cmd_postfix": ") ",
     "delete_cmd_prefix": "rm(",
     "library": "var_list.r",
     "varRefreshCmd": "cat(var_dic_list()) "
    }
   },
   "types_to_exclude": [
    "module",
    "function",
    "builtin_function_or_method",
    "instance",
    "_Feature"
   ],
   "window_display": false
  }
 },
 "nbformat": 4,
 "nbformat_minor": 4
}
