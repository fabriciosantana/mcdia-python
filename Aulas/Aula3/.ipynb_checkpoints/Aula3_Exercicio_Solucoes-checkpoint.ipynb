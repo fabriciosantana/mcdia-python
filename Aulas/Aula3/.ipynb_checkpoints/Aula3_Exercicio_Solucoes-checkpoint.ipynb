{
  "cells": [
    {
      "cell_type": "markdown",
      "metadata": {
        "id": "view-in-github",
        "colab_type": "text"
      },
      "source": [
        "<a href=\"https://colab.research.google.com/github/alexlopespereira/idp_mestrado/blob/main/Aulas/Aula3/.ipynb_checkpoints/Aula3_Exercicio_Solucoes-checkpoint.ipynb\" target=\"_parent\"><img src=\"https://colab.research.google.com/assets/colab-badge.svg\" alt=\"Open In Colab\"/></a>"
      ]
    },
    {
      "cell_type": "markdown",
      "metadata": {
        "id": "UI-R-wptx75c"
      },
      "source": [
        "# Aula 3 - Exercícios - Estruturas de Dados Nativas do Python"
      ]
    },
    {
      "cell_type": "markdown",
      "metadata": {
        "id": "N9RUaltox75e"
      },
      "source": [
        "### 3.1 Escreva uma função Python para gerar um dicionário que contenha pares (chave e valor) de números. A chave deve variar de 1 a n, e os valores sejam o valor da chave elevado ao quadrado.\n",
        "#### Exemplo:  Para ```n = 5```\n",
        "#### Resultado Esperado: ```{1: 1, 2: 4, 3: 9, 4: 16, 5: 25}```\n",
        "#### Dica: use a função ```range``` para criar a sequencia de numeros desejados\n"
      ]
    },
    {
      "cell_type": "code",
      "execution_count": null,
      "metadata": {
        "nbgrader": {
          "grade": false,
          "grade_id": "cell-e161117ff990a01e",
          "locked": false,
          "schema_version": 3,
          "solution": true,
          "task": false
        },
        "id": "AqqxVb-Zx75f"
      },
      "outputs": [],
      "source": [
        "def create_dict(n):\n",
        "    \"\"\"retorne um dicionário com pares (x, x*x)\n",
        "    \"\"\"\n",
        "    ### BEGIN SOLUTION\n",
        "    d = {}\n",
        "\n",
        "    for x in range(1,n+1):\n",
        "        d[x]=x*x\n",
        "    return d\n",
        "    ### END SOLUTION"
      ]
    },
    {
      "cell_type": "code",
      "execution_count": null,
      "metadata": {
        "id": "hi-UlCk9x75g"
      },
      "outputs": [],
      "source": [
        "## Faça seus testes aqui\n",
        "create_dict(5) # Resultado esperado: {1: 1, 2: 4, 3: 9, 4: 16, 5: 25}"
      ]
    },
    {
      "cell_type": "code",
      "execution_count": null,
      "metadata": {
        "id": "xVDm-xiTx75g"
      },
      "outputs": [],
      "source": [
        "# Validação\n",
        "entradas = [[5]]\n",
        "saidas = [{1: 1, 2: 4, 3: 9, 4: 16, 5: 25}]\n",
        "validate(create_dict, entradas, lambda x: x, saidas, \"3.1\", False)"
      ]
    },
    {
      "cell_type": "markdown",
      "metadata": {
        "id": "5v2bQCPQx75g"
      },
      "source": [
        "### 3.2 Escreva uma função Python para remover itens duplicados de um dicionário, ou seja, cujos valores estejam duplicados.\n",
        "#### Exemplo:  ```d = {1: 1, 2: 1, 3: 9, 4: 1, 5: 25}```\n",
        "#### Resultado Esperado: ```{1: 1, 3: 9, 5: 25}```"
      ]
    },
    {
      "cell_type": "code",
      "execution_count": null,
      "metadata": {
        "nbgrader": {
          "grade": false,
          "grade_id": "cell-732445412e4cafc4",
          "locked": false,
          "schema_version": 3,
          "solution": true,
          "task": false
        },
        "id": "6yj_SkPDx75g"
      },
      "outputs": [],
      "source": [
        "def remove_duplicates(data):\n",
        "    \"\"\"retorne um dicionário sem duplicatas\n",
        "    \"\"\"\n",
        "    ### BEGIN SOLUTION\n",
        "    result = {}\n",
        "\n",
        "    for key, value in data.items():\n",
        "        if value not in result.values():\n",
        "            result[key] = value\n",
        "    return result\n",
        "    ### END SOLUTION"
      ]
    },
    {
      "cell_type": "code",
      "execution_count": null,
      "metadata": {
        "id": "ijS1rRWpx75h"
      },
      "outputs": [],
      "source": [
        "## Faça seus testes aqui\n",
        "remove_duplicates({1: 1, 2: 1, 3: 9, 4: 1, 5: 25}) # Resultado esperado: {1: 1, 3: 9, 5: 25}"
      ]
    },
    {
      "cell_type": "code",
      "execution_count": null,
      "metadata": {
        "id": "kSvjmthmx75h"
      },
      "outputs": [],
      "source": [
        "# Validação\n",
        "data = {'id1': {'nome': ['Sara'], 'classe': ['A'], 'disciplina': ['portugues, historia, ciencia']},\n",
        "        'id2': {'nome': ['Joao'], 'classe': ['A'], 'disciplina': ['portugues, historia, ciencia']},\n",
        "        'id3': {'nome': ['Sara'], 'classe': ['A'], 'disciplina': ['portugues, historia, ciencia']},\n",
        "        'id4': {'nome': ['Maria'], 'classe': ['A'], 'disciplina': ['portugues, historia, ciencia']}\n",
        "}\n",
        "no_duplicates = {'id1': {'nome': ['Sara'], 'classe': ['A'], 'disciplina': ['portugues, historia, ciencia']},\n",
        "                 'id2': {'nome': ['Joao'], 'classe': ['A'], 'disciplina': ['portugues, historia, ciencia']},\n",
        "                 'id4': {'nome': ['Maria'], 'classe': ['A'], 'disciplina': ['portugues, historia, ciencia']}}\n",
        "entradas = [[data]]\n",
        "saidas = [no_duplicates]\n",
        "validate(remove_duplicates, entradas, lambda x: x, saidas, \"3.2\", False)"
      ]
    },
    {
      "cell_type": "markdown",
      "metadata": {
        "id": "qU-2VrjJx75i"
      },
      "source": [
        "### 3.3 Escreva uma função Python para combinar os itens de mesma chave de uma lista de  dicionários, somando os valores correspondentes.\n",
        "#### Exemplo:  para ```[{'item': 'carro', 'quantidade': 400}, {'item': 'moto', 'quantidade': 300}, {'item': 'carro', 'quantidade': 750}]```\n",
        "#### Resultado esperado: ```{'carro': 1150, 'moto': 300}```"
      ]
    },
    {
      "cell_type": "code",
      "execution_count": null,
      "metadata": {
        "id": "0GORFPK4x75i"
      },
      "outputs": [],
      "source": [
        "def combine_items(item_list):\n",
        "    \"\"\"retorne um dicionário combinando (somando) as quantidades do mesmo item\n",
        "    \"\"\"\n",
        "    ### BEGIN SOLUTION\n",
        "    result = {}\n",
        "    for i in item_list:\n",
        "        if i['item'] in result:\n",
        "            result[i['item']] += i['quantidade']\n",
        "        else:\n",
        "            result[i['item']] = i['quantidade']\n",
        "    return result\n",
        "    ### END SOLUTION"
      ]
    },
    {
      "cell_type": "code",
      "execution_count": null,
      "metadata": {
        "id": "W4LwmtaUx75j"
      },
      "outputs": [],
      "source": [
        "## Faça seus testes aqui\n",
        "ent = [{'item': 'carro', 'quantidade': 400},\n",
        "              {'item': 'moto', 'quantidade': 300},\n",
        "              {'item': 'carro', 'quantidade': 750}]\n",
        "combine_items(ent) # Resultado esperado:  {'carro': 1150, 'moto': 300}\n",
        "\n"
      ]
    },
    {
      "cell_type": "code",
      "execution_count": null,
      "metadata": {
        "id": "kDJsWiFcx75j"
      },
      "outputs": [],
      "source": [
        "# Validação\n",
        "entradas = [[[{'item': 'carro', 'quantidade': 400},\n",
        "              {'item': 'moto', 'quantidade': 300},\n",
        "              {'item': 'carro', 'quantidade': 750}]]]\n",
        "saidas = [{'carro': 1150, 'moto': 300}]\n",
        "validate(combine_items, entradas, lambda x: x, saidas, \"3.3\", False)"
      ]
    },
    {
      "cell_type": "markdown",
      "metadata": {
        "id": "-q7UHairx75j"
      },
      "source": [
        "### 3.4 Usando um defaultdict, escreva uma função Python para transformar uma lista de listas num dicionário. Os valores repetidos de uma lista devem ser associados a mesma chave do dicionário, como no exemplo abaixo.\n",
        "#### Exemplo:  ```[ [\"carro\", 10], [\"moto\", 20], [\"trem\", 5], [\"carro\", 30], [\"caminhao\", 20] ]```\n",
        "#### Resultado esperado: ```{\"carro\": [10, 30], \"moto\": [20], \"trem\": [5], \"caminhao\": [20] }```"
      ]
    },
    {
      "cell_type": "code",
      "execution_count": null,
      "metadata": {
        "id": "_V9af1lPx75k"
      },
      "outputs": [],
      "source": [
        "def dict_from_list(lista):\n",
        "    ### BEGIN SOLUTION\n",
        "    from collections import defaultdict\n",
        "    d = defaultdict(list)\n",
        "    for k, v in lista:\n",
        "        d[k].append(v)\n",
        "\n",
        "    return d\n",
        "    ### END SOLUTION"
      ]
    },
    {
      "cell_type": "code",
      "execution_count": null,
      "metadata": {
        "id": "bPQajPEdx75k"
      },
      "outputs": [],
      "source": [
        "## Faça seus testes aqui\n",
        "lista = [ [\"carro\", 10], [\"moto\", 20], [\"trem\", 5], [\"carro\", 30], [\"caminhao\", 20] ]\n",
        "dict_from_list(lista) # Resultado esperado: {'carro': [10, 30], 'moto': [20], 'trem': [5], 'caminhao': [20]}\n",
        "\n"
      ]
    },
    {
      "cell_type": "code",
      "execution_count": null,
      "metadata": {
        "id": "y2o829HWx75k"
      },
      "outputs": [],
      "source": [
        "# Validação\n",
        "entradas = [[[ [\"carro\", 10], [\"moto\", 20], [\"trem\", 5], [\"carro\", 30], [\"caminhao\", 20] ]]]\n",
        "saidas = [{'carro': [10, 30], 'moto': [20], 'trem': [5], 'caminhao': [20]}]\n",
        "validate(dict_from_list, entradas, lambda x: x, saidas, \"3.4\", False)"
      ]
    }
  ],
  "metadata": {
    "celltoolbar": "Create Assignment",
    "kernelspec": {
      "display_name": "Python 3",
      "language": "python",
      "name": "python3"
    },
    "language_info": {
      "codemirror_mode": {
        "name": "ipython",
        "version": 3
      },
      "file_extension": ".py",
      "mimetype": "text/x-python",
      "name": "python",
      "nbconvert_exporter": "python",
      "pygments_lexer": "ipython3",
      "version": "3.8.3"
    },
    "name": "_merged",
    "varInspector": {
      "cols": {
        "lenName": 16,
        "lenType": 16,
        "lenVar": 40
      },
      "kernels_config": {
        "python": {
          "delete_cmd_postfix": "",
          "delete_cmd_prefix": "del ",
          "library": "var_list.py",
          "varRefreshCmd": "print(var_dic_list())"
        },
        "r": {
          "delete_cmd_postfix": ") ",
          "delete_cmd_prefix": "rm(",
          "library": "var_list.r",
          "varRefreshCmd": "cat(var_dic_list()) "
        }
      },
      "types_to_exclude": [
        "module",
        "function",
        "builtin_function_or_method",
        "instance",
        "_Feature"
      ],
      "window_display": false
    },
    "colab": {
      "provenance": [],
      "include_colab_link": true
    }
  },
  "nbformat": 4,
  "nbformat_minor": 0
}