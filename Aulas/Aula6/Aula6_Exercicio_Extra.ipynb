{
 "cells": [
  {
   "cell_type": "markdown",
   "metadata": {},
   "source": [
    "# Aula 6 - Exercícios Extra - Pandas e Fontes de dados"
   ]
  },
  {
   "cell_type": "code",
   "execution_count": 3,
   "metadata": {},
   "outputs": [],
   "source": [
    "# Importe as bibliotecas pandas, numpy\n",
    "import pandas as pd\n",
    "import numpy as np"
   ]
  },
  {
   "cell_type": "markdown",
   "metadata": {},
   "source": [
    "### 6.5 Considerando o dataframe abaixo, adicione uma coluna a esse dataframe para guardar o valor do código IBGE que está junto com o nome do município na coluna Muncípio. \n",
    "|    | Município                      |     1991 |   2000 |   2010 |\n",
    "|---:|:-------------------------------|---------:|-------:|-------:|\n",
    "|  0 | 110001 Alta Floresta D'Oeste   |   0.5983 | 0.5868 | 0.5893 |\n",
    "|  1 | 110037 Alto Alegre dos Parecis | nan      | 0.508  | 0.5491 |\n",
    "|  2 | 110040 Alto Paraíso            | nan      | 0.6256 | 0.5417 |\n",
    "|  3 | 110034 Alvorada D'Oeste        |   0.569  | 0.6534 | 0.5355 |\n",
    "|  4 | 110002 Ariquemes               |   0.5827 | 0.5927 | 0.5496 |\n",
    "\n",
    "#### Resultado esperado:\n",
    "|    | Município                      |     1991 |   2000 |   2010 |   cod_ibge6 |\n",
    "|---:|:-------------------------------|---------:|-------:|-------:|------------:|\n",
    "|  0 | 110001 Alta Floresta D'Oeste   |   0.5983 | 0.5868 | 0.5893 |      110001 |\n",
    "|  1 | 110037 Alto Alegre dos Parecis | nan      | 0.508  | 0.5491 |      110037 |\n",
    "|  2 | 110040 Alto Paraíso            | nan      | 0.6256 | 0.5417 |      110040 |\n",
    "|  3 | 110034 Alvorada D'Oeste        |   0.569  | 0.6534 | 0.5355 |      110034 |\n",
    "|  4 | 110002 Ariquemes               |   0.5827 | 0.5927 | 0.5496 |      110002 |\n",
    "\n",
    "#### Dica: use a função apply"
   ]
  },
  {
   "cell_type": "code",
   "execution_count": null,
   "metadata": {
    "nbgrader": {
     "grade": false,
     "grade_id": "cell-c705ab9d11473b9f9",
     "locked": false,
     "schema_version": 3,
     "solution": true,
     "task": false
    }
   },
   "outputs": [],
   "source": [
    "def adiciona_cod_ibge6(df):\n",
    "    \"\"\"retorne um dataframe com o código ibge de 6 dígitos numa coluna separada.\n",
    "    \"\"\"\n",
    "    ### BEGIN SOLUTION\n",
    "    \n",
    "    \n",
    "    ### END SOLUTION\n"
   ]
  },
  {
   "cell_type": "code",
   "execution_count": 18,
   "metadata": {},
   "outputs": [
    {
     "data": {
      "text/html": [
       "<div>\n",
       "<style scoped>\n",
       "    .dataframe tbody tr th:only-of-type {\n",
       "        vertical-align: middle;\n",
       "    }\n",
       "\n",
       "    .dataframe tbody tr th {\n",
       "        vertical-align: top;\n",
       "    }\n",
       "\n",
       "    .dataframe thead th {\n",
       "        text-align: right;\n",
       "    }\n",
       "</style>\n",
       "<table border=\"1\" class=\"dataframe\">\n",
       "  <thead>\n",
       "    <tr style=\"text-align: right;\">\n",
       "      <th></th>\n",
       "      <th>Município</th>\n",
       "      <th>1991</th>\n",
       "      <th>2000</th>\n",
       "      <th>2010</th>\n",
       "    </tr>\n",
       "  </thead>\n",
       "  <tbody>\n",
       "    <tr>\n",
       "      <th>0</th>\n",
       "      <td>110001 Alta Floresta D'Oeste</td>\n",
       "      <td>0.5983</td>\n",
       "      <td>0.5868</td>\n",
       "      <td>0.5893</td>\n",
       "    </tr>\n",
       "    <tr>\n",
       "      <th>1</th>\n",
       "      <td>110037 Alto Alegre dos Parecis</td>\n",
       "      <td>0.0000</td>\n",
       "      <td>0.5080</td>\n",
       "      <td>0.5491</td>\n",
       "    </tr>\n",
       "    <tr>\n",
       "      <th>2</th>\n",
       "      <td>110040 Alto Paraíso</td>\n",
       "      <td>0.0000</td>\n",
       "      <td>0.6256</td>\n",
       "      <td>0.5417</td>\n",
       "    </tr>\n",
       "    <tr>\n",
       "      <th>3</th>\n",
       "      <td>110034 Alvorada D'Oeste</td>\n",
       "      <td>0.5690</td>\n",
       "      <td>0.6534</td>\n",
       "      <td>0.5355</td>\n",
       "    </tr>\n",
       "    <tr>\n",
       "      <th>4</th>\n",
       "      <td>110002 Ariquemes</td>\n",
       "      <td>0.5827</td>\n",
       "      <td>0.5927</td>\n",
       "      <td>0.5496</td>\n",
       "    </tr>\n",
       "  </tbody>\n",
       "</table>\n",
       "</div>"
      ],
      "text/plain": [
       "                        Município    1991    2000    2010\n",
       "0    110001 Alta Floresta D'Oeste  0.5983  0.5868  0.5893\n",
       "1  110037 Alto Alegre dos Parecis  0.0000  0.5080  0.5491\n",
       "2             110040 Alto Paraíso  0.0000  0.6256  0.5417\n",
       "3         110034 Alvorada D'Oeste  0.5690  0.6534  0.5355\n",
       "4                110002 Ariquemes  0.5827  0.5927  0.5496"
      ]
     },
     "execution_count": 18,
     "metadata": {},
     "output_type": "execute_result"
    }
   ],
   "source": [
    "## Faça seus testes aqui\n",
    "test_data = {'Município': {0: \"110001 Alta Floresta D'Oeste\",\n",
    "  1: '110037 Alto Alegre dos Parecis',  2: '110040 Alto Paraíso',\n",
    "  3: \"110034 Alvorada D'Oeste\",  4: '110002 Ariquemes'},\n",
    " '1991': {0: 0.5983, 1: 0, 2: 0, 3: 0.569, 4: 0.5827},\n",
    " '2000': {0: 0.5868, 1: 0.508, 2: 0.6256, 3: 0.6534, 4: 0.5927},\n",
    " '2010': {0: 0.5893, 1: 0.5491, 2: 0.5417, 3: 0.5355, 4: 0.5496}}\n",
    "df = pd.DataFrame(test_data)\n",
    "df"
   ]
  },
  {
   "cell_type": "code",
   "execution_count": null,
   "metadata": {
    "nbgrader": {
     "grade": true,
     "grade_id": "cell-9ffdsa88d58e9282a",
     "locked": true,
     "points": 1,
     "schema_version": 3,
     "solution": false,
     "task": false
    },
    "scrolled": false
   },
   "outputs": [
    {
     "data": {
      "text/plain": [
       "'Parabéns!'"
      ]
     },
     "execution_count": 21,
     "metadata": {},
     "output_type": "execute_result"
    }
   ],
   "source": [
    "# Validação\n",
    "test_data = {'Município': {0: \"110001 Alta Floresta D'Oeste\",\n",
    "  1: '110037 Alto Alegre dos Parecis',  2: '110040 Alto Paraíso',\n",
    "  3: \"110034 Alvorada D'Oeste\",  4: '110002 Ariquemes'},\n",
    " '1991': {0: 0.5983, 1: 0, 2: 0, 3: 0.569, 4: 0.5827},\n",
    " '2000': {0: 0.5868, 1: 0.508, 2: 0.6256, 3: 0.6534, 4: 0.5927},\n",
    " '2010': {0: 0.5893, 1: 0.5491, 2: 0.5417, 3: 0.5355, 4: 0.5496}}\n",
    "df = pd.DataFrame(test_data)\n",
    "\n",
    "entradas = [[df]]\n",
    "saidas = [{0: 0.5893, 1: 0.5491, 2: 0.5417, 3: 0.5355, 4: 0.5496}]\n"
   ]
  },
  {
   "cell_type": "markdown",
   "metadata": {},
   "source": [
    "### 6.6 Escreva uma função para carregar corretamente o dataframe de morbidade disponibilizado. A função deve receber como argumento o caminho para o dataset. \n",
    "\n",
    "#### Dica 1: No dataset de morbidade existem valores NA representados por caracteres específicos em várias colunas do dataframe. Descubra quais são esses caracteres e especifique no argumento na_values no comando para ler esse dataframe. Passe nesse argumento uma lista com os caracteres que devem ser interpretados como NA.\n",
    "#### Dica 2: No comando para ler o dataset de morbidade, especifique também: 1) o separador das colunas apropriado; 2) O caracter de separação de casas decimais; e 3) O tipo do dado da coluna cod_ibge6 como str. Ou seja, dtype={'cod_ibge6': str}."
   ]
  },
  {
   "cell_type": "code",
   "execution_count": null,
   "metadata": {
    "nbgrader": {
     "grade": false,
     "grade_id": "cell-44f15980fdef6a10",
     "locked": false,
     "schema_version": 3,
     "solution": true,
     "task": false
    }
   },
   "outputs": [],
   "source": [
    "def load_morbidade(path_morbidade):\n",
    "    \"\"\"retorne o dataframe de morbidade.\n",
    "    \"\"\"\n",
    "    ### BEGIN SOLUTION\n",
    "    \n",
    "    ### END SOLUTION\n"
   ]
  },
  {
   "cell_type": "code",
   "execution_count": null,
   "metadata": {},
   "outputs": [],
   "source": [
    "## Faça seus testes aqui\n",
    "path_morbidade = 'https://github.com/alexlopespereira/idp_mestrado/raw/master/data/originais/morbidade/consolidado/morbidade.csv'\n"
   ]
  },
  {
   "cell_type": "code",
   "execution_count": null,
   "metadata": {},
   "outputs": [
    {
     "data": {
      "text/plain": [
       "'Parabéns!'"
      ]
     },
     "execution_count": 24,
     "metadata": {},
     "output_type": "execute_result"
    }
   ],
   "source": [
    "# Validação para nota\n",
    "path_morbidade = 'https://github.com/alexlopespereira/idp_mestrado/raw/master/data/originais/morbidade/consolidado/morbidade.csv'\n",
    "entradas = [[path_morbidade]]\n",
    "saidas = [{'Internações': 193.0, 'AIH_aprovadas': 193, 'cod_ibge6': '110001'}]\n"
   ]
  },
  {
   "cell_type": "markdown",
   "metadata": {},
   "source": [
    "### 6.7 Escreva uma função para carregar corretamente o dataframe de PIB de 2017 disponibilizado. A função deve receber como argumento o caminho para o dataset. Renomeie as colunas apropriadamente. A coluna com o nome do municipio deve se chamar municipio (sem acento) e a coluna com o codigo ibge de 7 caracteres cod_ibge7. \n",
    "\n",
    "#### Dica 1: Especifique o dtype da coluna que contém o codigo do municipio, para carregá-lo como str (string).\n",
    "#### Dica 2: Use a função rename e um dicionário como este do exemplo para renomear as colunas. Exemplo: {'Unnamed: 0': 'nivel', 'Unnamed: 1': 'cod_ibge7', 'Unnamed: 2': 'municipio'}. "
   ]
  },
  {
   "cell_type": "code",
   "execution_count": null,
   "metadata": {
    "nbgrader": {
     "grade": false,
     "grade_id": "cell-b80da5ea68f40618",
     "locked": false,
     "schema_version": 3,
     "solution": true,
     "task": false
    }
   },
   "outputs": [],
   "source": [
    "def load_pib(path_pib):\n",
    "    \"\"\"retorne o dataframe do pib\n",
    "    \"\"\"\n",
    "    ### BEGIN SOLUTION\n",
    "    df_pib = pd.read_excel(path_pib, skiprows=3, skipfooter=1, dtype={'Unnamed: 1': str})\n",
    "    df_pib.rename(columns={'Unnamed: 0': 'nivel', 'Unnamed: 1': 'cod_ibge7', \n",
    "                           'Unnamed: 2': 'municipio'}, inplace=True)\n",
    "    return df_pib\n",
    "    ### END SOLUTION\n"
   ]
  },
  {
   "cell_type": "code",
   "execution_count": null,
   "metadata": {},
   "outputs": [],
   "source": [
    "## Faça seus testes aqui\n",
    "path_pib = 'https://github.com/alexlopespereira/idp_mestrado/raw/main/data/originais/pib/pib_municipios.xlsx'\n"
   ]
  },
  {
   "cell_type": "code",
   "execution_count": null,
   "metadata": {},
   "outputs": [],
   "source": [
    "# Validação para nota\n",
    "path_pib = 'https://github.com/alexlopespereira/idp_mestrado/raw/main/data/originais/pib/pib_municipios.xlsx'\n",
    "entradas = [[path_pib]]\n",
    "saidas = [{'nivel': 'MU', 'cod_ibge7': '1100015', 'municipio': \"Alta Floresta D'Oeste (RO)\",\n",
    " '2007': 191364, '2009': 256986, '2011': 280510, '2013': 341325, '2015': 421300, '2017': 498864}]\n",
    "validate(load_pib, entradas, lambda x: x.iloc[0].to_dict(), saidas, \"6.7\", True)"
   ]
  }
 ],
 "metadata": {
  "celltoolbar": "Create Assignment",
  "kernelspec": {
   "display_name": "Python 3",
   "language": "python",
   "name": "python3"
  },
  "language_info": {
   "codemirror_mode": {
    "name": "ipython",
    "version": 3
   },
   "file_extension": ".py",
   "mimetype": "text/x-python",
   "name": "python",
   "nbconvert_exporter": "python",
   "pygments_lexer": "ipython3",
   "version": "3.8.3"
  },
  "name": "_merged",
  "varInspector": {
   "cols": {
    "lenName": 16,
    "lenType": 16,
    "lenVar": 40
   },
   "kernels_config": {
    "python": {
     "delete_cmd_postfix": "",
     "delete_cmd_prefix": "del ",
     "library": "var_list.py",
     "varRefreshCmd": "print(var_dic_list())"
    },
    "r": {
     "delete_cmd_postfix": ") ",
     "delete_cmd_prefix": "rm(",
     "library": "var_list.r",
     "varRefreshCmd": "cat(var_dic_list()) "
    }
   },
   "types_to_exclude": [
    "module",
    "function",
    "builtin_function_or_method",
    "instance",
    "_Feature"
   ],
   "window_display": false
  }
 },
 "nbformat": 4,
 "nbformat_minor": 4
}
