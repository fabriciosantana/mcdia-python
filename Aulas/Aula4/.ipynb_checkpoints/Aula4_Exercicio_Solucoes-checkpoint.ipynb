{
 "cells": [
  {
   "cell_type": "markdown",
   "metadata": {},
   "source": [
    "# Aula 4 - Exercícios - Python e NumPy"
   ]
  },
  {
   "cell_type": "markdown",
   "metadata": {},
   "source": [
    "### Onde buscar informações sobre as funções do Numpy\n",
    "[https://numpy.org/doc/stable/search.html](https://numpy.org/doc/stable/search.html)"
   ]
  },
  {
   "cell_type": "code",
   "execution_count": null,
   "metadata": {},
   "outputs": [],
   "source": [
    "# import numpy\n",
    "import numpy as np"
   ]
  },
  {
   "cell_type": "markdown",
   "metadata": {},
   "source": [
    "### 4.1 Escreva uma função Python para converter para celcius um array de temperaturas em Fahrenheit. Arredonde o resultado até 2a casa decimal usando a função .round(decimals=2) do numpy\n",
    "#### Exemplo:  para um array([0, 12, 45.21, 34, 99.91])\n",
    "#### Resultado esperado: array([-17.77, -11.11, 7.33, 1.11, 37.72])\n",
    "#### Dica 1: a solução pode ser implementada em 1 linha de código\n",
    "#### Dica 2: T(°C) = (T(°F) - 32) × 5/9\n",
    "#### Dica 3: Use o conhecimento do slide 13."
   ]
  },
  {
   "cell_type": "code",
   "execution_count": null,
   "metadata": {
    "nbgrader": {
     "grade": false,
     "grade_id": "cell-e0a4e5deea9347c4",
     "locked": false,
     "schema_version": 3,
     "solution": true,
     "task": false
    }
   },
   "outputs": [],
   "source": [
    "def get_ceusius(F):\n",
    "    \"\"\"retorne um array contendo as temperaturas em graus Ceusius\n",
    "    \"\"\"\n",
    "    ### BEGIN SOLUTION\n",
    "    return ((F-32)*5/9).round(decimals=2)\n",
    "    ### END SOLUTION"
   ]
  },
  {
   "cell_type": "code",
   "execution_count": null,
   "metadata": {},
   "outputs": [],
   "source": [
    "## Faça seus testes aqui\n",
    "tf = np.array([0, 12, 45.21, 34, 99.91])\n",
    "get_ceusius(tf) # Resultado esperado: [-17.78 -11.11 7.34 1.11 37.73]\n"
   ]
  },
  {
   "cell_type": "code",
   "execution_count": null,
   "metadata": {
    "nbgrader": {
     "grade": true,
     "grade_id": "cell-30d325444b6f6a67",
     "locked": true,
     "points": 1,
     "schema_version": 3,
     "solution": false,
     "task": false
    }
   },
   "outputs": [],
   "source": [
    "# Validação\n",
    "tf = np.array([0, 12, 45.21, 34, 99.91])\n",
    "tc = np.array([-17.78, -11.11, 7.34, 1.11, 37.73])\n",
    "entradas = [[tf]]\n",
    "saidas = [tc]\n",
    "validate(get_ceusius, entradas, lambda x: x, saidas, \"4.1\", False)"
   ]
  },
  {
   "cell_type": "markdown",
   "metadata": {},
   "source": [
    "### 4.2 Escreva uma função Python para somar os valores de cada linha de um array numpy 2D e depois retornar a maior destas somas\n",
    "#### Exemplo:  para um array([[1  4 ], [10  8], [4  20]]) \n",
    "#### Resultado esperado: 24\n",
    "#### Dica 1: A função ```sum``` do numpy pode fazer o calculo da soma por linha ou por coluna, desde que o parâmetro```axis``` seja especificado corretamente.\n",
    "#### Dica 2: A função ```max``` do numpy pode retornar o máximo de um array numpy.\n",
    "#### Dica 3: A solução se resume a duas linhas de código, uma para a soma e outra para o máximo."
   ]
  },
  {
   "cell_type": "code",
   "execution_count": null,
   "metadata": {
    "nbgrader": {
     "grade": false,
     "grade_id": "cell-f7b05dc12adbf2e2",
     "locked": false,
     "schema_version": 3,
     "solution": true,
     "task": false
    }
   },
   "outputs": [],
   "source": [
    "def max_sum(x):\n",
    "    \"\"\"retorne o valor maximo dentre os resultados da soma por linha de um array 2D \n",
    "    \"\"\"\n",
    "    ### BEGIN SOLUTION\n",
    "    total_by_line = np.sum(x, axis=1)\n",
    "    return np.max(total_by_line)\n",
    "    ### END SOLUTION"
   ]
  },
  {
   "cell_type": "code",
   "execution_count": null,
   "metadata": {},
   "outputs": [],
   "source": [
    "## Faça seus testes aqui\n",
    "a1 = np.array([[1, 4 ], [10, 8], [4, 20]])\n",
    "max_sum(a1) # Resultado esperado: 24\n"
   ]
  },
  {
   "cell_type": "code",
   "execution_count": null,
   "metadata": {
    "nbgrader": {
     "grade": true,
     "grade_id": "cell-af1b0435b6aacc9b",
     "locked": true,
     "points": 1,
     "schema_version": 3,
     "solution": false,
     "task": false
    }
   },
   "outputs": [],
   "source": [
    "# Validação\n",
    "a1 = np.array([[1, 4 ], [10, 8], [4, 20]])\n",
    "a2 = np.array([[1,0,1,9,5],[3,1,2,4,5],[6,1,2,3,4],[8,9,2,1,7]])\n",
    "entradas = [[a1], [a2]]\n",
    "saidas = [24, 27]\n",
    "validate(max_sum, entradas, lambda x: x, saidas, \"4.2\", False)"
   ]
  },
  {
   "cell_type": "markdown",
   "metadata": {},
   "source": [
    "### 4.3 Escreva uma função Python para contar a quantidade de itens de um dado valor num array NumPy\n",
    "#### Exemplo:  para um ```array([1  4  10  8  4  20  23])``` e ```n=4```\n",
    "#### Resultado esperado: 2\n",
    "#### Dica 1: A função ```count_nonzero``` do pacote numpy conta a quantidade de elementos diferentes de zero ou a quantidade de elementos True.\n",
    "[https://numpy.org/doc/stable/reference/generated/numpy.count_nonzero.html?highlight=count_nonzero#numpy.count_nonzero](https://numpy.org/doc/stable/reference/generated/numpy.count_nonzero.html?highlight=count_nonzero#numpy.count_nonzero)\n",
    "#### Dica 2: A solução pode ser implementada em 1 linha de código.\n",
    "#### Obs.: Lembre-se de usar funções numpy que realizam as operações sem a necessidade de escrever laços (loops)"
   ]
  },
  {
   "cell_type": "code",
   "execution_count": null,
   "metadata": {},
   "outputs": [],
   "source": [
    "def count_value(array, n):\n",
    "    \"\"\"retorne a quantidade de vezes que n ocorre \n",
    "    \"\"\"\n",
    "    ### BEGIN SOLUTION\n",
    "    return np.count_nonzero(array == n)\n",
    "    ### END SOLUTION"
   ]
  },
  {
   "cell_type": "code",
   "execution_count": null,
   "metadata": {},
   "outputs": [],
   "source": [
    "## Faça seus testes aqui\n",
    "a1 = np.array([1,0,1,9,5,3,1,2,4,5,6,1,2,3,4,8,9,2,1])\n",
    "count_value(a1, 1) # Resultado esperado: 5\n",
    "\n"
   ]
  },
  {
   "cell_type": "code",
   "execution_count": null,
   "metadata": {},
   "outputs": [],
   "source": [
    "# Validação\n",
    "a1 = np.array([1,0,1,9,5,3,1,2,4,5,6,1,2,3,4,8,9,2,1])\n",
    "entradas = [[a1, 1]]\n",
    "saidas = [5]\n",
    "validate(count_value, entradas, lambda x: x, saidas, \"4.3\", False)"
   ]
  },
  {
   "cell_type": "markdown",
   "metadata": {},
   "source": [
    "### 4.4 Crie uma função que recebe como argumento dois arrays de mesma dimensão e retorna as posições em que esses dois arrays possuem valores coincidentes.\n",
    "#### Exemplo: Para os arrays a e b abaixo\n",
    "```a = np.array([1,2,3,2,3,4,3,4,5,6])```\n",
    "\n",
    "```b = np.array([7,2,10,2,7,4,9,4,9,8])```\n",
    "#### Resultado esperado: \n",
    "```array([1, 3, 5, 7])```\n",
    "\n",
    "#### Dica: use a função ```np.nonzero```\n",
    "[https://numpy.org/doc/stable/reference/generated/numpy.nonzero.html#numpy.nonzero](https://numpy.org/doc/stable/reference/generated/numpy.nonzero.html#numpy.nonzero)"
   ]
  },
  {
   "cell_type": "code",
   "execution_count": null,
   "metadata": {},
   "outputs": [],
   "source": [
    "def same_value(arr1, arr2):\n",
    "    \"\"\"retorne um array com a posição dos elementos coincidentes nos dois arrays.\n",
    "    \"\"\"\n",
    "    ### BEGIN SOLUTION\n",
    "    return np.nonzero(arr1 == arr2)\n",
    "    ### END SOLUTION\n",
    "    \n"
   ]
  },
  {
   "cell_type": "code",
   "execution_count": null,
   "metadata": {},
   "outputs": [],
   "source": [
    "# Faça aqui\n",
    "a = np.array([1,2,3,2,3,4,3,4,5,6])\n",
    "b = np.array([7,2,10,2,7,4,9,4,9,8])\n",
    "same_value(a, b) # Resultado esperado: array([1, 3, 5, 7])"
   ]
  },
  {
   "cell_type": "code",
   "execution_count": null,
   "metadata": {},
   "outputs": [],
   "source": [
    "a = np.array([1,2,3,2,3,4,3,4,5,6])\n",
    "b = np.array([7,2,10,2,7,4,9,4,9,8])\n",
    "np.nonzero(a == b)\n",
    "entradas = [[a, b]]\n",
    "saidas = [np.array([1, 3, 5, 7])]\n",
    "validate(same_value, entradas, lambda x: x, saidas, \"4.4\", False)"
   ]
  }
 ],
 "metadata": {
  "celltoolbar": "Create Assignment",
  "kernelspec": {
   "display_name": "Python 3",
   "language": "python",
   "name": "python3"
  },
  "language_info": {
   "codemirror_mode": {
    "name": "ipython",
    "version": 3
   },
   "file_extension": ".py",
   "mimetype": "text/x-python",
   "name": "python",
   "nbconvert_exporter": "python",
   "pygments_lexer": "ipython3",
   "version": "3.8.3"
  },
  "name": "_merged",
  "varInspector": {
   "cols": {
    "lenName": 16,
    "lenType": 16,
    "lenVar": 40
   },
   "kernels_config": {
    "python": {
     "delete_cmd_postfix": "",
     "delete_cmd_prefix": "del ",
     "library": "var_list.py",
     "varRefreshCmd": "print(var_dic_list())"
    },
    "r": {
     "delete_cmd_postfix": ") ",
     "delete_cmd_prefix": "rm(",
     "library": "var_list.r",
     "varRefreshCmd": "cat(var_dic_list()) "
    }
   },
   "types_to_exclude": [
    "module",
    "function",
    "builtin_function_or_method",
    "instance",
    "_Feature"
   ],
   "window_display": false
  }
 },
 "nbformat": 4,
 "nbformat_minor": 4
}
