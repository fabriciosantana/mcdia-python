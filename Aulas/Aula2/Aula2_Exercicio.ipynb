{
 "cells": [
  {
   "cell_type": "markdown",
   "metadata": {
    "colab_type": "text",
    "id": "view-in-github"
   },
   "source": [
    "<a href=\"https://colab.research.google.com/github/alexlopespereira/idp_mestrado/blob/main/Aulas/Aula2/Aula2_Exercicio_Solucoes.ipynb\" target=\"_parent\"><img src=\"https://colab.research.google.com/assets/colab-badge.svg\" alt=\"Open In Colab\"/></a>"
   ]
  },
  {
   "cell_type": "markdown",
   "metadata": {
    "id": "7quZMulKmDgO"
   },
   "source": [
    "# Aula 2- Exercícios - Sintaxe de Python e NumPy Array"
   ]
  },
  {
   "cell_type": "markdown",
   "metadata": {
    "id": "T8QOSLHMmDgV"
   },
   "source": [
    "### Ao resolver um exercício, apague o seguinte trecho do código:\n",
    "```# YOUR CODE HERE\n",
    "raise NotImplementedError()\n",
    "```"
   ]
  },
  {
   "cell_type": "markdown",
   "metadata": {
    "id": "AR4-EPmXmDgV"
   },
   "source": [
    "### 2.1 Escreva uma função em Python que aceite um inteiro (n) de 1 a 9 e compute o valor de: n+nn+nnn\n",
    "#### Valide os valores de entrada. Para isso, use a instrução raise ValueError\n",
    "##### Exemplo: n=5. Então n + nn + nnn = 5 + 55 + 555 = 615"
   ]
  },
  {
   "cell_type": "code",
   "execution_count": null,
   "metadata": {
    "id": "pGYynJKRmDgV",
    "nbgrader": {
     "grade": false,
     "grade_id": "cell-a2f686fdd79e4f51",
     "locked": false,
     "schema_version": 3,
     "solution": true,
     "task": false
    }
   },
   "outputs": [],
   "source": [
    "def calculo_n(n):\n",
    "    \"\"\"retorne o valor de: n+nn+nnn\n",
    "    \"\"\"\n",
    "    ### BEGIN SOLUTION\n",
    "    \n",
    "    ### END SOLUTION"
   ]
  },
  {
   "cell_type": "code",
   "execution_count": null,
   "metadata": {
    "id": "DEfucVttmDgW"
   },
   "outputs": [],
   "source": [
    "## Faça seus testes aqui\n"
   ]
  },
  {
   "cell_type": "code",
   "execution_count": null,
   "metadata": {
    "id": "8AXVtXy8mDgW",
    "nbgrader": {
     "grade": true,
     "grade_id": "cell-5412543179b17057",
     "locked": true,
     "points": 1,
     "schema_version": 3,
     "solution": false,
     "task": false
    }
   },
   "outputs": [],
   "source": [
    "# Validação para nota\n",
    "v1 = calculo_n(1) == 123\n",
    "v2 = calculo_n(2) == 246\n",
    "v3 = calculo_n(3) == 369\n",
    "v4 = calculo_n(9) == 1107\n"
   ]
  },
  {
   "cell_type": "markdown",
   "metadata": {
    "id": "BLZ_R1pxmDgW"
   },
   "source": [
    "### 2.2 Escreva uma função para retornar o maior item de uma lista de inteiros"
   ]
  },
  {
   "cell_type": "code",
   "execution_count": null,
   "metadata": {
    "id": "5RfQYoazmDgX",
    "nbgrader": {
     "grade": false,
     "grade_id": "cell-2e044a5f0541da37",
     "locked": false,
     "schema_version": 3,
     "solution": true,
     "task": false
    }
   },
   "outputs": [],
   "source": [
    "def maior(lista):\n",
    "    \"\"\"retorne o maior item da lista\n",
    "    \"\"\"\n",
    "    ### BEGIN SOLUTION\n",
    "    \n",
    "    ### END SOLUTION"
   ]
  },
  {
   "cell_type": "code",
   "execution_count": null,
   "metadata": {
    "id": "MTAs3xXZmDgX"
   },
   "outputs": [],
   "source": [
    "## Faça seus testes aqui\n"
   ]
  },
  {
   "cell_type": "code",
   "execution_count": null,
   "metadata": {
    "id": "NhXXi04amDgX",
    "nbgrader": {
     "grade": true,
     "grade_id": "cell-5bd4079b37b6a7f3",
     "locked": true,
     "points": 1,
     "schema_version": 3,
     "solution": false,
     "task": false
    }
   },
   "outputs": [],
   "source": [
    "# Validação para nota\n",
    "v1 = maior([1,0,-1,100,7]) == 100\n",
    "v2 = maior([-100,-1580,-1,-9100,-77]) == -1\n"
   ]
  },
  {
   "cell_type": "markdown",
   "metadata": {
    "id": "27XW8uNSmDgX"
   },
   "source": [
    "### 2.3 Escreva uma função para contar a quantidade de strings, presentes numa lista, cujo tamanho é maior que 2 e o primeiro e último caracteres são os mesmos\n",
    "\n",
    "#### Exemplo:  ['abc', 'xyz', 'aba', '1221']\n",
    "#### Resultado esperado : 2\n"
   ]
  },
  {
   "cell_type": "code",
   "execution_count": null,
   "metadata": {
    "id": "unXT4sLHmDgY",
    "nbgrader": {
     "grade": false,
     "grade_id": "cell-59d12cc6e067b728",
     "locked": false,
     "schema_version": 3,
     "solution": true,
     "task": false
    }
   },
   "outputs": [],
   "source": [
    "# Dica 1: A função len retorna o tamanho da string. Exemplo: len('abc'), retorna 3\n",
    "# Dica 2: Uma string é uma lista de caracteres\n",
    "def contagem(lista):\n",
    "    ### BEGIN SOLUTION\n",
    "    \n",
    "    ### END SOLUTION"
   ]
  },
  {
   "cell_type": "code",
   "execution_count": null,
   "metadata": {
    "id": "pKu5fwLZmDgY"
   },
   "outputs": [],
   "source": [
    "## Faça seus testes aqui\n"
   ]
  },
  {
   "cell_type": "code",
   "execution_count": null,
   "metadata": {
    "id": "Vlf5_zo-mDgY"
   },
   "outputs": [],
   "source": [
    "# Validação para nota\n",
    "v1 = contagem(['abc', 'xyz', 'aba', '1221']) == 2\n",
    "v2 = contagem(['ac', '1111', 'aasdfsdfdda', '12ewwww21']) == 3\n",
    "v3 = contagem(['', 'xyzaaaaaaaaa', 'aa', 'babababa']) == 0\n"
   ]
  },
  {
   "cell_type": "markdown",
   "metadata": {
    "id": "ef5gM-ZamDgY"
   },
   "source": [
    "### 2.5 Escreva uma função Python para percorrer uma lista e retornar os números multiplos de N. Pare a iteração no ponto em que encontrar um número maior do que K. Não retorne o 1o número maior do que K.\n",
    "#### Exemplo:  lista = [120, 115, 12, 32, 56, 200, 715, 152, 130, 155, 183, 300], N=5, K=200\n",
    "#### Resultado Esperado: [120, 115, 200]"
   ]
  },
  {
   "cell_type": "code",
   "execution_count": null,
   "metadata": {
    "executionInfo": {
     "elapsed": 1023,
     "status": "ok",
     "timestamp": 1620135555806,
     "user": {
      "displayName": "Rodrigo Dias Botelho",
      "photoUrl": "https://lh3.googleusercontent.com/a-/AOh14GjgTCvHxMnMBu2B5-g2VAM3j8PQUhXgqpsy81hnkA=s64",
      "userId": "15723687865298183300"
     },
     "user_tz": 180
    },
    "id": "vQ1GviBkmDgY",
    "nbgrader": {
     "grade": false,
     "grade_id": "cell-c9aafbecc3672877",
     "locked": false,
     "schema_version": 3,
     "solution": true,
     "task": false
    }
   },
   "outputs": [],
   "source": [
    "def filtra_lista(lista, N, K):\n",
    "    \"\"\"retorne uma lista com todos os números multiplos de N menores do que K, \n",
    "       até o primeiro número maior do que K, não inclua este número na lista de resultado.\n",
    "    \"\"\"\n",
    "    ### BEGIN SOLUTION\n",
    " \n",
    "    ### END SOLUTION"
   ]
  },
  {
   "cell_type": "code",
   "execution_count": 4,
   "metadata": {
    "colab": {
     "base_uri": "https://localhost:8080/"
    },
    "executionInfo": {
     "elapsed": 448,
     "status": "ok",
     "timestamp": 1620135556963,
     "user": {
      "displayName": "Rodrigo Dias Botelho",
      "photoUrl": "https://lh3.googleusercontent.com/a-/AOh14GjgTCvHxMnMBu2B5-g2VAM3j8PQUhXgqpsy81hnkA=s64",
      "userId": "15723687865298183300"
     },
     "user_tz": 180
    },
    "id": "qepzVLvmmDgZ",
    "outputId": "3bd1415c-1eb1-48f6-8f1e-158499b481f3"
   },
   "outputs": [
    {
     "name": "stdout",
     "output_type": "stream",
     "text": [
      "x 120 N 5 x/N 24.0\n",
      "x 115 N 5 x/N 23.0\n",
      "x 12 N 5 x/N 2.4\n",
      "x 32 N 5 x/N 6.4\n",
      "x 56 N 5 x/N 11.2\n",
      "x 200 N 5 x/N 40.0\n",
      "x 715 N 5 x/N 143.0\n"
     ]
    },
    {
     "data": {
      "text/plain": [
       "[120, 115, 200]"
      ]
     },
     "execution_count": 4,
     "metadata": {
      "tags": []
     },
     "output_type": "execute_result"
    }
   ],
   "source": [
    "## Faça seus testes aqui\n",
    "filtra_lista([120, 115, 12, 32, 56, 200, 715, 152, 130, 155, 183, 300], 5, 200)"
   ]
  },
  {
   "cell_type": "code",
   "execution_count": null,
   "metadata": {
    "id": "ryT40DtrmDgZ"
   },
   "outputs": [],
   "source": [
    "# Validação para nota\n",
    "v1 = filtra_lista([120, 115, 12, 32, 56, 200, 715, 152, 130, 155, 183, 300], 5, 200) == [120, 115, 200]\n",
    "current_question_output = v1\n"
   ]
  }
 ],
 "metadata": {
  "celltoolbar": "Create Assignment",
  "colab": {
   "name": "Aula2_Exercicio_Solucoes.ipynb",
   "provenance": []
  },
  "kernelspec": {
   "display_name": "Python 3",
   "language": "python",
   "name": "python3"
  },
  "language_info": {
   "codemirror_mode": {
    "name": "ipython",
    "version": 3
   },
   "file_extension": ".py",
   "mimetype": "text/x-python",
   "name": "python",
   "nbconvert_exporter": "python",
   "pygments_lexer": "ipython3",
   "version": "3.8.3"
  },
  "name": "_merged",
  "varInspector": {
   "cols": {
    "lenName": 16,
    "lenType": 16,
    "lenVar": 40
   },
   "kernels_config": {
    "python": {
     "delete_cmd_postfix": "",
     "delete_cmd_prefix": "del ",
     "library": "var_list.py",
     "varRefreshCmd": "print(var_dic_list())"
    },
    "r": {
     "delete_cmd_postfix": ") ",
     "delete_cmd_prefix": "rm(",
     "library": "var_list.r",
     "varRefreshCmd": "cat(var_dic_list()) "
    }
   },
   "types_to_exclude": [
    "module",
    "function",
    "builtin_function_or_method",
    "instance",
    "_Feature"
   ],
   "window_display": false
  }
 },
 "nbformat": 4,
 "nbformat_minor": 1
}
