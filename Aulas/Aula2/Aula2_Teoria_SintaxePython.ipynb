{
  "cells": [
    {
      "cell_type": "markdown",
      "metadata": {
        "id": "view-in-github",
        "colab_type": "text"
      },
      "source": [
        "<a href=\"https://colab.research.google.com/github/alexlopespereira/idp_mestrado/blob/main/Aulas/Aula2/Aula2_Teoria_SintaxePython.ipynb\" target=\"_parent\"><img src=\"https://colab.research.google.com/assets/colab-badge.svg\" alt=\"Open In Colab\"/></a>"
      ]
    },
    {
      "cell_type": "markdown",
      "metadata": {
        "id": "K-moAYFz0k5R"
      },
      "source": [
        "# Aula 2 - Explicações sobre a sintaxe da linguagem Python"
      ]
    },
    {
      "cell_type": "markdown",
      "metadata": {
        "id": "z5OpVefF0k5U"
      },
      "source": [
        "### Dois pontos sinaliza o início de uma sentença composta\n",
        "#### O conteúdo das sentenças compostas é aninhado com espaços/tabs, sem chaves"
      ]
    },
    {
      "cell_type": "code",
      "execution_count": null,
      "metadata": {
        "id": "hHB7WXdD0k5V",
        "outputId": "fb642412-48b9-47c9-eef8-ea687abf6b95"
      },
      "outputs": [
        {
          "name": "stdout",
          "output_type": "stream",
          "text": [
            "3\n",
            "x maior que zero\n"
          ]
        }
      ],
      "source": [
        "# 1) Criar uma sentença composta (if else)\n",
        "# 2) Mostrar aninhamento com tabulação\n",
        "# 3) ; é opcional\n",
        "# 4) imprimir valores dentro do if else como feedback\n",
        "x = 2\n",
        "if x > 0:\n",
        "      # adiciona 1 a x\n",
        "      x = x + 1;  # Ponto e virgula para finalizar uma sentença é opcional\n",
        "      print(x)\n",
        "      print('x maior que zero')\n",
        "else:\n",
        "      print('x menor ou igual a zero')\n"
      ]
    },
    {
      "cell_type": "markdown",
      "metadata": {
        "id": "nsD6qpbm0k5X"
      },
      "source": [
        "### Referências para objetos não possuem um tipo associado\n",
        "#### Não há problema em reatribuir uma referência a outro tipo"
      ]
    },
    {
      "cell_type": "code",
      "execution_count": null,
      "metadata": {
        "id": "dtrXlVEn0k5Y",
        "outputId": "65ab8c9a-487b-4d59-ae5d-1ce334407433"
      },
      "outputs": [
        {
          "name": "stdout",
          "output_type": "stream",
          "text": [
            "<class 'int'>\n",
            "<class 'str'>\n"
          ]
        }
      ],
      "source": [
        "# 1) Atribuir um número a uma variável,\n",
        "# e em sequencia atribuir um conteúdo de tipo diferente à mesma variável\n",
        "# 2) imprimir os tipos da variável como feedback\n",
        "x=2\n",
        "print(type(x))\n",
        "x='carro'\n",
        "print(type(x))"
      ]
    },
    {
      "cell_type": "markdown",
      "metadata": {
        "id": "17vtN6FV0k5Z"
      },
      "source": [
        "### Funções são declaradas com a palavra-chave def\n",
        "### Argumentos são passados por referência, e não por valor na chamada de funções"
      ]
    },
    {
      "cell_type": "code",
      "execution_count": null,
      "metadata": {
        "id": "tv_9Xuou0k5a",
        "outputId": "685dfb89-0261-48b1-f203-127e58930132"
      },
      "outputs": [
        {
          "name": "stdout",
          "output_type": "stream",
          "text": [
            "[2, 1]\n"
          ]
        }
      ],
      "source": [
        "# 1) criar uma função qualquer (por exemplo, insert_1)\n",
        "# 2) aplicar a função a uma variável\n",
        "# 3) mostrar que os argumentos são passados por referência para objetos\n",
        "def insert_1(a): # A função não retorna nenhum objeto\n",
        "    a.append(1) # O objeto apontado pela referência a foi alterado\n",
        "\n",
        "b = [2]\n",
        "insert_1(b)\n",
        "print(b)\n"
      ]
    },
    {
      "cell_type": "markdown",
      "metadata": {
        "id": "rTPlRt7q0k5c"
      },
      "source": [
        "### return de uma função Python"
      ]
    },
    {
      "cell_type": "code",
      "execution_count": null,
      "metadata": {
        "id": "Qwhv9CIS0k5c",
        "outputId": "18a2d939-8a2f-4fce-f3fc-6c9631dc7e1b"
      },
      "outputs": [
        {
          "name": "stdout",
          "output_type": "stream",
          "text": [
            "9\n"
          ]
        }
      ],
      "source": [
        "# Veja a instrução return. Ela informa ao interpretador python o que deve ser retornado\n",
        "#    da chamada da função.\n",
        "def soma(m, n):\n",
        "    return m + n\n",
        "result = soma(4, 5)\n",
        "print(result)"
      ]
    },
    {
      "cell_type": "markdown",
      "metadata": {
        "id": "LnN2HnIl0k5d"
      },
      "source": [
        "### Imports\n",
        "#### Um módulo é um arquivo de extensão .py. Útil para reusabilidade de código."
      ]
    },
    {
      "cell_type": "code",
      "execution_count": null,
      "metadata": {
        "id": "ZhZXxzao0k5e",
        "outputId": "54795a77-0d7d-4c59-886f-d7078e39ce98"
      },
      "outputs": [
        {
          "name": "stdout",
          "output_type": "stream",
          "text": [
            "C:\\Users\\alex\\Google Drive\\Aulas\\Enap\\EspecializacaoAnaliseDados2020\\Disciplinas\\D2_Python\\notebook\\Aula1\n"
          ]
        }
      ],
      "source": [
        "# O módulo \"os\" fornece vários métodos para manipulação de arquivos e diretórios.\n",
        "# Um módulo é um arquivo .py condendo funções/métodos\n",
        "# O método getcwd (get current work directory) retorna o diretório corrente\n",
        "# 1) Importar o módulo os\n",
        "# 2) Imprimir o diretorio de trabalho (diretorio corrente)\n",
        "import os\n",
        "print(os.getcwd())"
      ]
    },
    {
      "cell_type": "code",
      "execution_count": null,
      "metadata": {
        "id": "aU78SWlg0k5f",
        "outputId": "332cc315-b3bd-402f-e8fb-006d90fc82ab"
      },
      "outputs": [
        {
          "name": "stdout",
          "output_type": "stream",
          "text": [
            "C:\\Users\\alex\\Google Drive\\Aulas\\Enap\\EspecializacaoAnaliseDados2020\\Disciplinas\\D2_Python\\notebook\\Aula1\n"
          ]
        }
      ],
      "source": [
        "# Do módulo os importar o método getcwd\n",
        "# O método getcwd retorna o \"current work directory\", ou seja, diretório de trabalho corrente\n",
        "from os import getcwd\n",
        "print(getcwd())"
      ]
    },
    {
      "cell_type": "markdown",
      "metadata": {
        "id": "WvFdBKsj0k5f"
      },
      "source": [
        "### Conversão de Tipos\n",
        "#### str, bool, int, e float também são funções para converter valores para esses tipos"
      ]
    },
    {
      "cell_type": "code",
      "execution_count": null,
      "metadata": {
        "id": "J-IrIRvX0k5f"
      },
      "outputs": [],
      "source": [
        "# 1) Criar uma variavel do tipo string\n",
        "# 2) Converte-la para float\n",
        "# 3) Converter o float resultante para int\n",
        "s = '3.14159'\n",
        "fval = float(s)\n",
        "ival = int(fval)\n",
        "print(fval)\n",
        "print(ival)"
      ]
    },
    {
      "cell_type": "markdown",
      "metadata": {
        "id": "U5Oe4OX-0k5g"
      },
      "source": [
        "### Laços (loops) do tipo while"
      ]
    },
    {
      "cell_type": "markdown",
      "metadata": {
        "id": "H5kBJF9q0k5g"
      },
      "source": [
        "#### Uma maneira de iterar sobre uma coleção enquanto uma condição for verdadeira"
      ]
    },
    {
      "cell_type": "code",
      "execution_count": null,
      "metadata": {
        "id": "2CbI-2Xw0k5h",
        "outputId": "a140f8f8-a1b8-4427-83f1-ad09b5c7b04d"
      },
      "outputs": [
        {
          "name": "stdout",
          "output_type": "stream",
          "text": [
            "1 0\n",
            "2 1\n",
            "3 5\n",
            "4 14\n",
            "14\n"
          ]
        }
      ],
      "source": [
        "n = 0\n",
        "total = 0\n",
        "while n < 4:\n",
        "    total = total + n*n\n",
        "    n = n + 1\n",
        "    print(n, total)\n",
        "\n",
        "print(total)"
      ]
    },
    {
      "cell_type": "markdown",
      "metadata": {
        "id": "6NCFam-m0k5h"
      },
      "source": [
        "### Laços (loops) do tipo for\n",
        "#### Uma maneira de iterar sobre uma coleção. Usa-se o keyword *in* para referenciar a coleção."
      ]
    },
    {
      "cell_type": "code",
      "execution_count": null,
      "metadata": {
        "id": "kettHJ6x0k5i"
      },
      "outputs": [],
      "source": [
        "# 1) Criar uma sequencia de números inteiros contendo o numero 5 em alguma posição\n",
        "# 2) Fazer um laço para ler os valores de forma sequencial e somá-los até encontrar\n",
        "#     o número 5. Não incluir o número 5 na soma.\n",
        "# 3) Imprimir o valor da soma\n",
        "\n",
        "# val foi um termo escolhido pelo programador\n",
        "\n",
        "sequence = [1, 2, 0, 4, 6, 5, 2, 1]\n",
        "total_until_5 = 0\n",
        "for val in sequence:\n",
        "    if val == 5:\n",
        "        break  # Interrompe um laço/loop/iteração\n",
        "    total_until_5 += val\n",
        "    print(total_until_5)\n",
        "print(total_until_5)"
      ]
    },
    {
      "cell_type": "markdown",
      "metadata": {
        "id": "4VGqJzct0k5i"
      },
      "source": [
        "#### Usando a função range"
      ]
    },
    {
      "cell_type": "code",
      "execution_count": null,
      "metadata": {
        "id": "qfr3qZnW0k5j",
        "outputId": "f96174eb-b012-4101-d8e7-dee2ac97eec7"
      },
      "outputs": [
        {
          "name": "stdout",
          "output_type": "stream",
          "text": [
            "0\n",
            "1\n",
            "4\n"
          ]
        }
      ],
      "source": [
        "# A função range retorna um iterator (iterador) para a sequência especificada.\n",
        "for val in range(3):\n",
        "    print(val*val)"
      ]
    },
    {
      "cell_type": "code",
      "execution_count": null,
      "metadata": {
        "id": "tZeN22tr0k5k",
        "outputId": "55874713-ef51-4379-8783-74da0470f8ad"
      },
      "outputs": [
        {
          "name": "stdout",
          "output_type": "stream",
          "text": [
            "0 x 0 = 0\n",
            "1 x 1 = 1\n",
            "2 x 2 = 4\n"
          ]
        }
      ],
      "source": [
        "for val in range(3):\n",
        "    print(f\"{val} x {val} = {val*val}\")"
      ]
    },
    {
      "cell_type": "markdown",
      "metadata": {
        "id": "zK6jHCRD0k5l"
      },
      "source": [
        "### Formando uma string"
      ]
    },
    {
      "cell_type": "code",
      "execution_count": null,
      "metadata": {
        "id": "N1W4TJ530k5l",
        "outputId": "eafa47da-b443-485d-d0f3-3a6f954cf84d"
      },
      "outputs": [
        {
          "name": "stdout",
          "output_type": "stream",
          "text": [
            "a=4.5, b=2\n",
            "a=4.5, b=2\n"
          ]
        }
      ],
      "source": [
        "# Coloque um f antes das aspas (simples ou duplas), e depois uma sentença python entre\n",
        "#    chaves dentro da string\n",
        "# 1) Criar uma string a partir de parâmetros\n",
        "\n",
        "a = 4.5\n",
        "b = 2\n",
        "frase1 = f\"a={a}, b={b}\"\n",
        "\n",
        "# Existe outra sintaxe alternativa que gera o mesmo resultado:\n",
        "frase2 = \"a={0}, b={1}\".format(a, b)\n",
        "print(frase1)\n",
        "print(frase2)"
      ]
    },
    {
      "cell_type": "markdown",
      "metadata": {
        "id": "4mMpoN760k5l"
      },
      "source": [
        "### Funções Populares de String: join"
      ]
    },
    {
      "cell_type": "markdown",
      "metadata": {
        "id": "FlhERXks0k5m"
      },
      "source": [
        "#### Transforma uma lista de strings numa string concatenada por um separador"
      ]
    },
    {
      "cell_type": "code",
      "execution_count": null,
      "metadata": {
        "id": "BkOtA6Lg0k5n"
      },
      "outputs": [],
      "source": [
        "lista_str = [\"1\", \"2\", \"3\", \"4\"]\n",
        "str_concatenado = \"-\".join(lista_str)\n",
        "print(str_concatenado)"
      ]
    },
    {
      "cell_type": "markdown",
      "metadata": {
        "id": "USiGP3oG0k5n"
      },
      "source": [
        "### Funções Populares de String: split"
      ]
    },
    {
      "cell_type": "markdown",
      "metadata": {
        "id": "epoSMqY40k5o"
      },
      "source": [
        "#### Divide uma string em partes separadas por um caractere separador sep. O resultado retornado é uma lista dos sub-elementos"
      ]
    },
    {
      "cell_type": "code",
      "execution_count": null,
      "metadata": {
        "id": "uczJVrYs0k5p"
      },
      "outputs": [],
      "source": [
        "texto = \"1-2-3-4\"\n",
        "lista = texto.split(\"-\")\n",
        "print(lista)"
      ]
    },
    {
      "cell_type": "markdown",
      "metadata": {
        "id": "zhAsggRF0k5p"
      },
      "source": [
        "### Outras operações com strings"
      ]
    },
    {
      "cell_type": "code",
      "execution_count": null,
      "metadata": {
        "id": "Nj9v2qUC0k5q"
      },
      "outputs": [],
      "source": [
        "#### Execute o trecho de código da célula abaixo"
      ]
    },
    {
      "cell_type": "code",
      "execution_count": null,
      "metadata": {
        "id": "3BXOk6ht0k5q",
        "outputId": "58e670a3-4da2-495a-891d-75a776a3a0e9"
      },
      "outputs": [
        {
          "data": {
            "text/plain": [
              "'**********'"
            ]
          },
          "execution_count": 16,
          "metadata": {},
          "output_type": "execute_result"
        }
      ],
      "source": [
        "\"*\" * 10"
      ]
    },
    {
      "cell_type": "code",
      "execution_count": null,
      "metadata": {
        "id": "GOchemMr0k5t"
      },
      "outputs": [],
      "source": [
        "#### Execute o trecho de código da célula abaixo"
      ]
    },
    {
      "cell_type": "code",
      "execution_count": null,
      "metadata": {
        "id": "000T-roZ0k5t",
        "outputId": "1974895d-ee56-43d0-eb92-75695b997161"
      },
      "outputs": [
        {
          "data": {
            "text/plain": [
              "'hello world!'"
            ]
          },
          "execution_count": 17,
          "metadata": {},
          "output_type": "execute_result"
        }
      ],
      "source": [
        "\"hello \" + \"world!\""
      ]
    },
    {
      "cell_type": "code",
      "execution_count": null,
      "metadata": {
        "id": "lrdWLUva0k5u"
      },
      "outputs": [],
      "source": [
        "#### Usando o raciocínio apresentado acima, crie em uma linha de código a seguinte string: aaaa---bbbb\n"
      ]
    },
    {
      "cell_type": "markdown",
      "metadata": {
        "id": "xB6_VEJC0k5v"
      },
      "source": [
        "# Estrutura de Dados em Python"
      ]
    },
    {
      "cell_type": "markdown",
      "metadata": {
        "id": "1eiJkA0_0k5v"
      },
      "source": [
        "### Lista é uma sequência de tamanho variável e conteúdo mutável (alterável)\n",
        "#### Assim como as tuplas, a lista pode conter objetos de vários tipos. Define-se uma lista com colchetes [ ]\n",
        "#### Use append para inserir elementos, pop para remover elementos pelo índice"
      ]
    },
    {
      "cell_type": "code",
      "execution_count": null,
      "metadata": {
        "id": "qwUPFBNw0k5v"
      },
      "outputs": [],
      "source": [
        "# 1) Criar uma lista com elementos de diferentes tipos. Exemplo: [2, 4, 0, None]\n",
        "# 2) Adicionar um elemento com o método append\n",
        "# 3) Remover e recuperar o elemento de índice 1\n",
        "# 4) Remover o elemento de valor 0\n",
        "\n",
        "al = [2, 4, 0, None]\n",
        "print(al)\n",
        "al.append(9)\n",
        "print(al)\n",
        "al.pop(1) # Remover pelo índice\n",
        "print(al)\n",
        "# Use remove para remover pelo valor\n",
        "al.remove(0)\n",
        "print(al)"
      ]
    },
    {
      "cell_type": "markdown",
      "metadata": {
        "id": "sTt4Zyw_0k59"
      },
      "source": [
        "### Combinando Listas\n",
        "#### Use o operador + ou a função extend. A função extend é mais rápida do que o operador +"
      ]
    },
    {
      "cell_type": "code",
      "execution_count": null,
      "metadata": {
        "id": "dkansBFO0k5-"
      },
      "outputs": [],
      "source": [
        "# 1) Criar uma lista com elementos de diferentes tipos, chamada a1. Ex.: [2, 4, 0, None]\n",
        "# 2) Criar uma nova lista, al_plus, com os elementos de duas listas usando o operador +\n",
        "# 3) Adicionar os elementos de uma outra lista à lista a1\n",
        "# 4) Comparar o conteúdo das duas listas a1 e a1_plus\n",
        "\n",
        "al = [2, 4, 0, None]\n",
        "al_plus = al + ['a', 'b']\n",
        "al.extend(['a', 'b'])\n",
        "comp = al_plus == al\n",
        "print(comp)"
      ]
    },
    {
      "cell_type": "markdown",
      "metadata": {
        "id": "8bZED3Un0k5_"
      },
      "source": [
        "### Slicing (fatiar)\n",
        "#### Use intervalos entre colchetes para fatiar sequências"
      ]
    },
    {
      "cell_type": "code",
      "execution_count": null,
      "metadata": {
        "id": "jL8YKU_r0k5_"
      },
      "outputs": [],
      "source": [
        "# 1) Criar uma lista com vários elementos\n",
        "# 2) Imprimir os elementos de índice 0 a 3 (são os 4 primeiros elementos)\n",
        "# 3) Imprimir os elementos de índice 0 a 4, suprimindo o parametro esquerdo do intervalo\n",
        "# 4) Imprimir os elementos de índice 2 até o último\n",
        "# 5) Imprimir o último elemento\n",
        "# 6) Imprimir a cada dois elementos, começando do zero\n",
        "# 7) Imprimir os elementos espelhados/revertidos\n",
        "# 8) Atribuir uma lista a um slice (uma parte) da lista original\n",
        "\n",
        "al = [2, 4, 0, 3, 7, 10, 4, 5]\n",
        "print(al[0:3])  # De zero a 3\n",
        "print(al[:4])   # De zero a 4\n",
        "print(al[2:])   # De 2 até o último\n",
        "print(al[-1])   # O último elemento\n",
        "print(al[::2])  # A cada dois elementos\n",
        "print(al[::-1]) # Reverter/espelhar os elementos\n",
        "al[1:3] = [8, 8]\n",
        "print(al)"
      ]
    },
    {
      "cell_type": "code",
      "execution_count": null,
      "metadata": {
        "id": "8jn59sSO0k5_"
      },
      "outputs": [],
      "source": [
        "al = [2, 4, 0, 3, 7, 10, 4, 5]\n",
        "al[-2:]"
      ]
    },
    {
      "cell_type": "markdown",
      "metadata": {
        "id": "g1F5AyIv0k6A"
      },
      "source": [
        "### Tamanho de uma lista\n",
        "#### O método len retorna o tamanho de uma lista"
      ]
    },
    {
      "cell_type": "code",
      "execution_count": null,
      "metadata": {
        "id": "6wTgZW_c0k6A"
      },
      "outputs": [],
      "source": [
        "al = [2, 4, 0, 3, 7, 10, 4, 5]\n",
        "print(len(al))"
      ]
    },
    {
      "cell_type": "markdown",
      "metadata": {
        "id": "Wov6rLEN0k6A"
      },
      "source": [
        "### Teste de desempenho  ( curiosidade )"
      ]
    },
    {
      "cell_type": "code",
      "execution_count": null,
      "metadata": {
        "id": "51JQ6KT30k6B"
      },
      "outputs": [],
      "source": [
        "import timeit\n",
        "print(\"extend\")\n",
        "extend_str = '''everything = []\n",
        "list_of_lists = [[1, 2, 3, 4, 5, 6, 7, 8, 9, 10] for i in range(0,1000)]\n",
        "for chunk in list_of_lists:\n",
        "    everything.extend(chunk)'''\n",
        "\n",
        "t1 = timeit.timeit(extend_str, number=100)  # number representa a qtd de vezes que vai executar o comando"
      ]
    },
    {
      "cell_type": "code",
      "execution_count": null,
      "metadata": {
        "id": "-ed-7uZ80k6B"
      },
      "outputs": [],
      "source": [
        "print(\"plus\")\n",
        "plus_str = '''import random\n",
        "everything = []\n",
        "list_of_lists = [[1, 2, 3, 4, 5, 6, 7, 8, 9, 10] for i in range(0,1000)]\n",
        "for chunk in list_of_lists:\n",
        "    everything = everything + chunk'''\n",
        "\n",
        "t2 = timeit.timeit(plus_str, number=100)  # number representa a qtd de vezes que vai executar o comando"
      ]
    },
    {
      "cell_type": "code",
      "execution_count": null,
      "metadata": {
        "id": "8tgCEt3E0k6C"
      },
      "outputs": [],
      "source": [
        "print(t1)\n",
        "print(t2)\n",
        "print(t2/t1)"
      ]
    }
  ],
  "metadata": {
    "kernelspec": {
      "display_name": "Python 3",
      "language": "python",
      "name": "python3"
    },
    "language_info": {
      "codemirror_mode": {
        "name": "ipython",
        "version": 3
      },
      "file_extension": ".py",
      "mimetype": "text/x-python",
      "name": "python",
      "nbconvert_exporter": "python",
      "pygments_lexer": "ipython3",
      "version": "3.8.3"
    },
    "varInspector": {
      "cols": {
        "lenName": 16,
        "lenType": 16,
        "lenVar": 40
      },
      "kernels_config": {
        "python": {
          "delete_cmd_postfix": "",
          "delete_cmd_prefix": "del ",
          "library": "var_list.py",
          "varRefreshCmd": "print(var_dic_list())"
        },
        "r": {
          "delete_cmd_postfix": ") ",
          "delete_cmd_prefix": "rm(",
          "library": "var_list.r",
          "varRefreshCmd": "cat(var_dic_list()) "
        }
      },
      "types_to_exclude": [
        "module",
        "function",
        "builtin_function_or_method",
        "instance",
        "_Feature"
      ],
      "window_display": false
    },
    "colab": {
      "provenance": [],
      "include_colab_link": true
    }
  },
  "nbformat": 4,
  "nbformat_minor": 0
}