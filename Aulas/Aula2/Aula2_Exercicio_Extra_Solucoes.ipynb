{
 "cells": [
    {
        "cell_type": "markdown",
        "metadata": {
          "id": "view-in-github",
          "colab_type": "text"
        },
        "source": [
          "<a href=\"https://colab.research.google.com/github/alexlopespereira/idp_mestrado/blob/main/Aulas/Aula2/Aula2_Exercicio_Extra_Solucoes.ipynb\" target=\"_parent\"><img src=\"https://colab.research.google.com/assets/colab-badge.svg\" alt=\"Open In Colab\"/></a>"
        ]
      },
  {
   "cell_type": "markdown",
   "metadata": {
    "id": "xpg1sN6ihJrU"
   },
   "source": [
    "# Aula 2 - Exercícios Extra - Sintaxe de Python e NumPy Array"
   ]
  },
  {
   "cell_type": "markdown",
   "metadata": {
    "id": "o-PYyaOFhJra"
   },
   "source": [
    "### 2.4 Crie um código python para imprimir o seguinte padrão. \n",
    "#### 1 \n",
    "#### 1 2 \n",
    "#### 1 2 3 \n",
    "#### 1 2 3 4 \n",
    "#### 1 2 3 4 5"
   ]
  },
  {
   "cell_type": "code",
   "execution_count": null,
   "metadata": {
    "id": "ePg8q7KKhJra",
    "nbgrader": {
     "grade": true,
     "grade_id": "cell-61d03fd9d1b0eb4e",
     "locked": false,
     "points": 1,
     "schema_version": 3,
     "solution": true,
     "task": false
    }
   },
   "outputs": [],
   "source": [
    "## Essa questão não tem assert.\n",
    "## Faça aqui\n",
    "### BEGIN SOLUTION\n",
    "## Solução sem utilizar funções características do python (demanda menos conhecimento)\n",
    "for i in range(1,6):\n",
    "    line = \"\"\n",
    "    for j in range(1, i+1):\n",
    "        line = line + str(j) + \" \"\n",
    "    print(line)\n",
    "    \n",
    "## Solução mais elegante utilizando conhecimentos aprimorados do python\n",
    "# O asterisco usado antes do argumento de uma função transforma uma lista em vários argumentos.\n",
    "# Exemplo: print(*[1, 2, 3]) é traduzido para print(1, 2, 3)\n",
    "for i in range(1,6):\n",
    "    print(*list(range(1,i+1)))\n",
    "### END SOLUTION"
   ]
  },
  {
   "cell_type": "markdown",
   "metadata": {
    "id": "76Ps9uxVhJrb"
   },
   "source": [
    "### 2.6 Dado um número inteiro qualquer, escreva uma função python para retornar a quantidade de caracteres (dígitos) contida neste número.\n",
    "##### Exemplo:  qtd_digitos(2345653) deve retornar 7"
   ]
  },
  {
   "cell_type": "code",
   "execution_count": null,
   "metadata": {
    "id": "PpRpN8I4hJrb",
    "nbgrader": {
     "grade": false,
     "grade_id": "cell-e69a127f71184645",
     "locked": false,
     "schema_version": 3,
     "solution": true,
     "task": false
    }
   },
   "outputs": [],
   "source": [
    "def qtd_digitos(N):\n",
    "    \"\"\"retorne a quantidade de dígitos do número N.\n",
    "    \"\"\"\n",
    "    ### BEGIN SOLUTION\n",
    "    return len(str(N))    \n",
    "    ### END SOLUTION"
   ]
  },
  {
   "cell_type": "code",
   "execution_count": null,
   "metadata": {
    "id": "tEXFv-kIhJrb"
   },
   "outputs": [],
   "source": [
    "## Faça seus testes aqui\n"
   ]
  },
  {
   "cell_type": "code",
   "execution_count": null,
   "metadata": {
    "id": "JJMSYUU6hJrb",
    "nbgrader": {
     "grade": true,
     "grade_id": "cell-418c099df61d368b",
     "locked": true,
     "points": 1,
     "schema_version": 3,
     "solution": false,
     "task": false
    }
   },
   "outputs": [],
   "source": [
    "# Validação\n",
    "v1 = qtd_digitos(2345653) == 7\n",
    "current_question_output = v1\n",
    "assert current_question_output\n",
    "validate(current_question_output, \"2.6\", True)"
   ]
  },
  {
   "cell_type": "markdown",
   "metadata": {
    "id": "9yyNkmazhJrc"
   },
   "source": [
    "### 2.7 Escreva uma função Python para somar os valores dos numeros presentes numa string de números separados por vírgula.\n",
    "#### Exemplo:  \"1.0,  4.0,  10.0,  8.0,  4.0,  20.0,  23.0\"\n",
    "#### Resultado esperado: 70"
   ]
  },
  {
   "cell_type": "code",
   "execution_count": null,
   "metadata": {
    "id": "5Q6P9duvhJrc",
    "nbgrader": {
     "grade": false,
     "grade_id": "cell-f6c50b3e165db993",
     "locked": false,
     "schema_version": 3,
     "solution": true,
     "task": false
    }
   },
   "outputs": [],
   "source": [
    "def soma_string(texto):\n",
    "    \"\"\"retorne a soma dos numeros presentes na variavel texto\n",
    "    \"\"\"\n",
    "    ### BEGIN SOLUTION\n",
    "    lista = texto.split(\",\")\n",
    "    soma = 0\n",
    "    for i in lista:\n",
    "        soma = soma + float(i)\n",
    "    return soma\n",
    "    ### END SOLUTION"
   ]
  },
  {
   "cell_type": "code",
   "execution_count": null,
   "metadata": {
    "id": "eEJZBxzFhJrc"
   },
   "outputs": [],
   "source": [
    "## Faça seus testes aqui\n"
   ]
  },
  {
   "cell_type": "code",
   "execution_count": null,
   "metadata": {
    "id": "cLhLw6WhhJrc",
    "nbgrader": {
     "grade": true,
     "grade_id": "cell-401910203dadc4db",
     "locked": true,
     "points": 1,
     "schema_version": 3,
     "solution": false,
     "task": false
    },
    "scrolled": true
   },
   "outputs": [],
   "source": [
    "# Validação\n",
    "var = \"1.0,  4.0,  10.0,  8.0,  4.0,  20.0,  23.0\"\n",
    "v1 = soma_string(var) == 70.0\n",
    "current_question_output = v1\n",
    "assert current_question_output\n",
    "validate(current_question_output, \"2.7\", True)"
   ]
  },
  {
   "cell_type": "markdown",
   "metadata": {
    "id": "NRqc5THOhJrd"
   },
   "source": [
    "### 2.8 Crie um código python para imprimir o seguinte padrão. \n",
    "#### Dica: Use uma sintaxe de geração de números em ordem decrescente. Por exemplo ```range(5, 0, -1)``` gera um iterator para a sequência 5, 4, 3, 2, 1\n",
    "#### 5 4 3 2 1 \n",
    "#### 4 3 2 1 \n",
    "#### 3 2 1 \n",
    "#### 2 1 \n",
    "#### 1"
   ]
  },
  {
   "cell_type": "code",
   "execution_count": null,
   "metadata": {
    "id": "uE7RGFC7hJrf",
    "nbgrader": {
     "grade": false,
     "grade_id": "cell-fc8267fa2d7e4c7c",
     "locked": false,
     "schema_version": 3,
     "solution": true,
     "task": false
    }
   },
   "outputs": [],
   "source": [
    "### Este exercicio não tem assert\n",
    "## Faça aqui\n",
    "\n",
    "### BEGIN SOLUTION\n",
    "## Solução sem utilizar funções características do python (demanda menos conhecimento)\n",
    "for i in range(5,0, -1):\n",
    "    line = \"\"\n",
    "    for j in range(i, 0, -1):\n",
    "        line = line + str(j) + \" \"\n",
    "    print(line)\n",
    "    \n",
    "## Solução mais elegante utilizando conhecimentos aprimorados do python\n",
    "# O asterisco usado antes do argumento de uma função transforma uma lista em vários argumentos.\n",
    "# Exemplo: print(*[1, 2, 3]) é traduzido para print(1, 2, 3)\n",
    "for i in range(5,0, -1):\n",
    "    print(*list(range(i, 0, -1)))\n",
    "### END SOLUTION"
   ]
  },
  {
   "cell_type": "markdown",
   "metadata": {
    "id": "6ekeJCJChJrf"
   },
   "source": [
    "### 2.9 Usando um loop do tipo for, crie uma função python para inverter uma lista.\n",
    "#### Exemplo:  inverter([120, 115, 12, 32, 56]) deve retornar [56, 32, 12, 115, 120]"
   ]
  },
  {
   "cell_type": "code",
   "execution_count": null,
   "metadata": {
    "id": "ZUDlckS9hJrg",
    "nbgrader": {
     "grade": false,
     "grade_id": "cell-513f2b547866e072",
     "locked": false,
     "schema_version": 3,
     "solution": true,
     "task": false
    }
   },
   "outputs": [],
   "source": [
    "def inverter(lista):\n",
    "    \"\"\"retorne uma versão invertida da lista passada como argumento\n",
    "    \"\"\"\n",
    "    ### BEGIN SOLUTION\n",
    "    resultado = []\n",
    "    for i in lista[::-1]:\n",
    "        resultado.append(i)\n",
    "    return resultado\n",
    "    ### END SOLUTION"
   ]
  },
  {
   "cell_type": "code",
   "execution_count": null,
   "metadata": {
    "id": "-ZGclThxhJrg"
   },
   "outputs": [],
   "source": [
    "## Faça aqui\n"
   ]
  },
  {
   "cell_type": "code",
   "execution_count": null,
   "metadata": {
    "id": "HBJejP9XhJrg"
   },
   "outputs": [],
   "source": [
    "v1 =  inverter([120, 115, 12, 32, 56]) == [56, 32, 12, 115, 120]\n",
    "current_question_output = v1\n",
    "v1 = current_question_output\n",
    "validate(current_question_output, \"2.9\", True)"
   ]
  },
  {
   "cell_type": "markdown",
   "metadata": {
    "id": "v_blOUNchJrg"
   },
   "source": [
    "### 2.10 Escreva uma função python para substituir vírgula por ponto numa string e depois converta os números para float. Retorne a lista de números.\n",
    "#### Dica: use a função replace: ```texto.replace(\",\" , \".\")``` Este código substitui as virgulas por pontos e retorna uma string com o resultado.\n",
    "#### Exemplo:  \"0,20 0,40 0,56 0,99\"\n",
    "#### Resultado esperado: [0.2, 0.4, 0.56, 0.99]"
   ]
  },
  {
   "cell_type": "code",
   "execution_count": null,
   "metadata": {
    "id": "HGGnJZDZhJrh",
    "nbgrader": {
     "grade": false,
     "grade_id": "cell-e0a4e5deea9187c4",
     "locked": false,
     "schema_version": 3,
     "solution": true,
     "task": false
    }
   },
   "outputs": [],
   "source": [
    "def convert_to_float(texto):\n",
    "    \"\"\"retorne uma lista de numeros do tipo float\n",
    "    \"\"\"\n",
    "    ### BEGIN SOLUTION\n",
    "    alterado = texto.replace(\",\", \".\").split(\" \")\n",
    "    resultado = []\n",
    "    for i in alterado:\n",
    "        resultado.append(float(i))\n",
    "    return resultado\n",
    "    ### END SOLUTION"
   ]
  },
  {
   "cell_type": "code",
   "execution_count": null,
   "metadata": {
    "id": "k6oQ6AgbhJrh"
   },
   "outputs": [],
   "source": [
    "## Faça seus testes aqui\n"
   ]
  },
  {
   "cell_type": "code",
   "execution_count": null,
   "metadata": {
    "id": "sh_svOuhhJrh",
    "nbgrader": {
     "grade": true,
     "grade_id": "cell-30d325468b6f6a67",
     "locked": true,
     "points": 1,
     "schema_version": 3,
     "solution": false,
     "task": false
    }
   },
   "outputs": [],
   "source": [
    "# Validação\n",
    "text = \"0,20 0,40 0,56 0,99\"\n",
    "v1 = convert_to_float(text) == [0.2, 0.4, 0.56, 0.99]\n",
    "current_question_output = v1\n",
    "assert current_question_output\n",
    "validate(current_question_output, \"2.10\", True)"
   ]
  },
  {
   "cell_type": "markdown",
   "metadata": {
    "id": "UHO1Xg1phJrh"
   },
   "source": [
    "### 2.11 Escreva uma função em python para imprimir o padrão a seguir. A função deve aceitar como argumento o tamanho da maior string de asteriscos.\n",
    "#### Dica: Qual o resultado de se multiplicar uma string por um número em python?\n",
    "\n",
    "``` \n",
    " * \n",
    " * * \n",
    " * * * \n",
    " * * * * \n",
    " * * * * * \n",
    " * * * * \n",
    " * * * \n",
    " * * \n",
    " *\n",
    "```"
   ]
  },
  {
   "cell_type": "code",
   "execution_count": null,
   "metadata": {
    "id": "Vqsyju3whJrh",
    "nbgrader": {
     "grade": false,
     "grade_id": "cell-cd8f3abd73a5fcc4",
     "locked": false,
     "schema_version": 3,
     "solution": true,
     "task": false
    }
   },
   "outputs": [],
   "source": [
    "### Este exercício não tem assert\n",
    "## Faça aqui\n",
    "\n",
    "### BEGIN SOLUTION\n",
    "## Solução 1: Com dois laços for\n",
    "for i in range(1, 6):\n",
    "    print(\"* \"*i)\n",
    "\n",
    "for i in range(4, 0, -1):\n",
    "    print(\"* \"*i)\n",
    "\n",
    "## Solução 2: Com um laço apenas\n",
    "for i in range(1, 10):\n",
    "    if i <= 5:\n",
    "        print(\"* \"*i)\n",
    "    else:\n",
    "        print(\"* \"*(10-i))\n",
    "### END SOLUTION"
   ]
  },
  {
   "cell_type": "markdown",
   "metadata": {
    "id": "LJ11gYeYhJri"
   },
   "source": [
    "### 2.12 Escreva uma função que receba como entrada uma string conforme apresentada a seguir e retorne uma lista contendo a população dos 3 Estados brasileiros mais populosos.\n",
    "\n",
    "```\"\"\"Acre=881935; Alagoas=3337357; Amapá=845731; Amazonas=4144597; Ceará=9132078;\n",
    " Distrito Federal=3015268; Espírito Santo=4018650; Goiás=7018354; Maranhão=7075181;\n",
    " Mato Grosso=3484466; Mato Grosso do Sul=2778986; Minas Gerais=21168791;\n",
    " Paraíba=4018127; Paraná=11433957; Pernambuco=9557071; Piauí=3273227; Rio de Janeiro=17264943;\n",
    " Rio Grande do Norte=3506853; Rio Grande do Sul=11377239; Rondônia=1777225;\n",
    " Roraima=605761; Santa Catarina=7164788; São Paulo=45919049; Sergipe=2298696;\n",
    " Tocantins=1572866; Bahia=14873064; Pará=8602865\"\"\"```\n",
    "\n",
    "#### Dica 1: Nesta string, a informação de cada Estado está separada por um ;\n",
    "#### Dica 3: A função split quebra uma string numa lista baseado no caracter de separação especificado. \n",
    "####     Exemplo: ```'1,2,3'.split(',')``` retorna a lista ```['1','2','3']```\n",
    "#### Dica 4: a função built-in ```.sort``` de uma lista ordena a referida lista ordenada "
   ]
  },
  {
   "cell_type": "code",
   "execution_count": 2,
   "metadata": {
    "executionInfo": {
     "elapsed": 1784,
     "status": "ok",
     "timestamp": 1620072980636,
     "user": {
      "displayName": "Rodrigo Dias Botelho",
      "photoUrl": "https://lh3.googleusercontent.com/a-/AOh14GjgTCvHxMnMBu2B5-g2VAM3j8PQUhXgqpsy81hnkA=s64",
      "userId": "15723687865298183300"
     },
     "user_tz": 180
    },
    "id": "e761-A0dhJri",
    "nbgrader": {
     "grade": false,
     "grade_id": "cell-9e2eb40f94d9f5e4",
     "locked": false,
     "schema_version": 3,
     "solution": true,
     "task": false
    }
   },
   "outputs": [],
   "source": [
    "def top3_estados(lista_texto):\n",
    "    \"\"\"retorne os 3 estados de maior população. O parâmetro de entrada deve ser uma string\n",
    "         conforme apresentado na descrição do exercício.\n",
    "    \"\"\"\n",
    "    ### BEGIN SOLUTION\n",
    "    lista1 = lista_texto.split(\";\")\n",
    "    populacao = []\n",
    "    for l in lista1:\n",
    "        pop = { 'populacao': l.split(\"=\")[1], 'cidade':  l.split(\"=\")[0] }\n",
    "        populacao.append(pop)\n",
    "    populacao.sort(key=lambda pop: pop['populacao'])\n",
    "    cidades = []\n",
    "    for pop in populacao[-3:]:\n",
    "      cidades.append(pop['cidade'])\n",
    "    return cidades\n",
    "    ### END SOLUTION"
   ]
  },
  {
   "cell_type": "code",
   "execution_count": 3,
   "metadata": {
    "colab": {
     "base_uri": "https://localhost:8080/"
    },
    "executionInfo": {
     "elapsed": 1195,
     "status": "ok",
     "timestamp": 1620072982408,
     "user": {
      "displayName": "Rodrigo Dias Botelho",
      "photoUrl": "https://lh3.googleusercontent.com/a-/AOh14GjgTCvHxMnMBu2B5-g2VAM3j8PQUhXgqpsy81hnkA=s64",
      "userId": "15723687865298183300"
     },
     "user_tz": 180
    },
    "id": "OFRjJ0kqhJri",
    "outputId": "d2400aec-daae-4c81-c578-71e0c8eef088"
   },
   "outputs": [
    {
     "data": {
      "text/plain": [
       "['Acre', ' Ceará', ' Pernambuco']"
      ]
     },
     "execution_count": 3,
     "metadata": {
      "tags": []
     },
     "output_type": "execute_result"
    }
   ],
   "source": [
    "# Teste aqui\n",
    "lista_estados=\"\"\"Acre=881935; Alagoas=3337357; Amapá=845731; Amazonas=4144597; Ceará=9132078;\\\n",
    " Distrito Federal=3015268; Espírito Santo=4018650; Goiás=7018354; Maranhão=7075181;\\\n",
    " Mato Grosso=3484466; Mato Grosso do Sul=2778986; Minas Gerais=21168791;\\\n",
    " Paraíba=4018127; Paraná=11433957; Pernambuco=9557071; Piauí=3273227; Rio de Janeiro=17264943;\\\n",
    " Rio Grande do Norte=3506853; Rio Grande do Sul=11377239; Rondônia=1777225;\\\n",
    " Roraima=605761; Santa Catarina=7164788; São Paulo=45919049; Sergipe=2298696;\\\n",
    " Tocantins=1572866; Bahia=14873064; Pará=8602865\"\"\"\n",
    "top3_estados(lista_estados)"
   ]
  },
  {
   "cell_type": "code",
   "execution_count": null,
   "metadata": {
    "id": "eR1-BIJ_hJri"
   },
   "outputs": [],
   "source": [
    "# Validação\n",
    "lista_estados=\"\"\"Acre=881935; Alagoas=3337357; Amapá=845731; Amazonas=4144597; Ceará=9132078;\\\n",
    " Distrito Federal=3015268; Espírito Santo=4018650; Goiás=7018354; Maranhão=7075181;\\\n",
    " Mato Grosso=3484466; Mato Grosso do Sul=2778986; Minas Gerais=21168791;\\\n",
    " Paraíba=4018127; Paraná=11433957; Pernambuco=9557071; Piauí=3273227; Rio de Janeiro=17264943;\\\n",
    " Rio Grande do Norte=3506853; Rio Grande do Sul=11377239; Rondônia=1777225;\\\n",
    " Roraima=605761; Santa Catarina=7164788; São Paulo=45919049; Sergipe=2298696;\\\n",
    " Tocantins=1572866; Bahia=14873064; Pará=8602865\"\"\"\n",
    "\n",
    "v1 = set(top3_estados(lista_estados)) == {45919049, 21168791, 17264943}\n",
    "current_question_output = v1\n",
    "assert current_question_output\n",
    "validate(current_question_output, \"2.12\", True)"
   ]
  },
  {
   "cell_type": "markdown",
   "metadata": {
    "id": "gqpnyyvOhJri"
   },
   "source": [
    "### 2.13 Escreva uma função Python que aceite como entrada uma string de palavras separadas por vírgula e retorne uma string com as palavras em ordem alfabética e separadas por vírgula. \n",
    "#### Exemplo:  Para t=\"hoje,nota,teste,bolsa\"\n",
    "#### Resultado Esperado: \"bolsa,hoje,nota,teste\"\n",
    "#### Dica: use as funções built-in ```.split``` e ```.join``` presente nas strings\n"
   ]
  },
  {
   "cell_type": "code",
   "execution_count": null,
   "metadata": {
    "id": "G5as5VRthJrj",
    "nbgrader": {
     "grade": false,
     "grade_id": "cell-3201ecbb117ca859",
     "locked": false,
     "schema_version": 3,
     "solution": true,
     "task": false
    }
   },
   "outputs": [],
   "source": [
    "def sort_words(words):\n",
    "    \"\"\"retorne uma string ordenada de palavras separadas por vírgula\n",
    "    \"\"\"\n",
    "    ### BEGIN SOLUTION\n",
    "    return \",\".join(sorted(words.split(\",\")))\n",
    "    ### END SOLUTION"
   ]
  },
  {
   "cell_type": "code",
   "execution_count": null,
   "metadata": {
    "id": "HN5R3l09hJrj"
   },
   "outputs": [],
   "source": [
    "## Faça seus testes aqui\n"
   ]
  },
  {
   "cell_type": "code",
   "execution_count": null,
   "metadata": {
    "id": "9o63WvEDhJrj"
   },
   "outputs": [],
   "source": [
    "# Validação\n",
    "v1 = sort_words(\"hoje,nota,teste,bolsa\") == \"bolsa,hoje,nota,teste\"\n",
    "current_question_output = v1\n",
    "assert current_question_output\n",
    "validate(current_question_output, \"2.13\", True)"
   ]
  }
 ],
 "metadata": {
  "celltoolbar": "Create Assignment",
  "colab": {
   "name": "Aula2_Exercicio_Extra_Solucoes.ipynb",
   "provenance": []
  },
  "kernelspec": {
   "display_name": "Python 3",
   "language": "python",
   "name": "python3"
  },
  "language_info": {
   "codemirror_mode": {
    "name": "ipython",
    "version": 3
   },
   "file_extension": ".py",
   "mimetype": "text/x-python",
   "name": "python",
   "nbconvert_exporter": "python",
   "pygments_lexer": "ipython3",
   "version": "3.8.3"
  },
  "name": "_merged",
  "varInspector": {
   "cols": {
    "lenName": 16,
    "lenType": 16,
    "lenVar": 40
   },
   "kernels_config": {
    "python": {
     "delete_cmd_postfix": "",
     "delete_cmd_prefix": "del ",
     "library": "var_list.py",
     "varRefreshCmd": "print(var_dic_list())"
    },
    "r": {
     "delete_cmd_postfix": ") ",
     "delete_cmd_prefix": "rm(",
     "library": "var_list.r",
     "varRefreshCmd": "cat(var_dic_list()) "
    }
   },
   "types_to_exclude": [
    "module",
    "function",
    "builtin_function_or_method",
    "instance",
    "_Feature"
   ],
   "window_display": false
  }
 },
 "nbformat": 4,
 "nbformat_minor": 1
}
